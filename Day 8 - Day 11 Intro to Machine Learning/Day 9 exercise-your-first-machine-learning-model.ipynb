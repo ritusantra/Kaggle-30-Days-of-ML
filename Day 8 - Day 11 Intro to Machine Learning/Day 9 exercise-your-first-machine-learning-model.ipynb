{
 "cells": [
  {
   "cell_type": "markdown",
   "id": "c35845ff",
   "metadata": {
    "papermill": {
     "duration": 0.020061,
     "end_time": "2021-08-09T06:08:12.065087",
     "exception": false,
     "start_time": "2021-08-09T06:08:12.045026",
     "status": "completed"
    },
    "tags": []
   },
   "source": [
    "**This notebook is an exercise in the [Introduction to Machine Learning](https://www.kaggle.com/learn/intro-to-machine-learning) course.  You can reference the tutorial at [this link](https://www.kaggle.com/dansbecker/your-first-machine-learning-model).**\n",
    "\n",
    "---\n"
   ]
  },
  {
   "cell_type": "markdown",
   "id": "691c8632",
   "metadata": {
    "papermill": {
     "duration": 0.014205,
     "end_time": "2021-08-09T06:08:12.092730",
     "exception": false,
     "start_time": "2021-08-09T06:08:12.078525",
     "status": "completed"
    },
    "tags": []
   },
   "source": [
    "## Recap\n",
    "So far, you have loaded your data and reviewed it with the following code. Run this cell to set up your coding environment where the previous step left off."
   ]
  },
  {
   "cell_type": "code",
   "execution_count": 1,
   "id": "a05bcb6c",
   "metadata": {
    "execution": {
     "iopub.execute_input": "2021-08-09T06:08:12.120812Z",
     "iopub.status.busy": "2021-08-09T06:08:12.119732Z",
     "iopub.status.idle": "2021-08-09T06:08:13.353698Z",
     "shell.execute_reply": "2021-08-09T06:08:13.354193Z",
     "shell.execute_reply.started": "2021-08-09T05:58:39.635317Z"
    },
    "papermill": {
     "duration": 1.249925,
     "end_time": "2021-08-09T06:08:13.354488",
     "exception": false,
     "start_time": "2021-08-09T06:08:12.104563",
     "status": "completed"
    },
    "tags": []
   },
   "outputs": [
    {
     "name": "stdout",
     "output_type": "stream",
     "text": [
      "Setup Complete\n"
     ]
    }
   ],
   "source": [
    "# Code you have previously used to load data\n",
    "import pandas as pd\n",
    "\n",
    "# Path of the file to read\n",
    "iowa_file_path = '../input/home-data-for-ml-course/train.csv'\n",
    "\n",
    "home_data = pd.read_csv(iowa_file_path)\n",
    "\n",
    "# Set up code checking\n",
    "from learntools.core import binder\n",
    "binder.bind(globals())\n",
    "from learntools.machine_learning.ex3 import *\n",
    "\n",
    "print(\"Setup Complete\")"
   ]
  },
  {
   "cell_type": "markdown",
   "id": "73c18266",
   "metadata": {
    "papermill": {
     "duration": 0.011337,
     "end_time": "2021-08-09T06:08:13.378008",
     "exception": false,
     "start_time": "2021-08-09T06:08:13.366671",
     "status": "completed"
    },
    "tags": []
   },
   "source": [
    "# Exercises\n",
    "\n",
    "## Step 1: Specify Prediction Target\n",
    "Select the target variable, which corresponds to the sales price. Save this to a new variable called `y`. You'll need to print a list of the columns to find the name of the column you need.\n"
   ]
  },
  {
   "cell_type": "code",
   "execution_count": 2,
   "id": "40deb754",
   "metadata": {
    "execution": {
     "iopub.execute_input": "2021-08-09T06:08:13.408946Z",
     "iopub.status.busy": "2021-08-09T06:08:13.408043Z",
     "iopub.status.idle": "2021-08-09T06:08:13.411397Z",
     "shell.execute_reply": "2021-08-09T06:08:13.411854Z",
     "shell.execute_reply.started": "2021-08-09T05:58:55.499276Z"
    },
    "papermill": {
     "duration": 0.0226,
     "end_time": "2021-08-09T06:08:13.412010",
     "exception": false,
     "start_time": "2021-08-09T06:08:13.389410",
     "status": "completed"
    },
    "tags": []
   },
   "outputs": [
    {
     "data": {
      "text/plain": [
       "Index(['Id', 'MSSubClass', 'MSZoning', 'LotFrontage', 'LotArea', 'Street',\n",
       "       'Alley', 'LotShape', 'LandContour', 'Utilities', 'LotConfig',\n",
       "       'LandSlope', 'Neighborhood', 'Condition1', 'Condition2', 'BldgType',\n",
       "       'HouseStyle', 'OverallQual', 'OverallCond', 'YearBuilt', 'YearRemodAdd',\n",
       "       'RoofStyle', 'RoofMatl', 'Exterior1st', 'Exterior2nd', 'MasVnrType',\n",
       "       'MasVnrArea', 'ExterQual', 'ExterCond', 'Foundation', 'BsmtQual',\n",
       "       'BsmtCond', 'BsmtExposure', 'BsmtFinType1', 'BsmtFinSF1',\n",
       "       'BsmtFinType2', 'BsmtFinSF2', 'BsmtUnfSF', 'TotalBsmtSF', 'Heating',\n",
       "       'HeatingQC', 'CentralAir', 'Electrical', '1stFlrSF', '2ndFlrSF',\n",
       "       'LowQualFinSF', 'GrLivArea', 'BsmtFullBath', 'BsmtHalfBath', 'FullBath',\n",
       "       'HalfBath', 'BedroomAbvGr', 'KitchenAbvGr', 'KitchenQual',\n",
       "       'TotRmsAbvGrd', 'Functional', 'Fireplaces', 'FireplaceQu', 'GarageType',\n",
       "       'GarageYrBlt', 'GarageFinish', 'GarageCars', 'GarageArea', 'GarageQual',\n",
       "       'GarageCond', 'PavedDrive', 'WoodDeckSF', 'OpenPorchSF',\n",
       "       'EnclosedPorch', '3SsnPorch', 'ScreenPorch', 'PoolArea', 'PoolQC',\n",
       "       'Fence', 'MiscFeature', 'MiscVal', 'MoSold', 'YrSold', 'SaleType',\n",
       "       'SaleCondition', 'SalePrice'],\n",
       "      dtype='object')"
      ]
     },
     "execution_count": 2,
     "metadata": {},
     "output_type": "execute_result"
    }
   ],
   "source": [
    "# print the list of columns in the dataset to find the name of the prediction target\n",
    "home_data.columns"
   ]
  },
  {
   "cell_type": "code",
   "execution_count": 3,
   "id": "a882f1d1",
   "metadata": {
    "execution": {
     "iopub.execute_input": "2021-08-09T06:08:13.448081Z",
     "iopub.status.busy": "2021-08-09T06:08:13.447186Z",
     "iopub.status.idle": "2021-08-09T06:08:13.452630Z",
     "shell.execute_reply": "2021-08-09T06:08:13.453153Z",
     "shell.execute_reply.started": "2021-08-09T05:59:28.662364Z"
    },
    "papermill": {
     "duration": 0.029489,
     "end_time": "2021-08-09T06:08:13.453312",
     "exception": false,
     "start_time": "2021-08-09T06:08:13.423823",
     "status": "completed"
    },
    "tags": []
   },
   "outputs": [
    {
     "data": {
      "application/javascript": [
       "parent.postMessage({\"jupyterEvent\": \"custom.exercise_interaction\", \"data\": {\"outcomeType\": 1, \"valueTowardsCompletion\": 0.25, \"interactionType\": 1, \"questionType\": 2, \"questionId\": \"1_SetTarget\", \"learnToolsVersion\": \"0.3.4\", \"failureMessage\": \"\", \"exceptionClass\": \"\", \"trace\": \"\"}}, \"*\")"
      ],
      "text/plain": [
       "<IPython.core.display.Javascript object>"
      ]
     },
     "metadata": {},
     "output_type": "display_data"
    },
    {
     "data": {
      "text/markdown": [
       "<span style=\"color:#33cc33\">Correct</span>"
      ],
      "text/plain": [
       "Correct"
      ]
     },
     "metadata": {},
     "output_type": "display_data"
    }
   ],
   "source": [
    "y = home_data['SalePrice']\n",
    "\n",
    "# Check your answer\n",
    "step_1.check()"
   ]
  },
  {
   "cell_type": "code",
   "execution_count": 4,
   "id": "705aef59",
   "metadata": {
    "execution": {
     "iopub.execute_input": "2021-08-09T06:08:13.482451Z",
     "iopub.status.busy": "2021-08-09T06:08:13.481567Z",
     "iopub.status.idle": "2021-08-09T06:08:13.485773Z",
     "shell.execute_reply": "2021-08-09T06:08:13.485299Z",
     "shell.execute_reply.started": "2021-08-09T05:59:18.220044Z"
    },
    "papermill": {
     "duration": 0.019921,
     "end_time": "2021-08-09T06:08:13.485899",
     "exception": false,
     "start_time": "2021-08-09T06:08:13.465978",
     "status": "completed"
    },
    "tags": []
   },
   "outputs": [],
   "source": [
    "# The lines below will show you a hint or the solution.\n",
    "# step_1.hint() \n",
    "#step_1.solution()"
   ]
  },
  {
   "cell_type": "markdown",
   "id": "75cf06d6",
   "metadata": {
    "papermill": {
     "duration": 0.012766,
     "end_time": "2021-08-09T06:08:13.511442",
     "exception": false,
     "start_time": "2021-08-09T06:08:13.498676",
     "status": "completed"
    },
    "tags": []
   },
   "source": [
    "## Step 2: Create X\n",
    "Now you will create a DataFrame called `X` holding the predictive features.\n",
    "\n",
    "Since you want only some columns from the original data, you'll first create a list with the names of the columns you want in `X`.\n",
    "\n",
    "You'll use just the following columns in the list (you can copy and paste the whole list to save some typing, though you'll still need to add quotes):\n",
    "    * LotArea\n",
    "    * YearBuilt\n",
    "    * 1stFlrSF\n",
    "    * 2ndFlrSF\n",
    "    * FullBath\n",
    "    * BedroomAbvGr\n",
    "    * TotRmsAbvGrd\n",
    "\n",
    "After you've created that list of features, use it to create the DataFrame that you'll use to fit the model."
   ]
  },
  {
   "cell_type": "code",
   "execution_count": 5,
   "id": "154b7edb",
   "metadata": {
    "execution": {
     "iopub.execute_input": "2021-08-09T06:08:13.544355Z",
     "iopub.status.busy": "2021-08-09T06:08:13.543402Z",
     "iopub.status.idle": "2021-08-09T06:08:13.550136Z",
     "shell.execute_reply": "2021-08-09T06:08:13.550589Z",
     "shell.execute_reply.started": "2021-08-09T06:01:45.100081Z"
    },
    "papermill": {
     "duration": 0.026296,
     "end_time": "2021-08-09T06:08:13.550754",
     "exception": false,
     "start_time": "2021-08-09T06:08:13.524458",
     "status": "completed"
    },
    "tags": []
   },
   "outputs": [
    {
     "data": {
      "application/javascript": [
       "parent.postMessage({\"jupyterEvent\": \"custom.exercise_interaction\", \"data\": {\"outcomeType\": 1, \"valueTowardsCompletion\": 0.25, \"interactionType\": 1, \"questionType\": 2, \"questionId\": \"2_SelectPredictionData\", \"learnToolsVersion\": \"0.3.4\", \"failureMessage\": \"\", \"exceptionClass\": \"\", \"trace\": \"\"}}, \"*\")"
      ],
      "text/plain": [
       "<IPython.core.display.Javascript object>"
      ]
     },
     "metadata": {},
     "output_type": "display_data"
    },
    {
     "data": {
      "text/markdown": [
       "<span style=\"color:#33cc33\">Correct</span>"
      ],
      "text/plain": [
       "Correct"
      ]
     },
     "metadata": {},
     "output_type": "display_data"
    }
   ],
   "source": [
    "# Create the list of features below\n",
    "feature_names = ['LotArea' , 'YearBuilt' , '1stFlrSF' ,'2ndFlrSF' , 'FullBath' , 'BedroomAbvGr' , 'TotRmsAbvGrd']\n",
    "\n",
    "# Select data corresponding to features in feature_names\n",
    "X = home_data[feature_names]\n",
    "\n",
    "# Check your answer\n",
    "step_2.check()"
   ]
  },
  {
   "cell_type": "code",
   "execution_count": 6,
   "id": "fe4ae82d",
   "metadata": {
    "execution": {
     "iopub.execute_input": "2021-08-09T06:08:13.581685Z",
     "iopub.status.busy": "2021-08-09T06:08:13.580846Z",
     "iopub.status.idle": "2021-08-09T06:08:13.583658Z",
     "shell.execute_reply": "2021-08-09T06:08:13.583172Z",
     "shell.execute_reply.started": "2021-08-09T06:01:50.252088Z"
    },
    "papermill": {
     "duration": 0.019601,
     "end_time": "2021-08-09T06:08:13.583785",
     "exception": false,
     "start_time": "2021-08-09T06:08:13.564184",
     "status": "completed"
    },
    "tags": []
   },
   "outputs": [],
   "source": [
    "# step_2.hint()\n",
    "#step_2.solution()"
   ]
  },
  {
   "cell_type": "markdown",
   "id": "44915d3d",
   "metadata": {
    "papermill": {
     "duration": 0.013236,
     "end_time": "2021-08-09T06:08:13.610380",
     "exception": false,
     "start_time": "2021-08-09T06:08:13.597144",
     "status": "completed"
    },
    "tags": []
   },
   "source": [
    "## Review Data\n",
    "Before building a model, take a quick look at **X** to verify it looks sensible"
   ]
  },
  {
   "cell_type": "code",
   "execution_count": 7,
   "id": "25712410",
   "metadata": {
    "execution": {
     "iopub.execute_input": "2021-08-09T06:08:13.641361Z",
     "iopub.status.busy": "2021-08-09T06:08:13.640782Z",
     "iopub.status.idle": "2021-08-09T06:08:13.677571Z",
     "shell.execute_reply": "2021-08-09T06:08:13.676634Z",
     "shell.execute_reply.started": "2021-08-09T06:03:17.383060Z"
    },
    "papermill": {
     "duration": 0.053866,
     "end_time": "2021-08-09T06:08:13.677778",
     "exception": false,
     "start_time": "2021-08-09T06:08:13.623912",
     "status": "completed"
    },
    "tags": []
   },
   "outputs": [
    {
     "name": "stdout",
     "output_type": "stream",
     "text": [
      "             LotArea    YearBuilt     1stFlrSF     2ndFlrSF     FullBath  \\\n",
      "count    1460.000000  1460.000000  1460.000000  1460.000000  1460.000000   \n",
      "mean    10516.828082  1971.267808  1162.626712   346.992466     1.565068   \n",
      "std      9981.264932    30.202904   386.587738   436.528436     0.550916   \n",
      "min      1300.000000  1872.000000   334.000000     0.000000     0.000000   \n",
      "25%      7553.500000  1954.000000   882.000000     0.000000     1.000000   \n",
      "50%      9478.500000  1973.000000  1087.000000     0.000000     2.000000   \n",
      "75%     11601.500000  2000.000000  1391.250000   728.000000     2.000000   \n",
      "max    215245.000000  2010.000000  4692.000000  2065.000000     3.000000   \n",
      "\n",
      "       BedroomAbvGr  TotRmsAbvGrd  \n",
      "count   1460.000000   1460.000000  \n",
      "mean       2.866438      6.517808  \n",
      "std        0.815778      1.625393  \n",
      "min        0.000000      2.000000  \n",
      "25%        2.000000      5.000000  \n",
      "50%        3.000000      6.000000  \n",
      "75%        3.000000      7.000000  \n",
      "max        8.000000     14.000000  \n",
      "   LotArea  YearBuilt  1stFlrSF  2ndFlrSF  FullBath  BedroomAbvGr  \\\n",
      "0     8450       2003       856       854         2             3   \n",
      "1     9600       1976      1262         0         2             3   \n",
      "2    11250       2001       920       866         2             3   \n",
      "3     9550       1915       961       756         1             3   \n",
      "4    14260       2000      1145      1053         2             4   \n",
      "\n",
      "   TotRmsAbvGrd  \n",
      "0             8  \n",
      "1             6  \n",
      "2             6  \n",
      "3             7  \n",
      "4             9  \n"
     ]
    }
   ],
   "source": [
    "# Review data\n",
    "#print description or statistics from X\n",
    "print(X.describe())\n",
    "\n",
    "# print the top few lines\n",
    "print(X.head())"
   ]
  },
  {
   "cell_type": "markdown",
   "id": "772bcad2",
   "metadata": {
    "papermill": {
     "duration": 0.020213,
     "end_time": "2021-08-09T06:08:13.717542",
     "exception": false,
     "start_time": "2021-08-09T06:08:13.697329",
     "status": "completed"
    },
    "tags": []
   },
   "source": [
    "## Step 3: Specify and Fit Model\n",
    "Create a `DecisionTreeRegressor` and save it iowa_model. Ensure you've done the relevant import from sklearn to run this command.\n",
    "\n",
    "Then fit the model you just created using the data in `X` and `y` that you saved above."
   ]
  },
  {
   "cell_type": "code",
   "execution_count": 8,
   "id": "4e172f85",
   "metadata": {
    "execution": {
     "iopub.execute_input": "2021-08-09T06:08:13.761568Z",
     "iopub.status.busy": "2021-08-09T06:08:13.760588Z",
     "iopub.status.idle": "2021-08-09T06:08:13.774320Z",
     "shell.execute_reply": "2021-08-09T06:08:13.774862Z",
     "shell.execute_reply.started": "2021-08-09T06:05:08.823976Z"
    },
    "papermill": {
     "duration": 0.039564,
     "end_time": "2021-08-09T06:08:13.775036",
     "exception": false,
     "start_time": "2021-08-09T06:08:13.735472",
     "status": "completed"
    },
    "tags": []
   },
   "outputs": [
    {
     "data": {
      "application/javascript": [
       "parent.postMessage({\"jupyterEvent\": \"custom.exercise_interaction\", \"data\": {\"outcomeType\": 1, \"valueTowardsCompletion\": 0.25, \"interactionType\": 1, \"questionType\": 2, \"questionId\": \"3_CreateModel\", \"learnToolsVersion\": \"0.3.4\", \"failureMessage\": \"\", \"exceptionClass\": \"\", \"trace\": \"\"}}, \"*\")"
      ],
      "text/plain": [
       "<IPython.core.display.Javascript object>"
      ]
     },
     "metadata": {},
     "output_type": "display_data"
    },
    {
     "data": {
      "text/markdown": [
       "<span style=\"color:#33cc33\">Correct</span>"
      ],
      "text/plain": [
       "Correct"
      ]
     },
     "metadata": {},
     "output_type": "display_data"
    }
   ],
   "source": [
    "from sklearn.tree import DecisionTreeRegressor\n",
    "#specify the model. \n",
    "#For model reproducibility, set a numeric value for random_state when specifying the model\n",
    "iowa_model = DecisionTreeRegressor(random_state=42)\n",
    "\n",
    "# Fit the model\n",
    "iowa_model.fit(X,y)\n",
    "\n",
    "# Check your answer\n",
    "step_3.check()"
   ]
  },
  {
   "cell_type": "code",
   "execution_count": 9,
   "id": "b44c690c",
   "metadata": {
    "collapsed": true,
    "execution": {
     "iopub.execute_input": "2021-08-09T06:08:13.810159Z",
     "iopub.status.busy": "2021-08-09T06:08:13.809495Z",
     "iopub.status.idle": "2021-08-09T06:08:13.812210Z",
     "shell.execute_reply": "2021-08-09T06:08:13.811738Z"
    },
    "jupyter": {
     "outputs_hidden": true
    },
    "papermill": {
     "duration": 0.022003,
     "end_time": "2021-08-09T06:08:13.812337",
     "exception": false,
     "start_time": "2021-08-09T06:08:13.790334",
     "status": "completed"
    },
    "tags": []
   },
   "outputs": [],
   "source": [
    "# step_3.hint()\n",
    "# step_3.solution()"
   ]
  },
  {
   "cell_type": "markdown",
   "id": "cc34351b",
   "metadata": {
    "papermill": {
     "duration": 0.014588,
     "end_time": "2021-08-09T06:08:13.841993",
     "exception": false,
     "start_time": "2021-08-09T06:08:13.827405",
     "status": "completed"
    },
    "tags": []
   },
   "source": [
    "## Step 4: Make Predictions\n",
    "Make predictions with the model's `predict` command using `X` as the data. Save the results to a variable called `predictions`."
   ]
  },
  {
   "cell_type": "code",
   "execution_count": 10,
   "id": "ecd5871a",
   "metadata": {
    "execution": {
     "iopub.execute_input": "2021-08-09T06:08:13.877378Z",
     "iopub.status.busy": "2021-08-09T06:08:13.876802Z",
     "iopub.status.idle": "2021-08-09T06:08:13.885097Z",
     "shell.execute_reply": "2021-08-09T06:08:13.885532Z",
     "shell.execute_reply.started": "2021-08-09T06:05:32.306221Z"
    },
    "papermill": {
     "duration": 0.02903,
     "end_time": "2021-08-09T06:08:13.885703",
     "exception": false,
     "start_time": "2021-08-09T06:08:13.856673",
     "status": "completed"
    },
    "tags": []
   },
   "outputs": [
    {
     "name": "stdout",
     "output_type": "stream",
     "text": [
      "[208500. 181500. 223500. ... 266500. 142125. 147500.]\n"
     ]
    },
    {
     "data": {
      "application/javascript": [
       "parent.postMessage({\"jupyterEvent\": \"custom.exercise_interaction\", \"data\": {\"outcomeType\": 1, \"valueTowardsCompletion\": 0.25, \"interactionType\": 1, \"questionType\": 2, \"questionId\": \"4_MakePredictions\", \"learnToolsVersion\": \"0.3.4\", \"failureMessage\": \"\", \"exceptionClass\": \"\", \"trace\": \"\"}}, \"*\")"
      ],
      "text/plain": [
       "<IPython.core.display.Javascript object>"
      ]
     },
     "metadata": {},
     "output_type": "display_data"
    },
    {
     "data": {
      "text/markdown": [
       "<span style=\"color:#33cc33\">Correct</span>"
      ],
      "text/plain": [
       "Correct"
      ]
     },
     "metadata": {},
     "output_type": "display_data"
    }
   ],
   "source": [
    "predictions = iowa_model.predict(X)\n",
    "print(predictions)\n",
    "\n",
    "# Check your answer\n",
    "step_4.check()"
   ]
  },
  {
   "cell_type": "code",
   "execution_count": 11,
   "id": "8bb92361",
   "metadata": {
    "collapsed": true,
    "execution": {
     "iopub.execute_input": "2021-08-09T06:08:13.920898Z",
     "iopub.status.busy": "2021-08-09T06:08:13.920278Z",
     "iopub.status.idle": "2021-08-09T06:08:13.923097Z",
     "shell.execute_reply": "2021-08-09T06:08:13.923534Z"
    },
    "jupyter": {
     "outputs_hidden": true
    },
    "papermill": {
     "duration": 0.021405,
     "end_time": "2021-08-09T06:08:13.923693",
     "exception": false,
     "start_time": "2021-08-09T06:08:13.902288",
     "status": "completed"
    },
    "tags": []
   },
   "outputs": [],
   "source": [
    "# step_4.hint()\n",
    "# step_4.solution()"
   ]
  },
  {
   "cell_type": "markdown",
   "id": "a3cdfc0f",
   "metadata": {
    "papermill": {
     "duration": 0.015184,
     "end_time": "2021-08-09T06:08:13.954404",
     "exception": false,
     "start_time": "2021-08-09T06:08:13.939220",
     "status": "completed"
    },
    "tags": []
   },
   "source": [
    "## Think About Your Results\n",
    "\n",
    "Use the `head` method to compare the top few predictions to the actual home values (in `y`) for those same homes. Anything surprising?\n"
   ]
  },
  {
   "cell_type": "code",
   "execution_count": 12,
   "id": "428dfe88",
   "metadata": {
    "execution": {
     "iopub.execute_input": "2021-08-09T06:08:13.988215Z",
     "iopub.status.busy": "2021-08-09T06:08:13.987616Z",
     "iopub.status.idle": "2021-08-09T06:08:13.995005Z",
     "shell.execute_reply": "2021-08-09T06:08:13.995438Z",
     "shell.execute_reply.started": "2021-08-09T06:07:12.140714Z"
    },
    "papermill": {
     "duration": 0.025751,
     "end_time": "2021-08-09T06:08:13.995617",
     "exception": false,
     "start_time": "2021-08-09T06:08:13.969866",
     "status": "completed"
    },
    "tags": []
   },
   "outputs": [
    {
     "name": "stdout",
     "output_type": "stream",
     "text": [
      "[208500. 181500. 223500. 140000. 250000.]\n"
     ]
    },
    {
     "data": {
      "text/plain": [
       "0    208500\n",
       "1    181500\n",
       "2    223500\n",
       "3    140000\n",
       "4    250000\n",
       "Name: SalePrice, dtype: int64"
      ]
     },
     "execution_count": 12,
     "metadata": {},
     "output_type": "execute_result"
    }
   ],
   "source": [
    "# You can write code in this cell\n",
    "print(predictions[:5])\n",
    "y.head()"
   ]
  },
  {
   "cell_type": "markdown",
   "id": "dc21f9ba",
   "metadata": {
    "papermill": {
     "duration": 0.015576,
     "end_time": "2021-08-09T06:08:14.028413",
     "exception": false,
     "start_time": "2021-08-09T06:08:14.012837",
     "status": "completed"
    },
    "tags": []
   },
   "source": [
    "It's natural to ask how accurate the model's predictions will be and how you can improve that. That will be you're next step.\n",
    "\n",
    "# Keep Going\n",
    "\n",
    "You are ready for **[Model Validation](https://www.kaggle.com/dansbecker/model-validation).**\n"
   ]
  },
  {
   "cell_type": "markdown",
   "id": "b1f2df73",
   "metadata": {
    "papermill": {
     "duration": 0.015831,
     "end_time": "2021-08-09T06:08:14.060196",
     "exception": false,
     "start_time": "2021-08-09T06:08:14.044365",
     "status": "completed"
    },
    "tags": []
   },
   "source": [
    "---\n",
    "\n",
    "\n",
    "\n",
    "\n",
    "*Have questions or comments? Visit the [Learn Discussion forum](https://www.kaggle.com/learn-forum/161285) to chat with other Learners.*"
   ]
  }
 ],
 "metadata": {
  "kernelspec": {
   "display_name": "Python 3",
   "language": "python",
   "name": "python3"
  },
  "language_info": {
   "codemirror_mode": {
    "name": "ipython",
    "version": 3
   },
   "file_extension": ".py",
   "mimetype": "text/x-python",
   "name": "python",
   "nbconvert_exporter": "python",
   "pygments_lexer": "ipython3",
   "version": "3.7.10"
  },
  "papermill": {
   "default_parameters": {},
   "duration": 10.822685,
   "end_time": "2021-08-09T06:08:15.729667",
   "environment_variables": {},
   "exception": null,
   "input_path": "__notebook__.ipynb",
   "output_path": "__notebook__.ipynb",
   "parameters": {},
   "start_time": "2021-08-09T06:08:04.906982",
   "version": "2.3.3"
  }
 },
 "nbformat": 4,
 "nbformat_minor": 5
}
