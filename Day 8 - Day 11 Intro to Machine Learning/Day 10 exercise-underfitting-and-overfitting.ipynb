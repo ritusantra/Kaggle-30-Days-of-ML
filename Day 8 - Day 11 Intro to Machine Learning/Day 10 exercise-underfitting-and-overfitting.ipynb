{
 "cells": [
  {
   "cell_type": "markdown",
   "id": "cbcc63ef",
   "metadata": {
    "papermill": {
     "duration": 0.010936,
     "end_time": "2021-08-10T11:47:12.328307",
     "exception": false,
     "start_time": "2021-08-10T11:47:12.317371",
     "status": "completed"
    },
    "tags": []
   },
   "source": [
    "**This notebook is an exercise in the [Introduction to Machine Learning](https://www.kaggle.com/learn/intro-to-machine-learning) course.  You can reference the tutorial at [this link](https://www.kaggle.com/dansbecker/underfitting-and-overfitting).**\n",
    "\n",
    "---\n"
   ]
  },
  {
   "cell_type": "markdown",
   "id": "f3d49d32",
   "metadata": {
    "papermill": {
     "duration": 0.009148,
     "end_time": "2021-08-10T11:47:12.348981",
     "exception": false,
     "start_time": "2021-08-10T11:47:12.339833",
     "status": "completed"
    },
    "tags": []
   },
   "source": [
    "## Recap\n",
    "You've built your first model, and now it's time to optimize the size of the tree to make better predictions. Run this cell to set up your coding environment where the previous step left off."
   ]
  },
  {
   "cell_type": "code",
   "execution_count": 1,
   "id": "66a41a51",
   "metadata": {
    "execution": {
     "iopub.execute_input": "2021-08-10T11:47:12.375009Z",
     "iopub.status.busy": "2021-08-10T11:47:12.373051Z",
     "iopub.status.idle": "2021-08-10T11:47:13.915429Z",
     "shell.execute_reply": "2021-08-10T11:47:13.914752Z",
     "shell.execute_reply.started": "2021-08-10T11:17:37.135481Z"
    },
    "papermill": {
     "duration": 1.55713,
     "end_time": "2021-08-10T11:47:13.915628",
     "exception": false,
     "start_time": "2021-08-10T11:47:12.358498",
     "status": "completed"
    },
    "tags": []
   },
   "outputs": [
    {
     "name": "stdout",
     "output_type": "stream",
     "text": [
      "Validation MAE: 29,653\n",
      "\n",
      "Setup complete\n"
     ]
    }
   ],
   "source": [
    "# Code you have previously used to load data\n",
    "import pandas as pd\n",
    "from sklearn.metrics import mean_absolute_error\n",
    "from sklearn.model_selection import train_test_split\n",
    "from sklearn.tree import DecisionTreeRegressor\n",
    "\n",
    "\n",
    "# Path of the file to read\n",
    "iowa_file_path = '../input/home-data-for-ml-course/train.csv'\n",
    "\n",
    "home_data = pd.read_csv(iowa_file_path)\n",
    "# Create target object and call it y\n",
    "y = home_data.SalePrice\n",
    "# Create X\n",
    "features = ['LotArea', 'YearBuilt', '1stFlrSF', '2ndFlrSF', 'FullBath', 'BedroomAbvGr', 'TotRmsAbvGrd']\n",
    "X = home_data[features]\n",
    "\n",
    "# Split into validation and training data\n",
    "train_X, val_X, train_y, val_y = train_test_split(X, y, random_state=1)\n",
    "\n",
    "# Specify Model\n",
    "iowa_model = DecisionTreeRegressor(random_state=1)\n",
    "# Fit Model\n",
    "iowa_model.fit(train_X, train_y)\n",
    "\n",
    "# Make validation predictions and calculate mean absolute error\n",
    "val_predictions = iowa_model.predict(val_X)\n",
    "val_mae = mean_absolute_error(val_predictions, val_y)\n",
    "print(\"Validation MAE: {:,.0f}\".format(val_mae))\n",
    "\n",
    "# Set up code checking\n",
    "from learntools.core import binder\n",
    "binder.bind(globals())\n",
    "from learntools.machine_learning.ex5 import *\n",
    "print(\"\\nSetup complete\")"
   ]
  },
  {
   "cell_type": "markdown",
   "id": "54038a1d",
   "metadata": {
    "papermill": {
     "duration": 0.009414,
     "end_time": "2021-08-10T11:47:13.935172",
     "exception": false,
     "start_time": "2021-08-10T11:47:13.925758",
     "status": "completed"
    },
    "tags": []
   },
   "source": [
    "# Exercises\n",
    "You could write the function `get_mae` yourself. For now, we'll supply it. This is the same function you read about in the previous lesson. Just run the cell below."
   ]
  },
  {
   "cell_type": "code",
   "execution_count": 2,
   "id": "d89f6e84",
   "metadata": {
    "execution": {
     "iopub.execute_input": "2021-08-10T11:47:13.960718Z",
     "iopub.status.busy": "2021-08-10T11:47:13.959985Z",
     "iopub.status.idle": "2021-08-10T11:47:13.962742Z",
     "shell.execute_reply": "2021-08-10T11:47:13.963248Z",
     "shell.execute_reply.started": "2021-08-10T11:25:58.052544Z"
    },
    "papermill": {
     "duration": 0.018438,
     "end_time": "2021-08-10T11:47:13.963434",
     "exception": false,
     "start_time": "2021-08-10T11:47:13.944996",
     "status": "completed"
    },
    "tags": []
   },
   "outputs": [],
   "source": [
    "def get_mae(max_leaf_nodes, train_X, val_X, train_y, val_y):\n",
    "    model = DecisionTreeRegressor(max_leaf_nodes=max_leaf_nodes, random_state=0)\n",
    "    model.fit(train_X, train_y)\n",
    "    preds_val = model.predict(val_X)\n",
    "    mae = mean_absolute_error(val_y, preds_val)\n",
    "    return(mae)"
   ]
  },
  {
   "cell_type": "markdown",
   "id": "a24da61a",
   "metadata": {
    "papermill": {
     "duration": 0.009573,
     "end_time": "2021-08-10T11:47:13.983234",
     "exception": false,
     "start_time": "2021-08-10T11:47:13.973661",
     "status": "completed"
    },
    "tags": []
   },
   "source": [
    "## Step 1: Compare Different Tree Sizes\n",
    "Write a loop that tries the following values for *max_leaf_nodes* from a set of possible values.\n",
    "\n",
    "Call the *get_mae* function on each value of max_leaf_nodes. Store the output in some way that allows you to select the value of `max_leaf_nodes` that gives the most accurate model on your data."
   ]
  },
  {
   "cell_type": "code",
   "execution_count": 3,
   "id": "7c553f26",
   "metadata": {
    "execution": {
     "iopub.execute_input": "2021-08-10T11:47:14.011324Z",
     "iopub.status.busy": "2021-08-10T11:47:14.010668Z",
     "iopub.status.idle": "2021-08-10T11:47:14.060301Z",
     "shell.execute_reply": "2021-08-10T11:47:14.059752Z",
     "shell.execute_reply.started": "2021-08-10T11:44:30.519887Z"
    },
    "papermill": {
     "duration": 0.067398,
     "end_time": "2021-08-10T11:47:14.060440",
     "exception": false,
     "start_time": "2021-08-10T11:47:13.993042",
     "status": "completed"
    },
    "tags": []
   },
   "outputs": [
    {
     "data": {
      "application/javascript": [
       "parent.postMessage({\"jupyterEvent\": \"custom.exercise_interaction\", \"data\": {\"outcomeType\": 1, \"valueTowardsCompletion\": 0.5, \"interactionType\": 1, \"questionType\": 1, \"questionId\": \"1_BestTreeSize\", \"learnToolsVersion\": \"0.3.4\", \"failureMessage\": \"\", \"exceptionClass\": \"\", \"trace\": \"\"}}, \"*\")"
      ],
      "text/plain": [
       "<IPython.core.display.Javascript object>"
      ]
     },
     "metadata": {},
     "output_type": "display_data"
    },
    {
     "data": {
      "text/markdown": [
       "<span style=\"color:#33cc33\">Correct</span>"
      ],
      "text/plain": [
       "Correct"
      ]
     },
     "metadata": {},
     "output_type": "display_data"
    }
   ],
   "source": [
    "candidate_max_leaf_nodes = [5, 25, 50, 100, 250, 500]\n",
    "# Write loop to find the ideal tree size from candidate_max_leaf_nodes\n",
    "\n",
    "scores = {leaf_size: get_mae(leaf_size, train_X, val_X, train_y, val_y) for leaf_size in candidate_max_leaf_nodes}\n",
    "\n",
    "# Store the best value of max_leaf_nodes (it will be either 5, 25, 50, 100, 250 or 500)\n",
    "\n",
    "best_tree_size = min(scores, key=scores.get)\n",
    "\n",
    "# Check your answer\n",
    "step_1.check()"
   ]
  },
  {
   "cell_type": "code",
   "execution_count": 4,
   "id": "a640e836",
   "metadata": {
    "execution": {
     "iopub.execute_input": "2021-08-10T11:47:14.086817Z",
     "iopub.status.busy": "2021-08-10T11:47:14.086149Z",
     "iopub.status.idle": "2021-08-10T11:47:14.088796Z",
     "shell.execute_reply": "2021-08-10T11:47:14.089561Z",
     "shell.execute_reply.started": "2021-08-10T11:44:34.029395Z"
    },
    "papermill": {
     "duration": 0.018368,
     "end_time": "2021-08-10T11:47:14.089747",
     "exception": false,
     "start_time": "2021-08-10T11:47:14.071379",
     "status": "completed"
    },
    "tags": []
   },
   "outputs": [],
   "source": [
    "#The lines below will show you a hint or the solution.\n",
    "#step_1.hint() \n",
    "#step_1.solution()"
   ]
  },
  {
   "cell_type": "markdown",
   "id": "92fc1c68",
   "metadata": {
    "papermill": {
     "duration": 0.010764,
     "end_time": "2021-08-10T11:47:14.111489",
     "exception": false,
     "start_time": "2021-08-10T11:47:14.100725",
     "status": "completed"
    },
    "tags": []
   },
   "source": [
    "## Step 2: Fit Model Using All Data\n",
    "You know the best tree size. If you were going to deploy this model in practice, you would make it even more accurate by using all of the data and keeping that tree size.  That is, you don't need to hold out the validation data now that you've made all your modeling decisions."
   ]
  },
  {
   "cell_type": "code",
   "execution_count": 5,
   "id": "93b24a95",
   "metadata": {
    "execution": {
     "iopub.execute_input": "2021-08-10T11:47:14.140938Z",
     "iopub.status.busy": "2021-08-10T11:47:14.140185Z",
     "iopub.status.idle": "2021-08-10T11:47:14.153809Z",
     "shell.execute_reply": "2021-08-10T11:47:14.153159Z",
     "shell.execute_reply.started": "2021-08-10T11:46:27.653792Z"
    },
    "papermill": {
     "duration": 0.031688,
     "end_time": "2021-08-10T11:47:14.153947",
     "exception": false,
     "start_time": "2021-08-10T11:47:14.122259",
     "status": "completed"
    },
    "tags": []
   },
   "outputs": [
    {
     "data": {
      "application/javascript": [
       "parent.postMessage({\"jupyterEvent\": \"custom.exercise_interaction\", \"data\": {\"outcomeType\": 1, \"valueTowardsCompletion\": 0.5, \"interactionType\": 1, \"questionType\": 2, \"questionId\": \"2_FitModelWithAllData\", \"learnToolsVersion\": \"0.3.4\", \"failureMessage\": \"\", \"exceptionClass\": \"\", \"trace\": \"\"}}, \"*\")"
      ],
      "text/plain": [
       "<IPython.core.display.Javascript object>"
      ]
     },
     "metadata": {},
     "output_type": "display_data"
    },
    {
     "data": {
      "text/markdown": [
       "<span style=\"color:#33cc33\">Correct</span>"
      ],
      "text/plain": [
       "Correct"
      ]
     },
     "metadata": {},
     "output_type": "display_data"
    }
   ],
   "source": [
    "# Fill in argument to make optimal size and uncomment\n",
    "final_model = DecisionTreeRegressor(max_leaf_nodes=best_tree_size,random_state=0)\n",
    "\n",
    "# fit the final model and uncomment the next two lines\n",
    "final_model.fit(X,y)\n",
    "\n",
    "# Check your answer\n",
    "step_2.check()"
   ]
  },
  {
   "cell_type": "code",
   "execution_count": 6,
   "id": "78522a78",
   "metadata": {
    "execution": {
     "iopub.execute_input": "2021-08-10T11:47:14.183094Z",
     "iopub.status.busy": "2021-08-10T11:47:14.182300Z",
     "iopub.status.idle": "2021-08-10T11:47:14.185426Z",
     "shell.execute_reply": "2021-08-10T11:47:14.184909Z",
     "shell.execute_reply.started": "2021-08-10T11:46:30.640981Z"
    },
    "papermill": {
     "duration": 0.01951,
     "end_time": "2021-08-10T11:47:14.185649",
     "exception": false,
     "start_time": "2021-08-10T11:47:14.166139",
     "status": "completed"
    },
    "tags": []
   },
   "outputs": [],
   "source": [
    "# step_2.hint()\n",
    "#step_2.solution()"
   ]
  },
  {
   "cell_type": "markdown",
   "id": "cc88b272",
   "metadata": {
    "papermill": {
     "duration": 0.011713,
     "end_time": "2021-08-10T11:47:14.209525",
     "exception": false,
     "start_time": "2021-08-10T11:47:14.197812",
     "status": "completed"
    },
    "tags": []
   },
   "source": [
    "You've tuned this model and improved your results. But we are still using Decision Tree models, which are not very sophisticated by modern machine learning standards. In the next step you will learn to use Random Forests to improve your models even more.\n",
    "\n",
    "# Keep Going\n",
    "\n",
    "You are ready for **[Random Forests](https://www.kaggle.com/dansbecker/random-forests).**\n"
   ]
  },
  {
   "cell_type": "markdown",
   "id": "b0f79cfb",
   "metadata": {
    "papermill": {
     "duration": 0.011357,
     "end_time": "2021-08-10T11:47:14.232960",
     "exception": false,
     "start_time": "2021-08-10T11:47:14.221603",
     "status": "completed"
    },
    "tags": []
   },
   "source": [
    "---\n",
    "\n",
    "\n",
    "\n",
    "\n",
    "*Have questions or comments? Visit the [Learn Discussion forum](https://www.kaggle.com/learn-forum/161285) to chat with other Learners.*"
   ]
  }
 ],
 "metadata": {
  "kernelspec": {
   "display_name": "Python 3",
   "language": "python",
   "name": "python3"
  },
  "language_info": {
   "codemirror_mode": {
    "name": "ipython",
    "version": 3
   },
   "file_extension": ".py",
   "mimetype": "text/x-python",
   "name": "python",
   "nbconvert_exporter": "python",
   "pygments_lexer": "ipython3",
   "version": "3.7.10"
  },
  "papermill": {
   "default_parameters": {},
   "duration": 11.934198,
   "end_time": "2021-08-10T11:47:15.614171",
   "environment_variables": {},
   "exception": null,
   "input_path": "__notebook__.ipynb",
   "output_path": "__notebook__.ipynb",
   "parameters": {},
   "start_time": "2021-08-10T11:47:03.679973",
   "version": "2.3.3"
  }
 },
 "nbformat": 4,
 "nbformat_minor": 5
}
