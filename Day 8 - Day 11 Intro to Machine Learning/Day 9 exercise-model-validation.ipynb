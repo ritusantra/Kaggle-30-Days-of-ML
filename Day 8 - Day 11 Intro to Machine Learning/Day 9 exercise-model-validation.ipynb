{
 "cells": [
  {
   "cell_type": "markdown",
   "id": "7229c529",
   "metadata": {
    "papermill": {
     "duration": 0.014233,
     "end_time": "2021-08-09T06:39:25.068359",
     "exception": false,
     "start_time": "2021-08-09T06:39:25.054126",
     "status": "completed"
    },
    "tags": []
   },
   "source": [
    "**This notebook is an exercise in the [Introduction to Machine Learning](https://www.kaggle.com/learn/intro-to-machine-learning) course.  You can reference the tutorial at [this link](https://www.kaggle.com/dansbecker/model-validation).**\n",
    "\n",
    "---\n"
   ]
  },
  {
   "cell_type": "markdown",
   "id": "8873fcb5",
   "metadata": {
    "papermill": {
     "duration": 0.012769,
     "end_time": "2021-08-09T06:39:25.094839",
     "exception": false,
     "start_time": "2021-08-09T06:39:25.082070",
     "status": "completed"
    },
    "tags": []
   },
   "source": [
    "## Recap\n",
    "You've built a model. In this exercise you will test how good your model is.\n",
    "\n",
    "Run the cell below to set up your coding environment where the previous exercise left off."
   ]
  },
  {
   "cell_type": "code",
   "execution_count": 1,
   "id": "c4946bbf",
   "metadata": {
    "execution": {
     "iopub.execute_input": "2021-08-09T06:39:25.125814Z",
     "iopub.status.busy": "2021-08-09T06:39:25.124609Z",
     "iopub.status.idle": "2021-08-09T06:39:26.430894Z",
     "shell.execute_reply": "2021-08-09T06:39:26.431383Z",
     "shell.execute_reply.started": "2021-08-09T06:22:55.463704Z"
    },
    "papermill": {
     "duration": 1.323144,
     "end_time": "2021-08-09T06:39:26.431675",
     "exception": false,
     "start_time": "2021-08-09T06:39:25.108531",
     "status": "completed"
    },
    "tags": []
   },
   "outputs": [
    {
     "name": "stdout",
     "output_type": "stream",
     "text": [
      "First in-sample predictions: [208500. 181500. 223500. 140000. 250000.]\n",
      "Actual target values for those homes: [208500, 181500, 223500, 140000, 250000]\n",
      "Setup Complete\n"
     ]
    }
   ],
   "source": [
    "# Code you have previously used to load data\n",
    "import pandas as pd\n",
    "from sklearn.tree import DecisionTreeRegressor\n",
    "\n",
    "# Path of the file to read\n",
    "iowa_file_path = '../input/home-data-for-ml-course/train.csv'\n",
    "\n",
    "home_data = pd.read_csv(iowa_file_path)\n",
    "y = home_data.SalePrice\n",
    "feature_columns = ['LotArea', 'YearBuilt', '1stFlrSF', '2ndFlrSF', 'FullBath', 'BedroomAbvGr', 'TotRmsAbvGrd']\n",
    "X = home_data[feature_columns]\n",
    "\n",
    "# Specify Model\n",
    "iowa_model = DecisionTreeRegressor()\n",
    "# Fit Model\n",
    "iowa_model.fit(X, y)\n",
    "\n",
    "print(\"First in-sample predictions:\", iowa_model.predict(X.head()))\n",
    "print(\"Actual target values for those homes:\", y.head().tolist())\n",
    "\n",
    "# Set up code checking\n",
    "from learntools.core import binder\n",
    "binder.bind(globals())\n",
    "from learntools.machine_learning.ex4 import *\n",
    "print(\"Setup Complete\")"
   ]
  },
  {
   "cell_type": "markdown",
   "id": "ca1cb2eb",
   "metadata": {
    "papermill": {
     "duration": 0.013596,
     "end_time": "2021-08-09T06:39:26.459198",
     "exception": false,
     "start_time": "2021-08-09T06:39:26.445602",
     "status": "completed"
    },
    "tags": []
   },
   "source": [
    "# Exercises\n",
    "\n",
    "## Step 1: Split Your Data\n",
    "Use the `train_test_split` function to split up your data.\n",
    "\n",
    "Give it the argument `random_state=1` so the `check` functions know what to expect when verifying your code.\n",
    "\n",
    "Recall, your features are loaded in the DataFrame **X** and your target is loaded in **y**.\n"
   ]
  },
  {
   "cell_type": "code",
   "execution_count": 2,
   "id": "61db36dd",
   "metadata": {
    "execution": {
     "iopub.execute_input": "2021-08-09T06:39:26.492925Z",
     "iopub.status.busy": "2021-08-09T06:39:26.492272Z",
     "iopub.status.idle": "2021-08-09T06:39:26.520824Z",
     "shell.execute_reply": "2021-08-09T06:39:26.521331Z",
     "shell.execute_reply.started": "2021-08-09T06:25:01.837403Z"
    },
    "papermill": {
     "duration": 0.048796,
     "end_time": "2021-08-09T06:39:26.521499",
     "exception": false,
     "start_time": "2021-08-09T06:39:26.472703",
     "status": "completed"
    },
    "tags": []
   },
   "outputs": [
    {
     "data": {
      "application/javascript": [
       "parent.postMessage({\"jupyterEvent\": \"custom.exercise_interaction\", \"data\": {\"outcomeType\": 1, \"valueTowardsCompletion\": 0.25, \"interactionType\": 1, \"questionType\": 2, \"questionId\": \"1_SplitData\", \"learnToolsVersion\": \"0.3.4\", \"failureMessage\": \"\", \"exceptionClass\": \"\", \"trace\": \"\"}}, \"*\")"
      ],
      "text/plain": [
       "<IPython.core.display.Javascript object>"
      ]
     },
     "metadata": {},
     "output_type": "display_data"
    },
    {
     "data": {
      "text/markdown": [
       "<span style=\"color:#33cc33\">Correct</span>"
      ],
      "text/plain": [
       "Correct"
      ]
     },
     "metadata": {},
     "output_type": "display_data"
    }
   ],
   "source": [
    "# Import the train_test_split function and uncomment\n",
    "from sklearn.model_selection import train_test_split\n",
    "\n",
    "# fill in and uncomment\n",
    "train_X, val_X, train_y, val_y = train_test_split(X, y, random_state=1)\n",
    "\n",
    "# Check your answer\n",
    "step_1.check()"
   ]
  },
  {
   "cell_type": "code",
   "execution_count": 3,
   "id": "99659f28",
   "metadata": {
    "execution": {
     "iopub.execute_input": "2021-08-09T06:39:26.554070Z",
     "iopub.status.busy": "2021-08-09T06:39:26.553430Z",
     "iopub.status.idle": "2021-08-09T06:39:26.556556Z",
     "shell.execute_reply": "2021-08-09T06:39:26.557069Z"
    },
    "papermill": {
     "duration": 0.021168,
     "end_time": "2021-08-09T06:39:26.557263",
     "exception": false,
     "start_time": "2021-08-09T06:39:26.536095",
     "status": "completed"
    },
    "tags": []
   },
   "outputs": [],
   "source": [
    "# The lines below will show you a hint or the solution.\n",
    "# step_1.hint() \n",
    "# step_1.solution()\n"
   ]
  },
  {
   "cell_type": "markdown",
   "id": "71e8122a",
   "metadata": {
    "papermill": {
     "duration": 0.014294,
     "end_time": "2021-08-09T06:39:26.586319",
     "exception": false,
     "start_time": "2021-08-09T06:39:26.572025",
     "status": "completed"
    },
    "tags": []
   },
   "source": [
    "## Step 2: Specify and Fit the Model\n",
    "\n",
    "Create a `DecisionTreeRegressor` model and fit it to the relevant data.\n",
    "Set `random_state` to 1 again when creating the model."
   ]
  },
  {
   "cell_type": "code",
   "execution_count": 4,
   "id": "0695620e",
   "metadata": {
    "execution": {
     "iopub.execute_input": "2021-08-09T06:39:26.633569Z",
     "iopub.status.busy": "2021-08-09T06:39:26.632872Z",
     "iopub.status.idle": "2021-08-09T06:39:26.671987Z",
     "shell.execute_reply": "2021-08-09T06:39:26.672783Z",
     "shell.execute_reply.started": "2021-08-09T06:38:05.304502Z"
    },
    "papermill": {
     "duration": 0.063945,
     "end_time": "2021-08-09T06:39:26.673023",
     "exception": false,
     "start_time": "2021-08-09T06:39:26.609078",
     "status": "completed"
    },
    "tags": []
   },
   "outputs": [
    {
     "name": "stdout",
     "output_type": "stream",
     "text": [
      "[186500. 184000. 130000.  92000. 164500. 220000. 335000. 144152. 215000.\n",
      " 262000.]\n",
      "[186500. 184000. 130000.  92000. 164500. 220000. 335000. 144152. 215000.\n",
      " 262000.]\n"
     ]
    },
    {
     "data": {
      "application/javascript": [
       "parent.postMessage({\"jupyterEvent\": \"custom.exercise_interaction\", \"data\": {\"outcomeType\": 1, \"valueTowardsCompletion\": 0.25, \"interactionType\": 1, \"questionType\": 2, \"questionId\": \"2_FitModelWithTrain\", \"learnToolsVersion\": \"0.3.4\", \"failureMessage\": \"\", \"exceptionClass\": \"\", \"trace\": \"\"}}, \"*\")"
      ],
      "text/plain": [
       "<IPython.core.display.Javascript object>"
      ]
     },
     "metadata": {},
     "output_type": "display_data"
    },
    {
     "data": {
      "text/markdown": [
       "<span style=\"color:#33cc33\">Correct</span>"
      ],
      "text/plain": [
       "Correct"
      ]
     },
     "metadata": {},
     "output_type": "display_data"
    }
   ],
   "source": [
    "# You imported DecisionTreeRegressor in your last exercise\n",
    "# and that code has been copied to the setup code above. So, no need to\n",
    "# import it again\n",
    "\n",
    "# Specify the model\n",
    "iowa_model = DecisionTreeRegressor(random_state=1)\n",
    "\n",
    "# Fit iowa_model with the training data.\n",
    "iowa_model.fit(train_X,train_y)\n",
    "\n",
    "# Check your answer\n",
    "step_2.check()"
   ]
  },
  {
   "cell_type": "code",
   "execution_count": 5,
   "id": "722d9130",
   "metadata": {
    "execution": {
     "iopub.execute_input": "2021-08-09T06:39:26.722571Z",
     "iopub.status.busy": "2021-08-09T06:39:26.721895Z",
     "iopub.status.idle": "2021-08-09T06:39:26.725292Z",
     "shell.execute_reply": "2021-08-09T06:39:26.725792Z",
     "shell.execute_reply.started": "2021-08-09T06:38:06.297458Z"
    },
    "papermill": {
     "duration": 0.031127,
     "end_time": "2021-08-09T06:39:26.725958",
     "exception": false,
     "start_time": "2021-08-09T06:39:26.694831",
     "status": "completed"
    },
    "tags": []
   },
   "outputs": [],
   "source": [
    "# step_2.hint()\n",
    "# step_2.solution()"
   ]
  },
  {
   "cell_type": "markdown",
   "id": "15fd760f",
   "metadata": {
    "papermill": {
     "duration": 0.016453,
     "end_time": "2021-08-09T06:39:26.759507",
     "exception": false,
     "start_time": "2021-08-09T06:39:26.743054",
     "status": "completed"
    },
    "tags": []
   },
   "source": [
    "## Step 3: Make Predictions with Validation data\n"
   ]
  },
  {
   "cell_type": "code",
   "execution_count": 6,
   "id": "e8f97c3f",
   "metadata": {
    "execution": {
     "iopub.execute_input": "2021-08-09T06:39:26.795008Z",
     "iopub.status.busy": "2021-08-09T06:39:26.794393Z",
     "iopub.status.idle": "2021-08-09T06:39:26.807124Z",
     "shell.execute_reply": "2021-08-09T06:39:26.806519Z",
     "shell.execute_reply.started": "2021-08-09T06:38:07.760795Z"
    },
    "papermill": {
     "duration": 0.031438,
     "end_time": "2021-08-09T06:39:26.807298",
     "exception": false,
     "start_time": "2021-08-09T06:39:26.775860",
     "status": "completed"
    },
    "tags": []
   },
   "outputs": [
    {
     "data": {
      "application/javascript": [
       "parent.postMessage({\"jupyterEvent\": \"custom.exercise_interaction\", \"data\": {\"outcomeType\": 1, \"valueTowardsCompletion\": 0.25, \"interactionType\": 1, \"questionType\": 2, \"questionId\": \"3_ValPreds\", \"learnToolsVersion\": \"0.3.4\", \"failureMessage\": \"\", \"exceptionClass\": \"\", \"trace\": \"\"}}, \"*\")"
      ],
      "text/plain": [
       "<IPython.core.display.Javascript object>"
      ]
     },
     "metadata": {},
     "output_type": "display_data"
    },
    {
     "data": {
      "text/markdown": [
       "<span style=\"color:#33cc33\">Correct</span>"
      ],
      "text/plain": [
       "Correct"
      ]
     },
     "metadata": {},
     "output_type": "display_data"
    }
   ],
   "source": [
    "# Predict with all validation observations\n",
    "val_predictions = iowa_model.predict(val_X)\n",
    "\n",
    "# Check your answer\n",
    "step_3.check()"
   ]
  },
  {
   "cell_type": "code",
   "execution_count": 7,
   "id": "d79e4545",
   "metadata": {
    "execution": {
     "iopub.execute_input": "2021-08-09T06:39:26.846245Z",
     "iopub.status.busy": "2021-08-09T06:39:26.845596Z",
     "iopub.status.idle": "2021-08-09T06:39:26.847730Z",
     "shell.execute_reply": "2021-08-09T06:39:26.848192Z",
     "shell.execute_reply.started": "2021-08-09T06:38:08.610384Z"
    },
    "papermill": {
     "duration": 0.02368,
     "end_time": "2021-08-09T06:39:26.848371",
     "exception": false,
     "start_time": "2021-08-09T06:39:26.824691",
     "status": "completed"
    },
    "tags": []
   },
   "outputs": [],
   "source": [
    "# step_3.hint()\n",
    "# step_3.solution()"
   ]
  },
  {
   "cell_type": "markdown",
   "id": "4353d6c8",
   "metadata": {
    "papermill": {
     "duration": 0.016744,
     "end_time": "2021-08-09T06:39:26.882406",
     "exception": false,
     "start_time": "2021-08-09T06:39:26.865662",
     "status": "completed"
    },
    "tags": []
   },
   "source": [
    "Inspect your predictions and actual values from validation data."
   ]
  },
  {
   "cell_type": "code",
   "execution_count": 8,
   "id": "c9e30606",
   "metadata": {
    "execution": {
     "iopub.execute_input": "2021-08-09T06:39:26.919853Z",
     "iopub.status.busy": "2021-08-09T06:39:26.919181Z",
     "iopub.status.idle": "2021-08-09T06:39:26.925049Z",
     "shell.execute_reply": "2021-08-09T06:39:26.925763Z",
     "shell.execute_reply.started": "2021-08-09T06:38:10.264478Z"
    },
    "papermill": {
     "duration": 0.026569,
     "end_time": "2021-08-09T06:39:26.925987",
     "exception": false,
     "start_time": "2021-08-09T06:39:26.899418",
     "status": "completed"
    },
    "tags": []
   },
   "outputs": [
    {
     "name": "stdout",
     "output_type": "stream",
     "text": [
      "[186500. 184000. 130000.  92000. 164500.]\n",
      "258     231500\n",
      "267     179500\n",
      "288     122000\n",
      "649      84500\n",
      "1233    142000\n",
      "Name: SalePrice, dtype: int64\n"
     ]
    }
   ],
   "source": [
    "# print the top few validation predictions\n",
    "print(val_predictions[:5])\n",
    "# print the top few actual prices from validation data\n",
    "print(val_y.head())"
   ]
  },
  {
   "cell_type": "markdown",
   "id": "fd32ac74",
   "metadata": {
    "papermill": {
     "duration": 0.017036,
     "end_time": "2021-08-09T06:39:26.961421",
     "exception": false,
     "start_time": "2021-08-09T06:39:26.944385",
     "status": "completed"
    },
    "tags": []
   },
   "source": [
    "What do you notice that is different from what you saw with in-sample predictions (which are printed after the top code cell in this page).\n",
    "\n",
    "Do you remember why validation predictions differ from in-sample (or training) predictions? This is an important idea from the last lesson.\n",
    "\n",
    "## Step 4: Calculate the Mean Absolute Error in Validation Data\n"
   ]
  },
  {
   "cell_type": "code",
   "execution_count": 9,
   "id": "a62de8c3",
   "metadata": {
    "execution": {
     "iopub.execute_input": "2021-08-09T06:39:26.999789Z",
     "iopub.status.busy": "2021-08-09T06:39:26.999091Z",
     "iopub.status.idle": "2021-08-09T06:39:27.008476Z",
     "shell.execute_reply": "2021-08-09T06:39:27.009083Z",
     "shell.execute_reply.started": "2021-08-09T06:38:18.170891Z"
    },
    "papermill": {
     "duration": 0.030337,
     "end_time": "2021-08-09T06:39:27.009298",
     "exception": false,
     "start_time": "2021-08-09T06:39:26.978961",
     "status": "completed"
    },
    "tags": []
   },
   "outputs": [
    {
     "name": "stdout",
     "output_type": "stream",
     "text": [
      "29652.931506849316\n"
     ]
    },
    {
     "data": {
      "application/javascript": [
       "parent.postMessage({\"jupyterEvent\": \"custom.exercise_interaction\", \"data\": {\"outcomeType\": 1, \"valueTowardsCompletion\": 0.25, \"interactionType\": 1, \"questionType\": 1, \"questionId\": \"4_MAE\", \"learnToolsVersion\": \"0.3.4\", \"failureMessage\": \"\", \"exceptionClass\": \"\", \"trace\": \"\"}}, \"*\")"
      ],
      "text/plain": [
       "<IPython.core.display.Javascript object>"
      ]
     },
     "metadata": {},
     "output_type": "display_data"
    },
    {
     "data": {
      "text/markdown": [
       "<span style=\"color:#33cc33\">Correct</span>"
      ],
      "text/plain": [
       "Correct"
      ]
     },
     "metadata": {},
     "output_type": "display_data"
    }
   ],
   "source": [
    "from sklearn.metrics import mean_absolute_error\n",
    "val_mae = mean_absolute_error(val_predictions,val_y)\n",
    "\n",
    "# uncomment following line to see the validation_mae\n",
    "print(val_mae)\n",
    "\n",
    "# Check your answer\n",
    "step_4.check()"
   ]
  },
  {
   "cell_type": "code",
   "execution_count": 10,
   "id": "f82532bd",
   "metadata": {
    "execution": {
     "iopub.execute_input": "2021-08-09T06:39:27.051152Z",
     "iopub.status.busy": "2021-08-09T06:39:27.050236Z",
     "iopub.status.idle": "2021-08-09T06:39:27.053065Z",
     "shell.execute_reply": "2021-08-09T06:39:27.052509Z",
     "shell.execute_reply.started": "2021-08-09T06:38:45.867188Z"
    },
    "papermill": {
     "duration": 0.025286,
     "end_time": "2021-08-09T06:39:27.053220",
     "exception": false,
     "start_time": "2021-08-09T06:39:27.027934",
     "status": "completed"
    },
    "tags": []
   },
   "outputs": [],
   "source": [
    "#step_4.hint()\n",
    "#step_4.solution()"
   ]
  },
  {
   "cell_type": "markdown",
   "id": "07f901c5",
   "metadata": {
    "papermill": {
     "duration": 0.0186,
     "end_time": "2021-08-09T06:39:27.090380",
     "exception": false,
     "start_time": "2021-08-09T06:39:27.071780",
     "status": "completed"
    },
    "tags": []
   },
   "source": [
    "Is that MAE good?  There isn't a general rule for what values are good that applies across applications. But you'll see how to use (and improve) this number in the next step.\n",
    "\n",
    "# Keep Going\n",
    "\n",
    "You are ready for **[Underfitting and Overfitting](https://www.kaggle.com/dansbecker/underfitting-and-overfitting).**\n"
   ]
  },
  {
   "cell_type": "markdown",
   "id": "ad8225a8",
   "metadata": {
    "papermill": {
     "duration": 0.018403,
     "end_time": "2021-08-09T06:39:27.127468",
     "exception": false,
     "start_time": "2021-08-09T06:39:27.109065",
     "status": "completed"
    },
    "tags": []
   },
   "source": [
    "---\n",
    "\n",
    "\n",
    "\n",
    "\n",
    "*Have questions or comments? Visit the [Learn Discussion forum](https://www.kaggle.com/learn-forum/161285) to chat with other Learners.*"
   ]
  }
 ],
 "metadata": {
  "kernelspec": {
   "display_name": "Python 3",
   "language": "python",
   "name": "python3"
  },
  "language_info": {
   "codemirror_mode": {
    "name": "ipython",
    "version": 3
   },
   "file_extension": ".py",
   "mimetype": "text/x-python",
   "name": "python",
   "nbconvert_exporter": "python",
   "pygments_lexer": "ipython3",
   "version": "3.7.10"
  },
  "papermill": {
   "default_parameters": {},
   "duration": 11.783127,
   "end_time": "2021-08-09T06:39:28.719735",
   "environment_variables": {},
   "exception": null,
   "input_path": "__notebook__.ipynb",
   "output_path": "__notebook__.ipynb",
   "parameters": {},
   "start_time": "2021-08-09T06:39:16.936608",
   "version": "2.3.3"
  }
 },
 "nbformat": 4,
 "nbformat_minor": 5
}
