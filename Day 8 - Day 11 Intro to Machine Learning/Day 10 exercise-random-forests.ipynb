{
 "cells": [
  {
   "cell_type": "markdown",
   "id": "08a935ca",
   "metadata": {
    "papermill": {
     "duration": 0.005862,
     "end_time": "2021-08-10T12:00:22.830062",
     "exception": false,
     "start_time": "2021-08-10T12:00:22.824200",
     "status": "completed"
    },
    "tags": []
   },
   "source": [
    "**This notebook is an exercise in the [Introduction to Machine Learning](https://www.kaggle.com/learn/intro-to-machine-learning) course.  You can reference the tutorial at [this link](https://www.kaggle.com/dansbecker/random-forests).**\n",
    "\n",
    "---\n"
   ]
  },
  {
   "cell_type": "markdown",
   "id": "9c88f327",
   "metadata": {
    "papermill": {
     "duration": 0.004808,
     "end_time": "2021-08-10T12:00:22.841520",
     "exception": false,
     "start_time": "2021-08-10T12:00:22.836712",
     "status": "completed"
    },
    "tags": []
   },
   "source": [
    "## Recap\n",
    "Here's the code you've written so far."
   ]
  },
  {
   "cell_type": "code",
   "execution_count": 1,
   "id": "dec58e77",
   "metadata": {
    "execution": {
     "iopub.execute_input": "2021-08-10T12:00:22.869426Z",
     "iopub.status.busy": "2021-08-10T12:00:22.865769Z",
     "iopub.status.idle": "2021-08-10T12:00:24.084576Z",
     "shell.execute_reply": "2021-08-10T12:00:24.084949Z",
     "shell.execute_reply.started": "2021-08-10T11:55:18.441210Z"
    },
    "papermill": {
     "duration": 1.238705,
     "end_time": "2021-08-10T12:00:24.085160",
     "exception": false,
     "start_time": "2021-08-10T12:00:22.846455",
     "status": "completed"
    },
    "tags": []
   },
   "outputs": [
    {
     "name": "stdout",
     "output_type": "stream",
     "text": [
      "Validation MAE when not specifying max_leaf_nodes: 29,653\n",
      "Validation MAE for best value of max_leaf_nodes: 27,283\n",
      "\n",
      "Setup complete\n"
     ]
    }
   ],
   "source": [
    "# Code you have previously used to load data\n",
    "import pandas as pd\n",
    "from sklearn.metrics import mean_absolute_error\n",
    "from sklearn.model_selection import train_test_split\n",
    "from sklearn.tree import DecisionTreeRegressor\n",
    "\n",
    "\n",
    "# Path of the file to read\n",
    "iowa_file_path = '../input/home-data-for-ml-course/train.csv'\n",
    "\n",
    "home_data = pd.read_csv(iowa_file_path)\n",
    "# Create target object and call it y\n",
    "y = home_data.SalePrice\n",
    "# Create X\n",
    "features = ['LotArea', 'YearBuilt', '1stFlrSF', '2ndFlrSF', 'FullBath', 'BedroomAbvGr', 'TotRmsAbvGrd']\n",
    "X = home_data[features]\n",
    "\n",
    "# Split into validation and training data\n",
    "train_X, val_X, train_y, val_y = train_test_split(X, y, random_state=1)\n",
    "\n",
    "# Specify Model\n",
    "iowa_model = DecisionTreeRegressor(random_state=1)\n",
    "# Fit Model\n",
    "iowa_model.fit(train_X, train_y)\n",
    "\n",
    "# Make validation predictions and calculate mean absolute error\n",
    "val_predictions = iowa_model.predict(val_X)\n",
    "val_mae = mean_absolute_error(val_predictions, val_y)\n",
    "print(\"Validation MAE when not specifying max_leaf_nodes: {:,.0f}\".format(val_mae))\n",
    "\n",
    "# Using best value for max_leaf_nodes\n",
    "iowa_model = DecisionTreeRegressor(max_leaf_nodes=100, random_state=1)\n",
    "iowa_model.fit(train_X, train_y)\n",
    "val_predictions = iowa_model.predict(val_X)\n",
    "val_mae = mean_absolute_error(val_predictions, val_y)\n",
    "print(\"Validation MAE for best value of max_leaf_nodes: {:,.0f}\".format(val_mae))\n",
    "\n",
    "\n",
    "# Set up code checking\n",
    "from learntools.core import binder\n",
    "binder.bind(globals())\n",
    "from learntools.machine_learning.ex6 import *\n",
    "print(\"\\nSetup complete\")"
   ]
  },
  {
   "cell_type": "markdown",
   "id": "a34df1bd",
   "metadata": {
    "papermill": {
     "duration": 0.005146,
     "end_time": "2021-08-10T12:00:24.096240",
     "exception": false,
     "start_time": "2021-08-10T12:00:24.091094",
     "status": "completed"
    },
    "tags": []
   },
   "source": [
    "# Exercises\n",
    "Data science isn't always this easy. But replacing the decision tree with a Random Forest is going to be an easy win."
   ]
  },
  {
   "cell_type": "markdown",
   "id": "82f397b8",
   "metadata": {
    "papermill": {
     "duration": 0.005057,
     "end_time": "2021-08-10T12:00:24.106587",
     "exception": false,
     "start_time": "2021-08-10T12:00:24.101530",
     "status": "completed"
    },
    "tags": []
   },
   "source": [
    "## Step 1: Use a Random Forest"
   ]
  },
  {
   "cell_type": "code",
   "execution_count": 2,
   "id": "c0dad73c",
   "metadata": {
    "execution": {
     "iopub.execute_input": "2021-08-10T12:00:24.121914Z",
     "iopub.status.busy": "2021-08-10T12:00:24.121429Z",
     "iopub.status.idle": "2021-08-10T12:00:24.688825Z",
     "shell.execute_reply": "2021-08-10T12:00:24.688065Z",
     "shell.execute_reply.started": "2021-08-10T11:59:49.239757Z"
    },
    "papermill": {
     "duration": 0.577234,
     "end_time": "2021-08-10T12:00:24.688950",
     "exception": false,
     "start_time": "2021-08-10T12:00:24.111716",
     "status": "completed"
    },
    "tags": []
   },
   "outputs": [
    {
     "name": "stdout",
     "output_type": "stream",
     "text": [
      "Validation MAE for Random Forest Model: 21857.15912981083\n"
     ]
    },
    {
     "data": {
      "application/javascript": [
       "parent.postMessage({\"jupyterEvent\": \"custom.exercise_interaction\", \"data\": {\"outcomeType\": 1, \"valueTowardsCompletion\": 1.0, \"interactionType\": 1, \"questionType\": 2, \"questionId\": \"1_CheckRfScore\", \"learnToolsVersion\": \"0.3.4\", \"failureMessage\": \"\", \"exceptionClass\": \"\", \"trace\": \"\"}}, \"*\")"
      ],
      "text/plain": [
       "<IPython.core.display.Javascript object>"
      ]
     },
     "metadata": {},
     "output_type": "display_data"
    },
    {
     "data": {
      "text/markdown": [
       "<span style=\"color:#33cc33\">Correct</span>"
      ],
      "text/plain": [
       "Correct"
      ]
     },
     "metadata": {},
     "output_type": "display_data"
    }
   ],
   "source": [
    "from sklearn.ensemble import RandomForestRegressor\n",
    "\n",
    "# Define the model. Set random_state to 1\n",
    "rf_model = RandomForestRegressor(random_state=1)\n",
    "\n",
    "# fit your model\n",
    "rf_model.fit(train_X,train_y)\n",
    "\n",
    "# Calculate the mean absolute error of your Random Forest model on the validation data\n",
    "rf_pred= rf_model.predict(val_X)\n",
    "rf_val_mae = mean_absolute_error(rf_pred,val_y)\n",
    "\n",
    "print(\"Validation MAE for Random Forest Model: {}\".format(rf_val_mae))\n",
    "\n",
    "# Check your answer\n",
    "step_1.check()"
   ]
  },
  {
   "cell_type": "code",
   "execution_count": 3,
   "id": "b48212f9",
   "metadata": {
    "execution": {
     "iopub.execute_input": "2021-08-10T12:00:24.711187Z",
     "iopub.status.busy": "2021-08-10T12:00:24.710686Z",
     "iopub.status.idle": "2021-08-10T12:00:24.712493Z",
     "shell.execute_reply": "2021-08-10T12:00:24.712874Z",
     "shell.execute_reply.started": "2021-08-10T11:59:55.485628Z"
    },
    "papermill": {
     "duration": 0.01454,
     "end_time": "2021-08-10T12:00:24.713004",
     "exception": false,
     "start_time": "2021-08-10T12:00:24.698464",
     "status": "completed"
    },
    "tags": []
   },
   "outputs": [],
   "source": [
    "# The lines below will show you a hint or the solution.\n",
    "# step_1.hint() \n",
    "#step_1.solution()\n"
   ]
  },
  {
   "cell_type": "markdown",
   "id": "c6a43dc7",
   "metadata": {
    "papermill": {
     "duration": 0.005953,
     "end_time": "2021-08-10T12:00:24.725509",
     "exception": false,
     "start_time": "2021-08-10T12:00:24.719556",
     "status": "completed"
    },
    "tags": []
   },
   "source": [
    "So far, you have followed specific instructions at each step of your project. This helped learn key ideas and build your first model, but now you know enough to try things on your own. \n",
    "\n",
    "Machine Learning competitions are a great way to try your own ideas and learn more as you independently navigate a machine learning project. \n",
    "\n",
    "# Keep Going\n",
    "\n",
    "You are ready for **[Machine Learning Competitions](https://www.kaggle.com/alexisbcook/machine-learning-competitions).**\n"
   ]
  },
  {
   "cell_type": "markdown",
   "id": "c70c9ada",
   "metadata": {
    "papermill": {
     "duration": 0.005888,
     "end_time": "2021-08-10T12:00:24.737450",
     "exception": false,
     "start_time": "2021-08-10T12:00:24.731562",
     "status": "completed"
    },
    "tags": []
   },
   "source": [
    "---\n",
    "\n",
    "\n",
    "\n",
    "\n",
    "*Have questions or comments? Visit the [Learn Discussion forum](https://www.kaggle.com/learn-forum/161285) to chat with other Learners.*"
   ]
  }
 ],
 "metadata": {
  "kernelspec": {
   "display_name": "Python 3",
   "language": "python",
   "name": "python3"
  },
  "language_info": {
   "codemirror_mode": {
    "name": "ipython",
    "version": 3
   },
   "file_extension": ".py",
   "mimetype": "text/x-python",
   "name": "python",
   "nbconvert_exporter": "python",
   "pygments_lexer": "ipython3",
   "version": "3.7.10"
  },
  "papermill": {
   "default_parameters": {},
   "duration": 10.327829,
   "end_time": "2021-08-10T12:00:25.352679",
   "environment_variables": {},
   "exception": null,
   "input_path": "__notebook__.ipynb",
   "output_path": "__notebook__.ipynb",
   "parameters": {},
   "start_time": "2021-08-10T12:00:15.024850",
   "version": "2.3.3"
  }
 },
 "nbformat": 4,
 "nbformat_minor": 5
}
