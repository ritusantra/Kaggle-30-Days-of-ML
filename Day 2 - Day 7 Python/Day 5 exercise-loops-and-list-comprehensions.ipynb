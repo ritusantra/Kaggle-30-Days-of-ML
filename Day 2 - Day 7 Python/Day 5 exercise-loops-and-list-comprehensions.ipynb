{
 "cells": [
  {
   "cell_type": "markdown",
   "id": "4fd3e2b0",
   "metadata": {
    "papermill": {
     "duration": 0.017949,
     "end_time": "2021-08-05T13:23:16.948230",
     "exception": false,
     "start_time": "2021-08-05T13:23:16.930281",
     "status": "completed"
    },
    "tags": []
   },
   "source": [
    "**This notebook is an exercise in the [Python](https://www.kaggle.com/learn/python) course.  You can reference the tutorial at [this link](https://www.kaggle.com/colinmorris/loops-and-list-comprehensions).**\n",
    "\n",
    "---\n"
   ]
  },
  {
   "cell_type": "markdown",
   "id": "33bc1b0a",
   "metadata": {
    "papermill": {
     "duration": 0.015778,
     "end_time": "2021-08-05T13:23:16.982550",
     "exception": false,
     "start_time": "2021-08-05T13:23:16.966772",
     "status": "completed"
    },
    "tags": []
   },
   "source": [
    "With all you've learned, you can start writing much more interesting programs. See if you can solve the problems below.\n",
    "\n",
    "As always, run the setup code below before working on the questions."
   ]
  },
  {
   "cell_type": "code",
   "execution_count": 1,
   "id": "e23391c4",
   "metadata": {
    "execution": {
     "iopub.execute_input": "2021-08-05T13:23:17.020068Z",
     "iopub.status.busy": "2021-08-05T13:23:17.018901Z",
     "iopub.status.idle": "2021-08-05T13:23:17.150861Z",
     "shell.execute_reply": "2021-08-05T13:23:17.150204Z",
     "shell.execute_reply.started": "2021-08-05T12:48:49.294600Z"
    },
    "papermill": {
     "duration": 0.15162,
     "end_time": "2021-08-05T13:23:17.151016",
     "exception": false,
     "start_time": "2021-08-05T13:23:16.999396",
     "status": "completed"
    },
    "tags": []
   },
   "outputs": [
    {
     "name": "stdout",
     "output_type": "stream",
     "text": [
      "Setup complete.\n"
     ]
    }
   ],
   "source": [
    "from learntools.core import binder; binder.bind(globals())\n",
    "from learntools.python.ex5 import *\n",
    "print('Setup complete.')"
   ]
  },
  {
   "cell_type": "markdown",
   "id": "f5da684b",
   "metadata": {
    "papermill": {
     "duration": 0.016703,
     "end_time": "2021-08-05T13:23:17.184704",
     "exception": false,
     "start_time": "2021-08-05T13:23:17.168001",
     "status": "completed"
    },
    "tags": []
   },
   "source": [
    "# 1.\n",
    "\n",
    "Have you ever felt debugging involved a bit of luck? The following program has a bug. Try to identify the bug and fix it."
   ]
  },
  {
   "cell_type": "code",
   "execution_count": 2,
   "id": "c853d081",
   "metadata": {
    "execution": {
     "iopub.execute_input": "2021-08-05T13:23:17.224276Z",
     "iopub.status.busy": "2021-08-05T13:23:17.223662Z",
     "iopub.status.idle": "2021-08-05T13:23:17.226493Z",
     "shell.execute_reply": "2021-08-05T13:23:17.225909Z",
     "shell.execute_reply.started": "2021-08-05T12:48:57.137665Z"
    },
    "papermill": {
     "duration": 0.024449,
     "end_time": "2021-08-05T13:23:17.226640",
     "exception": false,
     "start_time": "2021-08-05T13:23:17.202191",
     "status": "completed"
    },
    "tags": []
   },
   "outputs": [],
   "source": [
    "def has_lucky_number(nums):\n",
    "    \"\"\"Return whether the given list of numbers is lucky. A lucky list contains\n",
    "    at least one number divisible by 7.\n",
    "    \"\"\"\n",
    "    for num in nums:\n",
    "        if num % 7 == 0:\n",
    "            return True\n",
    "        else:\n",
    "            return False"
   ]
  },
  {
   "cell_type": "markdown",
   "id": "534bc47e",
   "metadata": {
    "papermill": {
     "duration": 0.015848,
     "end_time": "2021-08-05T13:23:17.259006",
     "exception": false,
     "start_time": "2021-08-05T13:23:17.243158",
     "status": "completed"
    },
    "tags": []
   },
   "source": [
    "Try to identify the bug and fix it in the cell below:"
   ]
  },
  {
   "cell_type": "code",
   "execution_count": 3,
   "id": "d8434c66",
   "metadata": {
    "execution": {
     "iopub.execute_input": "2021-08-05T13:23:17.294880Z",
     "iopub.status.busy": "2021-08-05T13:23:17.294286Z",
     "iopub.status.idle": "2021-08-05T13:23:17.303516Z",
     "shell.execute_reply": "2021-08-05T13:23:17.304050Z",
     "shell.execute_reply.started": "2021-08-05T12:52:07.224742Z"
    },
    "papermill": {
     "duration": 0.028752,
     "end_time": "2021-08-05T13:23:17.304221",
     "exception": false,
     "start_time": "2021-08-05T13:23:17.275469",
     "status": "completed"
    },
    "tags": []
   },
   "outputs": [
    {
     "data": {
      "application/javascript": [
       "parent.postMessage({\"jupyterEvent\": \"custom.exercise_interaction\", \"data\": {\"outcomeType\": 1, \"valueTowardsCompletion\": 0.25, \"interactionType\": 1, \"questionType\": 2, \"questionId\": \"1_EarlyExitDebugging\", \"learnToolsVersion\": \"0.3.4\", \"failureMessage\": \"\", \"exceptionClass\": \"\", \"trace\": \"\"}}, \"*\")"
      ],
      "text/plain": [
       "<IPython.core.display.Javascript object>"
      ]
     },
     "metadata": {},
     "output_type": "display_data"
    },
    {
     "data": {
      "text/markdown": [
       "<span style=\"color:#33cc33\">Correct:</span> \n",
       "\n",
       "Remember that `return` causes a function to exit immediately. So our original implementation always ran for just one iteration. We can only return `False` if we've looked at every element of the list (and confirmed that none of them are lucky). Though we can return early if the answer is `True`:\n",
       "\n",
       "```python\n",
       "def has_lucky_number(nums):\n",
       "    for num in nums:\n",
       "        if num % 7 == 0:\n",
       "            return True\n",
       "    # We've exhausted the list without finding a lucky number\n",
       "    return False\n",
       "```\n",
       "\n",
       "Here's a one-line version using a list comprehension with Python's `any` function (you can read about what it does by calling `help(any)`):\n",
       "\n",
       "```python\n",
       "def has_lucky_number(nums):\n",
       "    return any([num % 7 == 0 for num in nums])\n",
       "```\n"
      ],
      "text/plain": [
       "Correct: \n",
       "\n",
       "Remember that `return` causes a function to exit immediately. So our original implementation always ran for just one iteration. We can only return `False` if we've looked at every element of the list (and confirmed that none of them are lucky). Though we can return early if the answer is `True`:\n",
       "\n",
       "```python\n",
       "def has_lucky_number(nums):\n",
       "    for num in nums:\n",
       "        if num % 7 == 0:\n",
       "            return True\n",
       "    # We've exhausted the list without finding a lucky number\n",
       "    return False\n",
       "```\n",
       "\n",
       "Here's a one-line version using a list comprehension with Python's `any` function (you can read about what it does by calling `help(any)`):\n",
       "\n",
       "```python\n",
       "def has_lucky_number(nums):\n",
       "    return any([num % 7 == 0 for num in nums])\n",
       "```"
      ]
     },
     "metadata": {},
     "output_type": "display_data"
    }
   ],
   "source": [
    "def has_lucky_number(nums):\n",
    "    \"\"\"Return whether the given list of numbers is lucky. A lucky list contains\n",
    "    at least one number divisible by 7.\n",
    "    \"\"\"\n",
    "    for num in nums:\n",
    "        if num % 7 == 0:\n",
    "            return True\n",
    "        \n",
    "    return False\n",
    "    \n",
    "\n",
    "# Check your answer\n",
    "q1.check()"
   ]
  },
  {
   "cell_type": "code",
   "execution_count": 4,
   "id": "702db88f",
   "metadata": {
    "execution": {
     "iopub.execute_input": "2021-08-05T13:23:17.343179Z",
     "iopub.status.busy": "2021-08-05T13:23:17.342579Z",
     "iopub.status.idle": "2021-08-05T13:23:17.346699Z",
     "shell.execute_reply": "2021-08-05T13:23:17.346023Z",
     "shell.execute_reply.started": "2021-08-05T12:52:11.427212Z"
    },
    "papermill": {
     "duration": 0.025202,
     "end_time": "2021-08-05T13:23:17.346859",
     "exception": false,
     "start_time": "2021-08-05T13:23:17.321657",
     "status": "completed"
    },
    "tags": []
   },
   "outputs": [],
   "source": [
    "#q1.hint()\n",
    "#q1.solution()"
   ]
  },
  {
   "cell_type": "markdown",
   "id": "ed10c02e",
   "metadata": {
    "papermill": {
     "duration": 0.0184,
     "end_time": "2021-08-05T13:23:17.382986",
     "exception": false,
     "start_time": "2021-08-05T13:23:17.364586",
     "status": "completed"
    },
    "tags": []
   },
   "source": [
    "# 2.\n",
    "Look at the Python expression below. What do you think we'll get when we run it? When you've made your prediction, uncomment the code and run the cell to see if you were right."
   ]
  },
  {
   "cell_type": "code",
   "execution_count": 5,
   "id": "3bbff2b8",
   "metadata": {
    "execution": {
     "iopub.execute_input": "2021-08-05T13:23:17.424631Z",
     "iopub.status.busy": "2021-08-05T13:23:17.423961Z",
     "iopub.status.idle": "2021-08-05T13:23:17.490276Z",
     "shell.execute_reply": "2021-08-05T13:23:17.489506Z",
     "shell.execute_reply.started": "2021-08-05T12:53:00.789865Z"
    },
    "papermill": {
     "duration": 0.089177,
     "end_time": "2021-08-05T13:23:17.490564",
     "exception": true,
     "start_time": "2021-08-05T13:23:17.401387",
     "status": "failed"
    },
    "tags": []
   },
   "outputs": [
    {
     "ename": "TypeError",
     "evalue": "'>' not supported between instances of 'list' and 'int'",
     "output_type": "error",
     "traceback": [
      "\u001b[0;31m---------------------------------------------------------------------------\u001b[0m",
      "\u001b[0;31mTypeError\u001b[0m                                 Traceback (most recent call last)",
      "\u001b[0;32m<ipython-input-5-6f064fcfe2b9>\u001b[0m in \u001b[0;36m<module>\u001b[0;34m\u001b[0m\n\u001b[0;32m----> 1\u001b[0;31m \u001b[0;34m[\u001b[0m\u001b[0;36m1\u001b[0m\u001b[0;34m,\u001b[0m \u001b[0;36m2\u001b[0m\u001b[0;34m,\u001b[0m \u001b[0;36m3\u001b[0m\u001b[0;34m,\u001b[0m \u001b[0;36m4\u001b[0m\u001b[0;34m]\u001b[0m \u001b[0;34m>\u001b[0m \u001b[0;36m2\u001b[0m\u001b[0;34m\u001b[0m\u001b[0;34m\u001b[0m\u001b[0m\n\u001b[0m",
      "\u001b[0;31mTypeError\u001b[0m: '>' not supported between instances of 'list' and 'int'"
     ]
    }
   ],
   "source": [
    "[1, 2, 3, 4] > 2"
   ]
  },
  {
   "cell_type": "markdown",
   "id": "a9e74743",
   "metadata": {
    "papermill": {
     "duration": null,
     "end_time": null,
     "exception": null,
     "start_time": null,
     "status": "pending"
    },
    "tags": []
   },
   "source": [
    "R and Python have some libraries (like numpy and pandas) compare each element of the list to 2 (i.e. do an 'element-wise' comparison) and give us a list of booleans like `[False, False, True, True]`. \n",
    "\n",
    "Implement a function that reproduces this behaviour, returning a list of booleans corresponding to whether the corresponding element is greater than n."
   ]
  },
  {
   "cell_type": "code",
   "execution_count": null,
   "id": "c9660323",
   "metadata": {
    "execution": {
     "iopub.execute_input": "2021-08-05T13:00:52.774994Z",
     "iopub.status.busy": "2021-08-05T13:00:52.774697Z",
     "iopub.status.idle": "2021-08-05T13:00:52.782812Z",
     "shell.execute_reply": "2021-08-05T13:00:52.781964Z",
     "shell.execute_reply.started": "2021-08-05T13:00:52.774967Z"
    },
    "papermill": {
     "duration": null,
     "end_time": null,
     "exception": null,
     "start_time": null,
     "status": "pending"
    },
    "tags": []
   },
   "outputs": [],
   "source": [
    "def elementwise_greater_than(L, thresh):\n",
    "    \"\"\"Return a list with the same length as L, where the value at index i is \n",
    "    True if L[i] is greater than thresh, and False otherwise.\n",
    "    \n",
    "    >>> elementwise_greater_than([1, 2, 3, 4], 2)\n",
    "    [False, False, True, True]\n",
    "    \"\"\"\n",
    "    ans = []\n",
    "    for num in L:\n",
    "        ans.append(num > thresh)\n",
    "    return ans\n",
    "    \n",
    "\n",
    "# Check your answer\n",
    "q2.check()"
   ]
  },
  {
   "cell_type": "code",
   "execution_count": null,
   "id": "b07a4d66",
   "metadata": {
    "execution": {
     "iopub.execute_input": "2021-08-05T13:00:56.774796Z",
     "iopub.status.busy": "2021-08-05T13:00:56.774493Z",
     "iopub.status.idle": "2021-08-05T13:00:56.778335Z",
     "shell.execute_reply": "2021-08-05T13:00:56.777387Z",
     "shell.execute_reply.started": "2021-08-05T13:00:56.774770Z"
    },
    "papermill": {
     "duration": null,
     "end_time": null,
     "exception": null,
     "start_time": null,
     "status": "pending"
    },
    "tags": []
   },
   "outputs": [],
   "source": [
    "#q2.solution()"
   ]
  },
  {
   "cell_type": "markdown",
   "id": "c968293c",
   "metadata": {
    "papermill": {
     "duration": null,
     "end_time": null,
     "exception": null,
     "start_time": null,
     "status": "pending"
    },
    "tags": []
   },
   "source": [
    "# 3.\n",
    "\n",
    "Complete the body of the function below according to its docstring."
   ]
  },
  {
   "cell_type": "code",
   "execution_count": null,
   "id": "0dd7fca5",
   "metadata": {
    "execution": {
     "iopub.execute_input": "2021-08-05T13:05:50.477657Z",
     "iopub.status.busy": "2021-08-05T13:05:50.477199Z",
     "iopub.status.idle": "2021-08-05T13:05:50.486324Z",
     "shell.execute_reply": "2021-08-05T13:05:50.485521Z",
     "shell.execute_reply.started": "2021-08-05T13:05:50.477628Z"
    },
    "papermill": {
     "duration": null,
     "end_time": null,
     "exception": null,
     "start_time": null,
     "status": "pending"
    },
    "tags": []
   },
   "outputs": [],
   "source": [
    "def menu_is_boring(meals):\n",
    "    \"\"\"Given a list of meals served over some period of time, return True if the\n",
    "    same meal has ever been served two days in a row, and False otherwise.\n",
    "    \"\"\"\n",
    "    for i in range(len(meals)-1):\n",
    "        if meals[i] == meals[i+1]:\n",
    "            return True\n",
    "    return False \n",
    "\n",
    "# Check your answer\n",
    "q3.check()"
   ]
  },
  {
   "cell_type": "code",
   "execution_count": null,
   "id": "ef515335",
   "metadata": {
    "execution": {
     "iopub.execute_input": "2021-08-05T13:05:54.091575Z",
     "iopub.status.busy": "2021-08-05T13:05:54.091269Z",
     "iopub.status.idle": "2021-08-05T13:05:54.094687Z",
     "shell.execute_reply": "2021-08-05T13:05:54.094084Z",
     "shell.execute_reply.started": "2021-08-05T13:05:54.091548Z"
    },
    "papermill": {
     "duration": null,
     "end_time": null,
     "exception": null,
     "start_time": null,
     "status": "pending"
    },
    "tags": []
   },
   "outputs": [],
   "source": [
    "#q3.hint()\n",
    "#q3.solution()"
   ]
  },
  {
   "cell_type": "markdown",
   "id": "50e80ff6",
   "metadata": {
    "papermill": {
     "duration": null,
     "end_time": null,
     "exception": null,
     "start_time": null,
     "status": "pending"
    },
    "tags": []
   },
   "source": [
    "# 4. <span title=\"A bit spicy\" style=\"color: darkgreen \">🌶️</span>\n",
    "\n",
    "Next to the Blackjack table, the Python Challenge Casino has a slot machine. You can get a result from the slot machine by calling `play_slot_machine()`. The number it returns is your winnings in dollars. Usually it returns 0.  But sometimes you'll get lucky and get a big payday. Try running it below:"
   ]
  },
  {
   "cell_type": "code",
   "execution_count": null,
   "id": "3a3e5aa6",
   "metadata": {
    "execution": {
     "iopub.execute_input": "2021-08-05T13:17:39.704580Z",
     "iopub.status.busy": "2021-08-05T13:17:39.704286Z",
     "iopub.status.idle": "2021-08-05T13:17:39.708913Z",
     "shell.execute_reply": "2021-08-05T13:17:39.708312Z",
     "shell.execute_reply.started": "2021-08-05T13:17:39.704554Z"
    },
    "papermill": {
     "duration": null,
     "end_time": null,
     "exception": null,
     "start_time": null,
     "status": "pending"
    },
    "tags": []
   },
   "outputs": [],
   "source": [
    "play_slot_machine()"
   ]
  },
  {
   "cell_type": "markdown",
   "id": "ae924209",
   "metadata": {
    "papermill": {
     "duration": null,
     "end_time": null,
     "exception": null,
     "start_time": null,
     "status": "pending"
    },
    "tags": []
   },
   "source": [
    "By the way, did we mention that each play costs $1? Don't worry, we'll send you the bill later.\n",
    "\n",
    "On average, how much money can you expect to gain (or lose) every time you play the machine?  The casino keeps it a secret, but you can estimate the average value of each pull using a technique called the **Monte Carlo method**. To estimate the average outcome, we simulate the scenario many times, and return the average result.\n",
    "\n",
    "Complete the following function to calculate the average value per play of the slot machine."
   ]
  },
  {
   "cell_type": "code",
   "execution_count": null,
   "id": "0c47e446",
   "metadata": {
    "execution": {
     "iopub.execute_input": "2021-08-05T13:21:26.019747Z",
     "iopub.status.busy": "2021-08-05T13:21:26.019204Z",
     "iopub.status.idle": "2021-08-05T13:21:26.022952Z",
     "shell.execute_reply": "2021-08-05T13:21:26.022262Z",
     "shell.execute_reply.started": "2021-08-05T13:21:26.019714Z"
    },
    "papermill": {
     "duration": null,
     "end_time": null,
     "exception": null,
     "start_time": null,
     "status": "pending"
    },
    "tags": []
   },
   "outputs": [],
   "source": [
    "def estimate_average_slot_payout(n_runs):\n",
    "    \"\"\"Run the slot machine n_runs times and return the average net profit per run.\n",
    "    Example calls (note that return value is nondeterministic!):\n",
    "    >>> estimate_average_slot_payout(1)\n",
    "    -1\n",
    "    >>> estimate_average_slot_payout(1)\n",
    "    0.5\n",
    "    \"\"\"\n",
    "    \n",
    "win=0\n",
    "for i in range(n_runs):\n",
    "        win += play_slot_machine()\n",
    "return win/n_runs"
   ]
  },
  {
   "cell_type": "markdown",
   "id": "b56cffa4",
   "metadata": {
    "papermill": {
     "duration": null,
     "end_time": null,
     "exception": null,
     "start_time": null,
     "status": "pending"
    },
    "tags": []
   },
   "source": [
    "When you think you know the expected value per spin, run the code cell below to view the solution and get credit for answering the question."
   ]
  },
  {
   "cell_type": "code",
   "execution_count": null,
   "id": "9ca4342c",
   "metadata": {
    "execution": {
     "iopub.execute_input": "2021-08-05T13:13:15.877013Z",
     "iopub.status.busy": "2021-08-05T13:13:15.876494Z",
     "iopub.status.idle": "2021-08-05T13:13:15.884814Z",
     "shell.execute_reply": "2021-08-05T13:13:15.884106Z",
     "shell.execute_reply.started": "2021-08-05T13:13:15.876949Z"
    },
    "papermill": {
     "duration": null,
     "end_time": null,
     "exception": null,
     "start_time": null,
     "status": "pending"
    },
    "tags": []
   },
   "outputs": [],
   "source": [
    "# Check your answer (Run this code cell to receive credit!)\n",
    "q4.solution()"
   ]
  },
  {
   "cell_type": "markdown",
   "id": "bf6e30ee",
   "metadata": {
    "papermill": {
     "duration": null,
     "end_time": null,
     "exception": null,
     "start_time": null,
     "status": "pending"
    },
    "tags": []
   },
   "source": [
    "# Keep Going\n",
    "\n",
    "Many programmers report that dictionaries are their favorite data structure. You'll get to **[learn about them](https://www.kaggle.com/colinmorris/strings-and-dictionaries)** (as well as strings) in the next lesson."
   ]
  },
  {
   "cell_type": "markdown",
   "id": "8cf38569",
   "metadata": {
    "papermill": {
     "duration": null,
     "end_time": null,
     "exception": null,
     "start_time": null,
     "status": "pending"
    },
    "tags": []
   },
   "source": [
    "---\n",
    "\n",
    "\n",
    "\n",
    "\n",
    "*Have questions or comments? Visit the [Learn Discussion forum](https://www.kaggle.com/learn-forum/161283) to chat with other Learners.*"
   ]
  }
 ],
 "metadata": {
  "kernelspec": {
   "display_name": "Python 3",
   "language": "python",
   "name": "python3"
  },
  "language_info": {
   "codemirror_mode": {
    "name": "ipython",
    "version": 3
   },
   "file_extension": ".py",
   "mimetype": "text/x-python",
   "name": "python",
   "nbconvert_exporter": "python",
   "pygments_lexer": "ipython3",
   "version": "3.7.10"
  },
  "papermill": {
   "default_parameters": {},
   "duration": 9.721128,
   "end_time": "2021-08-05T13:23:18.876387",
   "environment_variables": {},
   "exception": true,
   "input_path": "__notebook__.ipynb",
   "output_path": "__notebook__.ipynb",
   "parameters": {},
   "start_time": "2021-08-05T13:23:09.155259",
   "version": "2.3.3"
  }
 },
 "nbformat": 4,
 "nbformat_minor": 5
}
