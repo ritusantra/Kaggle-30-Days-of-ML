{
 "cells": [
  {
   "cell_type": "markdown",
   "id": "179e951f",
   "metadata": {
    "papermill": {
     "duration": 0.024092,
     "end_time": "2021-08-05T05:45:03.474648",
     "exception": false,
     "start_time": "2021-08-05T05:45:03.450556",
     "status": "completed"
    },
    "tags": []
   },
   "source": [
    "**This notebook is an exercise in the [Python](https://www.kaggle.com/learn/python) course.  You can reference the tutorial at [this link](https://www.kaggle.com/colinmorris/booleans-and-conditionals).**\n",
    "\n",
    "---\n"
   ]
  },
  {
   "cell_type": "markdown",
   "id": "f3a00671",
   "metadata": {
    "papermill": {
     "duration": 0.026996,
     "end_time": "2021-08-05T05:45:03.524865",
     "exception": false,
     "start_time": "2021-08-05T05:45:03.497869",
     "status": "completed"
    },
    "tags": []
   },
   "source": [
    "In this exercise, you'll put to work what you have learned about booleans and conditionals.\n",
    "\n",
    "To get started, **run the setup code below** before writing your own code (and if you leave this notebook and come back later, don't forget to run the setup code again)."
   ]
  },
  {
   "cell_type": "code",
   "execution_count": 1,
   "id": "f6ff1924",
   "metadata": {
    "execution": {
     "iopub.execute_input": "2021-08-05T05:45:03.600708Z",
     "iopub.status.busy": "2021-08-05T05:45:03.597125Z",
     "iopub.status.idle": "2021-08-05T05:45:03.774386Z",
     "shell.execute_reply": "2021-08-05T05:45:03.773568Z",
     "shell.execute_reply.started": "2021-08-05T04:58:02.778496Z"
    },
    "papermill": {
     "duration": 0.218409,
     "end_time": "2021-08-05T05:45:03.774620",
     "exception": false,
     "start_time": "2021-08-05T05:45:03.556211",
     "status": "completed"
    },
    "tags": []
   },
   "outputs": [
    {
     "name": "stdout",
     "output_type": "stream",
     "text": [
      "Setup complete.\n"
     ]
    }
   ],
   "source": [
    "from learntools.core import binder; binder.bind(globals())\n",
    "from learntools.python.ex3 import *\n",
    "print('Setup complete.')"
   ]
  },
  {
   "cell_type": "markdown",
   "id": "f20ce6de",
   "metadata": {
    "papermill": {
     "duration": 0.024538,
     "end_time": "2021-08-05T05:45:03.825069",
     "exception": false,
     "start_time": "2021-08-05T05:45:03.800531",
     "status": "completed"
    },
    "tags": []
   },
   "source": [
    "# 1.\n",
    "\n",
    "Many programming languages have [`sign`](https://en.wikipedia.org/wiki/Sign_function) available as a built-in function. Python doesn't, but we can define our own!\n",
    "\n",
    "In the cell below, define a function called `sign` which takes a numerical argument and returns -1 if it's negative, 1 if it's positive, and 0 if it's 0."
   ]
  },
  {
   "cell_type": "code",
   "execution_count": 2,
   "id": "e6474225",
   "metadata": {
    "execution": {
     "iopub.execute_input": "2021-08-05T05:45:03.890195Z",
     "iopub.status.busy": "2021-08-05T05:45:03.889506Z",
     "iopub.status.idle": "2021-08-05T05:45:03.897708Z",
     "shell.execute_reply": "2021-08-05T05:45:03.897002Z",
     "shell.execute_reply.started": "2021-08-05T05:00:34.529146Z"
    },
    "papermill": {
     "duration": 0.043536,
     "end_time": "2021-08-05T05:45:03.897902",
     "exception": false,
     "start_time": "2021-08-05T05:45:03.854366",
     "status": "completed"
    },
    "tags": []
   },
   "outputs": [
    {
     "data": {
      "application/javascript": [
       "parent.postMessage({\"jupyterEvent\": \"custom.exercise_interaction\", \"data\": {\"outcomeType\": 1, \"valueTowardsCompletion\": 0.2, \"interactionType\": 1, \"questionType\": 2, \"questionId\": \"1_SignFunctionProblem\", \"learnToolsVersion\": \"0.3.4\", \"failureMessage\": \"\", \"exceptionClass\": \"\", \"trace\": \"\"}}, \"*\")"
      ],
      "text/plain": [
       "<IPython.core.display.Javascript object>"
      ]
     },
     "metadata": {},
     "output_type": "display_data"
    },
    {
     "data": {
      "text/markdown": [
       "<span style=\"color:#33cc33\">Correct</span>"
      ],
      "text/plain": [
       "Correct"
      ]
     },
     "metadata": {},
     "output_type": "display_data"
    }
   ],
   "source": [
    "# Your code goes here. Define a function called 'sign'\n",
    "def sign(n):\n",
    "    if n<0:\n",
    "        return -1\n",
    "    elif n>0:\n",
    "        return 1\n",
    "    else:\n",
    "        return 0\n",
    "    \n",
    "# Check your answer\n",
    "q1.check()"
   ]
  },
  {
   "cell_type": "code",
   "execution_count": 3,
   "id": "8193e766",
   "metadata": {
    "execution": {
     "iopub.execute_input": "2021-08-05T05:45:03.957938Z",
     "iopub.status.busy": "2021-08-05T05:45:03.956972Z",
     "iopub.status.idle": "2021-08-05T05:45:03.960624Z",
     "shell.execute_reply": "2021-08-05T05:45:03.960093Z",
     "shell.execute_reply.started": "2021-08-05T05:00:40.070228Z"
    },
    "papermill": {
     "duration": 0.03591,
     "end_time": "2021-08-05T05:45:03.960789",
     "exception": false,
     "start_time": "2021-08-05T05:45:03.924879",
     "status": "completed"
    },
    "tags": []
   },
   "outputs": [],
   "source": [
    "#q1.solution()"
   ]
  },
  {
   "cell_type": "markdown",
   "id": "0d1fa962",
   "metadata": {
    "papermill": {
     "duration": 0.034199,
     "end_time": "2021-08-05T05:45:04.025433",
     "exception": false,
     "start_time": "2021-08-05T05:45:03.991234",
     "status": "completed"
    },
    "tags": []
   },
   "source": [
    "# 2.\n",
    "\n",
    "We've decided to add \"logging\" to our `to_smash` function from the previous exercise."
   ]
  },
  {
   "cell_type": "code",
   "execution_count": 4,
   "id": "e24c852c",
   "metadata": {
    "execution": {
     "iopub.execute_input": "2021-08-05T05:45:04.097952Z",
     "iopub.status.busy": "2021-08-05T05:45:04.096757Z",
     "iopub.status.idle": "2021-08-05T05:45:04.104061Z",
     "shell.execute_reply": "2021-08-05T05:45:04.104564Z",
     "shell.execute_reply.started": "2021-08-05T05:01:05.141854Z"
    },
    "papermill": {
     "duration": 0.041759,
     "end_time": "2021-08-05T05:45:04.104775",
     "exception": false,
     "start_time": "2021-08-05T05:45:04.063016",
     "status": "completed"
    },
    "tags": []
   },
   "outputs": [
    {
     "name": "stdout",
     "output_type": "stream",
     "text": [
      "Splitting 91 candies\n"
     ]
    },
    {
     "data": {
      "text/plain": [
       "1"
      ]
     },
     "execution_count": 4,
     "metadata": {},
     "output_type": "execute_result"
    }
   ],
   "source": [
    "def to_smash(total_candies):\n",
    "    \"\"\"Return the number of leftover candies that must be smashed after distributing\n",
    "    the given number of candies evenly between 3 friends.\n",
    "    \n",
    "    >>> to_smash(91)\n",
    "    1\n",
    "    \"\"\"\n",
    "    print(\"Splitting\", total_candies, \"candies\")\n",
    "    return total_candies % 3\n",
    "\n",
    "to_smash(91)"
   ]
  },
  {
   "cell_type": "markdown",
   "id": "5186639b",
   "metadata": {
    "papermill": {
     "duration": 0.027065,
     "end_time": "2021-08-05T05:45:04.166524",
     "exception": false,
     "start_time": "2021-08-05T05:45:04.139459",
     "status": "completed"
    },
    "tags": []
   },
   "source": [
    "What happens if we call it with `total_candies = 1`?"
   ]
  },
  {
   "cell_type": "code",
   "execution_count": 5,
   "id": "daed6805",
   "metadata": {
    "execution": {
     "iopub.execute_input": "2021-08-05T05:45:04.222514Z",
     "iopub.status.busy": "2021-08-05T05:45:04.221610Z",
     "iopub.status.idle": "2021-08-05T05:45:04.226177Z",
     "shell.execute_reply": "2021-08-05T05:45:04.227067Z",
     "shell.execute_reply.started": "2021-08-05T05:03:04.124816Z"
    },
    "papermill": {
     "duration": 0.035684,
     "end_time": "2021-08-05T05:45:04.227323",
     "exception": false,
     "start_time": "2021-08-05T05:45:04.191639",
     "status": "completed"
    },
    "tags": []
   },
   "outputs": [
    {
     "name": "stdout",
     "output_type": "stream",
     "text": [
      "Splitting 1 candies\n"
     ]
    },
    {
     "data": {
      "text/plain": [
       "1"
      ]
     },
     "execution_count": 5,
     "metadata": {},
     "output_type": "execute_result"
    }
   ],
   "source": [
    "to_smash(1)"
   ]
  },
  {
   "cell_type": "markdown",
   "id": "7633802a",
   "metadata": {
    "papermill": {
     "duration": 0.025238,
     "end_time": "2021-08-05T05:45:04.279480",
     "exception": false,
     "start_time": "2021-08-05T05:45:04.254242",
     "status": "completed"
    },
    "tags": []
   },
   "source": [
    "That isn't great grammar!\n",
    "\n",
    "Modify the definition in the cell below to correct the grammar of our print statement. (If there's only one candy, we should use the singular \"candy\" instead of the plural \"candies\")"
   ]
  },
  {
   "cell_type": "code",
   "execution_count": 6,
   "id": "3e172ef4",
   "metadata": {
    "execution": {
     "iopub.execute_input": "2021-08-05T05:45:04.338444Z",
     "iopub.status.busy": "2021-08-05T05:45:04.337437Z",
     "iopub.status.idle": "2021-08-05T05:45:04.346258Z",
     "shell.execute_reply": "2021-08-05T05:45:04.345668Z",
     "shell.execute_reply.started": "2021-08-05T05:04:09.030176Z"
    },
    "papermill": {
     "duration": 0.039241,
     "end_time": "2021-08-05T05:45:04.346438",
     "exception": false,
     "start_time": "2021-08-05T05:45:04.307197",
     "status": "completed"
    },
    "tags": []
   },
   "outputs": [
    {
     "name": "stdout",
     "output_type": "stream",
     "text": [
      "Splitting 91 candies\n",
      "Splitting 1 candy\n"
     ]
    },
    {
     "data": {
      "text/plain": [
       "1"
      ]
     },
     "execution_count": 6,
     "metadata": {},
     "output_type": "execute_result"
    }
   ],
   "source": [
    "def to_smash(total_candies):\n",
    "    \"\"\"Return the number of leftover candies that must be smashed after distributing\n",
    "    the given number of candies evenly between 3 friends.\n",
    "    \n",
    "    >>> to_smash(91)\n",
    "    1\n",
    "    \"\"\"\n",
    "    if total_candies == 1:\n",
    "        print(\"Splitting\", total_candies, \"candy\")\n",
    "    else:\n",
    "        print(\"Splitting\", total_candies, \"candies\")\n",
    "    return total_candies % 3\n",
    "\n",
    "to_smash(91)\n",
    "to_smash(1)"
   ]
  },
  {
   "cell_type": "markdown",
   "id": "44aef3e3",
   "metadata": {
    "papermill": {
     "duration": 0.026544,
     "end_time": "2021-08-05T05:45:04.400414",
     "exception": false,
     "start_time": "2021-08-05T05:45:04.373870",
     "status": "completed"
    },
    "tags": []
   },
   "source": [
    "To get credit for completing this problem, and to see the official answer, run the code cell below."
   ]
  },
  {
   "cell_type": "code",
   "execution_count": 7,
   "id": "3991cd42",
   "metadata": {
    "execution": {
     "iopub.execute_input": "2021-08-05T05:45:04.456568Z",
     "iopub.status.busy": "2021-08-05T05:45:04.455231Z",
     "iopub.status.idle": "2021-08-05T05:45:04.463642Z",
     "shell.execute_reply": "2021-08-05T05:45:04.462995Z",
     "shell.execute_reply.started": "2021-08-05T05:04:34.081091Z"
    },
    "papermill": {
     "duration": 0.038064,
     "end_time": "2021-08-05T05:45:04.463802",
     "exception": false,
     "start_time": "2021-08-05T05:45:04.425738",
     "status": "completed"
    },
    "tags": []
   },
   "outputs": [
    {
     "data": {
      "application/javascript": [
       "parent.postMessage({\"jupyterEvent\": \"custom.exercise_interaction\", \"data\": {\"interactionType\": 3, \"questionType\": 4, \"questionId\": \"2_PluralizationProblem\", \"learnToolsVersion\": \"0.3.4\", \"valueTowardsCompletion\": 0.0, \"failureMessage\": \"\", \"exceptionClass\": \"\", \"trace\": \"\", \"outcomeType\": 4}}, \"*\")"
      ],
      "text/plain": [
       "<IPython.core.display.Javascript object>"
      ]
     },
     "metadata": {},
     "output_type": "display_data"
    },
    {
     "data": {
      "text/markdown": [
       "<span style=\"color:#33cc99\">Solution:</span> A straightforward (and totally fine) solution is to replace the original `print` call with:\n",
       "\n",
       "```python\n",
       "if total_candies == 1:\n",
       "    print(\"Splitting 1 candy\")\n",
       "else:\n",
       "    print(\"Splitting\", total_candies, \"candies\")\n",
       "```\n",
       "\n",
       "Here's a slightly more succinct solution using a conditional expression:\n",
       "\n",
       "```python\n",
       "print(\"Splitting\", total_candies, \"candy\" if total_candies == 1 else \"candies\")\n",
       "```"
      ],
      "text/plain": [
       "Solution: A straightforward (and totally fine) solution is to replace the original `print` call with:\n",
       "\n",
       "```python\n",
       "if total_candies == 1:\n",
       "    print(\"Splitting 1 candy\")\n",
       "else:\n",
       "    print(\"Splitting\", total_candies, \"candies\")\n",
       "```\n",
       "\n",
       "Here's a slightly more succinct solution using a conditional expression:\n",
       "\n",
       "```python\n",
       "print(\"Splitting\", total_candies, \"candy\" if total_candies == 1 else \"candies\")\n",
       "```"
      ]
     },
     "metadata": {},
     "output_type": "display_data"
    }
   ],
   "source": [
    "# Check your answer (Run this code cell to receive credit!)\n",
    "q2.solution()"
   ]
  },
  {
   "cell_type": "markdown",
   "id": "1152767f",
   "metadata": {
    "papermill": {
     "duration": 0.039029,
     "end_time": "2021-08-05T05:45:04.529842",
     "exception": false,
     "start_time": "2021-08-05T05:45:04.490813",
     "status": "completed"
    },
    "tags": []
   },
   "source": [
    "# 3. <span title=\"A bit spicy\" style=\"color: darkgreen \">🌶️</span>\n",
    "\n",
    "In the tutorial, we talked about deciding whether we're prepared for the weather. I said that I'm safe from today's weather if...\n",
    "- I have an umbrella...\n",
    "- or if the rain isn't too heavy and I have a hood...\n",
    "- otherwise, I'm still fine unless it's raining *and* it's a workday\n",
    "\n",
    "The function below uses our first attempt at turning this logic into a Python expression. I claimed that there was a bug in that code. Can you find it?\n",
    "\n",
    "To prove that `prepared_for_weather` is buggy, come up with a set of inputs where either:\n",
    "- the function returns `False` (but should have returned `True`), or\n",
    "- the function returned `True` (but should have returned `False`).\n",
    "\n",
    "To get credit for completing this question, your code should return a <font color='#33cc33'>Correct</font> result."
   ]
  },
  {
   "cell_type": "code",
   "execution_count": 8,
   "id": "4987f1f3",
   "metadata": {
    "execution": {
     "iopub.execute_input": "2021-08-05T05:45:04.599408Z",
     "iopub.status.busy": "2021-08-05T05:45:04.598710Z",
     "iopub.status.idle": "2021-08-05T05:45:04.605878Z",
     "shell.execute_reply": "2021-08-05T05:45:04.605242Z",
     "shell.execute_reply.started": "2021-08-05T05:09:24.951168Z"
    },
    "papermill": {
     "duration": 0.047215,
     "end_time": "2021-08-05T05:45:04.606018",
     "exception": false,
     "start_time": "2021-08-05T05:45:04.558803",
     "status": "completed"
    },
    "tags": []
   },
   "outputs": [
    {
     "name": "stdout",
     "output_type": "stream",
     "text": [
      "False\n"
     ]
    },
    {
     "data": {
      "application/javascript": [
       "parent.postMessage({\"jupyterEvent\": \"custom.exercise_interaction\", \"data\": {\"outcomeType\": 1, \"valueTowardsCompletion\": 0.2, \"interactionType\": 1, \"questionType\": 1, \"questionId\": \"3_WeatherDebug\", \"learnToolsVersion\": \"0.3.4\", \"failureMessage\": \"\", \"exceptionClass\": \"\", \"trace\": \"\"}}, \"*\")"
      ],
      "text/plain": [
       "<IPython.core.display.Javascript object>"
      ]
     },
     "metadata": {},
     "output_type": "display_data"
    },
    {
     "data": {
      "text/markdown": [
       "<span style=\"color:#33cc33\">Correct:</span> \n",
       "\n",
       "One example of a failing test case is:\n",
       "\n",
       "```python\n",
       "have_umbrella = False\n",
       "rain_level = 0.0\n",
       "have_hood = False\n",
       "is_workday = False\n",
       "```\n",
       "\n",
       "Clearly we're prepared for the weather in this case. It's not raining. Not only that, it's not a workday, so we don't even need to leave the house! But our function will return False on these inputs.\n",
       "\n",
       "The key problem is that Python implictly parenthesizes the last part as:\n",
       "\n",
       "```python\n",
       "(not (rain_level > 0)) and is_workday\n",
       "```\n",
       "\n",
       "Whereas what we were trying to express would look more like:\n",
       "\n",
       "```python\n",
       "not (rain_level > 0 and is_workday)\n",
       "```\n"
      ],
      "text/plain": [
       "Correct: \n",
       "\n",
       "One example of a failing test case is:\n",
       "\n",
       "```python\n",
       "have_umbrella = False\n",
       "rain_level = 0.0\n",
       "have_hood = False\n",
       "is_workday = False\n",
       "```\n",
       "\n",
       "Clearly we're prepared for the weather in this case. It's not raining. Not only that, it's not a workday, so we don't even need to leave the house! But our function will return False on these inputs.\n",
       "\n",
       "The key problem is that Python implictly parenthesizes the last part as:\n",
       "\n",
       "```python\n",
       "(not (rain_level > 0)) and is_workday\n",
       "```\n",
       "\n",
       "Whereas what we were trying to express would look more like:\n",
       "\n",
       "```python\n",
       "not (rain_level > 0 and is_workday)\n",
       "```"
      ]
     },
     "metadata": {},
     "output_type": "display_data"
    }
   ],
   "source": [
    "def prepared_for_weather(have_umbrella, rain_level, have_hood, is_workday):\n",
    "    # Don't change this code. Our goal is just to find the bug, not fix it!\n",
    "    return have_umbrella or rain_level < 5 and have_hood or not rain_level > 0 and is_workday\n",
    "\n",
    "# Change the values of these inputs so they represent a case where prepared_for_weather\n",
    "# returns the wrong answer.\n",
    "have_umbrella = False\n",
    "rain_level = 0.0\n",
    "have_hood = False\n",
    "is_workday = False\n",
    "\n",
    "# Check what the function returns given the current values of the variables above\n",
    "actual = prepared_for_weather(have_umbrella, rain_level, have_hood, is_workday)\n",
    "print(actual)\n",
    "\n",
    "# Check your answer\n",
    "q3.check()"
   ]
  },
  {
   "cell_type": "code",
   "execution_count": 9,
   "id": "b1a486fa",
   "metadata": {
    "execution": {
     "iopub.execute_input": "2021-08-05T05:45:04.671300Z",
     "iopub.status.busy": "2021-08-05T05:45:04.670376Z",
     "iopub.status.idle": "2021-08-05T05:45:04.672679Z",
     "shell.execute_reply": "2021-08-05T05:45:04.673075Z",
     "shell.execute_reply.started": "2021-08-05T05:08:04.672343Z"
    },
    "papermill": {
     "duration": 0.036,
     "end_time": "2021-08-05T05:45:04.673238",
     "exception": false,
     "start_time": "2021-08-05T05:45:04.637238",
     "status": "completed"
    },
    "tags": []
   },
   "outputs": [],
   "source": [
    "#q3.hint()\n",
    "#q3.solution()"
   ]
  },
  {
   "cell_type": "markdown",
   "id": "49aa0187",
   "metadata": {
    "papermill": {
     "duration": 0.027044,
     "end_time": "2021-08-05T05:45:04.727242",
     "exception": false,
     "start_time": "2021-08-05T05:45:04.700198",
     "status": "completed"
    },
    "tags": []
   },
   "source": [
    "# 4.\n",
    "\n",
    "The function `is_negative` below is implemented correctly - it returns True if the given number is negative and False otherwise.\n",
    "\n",
    "However, it's more verbose than it needs to be. We can actually reduce the number of lines of code in this function by *75%* while keeping the same behaviour. \n",
    "\n",
    "See if you can come up with an equivalent body that uses just **one line** of code, and put it in the function `concise_is_negative`. (HINT: you don't even need Python's ternary syntax)"
   ]
  },
  {
   "cell_type": "code",
   "execution_count": 10,
   "id": "737c7689",
   "metadata": {
    "execution": {
     "iopub.execute_input": "2021-08-05T05:45:04.788049Z",
     "iopub.status.busy": "2021-08-05T05:45:04.787005Z",
     "iopub.status.idle": "2021-08-05T05:45:04.797041Z",
     "shell.execute_reply": "2021-08-05T05:45:04.797559Z",
     "shell.execute_reply.started": "2021-08-05T05:12:07.920909Z"
    },
    "papermill": {
     "duration": 0.041776,
     "end_time": "2021-08-05T05:45:04.797808",
     "exception": false,
     "start_time": "2021-08-05T05:45:04.756032",
     "status": "completed"
    },
    "tags": []
   },
   "outputs": [
    {
     "data": {
      "application/javascript": [
       "parent.postMessage({\"jupyterEvent\": \"custom.exercise_interaction\", \"data\": {\"outcomeType\": 1, \"valueTowardsCompletion\": 0.2, \"interactionType\": 1, \"questionType\": 2, \"questionId\": \"4_ConciseIsNegative\", \"learnToolsVersion\": \"0.3.4\", \"failureMessage\": \"\", \"exceptionClass\": \"\", \"trace\": \"\"}}, \"*\")"
      ],
      "text/plain": [
       "<IPython.core.display.Javascript object>"
      ]
     },
     "metadata": {},
     "output_type": "display_data"
    },
    {
     "data": {
      "text/markdown": [
       "<span style=\"color:#33cc33\">Correct</span>"
      ],
      "text/plain": [
       "Correct"
      ]
     },
     "metadata": {},
     "output_type": "display_data"
    }
   ],
   "source": [
    "def is_negative(number):\n",
    "    if number < 0:\n",
    "        return True\n",
    "    else:\n",
    "        return False\n",
    "\n",
    "def concise_is_negative(number):\n",
    "    pass # Your code goes here (try to keep it to one line!)\n",
    "    return number <  0\n",
    "\n",
    "# Check your answer\n",
    "q4.check()"
   ]
  },
  {
   "cell_type": "code",
   "execution_count": 11,
   "id": "596f62a9",
   "metadata": {
    "execution": {
     "iopub.execute_input": "2021-08-05T05:45:04.860385Z",
     "iopub.status.busy": "2021-08-05T05:45:04.859476Z",
     "iopub.status.idle": "2021-08-05T05:45:04.863295Z",
     "shell.execute_reply": "2021-08-05T05:45:04.863790Z",
     "shell.execute_reply.started": "2021-08-05T05:12:10.795712Z"
    },
    "papermill": {
     "duration": 0.036573,
     "end_time": "2021-08-05T05:45:04.863984",
     "exception": false,
     "start_time": "2021-08-05T05:45:04.827411",
     "status": "completed"
    },
    "tags": []
   },
   "outputs": [],
   "source": [
    "#q4.hint()\n",
    "#q4.solution()"
   ]
  },
  {
   "cell_type": "markdown",
   "id": "a8e454e4",
   "metadata": {
    "papermill": {
     "duration": 0.027727,
     "end_time": "2021-08-05T05:45:04.921548",
     "exception": false,
     "start_time": "2021-08-05T05:45:04.893821",
     "status": "completed"
    },
    "tags": []
   },
   "source": [
    "# 5a.\n",
    "\n",
    "The boolean variables `ketchup`, `mustard` and `onion` represent whether a customer wants a particular topping on their hot dog. We want to implement a number of boolean functions that correspond to some yes-or-no questions about the customer's order. For example:"
   ]
  },
  {
   "cell_type": "code",
   "execution_count": 12,
   "id": "36b52003",
   "metadata": {
    "execution": {
     "iopub.execute_input": "2021-08-05T05:45:04.986510Z",
     "iopub.status.busy": "2021-08-05T05:45:04.985802Z",
     "iopub.status.idle": "2021-08-05T05:45:04.990037Z",
     "shell.execute_reply": "2021-08-05T05:45:04.989456Z",
     "shell.execute_reply.started": "2021-08-05T05:31:28.266943Z"
    },
    "papermill": {
     "duration": 0.039166,
     "end_time": "2021-08-05T05:45:04.990193",
     "exception": false,
     "start_time": "2021-08-05T05:45:04.951027",
     "status": "completed"
    },
    "tags": []
   },
   "outputs": [],
   "source": [
    "def onionless(ketchup, mustard, onion):\n",
    "    \"\"\"Return whether the customer doesn't want onions.\n",
    "    \"\"\"\n",
    "\n",
    "    return not onion"
   ]
  },
  {
   "cell_type": "code",
   "execution_count": 13,
   "id": "593fd886",
   "metadata": {
    "execution": {
     "iopub.execute_input": "2021-08-05T05:45:05.054895Z",
     "iopub.status.busy": "2021-08-05T05:45:05.054221Z",
     "iopub.status.idle": "2021-08-05T05:45:05.059394Z",
     "shell.execute_reply": "2021-08-05T05:45:05.059882Z",
     "shell.execute_reply.started": "2021-08-05T05:14:32.740315Z"
    },
    "papermill": {
     "duration": 0.040663,
     "end_time": "2021-08-05T05:45:05.060227",
     "exception": false,
     "start_time": "2021-08-05T05:45:05.019564",
     "status": "completed"
    },
    "tags": []
   },
   "outputs": [
    {
     "data": {
      "application/javascript": [
       "parent.postMessage({\"jupyterEvent\": \"custom.exercise_interaction\", \"data\": {\"outcomeType\": 1, \"valueTowardsCompletion\": 0.2, \"interactionType\": 1, \"questionType\": 2, \"questionId\": \"5.1_AllToppings\", \"learnToolsVersion\": \"0.3.4\", \"failureMessage\": \"\", \"exceptionClass\": \"\", \"trace\": \"\"}}, \"*\")"
      ],
      "text/plain": [
       "<IPython.core.display.Javascript object>"
      ]
     },
     "metadata": {},
     "output_type": "display_data"
    },
    {
     "data": {
      "text/markdown": [
       "<span style=\"color:#33cc33\">Correct</span>"
      ],
      "text/plain": [
       "Correct"
      ]
     },
     "metadata": {},
     "output_type": "display_data"
    }
   ],
   "source": [
    "def wants_all_toppings(ketchup, mustard, onion):\n",
    "    \"\"\"Return whether the customer wants \"the works\" (all 3 toppings)\n",
    "    \"\"\"\n",
    "    pass\n",
    "    return ketchup and mustard and onion\n",
    "\n",
    "# Check your answer\n",
    "q5.a.check()"
   ]
  },
  {
   "cell_type": "code",
   "execution_count": 14,
   "id": "87d8677c",
   "metadata": {
    "execution": {
     "iopub.execute_input": "2021-08-05T05:45:05.122315Z",
     "iopub.status.busy": "2021-08-05T05:45:05.121684Z",
     "iopub.status.idle": "2021-08-05T05:45:05.125864Z",
     "shell.execute_reply": "2021-08-05T05:45:05.125307Z",
     "shell.execute_reply.started": "2021-08-05T05:13:47.096112Z"
    },
    "papermill": {
     "duration": 0.036455,
     "end_time": "2021-08-05T05:45:05.126020",
     "exception": false,
     "start_time": "2021-08-05T05:45:05.089565",
     "status": "completed"
    },
    "tags": []
   },
   "outputs": [],
   "source": [
    "#q5.a.hint()\n",
    "#q5.a.solution()"
   ]
  },
  {
   "cell_type": "markdown",
   "id": "904e975b",
   "metadata": {
    "papermill": {
     "duration": 0.032497,
     "end_time": "2021-08-05T05:45:05.188099",
     "exception": false,
     "start_time": "2021-08-05T05:45:05.155602",
     "status": "completed"
    },
    "tags": []
   },
   "source": [
    "# 5b.\n",
    "\n",
    "For the next function, fill in the body to match the English description in the docstring. "
   ]
  },
  {
   "cell_type": "code",
   "execution_count": 15,
   "id": "4ad4c961",
   "metadata": {
    "execution": {
     "iopub.execute_input": "2021-08-05T05:45:05.257262Z",
     "iopub.status.busy": "2021-08-05T05:45:05.255914Z",
     "iopub.status.idle": "2021-08-05T05:45:05.262112Z",
     "shell.execute_reply": "2021-08-05T05:45:05.262522Z",
     "shell.execute_reply.started": "2021-08-05T05:16:01.890297Z"
    },
    "papermill": {
     "duration": 0.044747,
     "end_time": "2021-08-05T05:45:05.262706",
     "exception": false,
     "start_time": "2021-08-05T05:45:05.217959",
     "status": "completed"
    },
    "tags": []
   },
   "outputs": [
    {
     "data": {
      "application/javascript": [
       "parent.postMessage({\"jupyterEvent\": \"custom.exercise_interaction\", \"data\": {\"outcomeType\": 1, \"valueTowardsCompletion\": 0.2, \"interactionType\": 1, \"questionType\": 2, \"questionId\": \"5.2_PlainDog\", \"learnToolsVersion\": \"0.3.4\", \"failureMessage\": \"\", \"exceptionClass\": \"\", \"trace\": \"\"}}, \"*\")"
      ],
      "text/plain": [
       "<IPython.core.display.Javascript object>"
      ]
     },
     "metadata": {},
     "output_type": "display_data"
    },
    {
     "data": {
      "text/markdown": [
       "<span style=\"color:#33cc33\">Correct:</span> \n",
       "\n",
       "One solution looks like:\n",
       "```python\n",
       "return not ketchup and not mustard and not onion\n",
       "```\n",
       "\n",
       "We can also [\"factor out\" the nots](https://en.wikipedia.org/wiki/De_Morgan%27s_laws) to get:\n",
       "\n",
       "```python\n",
       "return not (ketchup or mustard or onion)\n",
       "```"
      ],
      "text/plain": [
       "Correct: \n",
       "\n",
       "One solution looks like:\n",
       "```python\n",
       "return not ketchup and not mustard and not onion\n",
       "```\n",
       "\n",
       "We can also [\"factor out\" the nots](https://en.wikipedia.org/wiki/De_Morgan%27s_laws) to get:\n",
       "\n",
       "```python\n",
       "return not (ketchup or mustard or onion)\n",
       "```"
      ]
     },
     "metadata": {},
     "output_type": "display_data"
    }
   ],
   "source": [
    "def wants_plain_hotdog(ketchup, mustard, onion):\n",
    "    \"\"\"Return whether the customer wants a plain hot dog with no toppings.\n",
    "    \"\"\"\n",
    "    pass\n",
    "    return not ketchup and not mustard and not onion\n",
    "# Check your answer\n",
    "q5.b.check()"
   ]
  },
  {
   "cell_type": "code",
   "execution_count": 16,
   "id": "0fcc58c2",
   "metadata": {
    "execution": {
     "iopub.execute_input": "2021-08-05T05:45:05.328539Z",
     "iopub.status.busy": "2021-08-05T05:45:05.327583Z",
     "iopub.status.idle": "2021-08-05T05:45:05.329782Z",
     "shell.execute_reply": "2021-08-05T05:45:05.330211Z"
    },
    "papermill": {
     "duration": 0.037757,
     "end_time": "2021-08-05T05:45:05.330437",
     "exception": false,
     "start_time": "2021-08-05T05:45:05.292680",
     "status": "completed"
    },
    "tags": []
   },
   "outputs": [],
   "source": [
    "#q5.b.hint()\n",
    "#q5.b.solution()"
   ]
  },
  {
   "cell_type": "markdown",
   "id": "8ca62026",
   "metadata": {
    "papermill": {
     "duration": 0.031484,
     "end_time": "2021-08-05T05:45:05.392956",
     "exception": false,
     "start_time": "2021-08-05T05:45:05.361472",
     "status": "completed"
    },
    "tags": []
   },
   "source": [
    "# 5c.\n",
    "\n",
    "You know what to do: for the next function, fill in the body to match the English description in the docstring."
   ]
  },
  {
   "cell_type": "code",
   "execution_count": 17,
   "id": "99d1e35b",
   "metadata": {
    "execution": {
     "iopub.execute_input": "2021-08-05T05:45:05.459666Z",
     "iopub.status.busy": "2021-08-05T05:45:05.458960Z",
     "iopub.status.idle": "2021-08-05T05:45:05.466430Z",
     "shell.execute_reply": "2021-08-05T05:45:05.466914Z",
     "shell.execute_reply.started": "2021-08-05T05:18:45.282720Z"
    },
    "papermill": {
     "duration": 0.043398,
     "end_time": "2021-08-05T05:45:05.467094",
     "exception": false,
     "start_time": "2021-08-05T05:45:05.423696",
     "status": "completed"
    },
    "tags": []
   },
   "outputs": [
    {
     "data": {
      "application/javascript": [
       "parent.postMessage({\"jupyterEvent\": \"custom.exercise_interaction\", \"data\": {\"outcomeType\": 1, \"valueTowardsCompletion\": 0.2, \"interactionType\": 1, \"questionType\": 2, \"questionId\": \"5.3_OneSauce\", \"learnToolsVersion\": \"0.3.4\", \"failureMessage\": \"\", \"exceptionClass\": \"\", \"trace\": \"\"}}, \"*\")"
      ],
      "text/plain": [
       "<IPython.core.display.Javascript object>"
      ]
     },
     "metadata": {},
     "output_type": "display_data"
    },
    {
     "data": {
      "text/markdown": [
       "<span style=\"color:#33cc33\">Correct</span>"
      ],
      "text/plain": [
       "Correct"
      ]
     },
     "metadata": {},
     "output_type": "display_data"
    }
   ],
   "source": [
    "def exactly_one_sauce(ketchup, mustard, onion):\n",
    "    \"\"\"Return whether the customer wants either ketchup or mustard, but not both.\n",
    "    (You may be familiar with this operation under the name \"exclusive or\")\n",
    "    \"\"\"\n",
    "    pass\n",
    "    return (not ketchup and mustard) or (not mustard and ketchup)\n",
    "\n",
    "# Check your answer\n",
    "q5.c.check()"
   ]
  },
  {
   "cell_type": "code",
   "execution_count": 18,
   "id": "3909ee72",
   "metadata": {
    "execution": {
     "iopub.execute_input": "2021-08-05T05:45:05.545183Z",
     "iopub.status.busy": "2021-08-05T05:45:05.544512Z",
     "iopub.status.idle": "2021-08-05T05:45:05.549820Z",
     "shell.execute_reply": "2021-08-05T05:45:05.550568Z",
     "shell.execute_reply.started": "2021-08-05T05:18:52.971445Z"
    },
    "papermill": {
     "duration": 0.051869,
     "end_time": "2021-08-05T05:45:05.550816",
     "exception": false,
     "start_time": "2021-08-05T05:45:05.498947",
     "status": "completed"
    },
    "tags": []
   },
   "outputs": [],
   "source": [
    "#q5.c.hint()\n",
    "#q5.c.solution()"
   ]
  },
  {
   "cell_type": "markdown",
   "id": "93482555",
   "metadata": {
    "papermill": {
     "duration": 0.049195,
     "end_time": "2021-08-05T05:45:05.647082",
     "exception": false,
     "start_time": "2021-08-05T05:45:05.597887",
     "status": "completed"
    },
    "tags": []
   },
   "source": [
    "# 6. <span title=\"A bit spicy\" style=\"color: darkgreen \">🌶️</span>\n",
    "\n",
    "We’ve seen that calling `bool()` on an integer returns `False` if it’s equal to 0 and `True` otherwise. What happens if we call `int()` on a bool? Try it out in the notebook cell below.\n",
    "\n",
    "Can you take advantage of this to write a succinct function that corresponds to the English sentence \"does the customer want exactly one topping?\"?"
   ]
  },
  {
   "cell_type": "code",
   "execution_count": 19,
   "id": "1d2e5706",
   "metadata": {
    "execution": {
     "iopub.execute_input": "2021-08-05T05:45:05.742085Z",
     "iopub.status.busy": "2021-08-05T05:45:05.741373Z",
     "iopub.status.idle": "2021-08-05T05:45:05.749219Z",
     "shell.execute_reply": "2021-08-05T05:45:05.748276Z",
     "shell.execute_reply.started": "2021-08-05T05:23:21.509423Z"
    },
    "papermill": {
     "duration": 0.060228,
     "end_time": "2021-08-05T05:45:05.749464",
     "exception": false,
     "start_time": "2021-08-05T05:45:05.689236",
     "status": "completed"
    },
    "tags": []
   },
   "outputs": [
    {
     "data": {
      "application/javascript": [
       "parent.postMessage({\"jupyterEvent\": \"custom.exercise_interaction\", \"data\": {\"outcomeType\": 1, \"valueTowardsCompletion\": 0.2, \"interactionType\": 1, \"questionType\": 2, \"questionId\": \"6_OneTopping\", \"learnToolsVersion\": \"0.3.4\", \"failureMessage\": \"\", \"exceptionClass\": \"\", \"trace\": \"\"}}, \"*\")"
      ],
      "text/plain": [
       "<IPython.core.display.Javascript object>"
      ]
     },
     "metadata": {},
     "output_type": "display_data"
    },
    {
     "data": {
      "text/markdown": [
       "<span style=\"color:#33cc33\">Correct:</span> \n",
       "\n",
       "This condition would be pretty complicated to express using just `and`, `or` and `not`, but using boolean-to-integer conversion gives us this short solution:\n",
       "```python\n",
       "return (int(ketchup) + int(mustard) + int(onion)) == 1\n",
       "```\n",
       "\n",
       "Fun fact: we don't technically need to call `int` on the arguments. Just by doing addition with booleans, Python implicitly does the integer conversion. So we could also write...\n",
       "\n",
       "```python\n",
       "return (ketchup + mustard + onion) == 1\n",
       "```"
      ],
      "text/plain": [
       "Correct: \n",
       "\n",
       "This condition would be pretty complicated to express using just `and`, `or` and `not`, but using boolean-to-integer conversion gives us this short solution:\n",
       "```python\n",
       "return (int(ketchup) + int(mustard) + int(onion)) == 1\n",
       "```\n",
       "\n",
       "Fun fact: we don't technically need to call `int` on the arguments. Just by doing addition with booleans, Python implicitly does the integer conversion. So we could also write...\n",
       "\n",
       "```python\n",
       "return (ketchup + mustard + onion) == 1\n",
       "```"
      ]
     },
     "metadata": {},
     "output_type": "display_data"
    }
   ],
   "source": [
    "def exactly_one_topping(ketchup, mustard, onion):\n",
    "    \"\"\"Return whether the customer wants exactly one of the three available toppings\n",
    "    on their hot dog.\n",
    "    \"\"\"\n",
    "    pass\n",
    "    return (int(ketchup) + int(mustard) + int(onion)) == 1\n",
    "\n",
    "# Check your answer\n",
    "q6.check()"
   ]
  },
  {
   "cell_type": "code",
   "execution_count": 20,
   "id": "5de90fb5",
   "metadata": {
    "execution": {
     "iopub.execute_input": "2021-08-05T05:45:05.829940Z",
     "iopub.status.busy": "2021-08-05T05:45:05.828477Z",
     "iopub.status.idle": "2021-08-05T05:45:05.843465Z",
     "shell.execute_reply": "2021-08-05T05:45:05.844669Z",
     "shell.execute_reply.started": "2021-08-05T05:21:56.189567Z"
    },
    "papermill": {
     "duration": 0.058038,
     "end_time": "2021-08-05T05:45:05.845215",
     "exception": false,
     "start_time": "2021-08-05T05:45:05.787177",
     "status": "completed"
    },
    "tags": []
   },
   "outputs": [
    {
     "data": {
      "application/javascript": [
       "parent.postMessage({\"jupyterEvent\": \"custom.exercise_interaction\", \"data\": {\"interactionType\": 3, \"questionType\": 2, \"questionId\": \"6_OneTopping\", \"learnToolsVersion\": \"0.3.4\", \"valueTowardsCompletion\": 0.0, \"failureMessage\": \"\", \"exceptionClass\": \"\", \"trace\": \"\", \"outcomeType\": 4}}, \"*\")"
      ],
      "text/plain": [
       "<IPython.core.display.Javascript object>"
      ]
     },
     "metadata": {},
     "output_type": "display_data"
    },
    {
     "data": {
      "text/markdown": [
       "<span style=\"color:#33cc99\">Solution:</span> This condition would be pretty complicated to express using just `and`, `or` and `not`, but using boolean-to-integer conversion gives us this short solution:\n",
       "```python\n",
       "return (int(ketchup) + int(mustard) + int(onion)) == 1\n",
       "```\n",
       "\n",
       "Fun fact: we don't technically need to call `int` on the arguments. Just by doing addition with booleans, Python implicitly does the integer conversion. So we could also write...\n",
       "\n",
       "```python\n",
       "return (ketchup + mustard + onion) == 1\n",
       "```"
      ],
      "text/plain": [
       "Solution: This condition would be pretty complicated to express using just `and`, `or` and `not`, but using boolean-to-integer conversion gives us this short solution:\n",
       "```python\n",
       "return (int(ketchup) + int(mustard) + int(onion)) == 1\n",
       "```\n",
       "\n",
       "Fun fact: we don't technically need to call `int` on the arguments. Just by doing addition with booleans, Python implicitly does the integer conversion. So we could also write...\n",
       "\n",
       "```python\n",
       "return (ketchup + mustard + onion) == 1\n",
       "```"
      ]
     },
     "metadata": {},
     "output_type": "display_data"
    }
   ],
   "source": [
    "#q6.hint()\n",
    "q6.solution()"
   ]
  },
  {
   "cell_type": "markdown",
   "id": "e76600ee",
   "metadata": {
    "papermill": {
     "duration": 0.034363,
     "end_time": "2021-08-05T05:45:05.919752",
     "exception": false,
     "start_time": "2021-08-05T05:45:05.885389",
     "status": "completed"
    },
    "tags": []
   },
   "source": [
    "# 7. <span title=\"A bit spicy\" style=\"color: darkgreen \">🌶️</span> (Optional)\n",
    "\n",
    "In this problem we'll be working with a simplified version of [blackjack](https://en.wikipedia.org/wiki/Blackjack) (aka twenty-one). In this version there is one player (who you'll control) and a dealer. Play proceeds as follows:\n",
    "\n",
    "- The player is dealt two face-up cards. The dealer is dealt one face-up card.\n",
    "- The player may ask to be dealt another card ('hit') as many times as they wish. If the sum of their cards exceeds 21, they lose the round immediately.\n",
    "- The dealer then deals additional cards to himself until either:\n",
    "    - the sum of the dealer's cards exceeds 21, in which case the player wins the round\n",
    "    - the sum of the dealer's cards is greater than or equal to 17. If the player's total is greater than the dealer's, the player wins. Otherwise, the dealer wins (even in case of a tie).\n",
    "    \n",
    "When calculating the sum of cards, Jack, Queen, and King count for 10. Aces can count as 1 or 11 (when referring to a player's \"total\" above, we mean the largest total that can be made without exceeding 21. So e.g. A+8 = 19, A+8+8 = 17)\n",
    "\n",
    "For this problem, you'll write a function representing the player's decision-making strategy in this game. We've provided a very unintelligent implementation below:"
   ]
  },
  {
   "cell_type": "code",
   "execution_count": 21,
   "id": "c46c5b1f",
   "metadata": {
    "execution": {
     "iopub.execute_input": "2021-08-05T05:45:06.002645Z",
     "iopub.status.busy": "2021-08-05T05:45:06.001540Z",
     "iopub.status.idle": "2021-08-05T05:45:06.009810Z",
     "shell.execute_reply": "2021-08-05T05:45:06.008824Z",
     "shell.execute_reply.started": "2021-08-05T05:34:10.721510Z"
    },
    "papermill": {
     "duration": 0.057013,
     "end_time": "2021-08-05T05:45:06.010072",
     "exception": false,
     "start_time": "2021-08-05T05:45:05.953059",
     "status": "completed"
    },
    "tags": []
   },
   "outputs": [],
   "source": [
    "def should_hit(dealer_total, player_total, player_low_aces, player_high_aces):\n",
    "    \"\"\"Return True if the player should hit (request another card) given the current game\n",
    "    state, or False if the player should stay.\n",
    "    When calculating a hand's total value, we count aces as \"high\" (with value 11) if doing so\n",
    "    doesn't bring the total above 21, otherwise we count them as low (with value 1). \n",
    "    For example, if the player's hand is {A, A, A, 7}, we will count it as 11 + 1 + 1 + 7,\n",
    "    and therefore set player_total=20, player_low_aces=2, player_high_aces=1.\n",
    "    \"\"\"\n",
    "    return False"
   ]
  },
  {
   "cell_type": "markdown",
   "id": "1923ab43",
   "metadata": {
    "papermill": {
     "duration": 0.03381,
     "end_time": "2021-08-05T05:45:06.084132",
     "exception": false,
     "start_time": "2021-08-05T05:45:06.050322",
     "status": "completed"
    },
    "tags": []
   },
   "source": [
    "This very conservative agent *always* sticks with the hand of two cards that they're dealt.\n",
    "\n",
    "We'll be simulating games between your player agent and our own dealer agent by calling your function.\n",
    "\n",
    "Try running the function below to see an example of a simulated game:"
   ]
  },
  {
   "cell_type": "code",
   "execution_count": 22,
   "id": "59c1741b",
   "metadata": {
    "execution": {
     "iopub.execute_input": "2021-08-05T05:45:06.159706Z",
     "iopub.status.busy": "2021-08-05T05:45:06.158837Z",
     "iopub.status.idle": "2021-08-05T05:45:06.163206Z",
     "shell.execute_reply": "2021-08-05T05:45:06.163732Z",
     "shell.execute_reply.started": "2021-08-05T05:44:16.472196Z"
    },
    "papermill": {
     "duration": 0.044809,
     "end_time": "2021-08-05T05:45:06.163920",
     "exception": false,
     "start_time": "2021-08-05T05:45:06.119111",
     "status": "completed"
    },
    "tags": []
   },
   "outputs": [
    {
     "name": "stdout",
     "output_type": "stream",
     "text": [
      "Player starts with 5 and Q (total = 15)\n",
      "Dealer starts with 6\n",
      "\n",
      "__Player's turn__\n",
      "Player stays\n",
      "\n",
      "__Dealer's turn__\n",
      "Dealer hits and receives J. (total = 16)\n",
      "Dealer hits and receives 7. (total = 23)\n",
      "Dealer busts! Player wins.\n"
     ]
    }
   ],
   "source": [
    "q7.simulate_one_game()"
   ]
  },
  {
   "cell_type": "markdown",
   "id": "6553dd0f",
   "metadata": {
    "papermill": {
     "duration": 0.034732,
     "end_time": "2021-08-05T05:45:06.231380",
     "exception": false,
     "start_time": "2021-08-05T05:45:06.196648",
     "status": "completed"
    },
    "tags": []
   },
   "source": [
    "The real test of your agent's mettle is their average win rate over many games. Try calling the function below to simulate 50000 games of blackjack (it may take a couple seconds):"
   ]
  },
  {
   "cell_type": "code",
   "execution_count": 23,
   "id": "30f76b62",
   "metadata": {
    "execution": {
     "iopub.execute_input": "2021-08-05T05:45:06.299847Z",
     "iopub.status.busy": "2021-08-05T05:45:06.298918Z",
     "iopub.status.idle": "2021-08-05T05:45:07.574627Z",
     "shell.execute_reply": "2021-08-05T05:45:07.575097Z",
     "shell.execute_reply.started": "2021-08-05T05:44:21.111786Z"
    },
    "papermill": {
     "duration": 1.311884,
     "end_time": "2021-08-05T05:45:07.575318",
     "exception": false,
     "start_time": "2021-08-05T05:45:06.263434",
     "status": "completed"
    },
    "tags": []
   },
   "outputs": [
    {
     "name": "stdout",
     "output_type": "stream",
     "text": [
      "Player won 19124 out of 50000 games (win rate = 38.2%)\n"
     ]
    }
   ],
   "source": [
    "q7.simulate(n_games=50000)"
   ]
  },
  {
   "cell_type": "markdown",
   "id": "f4085cd4",
   "metadata": {
    "papermill": {
     "duration": 0.033632,
     "end_time": "2021-08-05T05:45:07.645119",
     "exception": false,
     "start_time": "2021-08-05T05:45:07.611487",
     "status": "completed"
    },
    "tags": []
   },
   "source": [
    "Our dumb agent that completely ignores the game state still manages to win shockingly often!\n",
    "\n",
    "Try adding some more smarts to the `should_hit` function and see how it affects the results."
   ]
  },
  {
   "cell_type": "code",
   "execution_count": 24,
   "id": "19512f53",
   "metadata": {
    "execution": {
     "iopub.execute_input": "2021-08-05T05:45:07.748384Z",
     "iopub.status.busy": "2021-08-05T05:45:07.726887Z",
     "iopub.status.idle": "2021-08-05T05:45:08.999081Z",
     "shell.execute_reply": "2021-08-05T05:45:08.998487Z",
     "shell.execute_reply.started": "2021-08-05T05:33:58.882396Z"
    },
    "papermill": {
     "duration": 1.321285,
     "end_time": "2021-08-05T05:45:08.999233",
     "exception": false,
     "start_time": "2021-08-05T05:45:07.677948",
     "status": "completed"
    },
    "tags": []
   },
   "outputs": [
    {
     "name": "stdout",
     "output_type": "stream",
     "text": [
      "Player won 18989 out of 50000 games (win rate = 38.0%)\n"
     ]
    }
   ],
   "source": [
    "def should_hit(dealer_total, player_total, player_low_aces, player_high_aces):\n",
    "    \"\"\"Return True if the player should hit (request another card) given the current game\n",
    "    state, or False if the player should stay.\n",
    "    When calculating a hand's total value, we count aces as \"high\" (with value 11) if doing so\n",
    "    doesn't bring the total above 21, otherwise we count them as low (with value 1). \n",
    "    For example, if the player's hand is {A, A, A, 7}, we will count it as 11 + 1 + 1 + 7,\n",
    "    and therefore set player_total=20, player_low_aces=2, player_high_aces=1.\n",
    "    \"\"\"\n",
    "    return False\n",
    "\n",
    "q7.simulate(n_games=50000)"
   ]
  },
  {
   "cell_type": "markdown",
   "id": "364a818f",
   "metadata": {
    "papermill": {
     "duration": 0.033392,
     "end_time": "2021-08-05T05:45:09.066791",
     "exception": false,
     "start_time": "2021-08-05T05:45:09.033399",
     "status": "completed"
    },
    "tags": []
   },
   "source": [
    "# Keep Going\n",
    "\n",
    "Learn about **[lists and tuples](https://www.kaggle.com/colinmorris/lists)** to handle multiple items of data in a systematic way."
   ]
  },
  {
   "cell_type": "markdown",
   "id": "f27723dd",
   "metadata": {
    "papermill": {
     "duration": 0.032836,
     "end_time": "2021-08-05T05:45:09.134299",
     "exception": false,
     "start_time": "2021-08-05T05:45:09.101463",
     "status": "completed"
    },
    "tags": []
   },
   "source": [
    "---\n",
    "\n",
    "\n",
    "\n",
    "\n",
    "*Have questions or comments? Visit the [Learn Discussion forum](https://www.kaggle.com/learn-forum/161283) to chat with other Learners.*"
   ]
  }
 ],
 "metadata": {
  "kernelspec": {
   "display_name": "Python 3",
   "language": "python",
   "name": "python3"
  },
  "language_info": {
   "codemirror_mode": {
    "name": "ipython",
    "version": 3
   },
   "file_extension": ".py",
   "mimetype": "text/x-python",
   "name": "python",
   "nbconvert_exporter": "python",
   "pygments_lexer": "ipython3",
   "version": "3.7.10"
  },
  "papermill": {
   "default_parameters": {},
   "duration": 14.485956,
   "end_time": "2021-08-05T05:45:09.979784",
   "environment_variables": {},
   "exception": null,
   "input_path": "__notebook__.ipynb",
   "output_path": "__notebook__.ipynb",
   "parameters": {},
   "start_time": "2021-08-05T05:44:55.493828",
   "version": "2.3.3"
  }
 },
 "nbformat": 4,
 "nbformat_minor": 5
}
