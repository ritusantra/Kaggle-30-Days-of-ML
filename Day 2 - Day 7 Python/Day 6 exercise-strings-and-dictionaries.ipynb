{
 "cells": [
  {
   "cell_type": "markdown",
   "id": "83448db4",
   "metadata": {
    "papermill": {
     "duration": 0.022723,
     "end_time": "2021-08-05T15:17:58.291131",
     "exception": false,
     "start_time": "2021-08-05T15:17:58.268408",
     "status": "completed"
    },
    "tags": []
   },
   "source": [
    "**This notebook is an exercise in the [Python](https://www.kaggle.com/learn/python) course.  You can reference the tutorial at [this link](https://www.kaggle.com/colinmorris/strings-and-dictionaries).**\n",
    "\n",
    "---\n"
   ]
  },
  {
   "cell_type": "markdown",
   "id": "7d015f17",
   "metadata": {
    "papermill": {
     "duration": 0.016293,
     "end_time": "2021-08-05T15:17:58.327714",
     "exception": false,
     "start_time": "2021-08-05T15:17:58.311421",
     "status": "completed"
    },
    "tags": []
   },
   "source": [
    "You are almost done with the course. Nice job!\n",
    "\n",
    "We have a couple more interesting problems for you before you go. \n",
    "\n",
    "As always, run the setup code below before working on the questions."
   ]
  },
  {
   "cell_type": "code",
   "execution_count": 1,
   "id": "910752a3",
   "metadata": {
    "execution": {
     "iopub.execute_input": "2021-08-05T15:17:58.376293Z",
     "iopub.status.busy": "2021-08-05T15:17:58.375597Z",
     "iopub.status.idle": "2021-08-05T15:17:58.517964Z",
     "shell.execute_reply": "2021-08-05T15:17:58.518521Z",
     "shell.execute_reply.started": "2021-08-05T14:33:44.918075Z"
    },
    "papermill": {
     "duration": 0.169861,
     "end_time": "2021-08-05T15:17:58.518822",
     "exception": false,
     "start_time": "2021-08-05T15:17:58.348961",
     "status": "completed"
    },
    "tags": []
   },
   "outputs": [
    {
     "name": "stdout",
     "output_type": "stream",
     "text": [
      "Setup complete.\n"
     ]
    }
   ],
   "source": [
    "from learntools.core import binder; binder.bind(globals())\n",
    "from learntools.python.ex6 import *\n",
    "print('Setup complete.')"
   ]
  },
  {
   "cell_type": "markdown",
   "id": "3309526e",
   "metadata": {
    "papermill": {
     "duration": 0.016195,
     "end_time": "2021-08-05T15:17:58.551892",
     "exception": false,
     "start_time": "2021-08-05T15:17:58.535697",
     "status": "completed"
    },
    "tags": []
   },
   "source": [
    "Let's start with a string lightning round to warm up. What are the lengths of the strings below?\n",
    "\n",
    "For each of the five strings below, predict what `len()` would return when passed that string. Use the variable `length` to record your answer, then run the cell to check whether you were right.  \n",
    "\n",
    "# 0a."
   ]
  },
  {
   "cell_type": "code",
   "execution_count": 2,
   "id": "f2f3f32f",
   "metadata": {
    "execution": {
     "iopub.execute_input": "2021-08-05T15:17:58.587792Z",
     "iopub.status.busy": "2021-08-05T15:17:58.587148Z",
     "iopub.status.idle": "2021-08-05T15:17:58.596703Z",
     "shell.execute_reply": "2021-08-05T15:17:58.596210Z",
     "shell.execute_reply.started": "2021-08-05T14:33:59.140379Z"
    },
    "papermill": {
     "duration": 0.028511,
     "end_time": "2021-08-05T15:17:58.596839",
     "exception": false,
     "start_time": "2021-08-05T15:17:58.568328",
     "status": "completed"
    },
    "tags": []
   },
   "outputs": [
    {
     "data": {
      "application/javascript": [
       "parent.postMessage({\"jupyterEvent\": \"custom.exercise_interaction\", \"data\": {\"outcomeType\": 1, \"valueTowardsCompletion\": 0.3333333333333333, \"interactionType\": 1, \"questionType\": 1, \"questionId\": \"0.1_ZA\", \"learnToolsVersion\": \"0.3.4\", \"failureMessage\": \"\", \"exceptionClass\": \"\", \"trace\": \"\"}}, \"*\")"
      ],
      "text/plain": [
       "<IPython.core.display.Javascript object>"
      ]
     },
     "metadata": {},
     "output_type": "display_data"
    },
    {
     "data": {
      "text/markdown": [
       "<span style=\"color:#33cc33\">Correct:</span> \n",
       "\n",
       "The empty string has length zero. Note that the empty string is also the only string that Python considers as False when converting to boolean."
      ],
      "text/plain": [
       "Correct: \n",
       "\n",
       "The empty string has length zero. Note that the empty string is also the only string that Python considers as False when converting to boolean."
      ]
     },
     "metadata": {},
     "output_type": "display_data"
    }
   ],
   "source": [
    "a = \"\"\n",
    "length = 0\n",
    "q0.a.check()"
   ]
  },
  {
   "cell_type": "markdown",
   "id": "71780817",
   "metadata": {
    "papermill": {
     "duration": 0.017161,
     "end_time": "2021-08-05T15:17:58.631759",
     "exception": false,
     "start_time": "2021-08-05T15:17:58.614598",
     "status": "completed"
    },
    "tags": []
   },
   "source": [
    "# 0b."
   ]
  },
  {
   "cell_type": "code",
   "execution_count": 3,
   "id": "c979f158",
   "metadata": {
    "execution": {
     "iopub.execute_input": "2021-08-05T15:17:58.672183Z",
     "iopub.status.busy": "2021-08-05T15:17:58.671176Z",
     "iopub.status.idle": "2021-08-05T15:17:58.678006Z",
     "shell.execute_reply": "2021-08-05T15:17:58.677385Z",
     "shell.execute_reply.started": "2021-08-05T14:34:10.727196Z"
    },
    "papermill": {
     "duration": 0.028895,
     "end_time": "2021-08-05T15:17:58.678145",
     "exception": false,
     "start_time": "2021-08-05T15:17:58.649250",
     "status": "completed"
    },
    "tags": []
   },
   "outputs": [
    {
     "data": {
      "application/javascript": [
       "parent.postMessage({\"jupyterEvent\": \"custom.exercise_interaction\", \"data\": {\"outcomeType\": 1, \"valueTowardsCompletion\": 0.3333333333333333, \"interactionType\": 1, \"questionType\": 1, \"questionId\": \"0.2_ZB\", \"learnToolsVersion\": \"0.3.4\", \"failureMessage\": \"\", \"exceptionClass\": \"\", \"trace\": \"\"}}, \"*\")"
      ],
      "text/plain": [
       "<IPython.core.display.Javascript object>"
      ]
     },
     "metadata": {},
     "output_type": "display_data"
    },
    {
     "data": {
      "text/markdown": [
       "<span style=\"color:#33cc33\">Correct:</span> \n",
       "\n",
       "Keep in mind Python includes spaces (and punctuation) when counting string length."
      ],
      "text/plain": [
       "Correct: \n",
       "\n",
       "Keep in mind Python includes spaces (and punctuation) when counting string length."
      ]
     },
     "metadata": {},
     "output_type": "display_data"
    }
   ],
   "source": [
    "b = \"it's ok\"\n",
    "length = 7\n",
    "q0.b.check()"
   ]
  },
  {
   "cell_type": "markdown",
   "id": "80502e2d",
   "metadata": {
    "papermill": {
     "duration": 0.018216,
     "end_time": "2021-08-05T15:17:58.714977",
     "exception": false,
     "start_time": "2021-08-05T15:17:58.696761",
     "status": "completed"
    },
    "tags": []
   },
   "source": [
    "# 0c."
   ]
  },
  {
   "cell_type": "code",
   "execution_count": 4,
   "id": "b5da1d87",
   "metadata": {
    "execution": {
     "iopub.execute_input": "2021-08-05T15:17:58.758179Z",
     "iopub.status.busy": "2021-08-05T15:17:58.757158Z",
     "iopub.status.idle": "2021-08-05T15:17:58.762732Z",
     "shell.execute_reply": "2021-08-05T15:17:58.763182Z",
     "shell.execute_reply.started": "2021-08-05T14:34:25.612856Z"
    },
    "papermill": {
     "duration": 0.030004,
     "end_time": "2021-08-05T15:17:58.763352",
     "exception": false,
     "start_time": "2021-08-05T15:17:58.733348",
     "status": "completed"
    },
    "tags": []
   },
   "outputs": [
    {
     "data": {
      "application/javascript": [
       "parent.postMessage({\"jupyterEvent\": \"custom.exercise_interaction\", \"data\": {\"outcomeType\": 1, \"valueTowardsCompletion\": 0.3333333333333333, \"interactionType\": 1, \"questionType\": 1, \"questionId\": \"0.3_ZC\", \"learnToolsVersion\": \"0.3.4\", \"failureMessage\": \"\", \"exceptionClass\": \"\", \"trace\": \"\"}}, \"*\")"
      ],
      "text/plain": [
       "<IPython.core.display.Javascript object>"
      ]
     },
     "metadata": {},
     "output_type": "display_data"
    },
    {
     "data": {
      "text/markdown": [
       "<span style=\"color:#33cc33\">Correct:</span> \n",
       "\n",
       "Even though we use different syntax to create it, the string `c` is identical to `b`. In particular, note that the backslash is not part of the string, so it doesn't contribute to its length."
      ],
      "text/plain": [
       "Correct: \n",
       "\n",
       "Even though we use different syntax to create it, the string `c` is identical to `b`. In particular, note that the backslash is not part of the string, so it doesn't contribute to its length."
      ]
     },
     "metadata": {},
     "output_type": "display_data"
    }
   ],
   "source": [
    "c = 'it\\'s ok'\n",
    "length = 7\n",
    "q0.c.check()"
   ]
  },
  {
   "cell_type": "markdown",
   "id": "fc77d680",
   "metadata": {
    "papermill": {
     "duration": 0.019692,
     "end_time": "2021-08-05T15:17:58.802908",
     "exception": false,
     "start_time": "2021-08-05T15:17:58.783216",
     "status": "completed"
    },
    "tags": []
   },
   "source": [
    "# 0d."
   ]
  },
  {
   "cell_type": "code",
   "execution_count": 5,
   "id": "94564fa8",
   "metadata": {
    "execution": {
     "iopub.execute_input": "2021-08-05T15:17:58.855588Z",
     "iopub.status.busy": "2021-08-05T15:17:58.854907Z",
     "iopub.status.idle": "2021-08-05T15:17:58.860643Z",
     "shell.execute_reply": "2021-08-05T15:17:58.859889Z",
     "shell.execute_reply.started": "2021-08-05T14:34:57.284656Z"
    },
    "papermill": {
     "duration": 0.032413,
     "end_time": "2021-08-05T15:17:58.860840",
     "exception": false,
     "start_time": "2021-08-05T15:17:58.828427",
     "status": "completed"
    },
    "tags": []
   },
   "outputs": [
    {
     "data": {
      "application/javascript": [
       "parent.postMessage({\"jupyterEvent\": \"custom.exercise_interaction\", \"data\": {\"outcomeType\": 1, \"valueTowardsCompletion\": 0.3333333333333333, \"interactionType\": 1, \"questionType\": 1, \"questionId\": \"0.4_ZD\", \"learnToolsVersion\": \"0.3.4\", \"failureMessage\": \"\", \"exceptionClass\": \"\", \"trace\": \"\"}}, \"*\")"
      ],
      "text/plain": [
       "<IPython.core.display.Javascript object>"
      ]
     },
     "metadata": {},
     "output_type": "display_data"
    },
    {
     "data": {
      "text/markdown": [
       "<span style=\"color:#33cc33\">Correct:</span> \n",
       "\n",
       "The fact that this string was created using triple-quote syntax doesn't make any difference in terms of its content or length. This string is exactly the same as `'hey'`."
      ],
      "text/plain": [
       "Correct: \n",
       "\n",
       "The fact that this string was created using triple-quote syntax doesn't make any difference in terms of its content or length. This string is exactly the same as `'hey'`."
      ]
     },
     "metadata": {},
     "output_type": "display_data"
    }
   ],
   "source": [
    "d = \"\"\"hey\"\"\"\n",
    "length = 3\n",
    "q0.d.check()"
   ]
  },
  {
   "cell_type": "markdown",
   "id": "17dd5939",
   "metadata": {
    "papermill": {
     "duration": 0.026539,
     "end_time": "2021-08-05T15:17:58.916207",
     "exception": false,
     "start_time": "2021-08-05T15:17:58.889668",
     "status": "completed"
    },
    "tags": []
   },
   "source": [
    "# 0e."
   ]
  },
  {
   "cell_type": "code",
   "execution_count": 6,
   "id": "42c488bf",
   "metadata": {
    "execution": {
     "iopub.execute_input": "2021-08-05T15:17:58.966152Z",
     "iopub.status.busy": "2021-08-05T15:17:58.965439Z",
     "iopub.status.idle": "2021-08-05T15:17:58.970816Z",
     "shell.execute_reply": "2021-08-05T15:17:58.971255Z",
     "shell.execute_reply.started": "2021-08-05T14:35:04.994615Z"
    },
    "papermill": {
     "duration": 0.031256,
     "end_time": "2021-08-05T15:17:58.971422",
     "exception": false,
     "start_time": "2021-08-05T15:17:58.940166",
     "status": "completed"
    },
    "tags": []
   },
   "outputs": [
    {
     "data": {
      "application/javascript": [
       "parent.postMessage({\"jupyterEvent\": \"custom.exercise_interaction\", \"data\": {\"outcomeType\": 1, \"valueTowardsCompletion\": 0.3333333333333333, \"interactionType\": 1, \"questionType\": 1, \"questionId\": \"0.5_ZE\", \"learnToolsVersion\": \"0.3.4\", \"failureMessage\": \"\", \"exceptionClass\": \"\", \"trace\": \"\"}}, \"*\")"
      ],
      "text/plain": [
       "<IPython.core.display.Javascript object>"
      ]
     },
     "metadata": {},
     "output_type": "display_data"
    },
    {
     "data": {
      "text/markdown": [
       "<span style=\"color:#33cc33\">Correct:</span> \n",
       "\n",
       "The newline character is just a single character! (Even though we represent it to Python using a combination of two characters.)"
      ],
      "text/plain": [
       "Correct: \n",
       "\n",
       "The newline character is just a single character! (Even though we represent it to Python using a combination of two characters.)"
      ]
     },
     "metadata": {},
     "output_type": "display_data"
    }
   ],
   "source": [
    "e = '\\n'\n",
    "length = 1\n",
    "q0.e.check()"
   ]
  },
  {
   "cell_type": "markdown",
   "id": "31955ef1",
   "metadata": {
    "papermill": {
     "duration": 0.021089,
     "end_time": "2021-08-05T15:17:59.014156",
     "exception": false,
     "start_time": "2021-08-05T15:17:58.993067",
     "status": "completed"
    },
    "tags": []
   },
   "source": [
    "# 1.\n",
    "\n",
    "There is a saying that \"Data scientists spend 80% of their time cleaning data, and 20% of their time complaining about cleaning data.\" Let's see if you can write a function to help clean US zip code data. Given a string, it should return whether or not that string represents a valid zip code. For our purposes, a valid zip code is any string consisting of exactly 5 digits.\n",
    "\n",
    "HINT: `str` has a method that will be useful here. Use `help(str)` to review a list of string methods."
   ]
  },
  {
   "cell_type": "code",
   "execution_count": 7,
   "id": "2e94d2fa",
   "metadata": {
    "execution": {
     "iopub.execute_input": "2021-08-05T15:17:59.060499Z",
     "iopub.status.busy": "2021-08-05T15:17:59.059911Z",
     "iopub.status.idle": "2021-08-05T15:17:59.069058Z",
     "shell.execute_reply": "2021-08-05T15:17:59.068527Z",
     "shell.execute_reply.started": "2021-08-05T14:53:36.183363Z"
    },
    "papermill": {
     "duration": 0.03341,
     "end_time": "2021-08-05T15:17:59.069204",
     "exception": false,
     "start_time": "2021-08-05T15:17:59.035794",
     "status": "completed"
    },
    "tags": []
   },
   "outputs": [
    {
     "data": {
      "application/javascript": [
       "parent.postMessage({\"jupyterEvent\": \"custom.exercise_interaction\", \"data\": {\"outcomeType\": 1, \"valueTowardsCompletion\": 0.3333333333333333, \"interactionType\": 1, \"questionType\": 2, \"questionId\": \"1_ZipValidator\", \"learnToolsVersion\": \"0.3.4\", \"failureMessage\": \"\", \"exceptionClass\": \"\", \"trace\": \"\"}}, \"*\")"
      ],
      "text/plain": [
       "<IPython.core.display.Javascript object>"
      ]
     },
     "metadata": {},
     "output_type": "display_data"
    },
    {
     "data": {
      "text/markdown": [
       "<span style=\"color:#33cc33\">Correct</span>"
      ],
      "text/plain": [
       "Correct"
      ]
     },
     "metadata": {},
     "output_type": "display_data"
    }
   ],
   "source": [
    "def is_valid_zip(zip_code):\n",
    "    \"\"\"Returns whether the input string is a valid (5 digit) zip code\n",
    "    \"\"\"\n",
    "    if len(zip_code) == 5 and zip_code.isdigit():\n",
    "            return True\n",
    "    else:\n",
    "             return False\n",
    "\n",
    "# Check your answer\n",
    "q1.check()"
   ]
  },
  {
   "cell_type": "code",
   "execution_count": 8,
   "id": "5dff8884",
   "metadata": {
    "execution": {
     "iopub.execute_input": "2021-08-05T15:17:59.118309Z",
     "iopub.status.busy": "2021-08-05T15:17:59.117704Z",
     "iopub.status.idle": "2021-08-05T15:17:59.120763Z",
     "shell.execute_reply": "2021-08-05T15:17:59.120206Z",
     "shell.execute_reply.started": "2021-08-05T14:53:42.723224Z"
    },
    "papermill": {
     "duration": 0.029156,
     "end_time": "2021-08-05T15:17:59.120899",
     "exception": false,
     "start_time": "2021-08-05T15:17:59.091743",
     "status": "completed"
    },
    "tags": []
   },
   "outputs": [],
   "source": [
    "#q1.hint()\n",
    "#q1.solution()"
   ]
  },
  {
   "cell_type": "markdown",
   "id": "fa594c14",
   "metadata": {
    "papermill": {
     "duration": 0.022073,
     "end_time": "2021-08-05T15:17:59.165624",
     "exception": false,
     "start_time": "2021-08-05T15:17:59.143551",
     "status": "completed"
    },
    "tags": []
   },
   "source": [
    "# 2.\n",
    "\n",
    "A researcher has gathered thousands of news articles. But she wants to focus her attention on articles including a specific word. Complete the function below to help her filter her list of articles.\n",
    "\n",
    "Your function should meet the following criteria:\n",
    "\n",
    "- Do not include documents where the keyword string shows up only as a part of a larger word. For example, if she were looking for the keyword “closed”, you would not include the string “enclosed.” \n",
    "- She does not want you to distinguish upper case from lower case letters. So the phrase “Closed the case.” would be included when the keyword is “closed”\n",
    "- Do not let periods or commas affect what is matched. “It is closed.” would be included when the keyword is “closed”. But you can assume there are no other types of punctuation."
   ]
  },
  {
   "cell_type": "code",
   "execution_count": 9,
   "id": "85abd773",
   "metadata": {
    "execution": {
     "iopub.execute_input": "2021-08-05T15:17:59.213518Z",
     "iopub.status.busy": "2021-08-05T15:17:59.212893Z",
     "iopub.status.idle": "2021-08-05T15:17:59.223412Z",
     "shell.execute_reply": "2021-08-05T15:17:59.222886Z",
     "shell.execute_reply.started": "2021-08-05T15:09:54.416799Z"
    },
    "papermill": {
     "duration": 0.035543,
     "end_time": "2021-08-05T15:17:59.223579",
     "exception": false,
     "start_time": "2021-08-05T15:17:59.188036",
     "status": "completed"
    },
    "tags": []
   },
   "outputs": [
    {
     "data": {
      "application/javascript": [
       "parent.postMessage({\"jupyterEvent\": \"custom.exercise_interaction\", \"data\": {\"outcomeType\": 1, \"valueTowardsCompletion\": 0.3333333333333333, \"interactionType\": 1, \"questionType\": 2, \"questionId\": \"2_WordSearch\", \"learnToolsVersion\": \"0.3.4\", \"failureMessage\": \"\", \"exceptionClass\": \"\", \"trace\": \"\"}}, \"*\")"
      ],
      "text/plain": [
       "<IPython.core.display.Javascript object>"
      ]
     },
     "metadata": {},
     "output_type": "display_data"
    },
    {
     "data": {
      "text/markdown": [
       "<span style=\"color:#33cc33\">Correct</span>"
      ],
      "text/plain": [
       "Correct"
      ]
     },
     "metadata": {},
     "output_type": "display_data"
    }
   ],
   "source": [
    "def word_search(doc_list, keyword):\n",
    "    \"\"\"\n",
    "    Takes a list of documents (each document is a string) and a keyword. \n",
    "    Returns list of the index values into the original list for all documents \n",
    "    containing the keyword.\n",
    "\n",
    "    Example:\n",
    "    doc_list = [\"The Learn Python Challenge Casino.\", \"They bought a car\", \"Casinoville\"]\n",
    "    >>> word_search(doc_list, 'casino')\n",
    "    >>> [0]\n",
    "    \"\"\"\n",
    "    indices = []\n",
    "    for i, doc in enumerate(doc_list):\n",
    "        tokens = doc.split()\n",
    "        normalized = [token.rstrip('.,').lower() for token in tokens]\n",
    "        if keyword.lower() in normalized:\n",
    "            indices.append(i)\n",
    "    return indices\n",
    "\n",
    "# Check your answer\n",
    "q2.check()"
   ]
  },
  {
   "cell_type": "code",
   "execution_count": 10,
   "id": "2863a712",
   "metadata": {
    "execution": {
     "iopub.execute_input": "2021-08-05T15:17:59.276248Z",
     "iopub.status.busy": "2021-08-05T15:17:59.275487Z",
     "iopub.status.idle": "2021-08-05T15:17:59.278722Z",
     "shell.execute_reply": "2021-08-05T15:17:59.278183Z",
     "shell.execute_reply.started": "2021-08-05T15:09:58.002865Z"
    },
    "papermill": {
     "duration": 0.030846,
     "end_time": "2021-08-05T15:17:59.278870",
     "exception": false,
     "start_time": "2021-08-05T15:17:59.248024",
     "status": "completed"
    },
    "tags": []
   },
   "outputs": [],
   "source": [
    "#q2.hint()\n",
    "#q2.solution()"
   ]
  },
  {
   "cell_type": "markdown",
   "id": "fc3f51cd",
   "metadata": {
    "papermill": {
     "duration": 0.023701,
     "end_time": "2021-08-05T15:17:59.326653",
     "exception": false,
     "start_time": "2021-08-05T15:17:59.302952",
     "status": "completed"
    },
    "tags": []
   },
   "source": [
    "# 3.\n",
    "\n",
    "Now the researcher wants to supply multiple keywords to search for. Complete the function below to help her.\n",
    "\n",
    "(You're encouraged to use the `word_search` function you just wrote when implementing this function. Reusing code in this way makes your programs more robust and readable - and it saves typing!)"
   ]
  },
  {
   "cell_type": "code",
   "execution_count": 11,
   "id": "bbba6bc7",
   "metadata": {
    "execution": {
     "iopub.execute_input": "2021-08-05T15:17:59.391003Z",
     "iopub.status.busy": "2021-08-05T15:17:59.389964Z",
     "iopub.status.idle": "2021-08-05T15:17:59.397337Z",
     "shell.execute_reply": "2021-08-05T15:17:59.396749Z",
     "shell.execute_reply.started": "2021-08-05T15:12:07.068737Z"
    },
    "papermill": {
     "duration": 0.045752,
     "end_time": "2021-08-05T15:17:59.397488",
     "exception": false,
     "start_time": "2021-08-05T15:17:59.351736",
     "status": "completed"
    },
    "tags": []
   },
   "outputs": [
    {
     "data": {
      "application/javascript": [
       "parent.postMessage({\"jupyterEvent\": \"custom.exercise_interaction\", \"data\": {\"outcomeType\": 1, \"valueTowardsCompletion\": 0.3333333333333333, \"interactionType\": 1, \"questionType\": 2, \"questionId\": \"3_MultiWordSearch\", \"learnToolsVersion\": \"0.3.4\", \"failureMessage\": \"\", \"exceptionClass\": \"\", \"trace\": \"\"}}, \"*\")"
      ],
      "text/plain": [
       "<IPython.core.display.Javascript object>"
      ]
     },
     "metadata": {},
     "output_type": "display_data"
    },
    {
     "data": {
      "text/markdown": [
       "<span style=\"color:#33cc33\">Correct</span>"
      ],
      "text/plain": [
       "Correct"
      ]
     },
     "metadata": {},
     "output_type": "display_data"
    }
   ],
   "source": [
    "def multi_word_search(doc_list, keywords):\n",
    "    \"\"\"\n",
    "    Takes list of documents (each document is a string) and a list of keywords.  \n",
    "    Returns a dictionary where each key is a keyword, and the value is a list of indices\n",
    "    (from doc_list) of the documents containing that keyword\n",
    "\n",
    "    >>> doc_list = [\"The Learn Python Challenge Casino.\", \"They bought a car and a casino\", \"Casinoville\"]\n",
    "    >>> keywords = ['casino', 'they']\n",
    "    >>> multi_word_search(doc_list, keywords)\n",
    "    {'casino': [0, 1], 'they': [1]}\n",
    "    \"\"\"\n",
    "    keyword_to_indices = {}\n",
    "    for keyword in keywords:\n",
    "        keyword_to_indices[keyword] = word_search(doc_list, keyword)\n",
    "    return keyword_to_indices\n",
    "\n",
    "# Check your answer\n",
    "q3.check()"
   ]
  },
  {
   "cell_type": "code",
   "execution_count": 12,
   "id": "ce7b535c",
   "metadata": {
    "execution": {
     "iopub.execute_input": "2021-08-05T15:17:59.455073Z",
     "iopub.status.busy": "2021-08-05T15:17:59.454377Z",
     "iopub.status.idle": "2021-08-05T15:17:59.458614Z",
     "shell.execute_reply": "2021-08-05T15:17:59.457999Z",
     "shell.execute_reply.started": "2021-08-05T15:17:31.904846Z"
    },
    "papermill": {
     "duration": 0.035175,
     "end_time": "2021-08-05T15:17:59.458761",
     "exception": false,
     "start_time": "2021-08-05T15:17:59.423586",
     "status": "completed"
    },
    "tags": []
   },
   "outputs": [],
   "source": [
    "#q3.solution()"
   ]
  },
  {
   "cell_type": "markdown",
   "id": "b5ef455c",
   "metadata": {
    "papermill": {
     "duration": 0.024226,
     "end_time": "2021-08-05T15:17:59.508059",
     "exception": false,
     "start_time": "2021-08-05T15:17:59.483833",
     "status": "completed"
    },
    "tags": []
   },
   "source": [
    "# Keep Going\n",
    "\n",
    "You've learned a lot. But even the best programmers rely heavily on \"libraries\" of code from other programmers. You'll learn about that in **[the last lesson](https://www.kaggle.com/colinmorris/working-with-external-libraries)**.\n"
   ]
  },
  {
   "cell_type": "markdown",
   "id": "36b97f0f",
   "metadata": {
    "papermill": {
     "duration": 0.023753,
     "end_time": "2021-08-05T15:17:59.556229",
     "exception": false,
     "start_time": "2021-08-05T15:17:59.532476",
     "status": "completed"
    },
    "tags": []
   },
   "source": [
    "---\n",
    "\n",
    "\n",
    "\n",
    "\n",
    "*Have questions or comments? Visit the [Learn Discussion forum](https://www.kaggle.com/learn-forum/161283) to chat with other Learners.*"
   ]
  }
 ],
 "metadata": {
  "kernelspec": {
   "display_name": "Python 3",
   "language": "python",
   "name": "python3"
  },
  "language_info": {
   "codemirror_mode": {
    "name": "ipython",
    "version": 3
   },
   "file_extension": ".py",
   "mimetype": "text/x-python",
   "name": "python",
   "nbconvert_exporter": "python",
   "pygments_lexer": "ipython3",
   "version": "3.7.10"
  },
  "papermill": {
   "default_parameters": {},
   "duration": 10.801993,
   "end_time": "2021-08-05T15:18:01.058332",
   "environment_variables": {},
   "exception": null,
   "input_path": "__notebook__.ipynb",
   "output_path": "__notebook__.ipynb",
   "parameters": {},
   "start_time": "2021-08-05T15:17:50.256339",
   "version": "2.3.3"
  }
 },
 "nbformat": 4,
 "nbformat_minor": 5
}
