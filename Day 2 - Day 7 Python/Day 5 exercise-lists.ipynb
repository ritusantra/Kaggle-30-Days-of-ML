{
 "cells": [
  {
   "cell_type": "markdown",
   "id": "68a22458",
   "metadata": {
    "papermill": {
     "duration": 0.011709,
     "end_time": "2021-08-05T07:12:02.916558",
     "exception": false,
     "start_time": "2021-08-05T07:12:02.904849",
     "status": "completed"
    },
    "tags": []
   },
   "source": [
    "**This notebook is an exercise in the [Python](https://www.kaggle.com/learn/python) course.  You can reference the tutorial at [this link](https://www.kaggle.com/colinmorris/lists).**\n",
    "\n",
    "---\n"
   ]
  },
  {
   "cell_type": "markdown",
   "id": "1f4c6259",
   "metadata": {
    "papermill": {
     "duration": 0.010148,
     "end_time": "2021-08-05T07:12:02.938861",
     "exception": false,
     "start_time": "2021-08-05T07:12:02.928713",
     "status": "completed"
    },
    "tags": []
   },
   "source": [
    "Things get more interesting with lists. You'll apply your new knowledge to solve the questions below. Remember to run the following cell first."
   ]
  },
  {
   "cell_type": "code",
   "execution_count": 1,
   "id": "5b7f4af0",
   "metadata": {
    "execution": {
     "iopub.execute_input": "2021-08-05T07:12:02.971359Z",
     "iopub.status.busy": "2021-08-05T07:12:02.970755Z",
     "iopub.status.idle": "2021-08-05T07:12:03.098818Z",
     "shell.execute_reply": "2021-08-05T07:12:03.099563Z",
     "shell.execute_reply.started": "2021-08-05T06:53:59.799738Z"
    },
    "papermill": {
     "duration": 0.150618,
     "end_time": "2021-08-05T07:12:03.099931",
     "exception": false,
     "start_time": "2021-08-05T07:12:02.949313",
     "status": "completed"
    },
    "tags": []
   },
   "outputs": [
    {
     "name": "stdout",
     "output_type": "stream",
     "text": [
      "Setup complete.\n"
     ]
    }
   ],
   "source": [
    "from learntools.core import binder; binder.bind(globals())\n",
    "from learntools.python.ex4 import *\n",
    "print('Setup complete.')"
   ]
  },
  {
   "cell_type": "markdown",
   "id": "7e8aa683",
   "metadata": {
    "papermill": {
     "duration": 0.011428,
     "end_time": "2021-08-05T07:12:03.123059",
     "exception": false,
     "start_time": "2021-08-05T07:12:03.111631",
     "status": "completed"
    },
    "tags": []
   },
   "source": [
    "# 1.\n",
    "\n",
    "Complete the function below according to its docstring."
   ]
  },
  {
   "cell_type": "code",
   "execution_count": 2,
   "id": "1fd5a9c4",
   "metadata": {
    "execution": {
     "iopub.execute_input": "2021-08-05T07:12:03.153174Z",
     "iopub.status.busy": "2021-08-05T07:12:03.152494Z",
     "iopub.status.idle": "2021-08-05T07:12:03.157720Z",
     "shell.execute_reply": "2021-08-05T07:12:03.158157Z",
     "shell.execute_reply.started": "2021-08-05T06:57:42.327728Z"
    },
    "papermill": {
     "duration": 0.024029,
     "end_time": "2021-08-05T07:12:03.158328",
     "exception": false,
     "start_time": "2021-08-05T07:12:03.134299",
     "status": "completed"
    },
    "tags": []
   },
   "outputs": [
    {
     "data": {
      "application/javascript": [
       "parent.postMessage({\"jupyterEvent\": \"custom.exercise_interaction\", \"data\": {\"outcomeType\": 1, \"valueTowardsCompletion\": 0.2, \"interactionType\": 1, \"questionType\": 2, \"questionId\": \"1_SelectSecondItem\", \"learnToolsVersion\": \"0.3.4\", \"failureMessage\": \"\", \"exceptionClass\": \"\", \"trace\": \"\"}}, \"*\")"
      ],
      "text/plain": [
       "<IPython.core.display.Javascript object>"
      ]
     },
     "metadata": {},
     "output_type": "display_data"
    },
    {
     "data": {
      "text/markdown": [
       "<span style=\"color:#33cc33\">Correct</span>"
      ],
      "text/plain": [
       "Correct"
      ]
     },
     "metadata": {},
     "output_type": "display_data"
    }
   ],
   "source": [
    "def select_second(L):\n",
    "    \"\"\"Return the second element of the given list. If the list has no second\n",
    "    element, return None.\n",
    "    \"\"\"\n",
    "    if len(L) < 2:\n",
    "        return None\n",
    "    else:\n",
    "        return L[1]\n",
    "# Check your answer\n",
    "q1.check()"
   ]
  },
  {
   "cell_type": "code",
   "execution_count": 3,
   "id": "c9278cc4",
   "metadata": {
    "execution": {
     "iopub.execute_input": "2021-08-05T07:12:03.187010Z",
     "iopub.status.busy": "2021-08-05T07:12:03.185847Z",
     "iopub.status.idle": "2021-08-05T07:12:03.188708Z",
     "shell.execute_reply": "2021-08-05T07:12:03.189167Z",
     "shell.execute_reply.started": "2021-08-05T06:58:00.782783Z"
    },
    "papermill": {
     "duration": 0.019038,
     "end_time": "2021-08-05T07:12:03.189329",
     "exception": false,
     "start_time": "2021-08-05T07:12:03.170291",
     "status": "completed"
    },
    "tags": []
   },
   "outputs": [],
   "source": [
    "#q1.hint()\n",
    "#q1.solution()"
   ]
  },
  {
   "cell_type": "markdown",
   "id": "95111f97",
   "metadata": {
    "papermill": {
     "duration": 0.011881,
     "end_time": "2021-08-05T07:12:03.213477",
     "exception": false,
     "start_time": "2021-08-05T07:12:03.201596",
     "status": "completed"
    },
    "tags": []
   },
   "source": [
    "# 2.\n",
    "\n",
    "You are analyzing sports teams.  Members of each team are stored in a list. The Coach is the first name in the list, the captain is the second name in the list, and other players are listed after that. \n",
    "These lists are stored in another list, which starts with the best team and proceeds through the list to the worst team last.  Complete the function below to select the **captain** of the worst team."
   ]
  },
  {
   "cell_type": "code",
   "execution_count": 4,
   "id": "6dada6fa",
   "metadata": {
    "execution": {
     "iopub.execute_input": "2021-08-05T07:12:03.242759Z",
     "iopub.status.busy": "2021-08-05T07:12:03.241840Z",
     "iopub.status.idle": "2021-08-05T07:12:03.247296Z",
     "shell.execute_reply": "2021-08-05T07:12:03.246802Z",
     "shell.execute_reply.started": "2021-08-05T06:58:57.037302Z"
    },
    "papermill": {
     "duration": 0.021989,
     "end_time": "2021-08-05T07:12:03.247435",
     "exception": false,
     "start_time": "2021-08-05T07:12:03.225446",
     "status": "completed"
    },
    "tags": []
   },
   "outputs": [
    {
     "data": {
      "application/javascript": [
       "parent.postMessage({\"jupyterEvent\": \"custom.exercise_interaction\", \"data\": {\"outcomeType\": 1, \"valueTowardsCompletion\": 0.2, \"interactionType\": 1, \"questionType\": 2, \"questionId\": \"2_LosingTeamCaptain\", \"learnToolsVersion\": \"0.3.4\", \"failureMessage\": \"\", \"exceptionClass\": \"\", \"trace\": \"\"}}, \"*\")"
      ],
      "text/plain": [
       "<IPython.core.display.Javascript object>"
      ]
     },
     "metadata": {},
     "output_type": "display_data"
    },
    {
     "data": {
      "text/markdown": [
       "<span style=\"color:#33cc33\">Correct</span>"
      ],
      "text/plain": [
       "Correct"
      ]
     },
     "metadata": {},
     "output_type": "display_data"
    }
   ],
   "source": [
    "def losing_team_captain(teams):\n",
    "    \"\"\"Given a list of teams, where each team is a list of names, return the 2nd player (captain)\n",
    "    from the last listed team\n",
    "    \"\"\"\n",
    "    return teams[-1][1]\n",
    "\n",
    "# Check your answer\n",
    "q2.check()"
   ]
  },
  {
   "cell_type": "code",
   "execution_count": 5,
   "id": "281b89c7",
   "metadata": {
    "execution": {
     "iopub.execute_input": "2021-08-05T07:12:03.277730Z",
     "iopub.status.busy": "2021-08-05T07:12:03.276704Z",
     "iopub.status.idle": "2021-08-05T07:12:03.280257Z",
     "shell.execute_reply": "2021-08-05T07:12:03.279638Z",
     "shell.execute_reply.started": "2021-08-05T06:59:04.278456Z"
    },
    "papermill": {
     "duration": 0.019998,
     "end_time": "2021-08-05T07:12:03.280397",
     "exception": false,
     "start_time": "2021-08-05T07:12:03.260399",
     "status": "completed"
    },
    "tags": []
   },
   "outputs": [],
   "source": [
    "#q2.hint()\n",
    "#q2.solution()"
   ]
  },
  {
   "cell_type": "markdown",
   "id": "900bbfba",
   "metadata": {
    "papermill": {
     "duration": 0.012168,
     "end_time": "2021-08-05T07:12:03.305078",
     "exception": false,
     "start_time": "2021-08-05T07:12:03.292910",
     "status": "completed"
    },
    "tags": []
   },
   "source": [
    "# 3.\n",
    "\n",
    "The next iteration of Mario Kart will feature an extra-infuriating new item, the *Purple Shell*. When used, it warps the last place racer into first place and the first place racer into last place. Complete the function below to implement the Purple Shell's effect."
   ]
  },
  {
   "cell_type": "code",
   "execution_count": 6,
   "id": "16dac226",
   "metadata": {
    "execution": {
     "iopub.execute_input": "2021-08-05T07:12:03.335252Z",
     "iopub.status.busy": "2021-08-05T07:12:03.334609Z",
     "iopub.status.idle": "2021-08-05T07:12:03.339347Z",
     "shell.execute_reply": "2021-08-05T07:12:03.339792Z",
     "shell.execute_reply.started": "2021-08-05T07:02:42.622334Z"
    },
    "papermill": {
     "duration": 0.022504,
     "end_time": "2021-08-05T07:12:03.339953",
     "exception": false,
     "start_time": "2021-08-05T07:12:03.317449",
     "status": "completed"
    },
    "tags": []
   },
   "outputs": [
    {
     "data": {
      "application/javascript": [
       "parent.postMessage({\"jupyterEvent\": \"custom.exercise_interaction\", \"data\": {\"outcomeType\": 1, \"valueTowardsCompletion\": 0.2, \"interactionType\": 1, \"questionType\": 2, \"questionId\": \"3_PurpleShell\", \"learnToolsVersion\": \"0.3.4\", \"failureMessage\": \"\", \"exceptionClass\": \"\", \"trace\": \"\"}}, \"*\")"
      ],
      "text/plain": [
       "<IPython.core.display.Javascript object>"
      ]
     },
     "metadata": {},
     "output_type": "display_data"
    },
    {
     "data": {
      "text/markdown": [
       "<span style=\"color:#33cc33\">Correct</span>"
      ],
      "text/plain": [
       "Correct"
      ]
     },
     "metadata": {},
     "output_type": "display_data"
    }
   ],
   "source": [
    "def purple_shell(racers):\n",
    "    \"\"\"Given a list of racers, set the first place racer (at the front of the list) to last\n",
    "    place and vice versa.\n",
    "    \n",
    "    >>> r = [\"Mario\", \"Bowser\", \"Luigi\"]\n",
    "    >>> purple_shell(r)\n",
    "    >>> r\n",
    "    [\"Luigi\", \"Bowser\", \"Mario\"]\n",
    "    \"\"\"\n",
    "    t = racers[0]\n",
    "    racers[0] = racers[-1]\n",
    "    racers[-1] = t\n",
    "\n",
    "# Check your answer\n",
    "q3.check()"
   ]
  },
  {
   "cell_type": "code",
   "execution_count": 7,
   "id": "fe9638ea",
   "metadata": {
    "execution": {
     "iopub.execute_input": "2021-08-05T07:12:03.369373Z",
     "iopub.status.busy": "2021-08-05T07:12:03.368725Z",
     "iopub.status.idle": "2021-08-05T07:12:03.371654Z",
     "shell.execute_reply": "2021-08-05T07:12:03.372155Z",
     "shell.execute_reply.started": "2021-08-05T07:02:50.362912Z"
    },
    "papermill": {
     "duration": 0.019119,
     "end_time": "2021-08-05T07:12:03.372322",
     "exception": false,
     "start_time": "2021-08-05T07:12:03.353203",
     "status": "completed"
    },
    "tags": []
   },
   "outputs": [],
   "source": [
    "#q3.hint()\n",
    "#q3.solution()"
   ]
  },
  {
   "cell_type": "markdown",
   "id": "554b19f3",
   "metadata": {
    "papermill": {
     "duration": 0.012711,
     "end_time": "2021-08-05T07:12:03.398125",
     "exception": false,
     "start_time": "2021-08-05T07:12:03.385414",
     "status": "completed"
    },
    "tags": []
   },
   "source": [
    "# 4.\n",
    "\n",
    "What are the lengths of the following lists? Fill in the variable `lengths` with your predictions. (Try to make a prediction for each list *without* just calling `len()` on it.)"
   ]
  },
  {
   "cell_type": "code",
   "execution_count": 8,
   "id": "60254804",
   "metadata": {
    "execution": {
     "iopub.execute_input": "2021-08-05T07:12:03.427261Z",
     "iopub.status.busy": "2021-08-05T07:12:03.426646Z",
     "iopub.status.idle": "2021-08-05T07:12:03.433322Z",
     "shell.execute_reply": "2021-08-05T07:12:03.433747Z",
     "shell.execute_reply.started": "2021-08-05T07:03:26.484383Z"
    },
    "papermill": {
     "duration": 0.022505,
     "end_time": "2021-08-05T07:12:03.433902",
     "exception": false,
     "start_time": "2021-08-05T07:12:03.411397",
     "status": "completed"
    },
    "tags": []
   },
   "outputs": [
    {
     "data": {
      "application/javascript": [
       "parent.postMessage({\"jupyterEvent\": \"custom.exercise_interaction\", \"data\": {\"outcomeType\": 1, \"valueTowardsCompletion\": 0.2, \"interactionType\": 1, \"questionType\": 1, \"questionId\": \"4_UnderstandLen\", \"learnToolsVersion\": \"0.3.4\", \"failureMessage\": \"\", \"exceptionClass\": \"\", \"trace\": \"\"}}, \"*\")"
      ],
      "text/plain": [
       "<IPython.core.display.Javascript object>"
      ]
     },
     "metadata": {},
     "output_type": "display_data"
    },
    {
     "data": {
      "text/markdown": [
       "<span style=\"color:#33cc33\">Correct:</span> \n",
       "\n",
       "\n",
       "- a: There are three items in this list. Nothing tricky yet.\n",
       "- b: The list `[2, 3]` counts as a single item. It has one item before it. So we have 2 items in the list\n",
       "- c: The empty list has 0 items\n",
       "- d: The expression is the same as the list `[2, 3]`, which has length 2."
      ],
      "text/plain": [
       "Correct: \n",
       "\n",
       "\n",
       "- a: There are three items in this list. Nothing tricky yet.\n",
       "- b: The list `[2, 3]` counts as a single item. It has one item before it. So we have 2 items in the list\n",
       "- c: The empty list has 0 items\n",
       "- d: The expression is the same as the list `[2, 3]`, which has length 2."
      ]
     },
     "metadata": {},
     "output_type": "display_data"
    }
   ],
   "source": [
    "a = [1, 2, 3]\n",
    "b = [1, [2, 3]]\n",
    "c = []\n",
    "d = [1, 2, 3][1:]\n",
    "\n",
    "# Put your predictions in the list below. Lengths should contain 4 numbers, the\n",
    "# first being the length of a, the second being the length of b and so on.\n",
    "lengths = [3,2,0,2]\n",
    "\n",
    "# Check your answer\n",
    "q4.check()"
   ]
  },
  {
   "cell_type": "code",
   "execution_count": 9,
   "id": "524a5fbf",
   "metadata": {
    "collapsed": true,
    "execution": {
     "iopub.execute_input": "2021-08-05T07:12:03.464380Z",
     "iopub.status.busy": "2021-08-05T07:12:03.463786Z",
     "iopub.status.idle": "2021-08-05T07:12:03.466377Z",
     "shell.execute_reply": "2021-08-05T07:12:03.466800Z"
    },
    "jupyter": {
     "outputs_hidden": true
    },
    "papermill": {
     "duration": 0.01914,
     "end_time": "2021-08-05T07:12:03.466956",
     "exception": false,
     "start_time": "2021-08-05T07:12:03.447816",
     "status": "completed"
    },
    "tags": []
   },
   "outputs": [],
   "source": [
    "# line below provides some explanation\n",
    "#q4.solution()"
   ]
  },
  {
   "cell_type": "markdown",
   "id": "a940d112",
   "metadata": {
    "papermill": {
     "duration": 0.013554,
     "end_time": "2021-08-05T07:12:03.494449",
     "exception": false,
     "start_time": "2021-08-05T07:12:03.480895",
     "status": "completed"
    },
    "tags": []
   },
   "source": [
    "# 5. <span title=\"A bit spicy\" style=\"color: darkgreen \">🌶️</span>\n",
    "\n",
    "We're using lists to record people who attended our party and what order they arrived in. For example, the following list represents a party with 7 guests, in which Adela showed up first and Ford was the last to arrive:\n",
    "\n",
    "    party_attendees = ['Adela', 'Fleda', 'Owen', 'May', 'Mona', 'Gilbert', 'Ford']\n",
    "\n",
    "A guest is considered 'fashionably late' if they arrived after at least half of the party's guests. However, they must not be the very last guest (that's taking it too far). In the above example, Mona and Gilbert are the only guests who were fashionably late.\n",
    "\n",
    "Complete the function below which takes a list of party attendees as well as a person, and tells us whether that person is fashionably late."
   ]
  },
  {
   "cell_type": "code",
   "execution_count": 10,
   "id": "1e6a3792",
   "metadata": {
    "execution": {
     "iopub.execute_input": "2021-08-05T07:12:03.525485Z",
     "iopub.status.busy": "2021-08-05T07:12:03.524742Z",
     "iopub.status.idle": "2021-08-05T07:12:03.531240Z",
     "shell.execute_reply": "2021-08-05T07:12:03.531636Z",
     "shell.execute_reply.started": "2021-08-05T07:10:15.446208Z"
    },
    "papermill": {
     "duration": 0.023314,
     "end_time": "2021-08-05T07:12:03.531801",
     "exception": false,
     "start_time": "2021-08-05T07:12:03.508487",
     "status": "completed"
    },
    "tags": []
   },
   "outputs": [
    {
     "data": {
      "application/javascript": [
       "parent.postMessage({\"jupyterEvent\": \"custom.exercise_interaction\", \"data\": {\"outcomeType\": 1, \"valueTowardsCompletion\": 0.2, \"interactionType\": 1, \"questionType\": 2, \"questionId\": \"5_FashionablyLate\", \"learnToolsVersion\": \"0.3.4\", \"failureMessage\": \"\", \"exceptionClass\": \"\", \"trace\": \"\"}}, \"*\")"
      ],
      "text/plain": [
       "<IPython.core.display.Javascript object>"
      ]
     },
     "metadata": {},
     "output_type": "display_data"
    },
    {
     "data": {
      "text/markdown": [
       "<span style=\"color:#33cc33\">Correct</span>"
      ],
      "text/plain": [
       "Correct"
      ]
     },
     "metadata": {},
     "output_type": "display_data"
    }
   ],
   "source": [
    "def fashionably_late(arrivals, name):\n",
    "    \"\"\"Given an ordered list of arrivals to the party and a name, return whether the guest with that\n",
    "    name was fashionably late.\n",
    "    \"\"\"\n",
    "    order = arrivals.index(name) \n",
    "    return order >= len(arrivals)/2 and order != len(arrivals)-1\n",
    "\n",
    "# Check your answer\n",
    "q5.check()"
   ]
  },
  {
   "cell_type": "code",
   "execution_count": 11,
   "id": "1e29dbf7",
   "metadata": {
    "execution": {
     "iopub.execute_input": "2021-08-05T07:12:03.564674Z",
     "iopub.status.busy": "2021-08-05T07:12:03.564037Z",
     "iopub.status.idle": "2021-08-05T07:12:03.566601Z",
     "shell.execute_reply": "2021-08-05T07:12:03.567035Z",
     "shell.execute_reply.started": "2021-08-05T07:10:28.679616Z"
    },
    "papermill": {
     "duration": 0.020306,
     "end_time": "2021-08-05T07:12:03.567219",
     "exception": false,
     "start_time": "2021-08-05T07:12:03.546913",
     "status": "completed"
    },
    "tags": []
   },
   "outputs": [],
   "source": [
    "#q5.hint()\n",
    "#q5.solution()"
   ]
  },
  {
   "cell_type": "markdown",
   "id": "5bf9e92e",
   "metadata": {
    "papermill": {
     "duration": 0.014368,
     "end_time": "2021-08-05T07:12:03.596459",
     "exception": false,
     "start_time": "2021-08-05T07:12:03.582091",
     "status": "completed"
    },
    "tags": []
   },
   "source": [
    "# Keep Going\n",
    "\n",
    "That's it for lists and tuples! Now you have the baseline knowledge to **[learn about loops](https://www.kaggle.com/colinmorris/loops-and-list-comprehensions)**, which is where lists and tuples get really interesting. "
   ]
  },
  {
   "cell_type": "markdown",
   "id": "f3da2c03",
   "metadata": {
    "papermill": {
     "duration": 0.015096,
     "end_time": "2021-08-05T07:12:03.626191",
     "exception": false,
     "start_time": "2021-08-05T07:12:03.611095",
     "status": "completed"
    },
    "tags": []
   },
   "source": [
    "---\n",
    "\n",
    "\n",
    "\n",
    "\n",
    "*Have questions or comments? Visit the [Learn Discussion forum](https://www.kaggle.com/learn-forum/161283) to chat with other Learners.*"
   ]
  }
 ],
 "metadata": {
  "kernelspec": {
   "display_name": "Python 3",
   "language": "python",
   "name": "python3"
  },
  "language_info": {
   "codemirror_mode": {
    "name": "ipython",
    "version": 3
   },
   "file_extension": ".py",
   "mimetype": "text/x-python",
   "name": "python",
   "nbconvert_exporter": "python",
   "pygments_lexer": "ipython3",
   "version": "3.7.10"
  },
  "papermill": {
   "default_parameters": {},
   "duration": 8.610259,
   "end_time": "2021-08-05T07:12:04.250467",
   "environment_variables": {},
   "exception": null,
   "input_path": "__notebook__.ipynb",
   "output_path": "__notebook__.ipynb",
   "parameters": {},
   "start_time": "2021-08-05T07:11:55.640208",
   "version": "2.3.3"
  }
 },
 "nbformat": 4,
 "nbformat_minor": 5
}
