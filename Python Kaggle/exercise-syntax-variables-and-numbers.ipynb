{
 "cells": [
  {
   "cell_type": "markdown",
   "id": "e4210ec9",
   "metadata": {
    "papermill": {
     "duration": 0.016728,
     "end_time": "2021-08-04T04:15:05.868167",
     "exception": false,
     "start_time": "2021-08-04T04:15:05.851439",
     "status": "completed"
    },
    "tags": []
   },
   "source": [
    "**This notebook is an exercise in the [Python](https://www.kaggle.com/learn/python) course.  You can reference the tutorial at [this link](https://www.kaggle.com/colinmorris/hello-python).**\n",
    "\n",
    "---\n"
   ]
  },
  {
   "cell_type": "markdown",
   "id": "929c6c07",
   "metadata": {
    "papermill": {
     "duration": 0.015267,
     "end_time": "2021-08-04T04:15:05.900337",
     "exception": false,
     "start_time": "2021-08-04T04:15:05.885070",
     "status": "completed"
    },
    "tags": []
   },
   "source": [
    "Welcome to your first set of Python coding problems.  If this is your first time using Kaggle Notebooks, welcome! \n",
    "\n",
    "Notebooks are composed of blocks (called \"cells\") of text and code. Each of these is editable, though you'll mainly be editing the code cells to answer some questions.\n",
    "\n",
    "To get started, try running the code cell below (by pressing the ► button, or clicking on the cell and pressing ctrl+enter on your keyboard)."
   ]
  },
  {
   "cell_type": "code",
   "execution_count": 1,
   "id": "cb2fdbd9",
   "metadata": {
    "execution": {
     "iopub.execute_input": "2021-08-04T04:15:05.935922Z",
     "iopub.status.busy": "2021-08-04T04:15:05.934878Z",
     "iopub.status.idle": "2021-08-04T04:15:05.945750Z",
     "shell.execute_reply": "2021-08-04T04:15:05.946558Z",
     "shell.execute_reply.started": "2021-08-04T04:03:40.306035Z"
    },
    "papermill": {
     "duration": 0.031013,
     "end_time": "2021-08-04T04:15:05.946961",
     "exception": false,
     "start_time": "2021-08-04T04:15:05.915948",
     "status": "completed"
    },
    "tags": []
   },
   "outputs": [
    {
     "name": "stdout",
     "output_type": "stream",
     "text": [
      "You've successfully run some Python code\n",
      "Congratulations!\n",
      "Keep Learning!!\n"
     ]
    }
   ],
   "source": [
    "print(\"You've successfully run some Python code\")\n",
    "print(\"Congratulations!\")\n",
    "print(\"Keep Learning!!\")"
   ]
  },
  {
   "cell_type": "markdown",
   "id": "a0f83323",
   "metadata": {
    "papermill": {
     "duration": 0.015854,
     "end_time": "2021-08-04T04:15:05.980376",
     "exception": false,
     "start_time": "2021-08-04T04:15:05.964522",
     "status": "completed"
    },
    "tags": []
   },
   "source": [
    "Try adding another line of code in the cell above and re-running it. \n",
    "\n",
    "Now let's get a little fancier:  Add a new code cell by clicking on an existing code cell, hitting the escape key, and then hitting the `a` or `b` key.  The `a` key will add a cell above the current cell, and `b` adds a cell below.\n",
    "\n",
    "Great! Now you know how to use Notebooks.\n",
    "\n",
    "Each hands-on exercise starts by setting up our feedback and code checking mechanism. Run the code cell below to do that. Then you'll be ready to move on to question 0."
   ]
  },
  {
   "cell_type": "code",
   "execution_count": 2,
   "id": "3f95a7e7",
   "metadata": {
    "_kg_hide-input": true,
    "_kg_hide-output": true,
    "execution": {
     "iopub.execute_input": "2021-08-04T04:15:06.016280Z",
     "iopub.status.busy": "2021-08-04T04:15:06.015244Z",
     "iopub.status.idle": "2021-08-04T04:15:06.145307Z",
     "shell.execute_reply": "2021-08-04T04:15:06.144632Z",
     "shell.execute_reply.started": "2021-08-04T04:04:16.910595Z"
    },
    "papermill": {
     "duration": 0.149745,
     "end_time": "2021-08-04T04:15:06.145570",
     "exception": false,
     "start_time": "2021-08-04T04:15:05.995825",
     "status": "completed"
    },
    "tags": []
   },
   "outputs": [
    {
     "name": "stdout",
     "output_type": "stream",
     "text": [
      "Setup complete! You're ready to start question 0.\n"
     ]
    }
   ],
   "source": [
    "from learntools.core import binder; binder.bind(globals())\n",
    "from learntools.python.ex1 import *\n",
    "print(\"Setup complete! You're ready to start question 0.\")"
   ]
  },
  {
   "cell_type": "markdown",
   "id": "78a7a327",
   "metadata": {
    "papermill": {
     "duration": 0.015441,
     "end_time": "2021-08-04T04:15:06.177789",
     "exception": false,
     "start_time": "2021-08-04T04:15:06.162348",
     "status": "completed"
    },
    "tags": []
   },
   "source": [
    "# 0.\n",
    "\n",
    "*This is a silly question intended as an introduction to the format we use for hands-on exercises throughout all Kaggle courses.*\n",
    "\n",
    "**What is your favorite color? **\n",
    "\n",
    "To complete this question, create a variable called `color` in the cell below with an appropriate value. The function call `q0.check()` (which we've already provided in the cell below) will check your answer."
   ]
  },
  {
   "cell_type": "code",
   "execution_count": 3,
   "id": "546391e1",
   "metadata": {
    "execution": {
     "iopub.execute_input": "2021-08-04T04:15:06.212106Z",
     "iopub.status.busy": "2021-08-04T04:15:06.211445Z",
     "iopub.status.idle": "2021-08-04T04:15:06.220663Z",
     "shell.execute_reply": "2021-08-04T04:15:06.221342Z",
     "shell.execute_reply.started": "2021-08-04T04:05:04.516213Z"
    },
    "papermill": {
     "duration": 0.028282,
     "end_time": "2021-08-04T04:15:06.221597",
     "exception": false,
     "start_time": "2021-08-04T04:15:06.193315",
     "status": "completed"
    },
    "tags": []
   },
   "outputs": [
    {
     "data": {
      "application/javascript": [
       "parent.postMessage({\"jupyterEvent\": \"custom.exercise_interaction\", \"data\": {\"outcomeType\": 1, \"valueTowardsCompletion\": 0.25, \"interactionType\": 1, \"questionType\": 2, \"questionId\": \"0_ExerciseFormatTutorial\", \"learnToolsVersion\": \"0.3.4\", \"failureMessage\": \"\", \"exceptionClass\": \"\", \"trace\": \"\"}}, \"*\")"
      ],
      "text/plain": [
       "<IPython.core.display.Javascript object>"
      ]
     },
     "metadata": {},
     "output_type": "display_data"
    },
    {
     "data": {
      "text/markdown": [
       "<span style=\"color:#33cc33\">Correct:</span> What?! You got it right without needing a hint or anything? Drats. Well hey, you should still continue to the next step to get some practice asking for a hint and checking solutions. (Even though you obviously don't need any help here.)"
      ],
      "text/plain": [
       "Correct: What?! You got it right without needing a hint or anything? Drats. Well hey, you should still continue to the next step to get some practice asking for a hint and checking solutions. (Even though you obviously don't need any help here.)"
      ]
     },
     "metadata": {},
     "output_type": "display_data"
    }
   ],
   "source": [
    "# create a variable called color with an appropriate value on the line below\n",
    "# (Remember, strings in Python must be enclosed in 'single' or \"double\" quotes)\n",
    "color = 'blue'\n",
    "\n",
    "# Check your answer\n",
    "q0.check()"
   ]
  },
  {
   "cell_type": "markdown",
   "id": "9cbc8b7c",
   "metadata": {
    "papermill": {
     "duration": 0.018096,
     "end_time": "2021-08-04T04:15:06.256920",
     "exception": false,
     "start_time": "2021-08-04T04:15:06.238824",
     "status": "completed"
    },
    "tags": []
   },
   "source": [
    "Didn't get the right answer? How do you not even know your own favorite color?!\n",
    "\n",
    "Delete the `#` in the line below to make one of the lines run. You can choose between getting a hint or the full answer by choosing which line to remove the `#` from. \n",
    "\n",
    "Removing the `#` is called uncommenting, because it changes that line from a \"comment\" which Python doesn't run to code, which Python does run."
   ]
  },
  {
   "cell_type": "code",
   "execution_count": 4,
   "id": "3b27fda3",
   "metadata": {
    "execution": {
     "iopub.execute_input": "2021-08-04T04:15:06.304738Z",
     "iopub.status.busy": "2021-08-04T04:15:06.303891Z",
     "iopub.status.idle": "2021-08-04T04:15:06.309569Z",
     "shell.execute_reply": "2021-08-04T04:15:06.309084Z",
     "shell.execute_reply.started": "2021-08-04T04:05:45.746696Z"
    },
    "papermill": {
     "duration": 0.033132,
     "end_time": "2021-08-04T04:15:06.309721",
     "exception": false,
     "start_time": "2021-08-04T04:15:06.276589",
     "status": "completed"
    },
    "tags": []
   },
   "outputs": [
    {
     "data": {
      "application/javascript": [
       "parent.postMessage({\"jupyterEvent\": \"custom.exercise_interaction\", \"data\": {\"interactionType\": 3, \"questionType\": 2, \"questionId\": \"0_ExerciseFormatTutorial\", \"learnToolsVersion\": \"0.3.4\", \"valueTowardsCompletion\": 0.0, \"failureMessage\": \"\", \"exceptionClass\": \"\", \"trace\": \"\", \"outcomeType\": 4}}, \"*\")"
      ],
      "text/plain": [
       "<IPython.core.display.Javascript object>"
      ]
     },
     "metadata": {},
     "output_type": "display_data"
    },
    {
     "data": {
      "text/markdown": [
       "<span style=\"color:#33cc99\">Solution:</span> \n",
       "```python\n",
       "color = \"blue\"\n",
       "```"
      ],
      "text/plain": [
       "Solution: \n",
       "```python\n",
       "color = \"blue\"\n",
       "```"
      ]
     },
     "metadata": {},
     "output_type": "display_data"
    }
   ],
   "source": [
    "#q0.hint()\n",
    "q0.solution()"
   ]
  },
  {
   "cell_type": "markdown",
   "id": "d01e746c",
   "metadata": {
    "papermill": {
     "duration": 0.01973,
     "end_time": "2021-08-04T04:15:06.349967",
     "exception": false,
     "start_time": "2021-08-04T04:15:06.330237",
     "status": "completed"
    },
    "tags": []
   },
   "source": [
    "The upcoming questions work the same way. The only thing that will change are the question numbers. For the next question, you'll call `q1.check()`, `q1.hint()`, `q1.solution()`, for question 2, you'll call `q2.check()`, and so on."
   ]
  },
  {
   "cell_type": "markdown",
   "id": "8b006971",
   "metadata": {
    "papermill": {
     "duration": 0.016727,
     "end_time": "2021-08-04T04:15:06.383923",
     "exception": false,
     "start_time": "2021-08-04T04:15:06.367196",
     "status": "completed"
    },
    "tags": []
   },
   "source": [
    "<hr/>\n",
    "\n",
    "# 1.\n",
    "\n",
    "Complete the code below. In case it's helpful, here is the table of available arithmetic operations:\n",
    "\n",
    "\n",
    "\n",
    "| Operator     | Name           | Description                                            |\n",
    "|--------------|----------------|--------------------------------------------------------|\n",
    "| ``a + b``    | Addition       | Sum of ``a`` and ``b``                                 |\n",
    "| ``a - b``    | Subtraction    | Difference of ``a`` and ``b``                          |\n",
    "| ``a * b``    | Multiplication | Product of ``a`` and ``b``                             |\n",
    "| ``a / b``    | True division  | Quotient of ``a`` and ``b``                            |\n",
    "| ``a // b``   | Floor division | Quotient of ``a`` and ``b``, removing fractional parts |\n",
    "| ``a % b``    | Modulus        | Integer remainder after division of ``a`` by ``b``     |\n",
    "| ``a ** b``   | Exponentiation | ``a`` raised to the power of ``b``                     |\n",
    "| ``-a``       | Negation       | The negative of ``a``                                  |\n",
    "\n",
    "<span style=\"display:none\"></span>\n"
   ]
  },
  {
   "cell_type": "code",
   "execution_count": 5,
   "id": "34a190ac",
   "metadata": {
    "execution": {
     "iopub.execute_input": "2021-08-04T04:15:06.424751Z",
     "iopub.status.busy": "2021-08-04T04:15:06.424007Z",
     "iopub.status.idle": "2021-08-04T04:15:06.429280Z",
     "shell.execute_reply": "2021-08-04T04:15:06.429758Z",
     "shell.execute_reply.started": "2021-08-04T04:06:57.949266Z"
    },
    "papermill": {
     "duration": 0.028059,
     "end_time": "2021-08-04T04:15:06.429925",
     "exception": false,
     "start_time": "2021-08-04T04:15:06.401866",
     "status": "completed"
    },
    "tags": []
   },
   "outputs": [
    {
     "data": {
      "application/javascript": [
       "parent.postMessage({\"jupyterEvent\": \"custom.exercise_interaction\", \"data\": {\"outcomeType\": 1, \"valueTowardsCompletion\": 0.25, \"interactionType\": 1, \"questionType\": 1, \"questionId\": \"1_CircleArea\", \"learnToolsVersion\": \"0.3.4\", \"failureMessage\": \"\", \"exceptionClass\": \"\", \"trace\": \"\"}}, \"*\")"
      ],
      "text/plain": [
       "<IPython.core.display.Javascript object>"
      ]
     },
     "metadata": {},
     "output_type": "display_data"
    },
    {
     "data": {
      "text/markdown": [
       "<span style=\"color:#33cc33\">Correct</span>"
      ],
      "text/plain": [
       "Correct"
      ]
     },
     "metadata": {},
     "output_type": "display_data"
    }
   ],
   "source": [
    "pi = 3.14159 # approximate\n",
    "diameter = 3\n",
    "\n",
    "# Create a variable called 'radius' equal to half the diameter\n",
    "radius = diameter/2\n",
    "\n",
    "# Create a variable called 'area', using the formula for the area of a circle: pi times the radius squared\n",
    "area = pi*(radius**2)\n",
    "\n",
    "# Check your answer\n",
    "q1.check()"
   ]
  },
  {
   "cell_type": "code",
   "execution_count": 6,
   "id": "78a6fa46",
   "metadata": {
    "execution": {
     "iopub.execute_input": "2021-08-04T04:15:06.472109Z",
     "iopub.status.busy": "2021-08-04T04:15:06.471149Z",
     "iopub.status.idle": "2021-08-04T04:15:06.477671Z",
     "shell.execute_reply": "2021-08-04T04:15:06.477168Z",
     "shell.execute_reply.started": "2021-08-04T04:07:04.909181Z"
    },
    "papermill": {
     "duration": 0.029842,
     "end_time": "2021-08-04T04:15:06.477808",
     "exception": false,
     "start_time": "2021-08-04T04:15:06.447966",
     "status": "completed"
    },
    "tags": []
   },
   "outputs": [
    {
     "data": {
      "application/javascript": [
       "parent.postMessage({\"jupyterEvent\": \"custom.exercise_interaction\", \"data\": {\"interactionType\": 3, \"questionType\": 1, \"questionId\": \"1_CircleArea\", \"learnToolsVersion\": \"0.3.4\", \"valueTowardsCompletion\": 0.0, \"failureMessage\": \"\", \"exceptionClass\": \"\", \"trace\": \"\", \"outcomeType\": 4}}, \"*\")"
      ],
      "text/plain": [
       "<IPython.core.display.Javascript object>"
      ]
     },
     "metadata": {},
     "output_type": "display_data"
    },
    {
     "data": {
      "text/markdown": [
       "<span style=\"color:#33cc99\">Solution:</span> \n",
       "```python\n",
       "radius = diameter / 2\n",
       "area = pi * radius ** 2\n",
       "```"
      ],
      "text/plain": [
       "Solution: \n",
       "```python\n",
       "radius = diameter / 2\n",
       "area = pi * radius ** 2\n",
       "```"
      ]
     },
     "metadata": {},
     "output_type": "display_data"
    }
   ],
   "source": [
    "# Uncomment and run the lines below if you need help.\n",
    "#q1.hint()\n",
    "q1.solution()"
   ]
  },
  {
   "cell_type": "markdown",
   "id": "c5ed3460",
   "metadata": {
    "papermill": {
     "duration": 0.019264,
     "end_time": "2021-08-04T04:15:06.516486",
     "exception": false,
     "start_time": "2021-08-04T04:15:06.497222",
     "status": "completed"
    },
    "tags": []
   },
   "source": [
    "<hr/>\n",
    "\n",
    "# 2.\n",
    "\n",
    "Add code to the following cell to swap variables `a` and `b` (so that `a` refers to the object previously referred to by `b` and vice versa)."
   ]
  },
  {
   "cell_type": "code",
   "execution_count": 7,
   "id": "61d563e8",
   "metadata": {
    "execution": {
     "iopub.execute_input": "2021-08-04T04:15:06.556517Z",
     "iopub.status.busy": "2021-08-04T04:15:06.555876Z",
     "iopub.status.idle": "2021-08-04T04:15:06.562681Z",
     "shell.execute_reply": "2021-08-04T04:15:06.563124Z",
     "shell.execute_reply.started": "2021-08-04T04:08:48.164042Z"
    },
    "papermill": {
     "duration": 0.028353,
     "end_time": "2021-08-04T04:15:06.563286",
     "exception": false,
     "start_time": "2021-08-04T04:15:06.534933",
     "status": "completed"
    },
    "tags": []
   },
   "outputs": [
    {
     "data": {
      "application/javascript": [
       "parent.postMessage({\"jupyterEvent\": \"custom.exercise_interaction\", \"data\": {\"outcomeType\": 1, \"valueTowardsCompletion\": 0.25, \"interactionType\": 1, \"questionType\": 2, \"questionId\": \"2_VariableSwap\", \"learnToolsVersion\": \"0.3.4\", \"failureMessage\": \"\", \"exceptionClass\": \"\", \"trace\": \"\"}}, \"*\")"
      ],
      "text/plain": [
       "<IPython.core.display.Javascript object>"
      ]
     },
     "metadata": {},
     "output_type": "display_data"
    },
    {
     "data": {
      "text/markdown": [
       "<span style=\"color:#33cc33\">Correct:</span> \n",
       "\n",
       "The most straightforward solution is to use a third variable to temporarily store one of the old values. e.g.:\n",
       "\n",
       "    tmp = a\n",
       "    a = b\n",
       "    b = tmp\n",
       "\n",
       "If you've read lots of Python code, you might have seen the following trick to swap two variables in one line:\n",
       "\n",
       "    a, b = b, a\n",
       "\n",
       "We'll demystify this bit of Python magic later when we talk about *tuples*."
      ],
      "text/plain": [
       "Correct: \n",
       "\n",
       "The most straightforward solution is to use a third variable to temporarily store one of the old values. e.g.:\n",
       "\n",
       "    tmp = a\n",
       "    a = b\n",
       "    b = tmp\n",
       "\n",
       "If you've read lots of Python code, you might have seen the following trick to swap two variables in one line:\n",
       "\n",
       "    a, b = b, a\n",
       "\n",
       "We'll demystify this bit of Python magic later when we talk about *tuples*."
      ]
     },
     "metadata": {},
     "output_type": "display_data"
    }
   ],
   "source": [
    "########### Setup code - don't touch this part ######################\n",
    "# If you're curious, these are examples of lists. We'll talk about \n",
    "# them in depth a few lessons from now. For now, just know that they're\n",
    "# yet another type of Python object, like int or float.\n",
    "a = [1, 2, 3]\n",
    "b = [3, 2, 1]\n",
    "q2.store_original_ids()\n",
    "######################################################################\n",
    "\n",
    "# Your code goes here. Swap the values to which a and b refer.\n",
    "# If you get stuck, you can always uncomment one or both of the lines in\n",
    "# the next cell for a hint, or to peek at the solution.\n",
    "temp = a\n",
    "a = b\n",
    "b = temp\n",
    "\n",
    "######################################################################\n",
    "\n",
    "# Check your answer\n",
    "q2.check()"
   ]
  },
  {
   "cell_type": "code",
   "execution_count": 8,
   "id": "0d5eebe1",
   "metadata": {
    "execution": {
     "iopub.execute_input": "2021-08-04T04:15:06.606843Z",
     "iopub.status.busy": "2021-08-04T04:15:06.606220Z",
     "iopub.status.idle": "2021-08-04T04:15:06.610992Z",
     "shell.execute_reply": "2021-08-04T04:15:06.610481Z"
    },
    "papermill": {
     "duration": 0.028425,
     "end_time": "2021-08-04T04:15:06.611136",
     "exception": false,
     "start_time": "2021-08-04T04:15:06.582711",
     "status": "completed"
    },
    "tags": []
   },
   "outputs": [],
   "source": [
    "#q2.hint()"
   ]
  },
  {
   "cell_type": "code",
   "execution_count": 9,
   "id": "28922ebd",
   "metadata": {
    "execution": {
     "iopub.execute_input": "2021-08-04T04:15:06.655500Z",
     "iopub.status.busy": "2021-08-04T04:15:06.654874Z",
     "iopub.status.idle": "2021-08-04T04:15:06.659738Z",
     "shell.execute_reply": "2021-08-04T04:15:06.659133Z",
     "shell.execute_reply.started": "2021-08-04T04:08:15.376571Z"
    },
    "papermill": {
     "duration": 0.029057,
     "end_time": "2021-08-04T04:15:06.659875",
     "exception": false,
     "start_time": "2021-08-04T04:15:06.630818",
     "status": "completed"
    },
    "tags": []
   },
   "outputs": [
    {
     "data": {
      "application/javascript": [
       "parent.postMessage({\"jupyterEvent\": \"custom.exercise_interaction\", \"data\": {\"interactionType\": 3, \"questionType\": 2, \"questionId\": \"2_VariableSwap\", \"learnToolsVersion\": \"0.3.4\", \"valueTowardsCompletion\": 0.0, \"failureMessage\": \"\", \"exceptionClass\": \"\", \"trace\": \"\", \"outcomeType\": 4}}, \"*\")"
      ],
      "text/plain": [
       "<IPython.core.display.Javascript object>"
      ]
     },
     "metadata": {},
     "output_type": "display_data"
    },
    {
     "data": {
      "text/markdown": [
       "<span style=\"color:#33cc99\">Solution:</span> The most straightforward solution is to use a third variable to temporarily store one of the old values. e.g.:\n",
       "\n",
       "    tmp = a\n",
       "    a = b\n",
       "    b = tmp\n",
       "\n",
       "If you've read lots of Python code, you might have seen the following trick to swap two variables in one line:\n",
       "\n",
       "    a, b = b, a\n",
       "\n",
       "We'll demystify this bit of Python magic later when we talk about *tuples*."
      ],
      "text/plain": [
       "Solution: The most straightforward solution is to use a third variable to temporarily store one of the old values. e.g.:\n",
       "\n",
       "    tmp = a\n",
       "    a = b\n",
       "    b = tmp\n",
       "\n",
       "If you've read lots of Python code, you might have seen the following trick to swap two variables in one line:\n",
       "\n",
       "    a, b = b, a\n",
       "\n",
       "We'll demystify this bit of Python magic later when we talk about *tuples*."
      ]
     },
     "metadata": {},
     "output_type": "display_data"
    }
   ],
   "source": [
    "q2.solution()"
   ]
  },
  {
   "cell_type": "markdown",
   "id": "0e5517a8",
   "metadata": {
    "papermill": {
     "duration": 0.023526,
     "end_time": "2021-08-04T04:15:06.703788",
     "exception": false,
     "start_time": "2021-08-04T04:15:06.680262",
     "status": "completed"
    },
    "tags": []
   },
   "source": [
    "<hr/>\n",
    "\n",
    "# 3a.\n",
    "\n",
    "Add parentheses to the following expression so that it evaluates to 1."
   ]
  },
  {
   "cell_type": "code",
   "execution_count": 10,
   "id": "520e0e10",
   "metadata": {
    "execution": {
     "iopub.execute_input": "2021-08-04T04:15:06.766245Z",
     "iopub.status.busy": "2021-08-04T04:15:06.765241Z",
     "iopub.status.idle": "2021-08-04T04:15:06.770309Z",
     "shell.execute_reply": "2021-08-04T04:15:06.771039Z",
     "shell.execute_reply.started": "2021-08-04T04:09:36.060548Z"
    },
    "papermill": {
     "duration": 0.038902,
     "end_time": "2021-08-04T04:15:06.771276",
     "exception": false,
     "start_time": "2021-08-04T04:15:06.732374",
     "status": "completed"
    },
    "tags": []
   },
   "outputs": [
    {
     "data": {
      "text/plain": [
       "1"
      ]
     },
     "execution_count": 10,
     "metadata": {},
     "output_type": "execute_result"
    }
   ],
   "source": [
    "(5 - 3) // 2"
   ]
  },
  {
   "cell_type": "code",
   "execution_count": 11,
   "id": "02930baf",
   "metadata": {
    "execution": {
     "iopub.execute_input": "2021-08-04T04:15:06.826122Z",
     "iopub.status.busy": "2021-08-04T04:15:06.825175Z",
     "iopub.status.idle": "2021-08-04T04:15:06.829013Z",
     "shell.execute_reply": "2021-08-04T04:15:06.828357Z"
    },
    "papermill": {
     "duration": 0.032382,
     "end_time": "2021-08-04T04:15:06.829151",
     "exception": false,
     "start_time": "2021-08-04T04:15:06.796769",
     "status": "completed"
    },
    "tags": []
   },
   "outputs": [],
   "source": [
    "#q3.a.hint()"
   ]
  },
  {
   "cell_type": "code",
   "execution_count": 12,
   "id": "efce31da",
   "metadata": {
    "execution": {
     "iopub.execute_input": "2021-08-04T04:15:06.877093Z",
     "iopub.status.busy": "2021-08-04T04:15:06.876389Z",
     "iopub.status.idle": "2021-08-04T04:15:06.880794Z",
     "shell.execute_reply": "2021-08-04T04:15:06.881181Z",
     "shell.execute_reply.started": "2021-08-04T04:09:40.252486Z"
    },
    "papermill": {
     "duration": 0.030703,
     "end_time": "2021-08-04T04:15:06.881355",
     "exception": false,
     "start_time": "2021-08-04T04:15:06.850652",
     "status": "completed"
    },
    "tags": []
   },
   "outputs": [
    {
     "data": {
      "application/javascript": [
       "parent.postMessage({\"jupyterEvent\": \"custom.exercise_interaction\", \"data\": {\"interactionType\": 3, \"questionType\": 4, \"questionId\": \"3.1_ArithmeticParensEasy\", \"learnToolsVersion\": \"0.3.4\", \"valueTowardsCompletion\": 0.0, \"failureMessage\": \"\", \"exceptionClass\": \"\", \"trace\": \"\", \"outcomeType\": 4}}, \"*\")"
      ],
      "text/plain": [
       "<IPython.core.display.Javascript object>"
      ]
     },
     "metadata": {},
     "output_type": "display_data"
    },
    {
     "data": {
      "text/markdown": [
       "<span style=\"color:#33cc99\">Solution:</span> \n",
       "```python\n",
       "(5 - 3) // 2\n",
       "```"
      ],
      "text/plain": [
       "Solution: \n",
       "```python\n",
       "(5 - 3) // 2\n",
       "```"
      ]
     },
     "metadata": {},
     "output_type": "display_data"
    }
   ],
   "source": [
    "# Check your answer (Run this code cell to receive credit!)\n",
    "q3.a.solution()"
   ]
  },
  {
   "cell_type": "markdown",
   "id": "593d5781",
   "metadata": {
    "papermill": {
     "duration": 0.021408,
     "end_time": "2021-08-04T04:15:06.924109",
     "exception": false,
     "start_time": "2021-08-04T04:15:06.902701",
     "status": "completed"
    },
    "tags": []
   },
   "source": [
    "# 3b.  <span title=\"A bit spicy\" style=\"color: darkgreen \">🌶️</span>\n",
    "\n",
    "<small>Questions, like this one, marked a spicy pepper are a bit harder.</small>\n",
    "\n",
    "Add parentheses to the following expression so that it evaluates to 0."
   ]
  },
  {
   "cell_type": "code",
   "execution_count": 13,
   "id": "527f45f2",
   "metadata": {
    "execution": {
     "iopub.execute_input": "2021-08-04T04:15:06.969702Z",
     "iopub.status.busy": "2021-08-04T04:15:06.969108Z",
     "iopub.status.idle": "2021-08-04T04:15:06.973423Z",
     "shell.execute_reply": "2021-08-04T04:15:06.973900Z",
     "shell.execute_reply.started": "2021-08-04T04:11:28.728031Z"
    },
    "papermill": {
     "duration": 0.028531,
     "end_time": "2021-08-04T04:15:06.974083",
     "exception": false,
     "start_time": "2021-08-04T04:15:06.945552",
     "status": "completed"
    },
    "tags": []
   },
   "outputs": [
    {
     "data": {
      "text/plain": [
       "0"
      ]
     },
     "execution_count": 13,
     "metadata": {},
     "output_type": "execute_result"
    }
   ],
   "source": [
    "8 - 3 * 2 - (1 + 1)"
   ]
  },
  {
   "cell_type": "code",
   "execution_count": 14,
   "id": "d8b9c866",
   "metadata": {
    "execution": {
     "iopub.execute_input": "2021-08-04T04:15:07.020602Z",
     "iopub.status.busy": "2021-08-04T04:15:07.019940Z",
     "iopub.status.idle": "2021-08-04T04:15:07.023844Z",
     "shell.execute_reply": "2021-08-04T04:15:07.023355Z"
    },
    "papermill": {
     "duration": 0.028476,
     "end_time": "2021-08-04T04:15:07.023980",
     "exception": false,
     "start_time": "2021-08-04T04:15:06.995504",
     "status": "completed"
    },
    "tags": []
   },
   "outputs": [],
   "source": [
    "#q3.b.hint()"
   ]
  },
  {
   "cell_type": "code",
   "execution_count": 15,
   "id": "c43f4d32",
   "metadata": {
    "execution": {
     "iopub.execute_input": "2021-08-04T04:15:07.073791Z",
     "iopub.status.busy": "2021-08-04T04:15:07.072899Z",
     "iopub.status.idle": "2021-08-04T04:15:07.079026Z",
     "shell.execute_reply": "2021-08-04T04:15:07.078451Z",
     "shell.execute_reply.started": "2021-08-04T04:11:02.478847Z"
    },
    "papermill": {
     "duration": 0.033147,
     "end_time": "2021-08-04T04:15:07.079166",
     "exception": false,
     "start_time": "2021-08-04T04:15:07.046019",
     "status": "completed"
    },
    "tags": []
   },
   "outputs": [
    {
     "data": {
      "application/javascript": [
       "parent.postMessage({\"jupyterEvent\": \"custom.exercise_interaction\", \"data\": {\"interactionType\": 3, \"questionType\": 4, \"questionId\": \"3.2_ArithmeticParensHard\", \"learnToolsVersion\": \"0.3.4\", \"valueTowardsCompletion\": 0.0, \"failureMessage\": \"\", \"exceptionClass\": \"\", \"trace\": \"\", \"outcomeType\": 4}}, \"*\")"
      ],
      "text/plain": [
       "<IPython.core.display.Javascript object>"
      ]
     },
     "metadata": {},
     "output_type": "display_data"
    },
    {
     "data": {
      "text/markdown": [
       "<span style=\"color:#33cc99\">Solution:</span> `(8 - 3) * (2 - (1 + 1))` is one solution. There may be others."
      ],
      "text/plain": [
       "Solution: `(8 - 3) * (2 - (1 + 1))` is one solution. There may be others."
      ]
     },
     "metadata": {},
     "output_type": "display_data"
    }
   ],
   "source": [
    "# Check your answer (Run this code cell to receive credit!)\n",
    "q3.b.solution()"
   ]
  },
  {
   "cell_type": "markdown",
   "id": "82555059",
   "metadata": {
    "papermill": {
     "duration": 0.023823,
     "end_time": "2021-08-04T04:15:07.126079",
     "exception": false,
     "start_time": "2021-08-04T04:15:07.102256",
     "status": "completed"
    },
    "tags": []
   },
   "source": [
    "<hr/>\n",
    "\n",
    "# 4. \n",
    "Alice, Bob and Carol have agreed to pool their Halloween candy and split it evenly among themselves.\n",
    "For the sake of their friendship, any candies left over will be smashed. For example, if they collectively\n",
    "bring home 91 candies, they'll take 30 each and smash 1.\n",
    "\n",
    "Write an arithmetic expression below to calculate how many candies they must smash for a given haul."
   ]
  },
  {
   "cell_type": "code",
   "execution_count": 16,
   "id": "b233a9db",
   "metadata": {
    "execution": {
     "iopub.execute_input": "2021-08-04T04:15:07.178724Z",
     "iopub.status.busy": "2021-08-04T04:15:07.178081Z",
     "iopub.status.idle": "2021-08-04T04:15:07.182653Z",
     "shell.execute_reply": "2021-08-04T04:15:07.183062Z",
     "shell.execute_reply.started": "2021-08-04T04:14:16.330553Z"
    },
    "papermill": {
     "duration": 0.033118,
     "end_time": "2021-08-04T04:15:07.183244",
     "exception": false,
     "start_time": "2021-08-04T04:15:07.150126",
     "status": "completed"
    },
    "tags": []
   },
   "outputs": [
    {
     "data": {
      "application/javascript": [
       "parent.postMessage({\"jupyterEvent\": \"custom.exercise_interaction\", \"data\": {\"outcomeType\": 1, \"valueTowardsCompletion\": 0.25, \"interactionType\": 1, \"questionType\": 1, \"questionId\": \"4_CandySplitting\", \"learnToolsVersion\": \"0.3.4\", \"failureMessage\": \"\", \"exceptionClass\": \"\", \"trace\": \"\"}}, \"*\")"
      ],
      "text/plain": [
       "<IPython.core.display.Javascript object>"
      ]
     },
     "metadata": {},
     "output_type": "display_data"
    },
    {
     "data": {
      "text/markdown": [
       "<span style=\"color:#33cc33\">Correct</span>"
      ],
      "text/plain": [
       "Correct"
      ]
     },
     "metadata": {},
     "output_type": "display_data"
    }
   ],
   "source": [
    "# Variables representing the number of candies collected by alice, bob, and carol\n",
    "alice_candies = 121\n",
    "bob_candies = 77\n",
    "carol_candies = 109\n",
    "\n",
    "# Your code goes here! Replace the right-hand side of this assignment with an expression\n",
    "# involving alice_candies, bob_candies, and carol_candies\n",
    "total_candies = alice_candies + bob_candies + carol_candies\n",
    "to_smash = total_candies%3 \n",
    "\n",
    "\n",
    "# Check your answer\n",
    "q4.check()"
   ]
  },
  {
   "cell_type": "code",
   "execution_count": 17,
   "id": "0eb00da1",
   "metadata": {
    "execution": {
     "iopub.execute_input": "2021-08-04T04:15:07.241183Z",
     "iopub.status.busy": "2021-08-04T04:15:07.240223Z",
     "iopub.status.idle": "2021-08-04T04:15:07.251021Z",
     "shell.execute_reply": "2021-08-04T04:15:07.250209Z",
     "shell.execute_reply.started": "2021-08-04T04:14:26.627222Z"
    },
    "papermill": {
     "duration": 0.041216,
     "end_time": "2021-08-04T04:15:07.251220",
     "exception": false,
     "start_time": "2021-08-04T04:15:07.210004",
     "status": "completed"
    },
    "tags": []
   },
   "outputs": [
    {
     "data": {
      "application/javascript": [
       "parent.postMessage({\"jupyterEvent\": \"custom.exercise_interaction\", \"data\": {\"interactionType\": 2, \"questionType\": 1, \"questionId\": \"4_CandySplitting\", \"learnToolsVersion\": \"0.3.4\", \"valueTowardsCompletion\": 0.0, \"failureMessage\": \"\", \"exceptionClass\": \"\", \"trace\": \"\", \"outcomeType\": 4}}, \"*\")"
      ],
      "text/plain": [
       "<IPython.core.display.Javascript object>"
      ]
     },
     "metadata": {},
     "output_type": "display_data"
    },
    {
     "data": {
      "text/markdown": [
       "<span style=\"color:#3366cc\">Hint 1:</span> You'll probably want to use the modulo operator, `%`.\n",
       "(For another hint, call `.hint(2)`)"
      ],
      "text/plain": [
       "Hint 1: You'll probably want to use the modulo operator, `%`.\n",
       "(For another hint, call `.hint(2)`)"
      ]
     },
     "metadata": {},
     "output_type": "display_data"
    }
   ],
   "source": [
    "q4.hint()\n",
    "#q4.solution()"
   ]
  },
  {
   "cell_type": "markdown",
   "id": "46b7c1a2",
   "metadata": {
    "papermill": {
     "duration": 0.026838,
     "end_time": "2021-08-04T04:15:07.316029",
     "exception": false,
     "start_time": "2021-08-04T04:15:07.289191",
     "status": "completed"
    },
    "tags": []
   },
   "source": [
    "# Keep Going\n",
    "\n",
    "Next up, you'll **[learn to write new functions and understand functions others write](https://www.kaggle.com/colinmorris/functions-and-getting-help)**. This will make you at least 10 times more productive as a Python programmer. "
   ]
  },
  {
   "cell_type": "markdown",
   "id": "afc2ec55",
   "metadata": {
    "papermill": {
     "duration": 0.023568,
     "end_time": "2021-08-04T04:15:07.364553",
     "exception": false,
     "start_time": "2021-08-04T04:15:07.340985",
     "status": "completed"
    },
    "tags": []
   },
   "source": [
    "---\n",
    "\n",
    "\n",
    "\n",
    "\n",
    "*Have questions or comments? Visit the [Learn Discussion forum](https://www.kaggle.com/learn-forum/161283) to chat with other Learners.*"
   ]
  }
 ],
 "metadata": {
  "kernelspec": {
   "display_name": "Python 3",
   "language": "python",
   "name": "python3"
  },
  "language_info": {
   "codemirror_mode": {
    "name": "ipython",
    "version": 3
   },
   "file_extension": ".py",
   "mimetype": "text/x-python",
   "name": "python",
   "nbconvert_exporter": "python",
   "pygments_lexer": "ipython3",
   "version": "3.7.10"
  },
  "papermill": {
   "default_parameters": {},
   "duration": 9.646739,
   "end_time": "2021-08-04T04:15:07.998663",
   "environment_variables": {},
   "exception": null,
   "input_path": "__notebook__.ipynb",
   "output_path": "__notebook__.ipynb",
   "parameters": {},
   "start_time": "2021-08-04T04:14:58.351924",
   "version": "2.3.3"
  }
 },
 "nbformat": 4,
 "nbformat_minor": 5
}
