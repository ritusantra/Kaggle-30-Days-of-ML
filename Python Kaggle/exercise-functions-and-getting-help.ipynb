{
 "cells": [
  {
   "cell_type": "markdown",
   "id": "cf6595d1",
   "metadata": {
    "papermill": {
     "duration": 0.01353,
     "end_time": "2021-08-04T04:46:44.812217",
     "exception": false,
     "start_time": "2021-08-04T04:46:44.798687",
     "status": "completed"
    },
    "tags": []
   },
   "source": [
    "**This notebook is an exercise in the [Python](https://www.kaggle.com/learn/python) course.  You can reference the tutorial at [this link](https://www.kaggle.com/colinmorris/functions-and-getting-help).**\n",
    "\n",
    "---\n"
   ]
  },
  {
   "cell_type": "markdown",
   "id": "61174249",
   "metadata": {
    "papermill": {
     "duration": 0.011836,
     "end_time": "2021-08-04T04:46:44.837183",
     "exception": false,
     "start_time": "2021-08-04T04:46:44.825347",
     "status": "completed"
    },
    "tags": []
   },
   "source": [
    "Functions are powerful. Try writing some yourself.\n",
    "\n",
    "As before, don't forget to run the setup code below before jumping into question 1."
   ]
  },
  {
   "cell_type": "code",
   "execution_count": 1,
   "id": "97bb72f3",
   "metadata": {
    "_kg_hide-input": true,
    "_kg_hide-output": true,
    "execution": {
     "iopub.execute_input": "2021-08-04T04:46:44.871262Z",
     "iopub.status.busy": "2021-08-04T04:46:44.870712Z",
     "iopub.status.idle": "2021-08-04T04:46:44.996973Z",
     "shell.execute_reply": "2021-08-04T04:46:44.996035Z",
     "shell.execute_reply.started": "2021-08-04T04:24:25.811307Z"
    },
    "papermill": {
     "duration": 0.147858,
     "end_time": "2021-08-04T04:46:44.997190",
     "exception": false,
     "start_time": "2021-08-04T04:46:44.849332",
     "status": "completed"
    },
    "tags": []
   },
   "outputs": [
    {
     "name": "stdout",
     "output_type": "stream",
     "text": [
      "Setup complete.\n"
     ]
    }
   ],
   "source": [
    "# SETUP. You don't need to worry for now about what this code does or how it works.\n",
    "from learntools.core import binder; binder.bind(globals())\n",
    "from learntools.python.ex2 import *\n",
    "print('Setup complete.')"
   ]
  },
  {
   "cell_type": "markdown",
   "id": "bfe356f2",
   "metadata": {
    "papermill": {
     "duration": 0.012693,
     "end_time": "2021-08-04T04:46:45.023623",
     "exception": false,
     "start_time": "2021-08-04T04:46:45.010930",
     "status": "completed"
    },
    "tags": []
   },
   "source": [
    "# 1.\n",
    "\n",
    "Complete the body of the following function according to its docstring.\n",
    "\n",
    "HINT: Python has a built-in function `round`."
   ]
  },
  {
   "cell_type": "code",
   "execution_count": 2,
   "id": "2588aa9b",
   "metadata": {
    "execution": {
     "iopub.execute_input": "2021-08-04T04:46:45.057721Z",
     "iopub.status.busy": "2021-08-04T04:46:45.056774Z",
     "iopub.status.idle": "2021-08-04T04:46:45.062875Z",
     "shell.execute_reply": "2021-08-04T04:46:45.062298Z",
     "shell.execute_reply.started": "2021-08-04T04:26:55.299159Z"
    },
    "papermill": {
     "duration": 0.026444,
     "end_time": "2021-08-04T04:46:45.063007",
     "exception": false,
     "start_time": "2021-08-04T04:46:45.036563",
     "status": "completed"
    },
    "tags": []
   },
   "outputs": [
    {
     "data": {
      "application/javascript": [
       "parent.postMessage({\"jupyterEvent\": \"custom.exercise_interaction\", \"data\": {\"outcomeType\": 1, \"valueTowardsCompletion\": 0.16666666666666666, \"interactionType\": 1, \"questionType\": 2, \"questionId\": \"1_RoundFunctionProblem\", \"learnToolsVersion\": \"0.3.4\", \"failureMessage\": \"\", \"exceptionClass\": \"\", \"trace\": \"\"}}, \"*\")"
      ],
      "text/plain": [
       "<IPython.core.display.Javascript object>"
      ]
     },
     "metadata": {},
     "output_type": "display_data"
    },
    {
     "data": {
      "text/markdown": [
       "<span style=\"color:#33cc33\">Correct</span>"
      ],
      "text/plain": [
       "Correct"
      ]
     },
     "metadata": {},
     "output_type": "display_data"
    }
   ],
   "source": [
    "def round_to_two_places(num):\n",
    "    \"\"\"Return the given number rounded to two decimal places. \n",
    "    \n",
    "    >>> round_to_two_places(3.14159)\n",
    "    3.14\n",
    "    \"\"\"\n",
    "    return round(num, 2)\n",
    "\n",
    "    # Replace this body with your own code.\n",
    "    # (\"pass\" is a keyword that does literally nothing. We used it as a placeholder\n",
    "    # because after we begin a code block, Python requires at least one line of code)\n",
    "    pass\n",
    "\n",
    "# Check your answer\n",
    "q1.check()"
   ]
  },
  {
   "cell_type": "code",
   "execution_count": 3,
   "id": "a5248e6f",
   "metadata": {
    "execution": {
     "iopub.execute_input": "2021-08-04T04:46:45.094935Z",
     "iopub.status.busy": "2021-08-04T04:46:45.094288Z",
     "iopub.status.idle": "2021-08-04T04:46:45.099094Z",
     "shell.execute_reply": "2021-08-04T04:46:45.098602Z",
     "shell.execute_reply.started": "2021-08-04T04:26:50.558293Z"
    },
    "papermill": {
     "duration": 0.022537,
     "end_time": "2021-08-04T04:46:45.099226",
     "exception": false,
     "start_time": "2021-08-04T04:46:45.076689",
     "status": "completed"
    },
    "tags": []
   },
   "outputs": [
    {
     "data": {
      "application/javascript": [
       "parent.postMessage({\"jupyterEvent\": \"custom.exercise_interaction\", \"data\": {\"interactionType\": 3, \"questionType\": 2, \"questionId\": \"1_RoundFunctionProblem\", \"learnToolsVersion\": \"0.3.4\", \"valueTowardsCompletion\": 0.0, \"failureMessage\": \"\", \"exceptionClass\": \"\", \"trace\": \"\", \"outcomeType\": 4}}, \"*\")"
      ],
      "text/plain": [
       "<IPython.core.display.Javascript object>"
      ]
     },
     "metadata": {},
     "output_type": "display_data"
    },
    {
     "data": {
      "text/markdown": [
       "<span style=\"color:#33cc99\">Solution:</span> \n",
       "```python\n",
       "return round(num, 2)\n",
       "```"
      ],
      "text/plain": [
       "Solution: \n",
       "```python\n",
       "return round(num, 2)\n",
       "```"
      ]
     },
     "metadata": {},
     "output_type": "display_data"
    }
   ],
   "source": [
    "# Uncomment the following for a hint\n",
    "#q1.hint()\n",
    "# Or uncomment the following to peek at the solution\n",
    "q1.solution()"
   ]
  },
  {
   "cell_type": "markdown",
   "id": "f1a5d6c2",
   "metadata": {
    "papermill": {
     "duration": 0.013797,
     "end_time": "2021-08-04T04:46:45.127198",
     "exception": false,
     "start_time": "2021-08-04T04:46:45.113401",
     "status": "completed"
    },
    "tags": []
   },
   "source": [
    "# 2.\n",
    "The help for `round` says that `ndigits` (the second argument) may be negative.\n",
    "What do you think will happen when it is? Try some examples in the following cell."
   ]
  },
  {
   "cell_type": "code",
   "execution_count": 4,
   "id": "6abfc8d8",
   "metadata": {
    "execution": {
     "iopub.execute_input": "2021-08-04T04:46:45.161774Z",
     "iopub.status.busy": "2021-08-04T04:46:45.160966Z",
     "iopub.status.idle": "2021-08-04T04:46:45.164717Z",
     "shell.execute_reply": "2021-08-04T04:46:45.165113Z",
     "shell.execute_reply.started": "2021-08-04T04:31:36.322318Z"
    },
    "papermill": {
     "duration": 0.023865,
     "end_time": "2021-08-04T04:46:45.165285",
     "exception": false,
     "start_time": "2021-08-04T04:46:45.141420",
     "status": "completed"
    },
    "tags": []
   },
   "outputs": [
    {
     "data": {
      "text/plain": [
       "10.0"
      ]
     },
     "execution_count": 4,
     "metadata": {},
     "output_type": "execute_result"
    }
   ],
   "source": [
    "# Put your test code here\n",
    "round(12.356,-1)"
   ]
  },
  {
   "cell_type": "code",
   "execution_count": 5,
   "id": "a3603e81",
   "metadata": {
    "execution": {
     "iopub.execute_input": "2021-08-04T04:46:45.200004Z",
     "iopub.status.busy": "2021-08-04T04:46:45.199128Z",
     "iopub.status.idle": "2021-08-04T04:46:45.203507Z",
     "shell.execute_reply": "2021-08-04T04:46:45.202925Z",
     "shell.execute_reply.started": "2021-08-04T04:30:09.391188Z"
    },
    "papermill": {
     "duration": 0.023761,
     "end_time": "2021-08-04T04:46:45.203644",
     "exception": false,
     "start_time": "2021-08-04T04:46:45.179883",
     "status": "completed"
    },
    "tags": []
   },
   "outputs": [
    {
     "data": {
      "text/plain": [
       "148520"
      ]
     },
     "execution_count": 5,
     "metadata": {},
     "output_type": "execute_result"
    }
   ],
   "source": [
    "round(148525,-1)"
   ]
  },
  {
   "cell_type": "code",
   "execution_count": 6,
   "id": "48aed121",
   "metadata": {
    "execution": {
     "iopub.execute_input": "2021-08-04T04:46:45.238189Z",
     "iopub.status.busy": "2021-08-04T04:46:45.237275Z",
     "iopub.status.idle": "2021-08-04T04:46:45.241500Z",
     "shell.execute_reply": "2021-08-04T04:46:45.241011Z",
     "shell.execute_reply.started": "2021-08-04T04:30:44.428883Z"
    },
    "papermill": {
     "duration": 0.023213,
     "end_time": "2021-08-04T04:46:45.241632",
     "exception": false,
     "start_time": "2021-08-04T04:46:45.218419",
     "status": "completed"
    },
    "tags": []
   },
   "outputs": [
    {
     "data": {
      "text/plain": [
       "148600"
      ]
     },
     "execution_count": 6,
     "metadata": {},
     "output_type": "execute_result"
    }
   ],
   "source": [
    "round(148555,-2)"
   ]
  },
  {
   "cell_type": "code",
   "execution_count": 7,
   "id": "fe0722d3",
   "metadata": {
    "execution": {
     "iopub.execute_input": "2021-08-04T04:46:45.276991Z",
     "iopub.status.busy": "2021-08-04T04:46:45.276195Z",
     "iopub.status.idle": "2021-08-04T04:46:45.279914Z",
     "shell.execute_reply": "2021-08-04T04:46:45.279286Z",
     "shell.execute_reply.started": "2021-08-04T04:30:55.285083Z"
    },
    "papermill": {
     "duration": 0.023256,
     "end_time": "2021-08-04T04:46:45.280053",
     "exception": false,
     "start_time": "2021-08-04T04:46:45.256797",
     "status": "completed"
    },
    "tags": []
   },
   "outputs": [
    {
     "data": {
      "text/plain": [
       "149000"
      ]
     },
     "execution_count": 7,
     "metadata": {},
     "output_type": "execute_result"
    }
   ],
   "source": [
    "round(148525,-3)"
   ]
  },
  {
   "cell_type": "markdown",
   "id": "bfdb8022",
   "metadata": {
    "papermill": {
     "duration": 0.014841,
     "end_time": "2021-08-04T04:46:45.310041",
     "exception": false,
     "start_time": "2021-08-04T04:46:45.295200",
     "status": "completed"
    },
    "tags": []
   },
   "source": [
    "Can you think of a case where this would be useful?  Once you're ready, run the code cell below to see the answer and to receive credit for completing the problem."
   ]
  },
  {
   "cell_type": "code",
   "execution_count": 8,
   "id": "6c341972",
   "metadata": {
    "execution": {
     "iopub.execute_input": "2021-08-04T04:46:45.345857Z",
     "iopub.status.busy": "2021-08-04T04:46:45.344883Z",
     "iopub.status.idle": "2021-08-04T04:46:45.350943Z",
     "shell.execute_reply": "2021-08-04T04:46:45.350389Z",
     "shell.execute_reply.started": "2021-08-04T04:28:51.261330Z"
    },
    "papermill": {
     "duration": 0.025923,
     "end_time": "2021-08-04T04:46:45.351081",
     "exception": false,
     "start_time": "2021-08-04T04:46:45.325158",
     "status": "completed"
    },
    "tags": []
   },
   "outputs": [
    {
     "data": {
      "application/javascript": [
       "parent.postMessage({\"jupyterEvent\": \"custom.exercise_interaction\", \"data\": {\"interactionType\": 3, \"questionType\": 4, \"questionId\": \"2_RoundNdigitsProblem\", \"learnToolsVersion\": \"0.3.4\", \"valueTowardsCompletion\": 0.0, \"failureMessage\": \"\", \"exceptionClass\": \"\", \"trace\": \"\", \"outcomeType\": 4}}, \"*\")"
      ],
      "text/plain": [
       "<IPython.core.display.Javascript object>"
      ]
     },
     "metadata": {},
     "output_type": "display_data"
    },
    {
     "data": {
      "text/markdown": [
       "<span style=\"color:#33cc99\">Solution:</span> As you've seen, `ndigits=-1` rounds to the nearest 10, `ndigits=-2` rounds to the nearest 100 and so on. Where might this be useful? Suppose we're dealing with large numbers:\n",
       "\n",
       "> The area of Finland is 338,424 km²  \n",
       "> The area of Greenland is 2,166,086 km²\n",
       "\n",
       "We probably don't care whether it's really 338,424, or 338,425, or 338,177. All those digits of accuracy are just distracting. We can chop them off by calling `round()` with `ndigits=-3`:\n",
       "\n",
       "> The area of Finland is 338,000 km²  \n",
       "> The area of Greenland is 2,166,000 km²\n",
       "\n",
       "(We'll talk about how we would get the commas later when we talk about string formatting :))\n"
      ],
      "text/plain": [
       "Solution: As you've seen, `ndigits=-1` rounds to the nearest 10, `ndigits=-2` rounds to the nearest 100 and so on. Where might this be useful? Suppose we're dealing with large numbers:\n",
       "\n",
       "> The area of Finland is 338,424 km²  \n",
       "> The area of Greenland is 2,166,086 km²\n",
       "\n",
       "We probably don't care whether it's really 338,424, or 338,425, or 338,177. All those digits of accuracy are just distracting. We can chop them off by calling `round()` with `ndigits=-3`:\n",
       "\n",
       "> The area of Finland is 338,000 km²  \n",
       "> The area of Greenland is 2,166,000 km²\n",
       "\n",
       "(We'll talk about how we would get the commas later when we talk about string formatting :))"
      ]
     },
     "metadata": {},
     "output_type": "display_data"
    }
   ],
   "source": [
    "# Check your answer (Run this code cell to receive credit!)\n",
    "q2.solution()"
   ]
  },
  {
   "cell_type": "markdown",
   "id": "1ae49177",
   "metadata": {
    "papermill": {
     "duration": 0.015708,
     "end_time": "2021-08-04T04:46:45.382872",
     "exception": false,
     "start_time": "2021-08-04T04:46:45.367164",
     "status": "completed"
    },
    "tags": []
   },
   "source": [
    "# 3.\n",
    "\n",
    "In the previous exercise, the candy-sharing friends Alice, Bob and Carol tried to split candies evenly. For the sake of their friendship, any candies left over would be smashed. For example, if they collectively bring home 91 candies, they'll take 30 each and smash 1.\n",
    "\n",
    "Below is a simple function that will calculate the number of candies to smash for *any* number of total candies.\n",
    "\n",
    "Modify it so that it optionally takes a second argument representing the number of friends the candies are being split between. If no second argument is provided, it should assume 3 friends, as before.\n",
    "\n",
    "Update the docstring to reflect this new behaviour."
   ]
  },
  {
   "cell_type": "code",
   "execution_count": 9,
   "id": "90f4a314",
   "metadata": {
    "execution": {
     "iopub.execute_input": "2021-08-04T04:46:45.421500Z",
     "iopub.status.busy": "2021-08-04T04:46:45.420366Z",
     "iopub.status.idle": "2021-08-04T04:46:45.426117Z",
     "shell.execute_reply": "2021-08-04T04:46:45.425542Z",
     "shell.execute_reply.started": "2021-08-04T04:45:56.089214Z"
    },
    "papermill": {
     "duration": 0.026759,
     "end_time": "2021-08-04T04:46:45.426247",
     "exception": false,
     "start_time": "2021-08-04T04:46:45.399488",
     "status": "completed"
    },
    "tags": []
   },
   "outputs": [
    {
     "data": {
      "application/javascript": [
       "parent.postMessage({\"jupyterEvent\": \"custom.exercise_interaction\", \"data\": {\"outcomeType\": 1, \"valueTowardsCompletion\": 0.16666666666666666, \"interactionType\": 1, \"questionType\": 2, \"questionId\": \"3_CandySmashingFunctionProblem\", \"learnToolsVersion\": \"0.3.4\", \"failureMessage\": \"\", \"exceptionClass\": \"\", \"trace\": \"\"}}, \"*\")"
      ],
      "text/plain": [
       "<IPython.core.display.Javascript object>"
      ]
     },
     "metadata": {},
     "output_type": "display_data"
    },
    {
     "data": {
      "text/markdown": [
       "<span style=\"color:#33cc33\">Correct</span>"
      ],
      "text/plain": [
       "Correct"
      ]
     },
     "metadata": {},
     "output_type": "display_data"
    }
   ],
   "source": [
    "def to_smash(total_candies,friends=3):\n",
    "    \"\"\"Return the number of leftover candies that must be smashed after distributing\n",
    "    the given number of candies evenly between the given number of friends friends.\n",
    "    \n",
    "    >>> to_smash(91)\n",
    "    1\n",
    "    \"\"\"\n",
    "    return total_candies % friends\n",
    "\n",
    "# Check your answer\n",
    "q3.check()"
   ]
  },
  {
   "cell_type": "code",
   "execution_count": 10,
   "id": "bd3d5f11",
   "metadata": {
    "execution": {
     "iopub.execute_input": "2021-08-04T04:46:45.464780Z",
     "iopub.status.busy": "2021-08-04T04:46:45.464149Z",
     "iopub.status.idle": "2021-08-04T04:46:45.467258Z",
     "shell.execute_reply": "2021-08-04T04:46:45.466775Z",
     "shell.execute_reply.started": "2021-08-04T04:44:43.615386Z"
    },
    "papermill": {
     "duration": 0.023699,
     "end_time": "2021-08-04T04:46:45.467393",
     "exception": false,
     "start_time": "2021-08-04T04:46:45.443694",
     "status": "completed"
    },
    "tags": []
   },
   "outputs": [],
   "source": [
    "#q3.hint()"
   ]
  },
  {
   "cell_type": "code",
   "execution_count": 11,
   "id": "bc2eee64",
   "metadata": {
    "execution": {
     "iopub.execute_input": "2021-08-04T04:46:45.506557Z",
     "iopub.status.busy": "2021-08-04T04:46:45.505583Z",
     "iopub.status.idle": "2021-08-04T04:46:45.510623Z",
     "shell.execute_reply": "2021-08-04T04:46:45.511060Z",
     "shell.execute_reply.started": "2021-08-04T04:44:49.392340Z"
    },
    "papermill": {
     "duration": 0.026895,
     "end_time": "2021-08-04T04:46:45.511219",
     "exception": false,
     "start_time": "2021-08-04T04:46:45.484324",
     "status": "completed"
    },
    "tags": []
   },
   "outputs": [
    {
     "data": {
      "application/javascript": [
       "parent.postMessage({\"jupyterEvent\": \"custom.exercise_interaction\", \"data\": {\"interactionType\": 3, \"questionType\": 2, \"questionId\": \"3_CandySmashingFunctionProblem\", \"learnToolsVersion\": \"0.3.4\", \"valueTowardsCompletion\": 0.0, \"failureMessage\": \"\", \"exceptionClass\": \"\", \"trace\": \"\", \"outcomeType\": 4}}, \"*\")"
      ],
      "text/plain": [
       "<IPython.core.display.Javascript object>"
      ]
     },
     "metadata": {},
     "output_type": "display_data"
    },
    {
     "data": {
      "text/markdown": [
       "<span style=\"color:#33cc99\">Solution:</span> \n",
       "```python\n",
       "def to_smash(total_candies, n_friends=3):\n",
       "    return total_candies % n_friends\n",
       "```"
      ],
      "text/plain": [
       "Solution: \n",
       "```python\n",
       "def to_smash(total_candies, n_friends=3):\n",
       "    return total_candies % n_friends\n",
       "```"
      ]
     },
     "metadata": {},
     "output_type": "display_data"
    }
   ],
   "source": [
    "q3.solution()"
   ]
  },
  {
   "cell_type": "markdown",
   "id": "e430cf64",
   "metadata": {
    "papermill": {
     "duration": 0.022469,
     "end_time": "2021-08-04T04:46:45.552071",
     "exception": false,
     "start_time": "2021-08-04T04:46:45.529602",
     "status": "completed"
    },
    "tags": []
   },
   "source": [
    "# 4. (Optional)\n",
    "\n",
    "It may not be fun, but reading and understanding error messages will be an important part of your Python career.\n",
    "\n",
    "Each code cell below contains some commented buggy code. For each cell...\n",
    "\n",
    "1. Read the code and predict what you think will happen when it's run.\n",
    "2. Then uncomment the code and run it to see what happens. (**Tip**: In the kernel editor, you can highlight several lines and press `ctrl`+`/` to toggle commenting.)\n",
    "3. Fix the code (so that it accomplishes its intended purpose without throwing an exception)\n",
    "\n",
    "<!-- TODO: should this be autochecked? Delta is probably pretty small. -->"
   ]
  },
  {
   "cell_type": "code",
   "execution_count": 12,
   "id": "87abca4d",
   "metadata": {
    "execution": {
     "iopub.execute_input": "2021-08-04T04:46:45.605954Z",
     "iopub.status.busy": "2021-08-04T04:46:45.605059Z",
     "iopub.status.idle": "2021-08-04T04:46:45.611819Z",
     "shell.execute_reply": "2021-08-04T04:46:45.611307Z",
     "shell.execute_reply.started": "2021-08-04T04:33:37.581274Z"
    },
    "papermill": {
     "duration": 0.03071,
     "end_time": "2021-08-04T04:46:45.611959",
     "exception": false,
     "start_time": "2021-08-04T04:46:45.581249",
     "status": "completed"
    },
    "tags": []
   },
   "outputs": [
    {
     "data": {
      "text/plain": [
       "10.0"
      ]
     },
     "execution_count": 12,
     "metadata": {},
     "output_type": "execute_result"
    }
   ],
   "source": [
    "# ruound_to_two_places(9.9999)\n",
    "round(9.9999,2)"
   ]
  },
  {
   "cell_type": "code",
   "execution_count": 13,
   "id": "189393c7",
   "metadata": {
    "execution": {
     "iopub.execute_input": "2021-08-04T04:46:45.653143Z",
     "iopub.status.busy": "2021-08-04T04:46:45.652411Z",
     "iopub.status.idle": "2021-08-04T04:46:45.655490Z",
     "shell.execute_reply": "2021-08-04T04:46:45.655919Z",
     "shell.execute_reply.started": "2021-08-04T04:34:24.281647Z"
    },
    "papermill": {
     "duration": 0.026328,
     "end_time": "2021-08-04T04:46:45.656096",
     "exception": false,
     "start_time": "2021-08-04T04:46:45.629768",
     "status": "completed"
    },
    "tags": []
   },
   "outputs": [
    {
     "data": {
      "text/plain": [
       "5"
      ]
     },
     "execution_count": 13,
     "metadata": {},
     "output_type": "execute_result"
    }
   ],
   "source": [
    "x = -10\n",
    "y = 5\n",
    "# # Which of the two variables above has the smallest absolute value?\n",
    "smallest_abs = min(abs(x),abs(y))\n",
    "smallest_abs"
   ]
  },
  {
   "cell_type": "code",
   "execution_count": 14,
   "id": "b80f1864",
   "metadata": {
    "execution": {
     "iopub.execute_input": "2021-08-04T04:46:45.695273Z",
     "iopub.status.busy": "2021-08-04T04:46:45.694342Z",
     "iopub.status.idle": "2021-08-04T04:46:45.699859Z",
     "shell.execute_reply": "2021-08-04T04:46:45.700289Z",
     "shell.execute_reply.started": "2021-08-04T04:36:37.224508Z"
    },
    "papermill": {
     "duration": 0.026662,
     "end_time": "2021-08-04T04:46:45.700467",
     "exception": false,
     "start_time": "2021-08-04T04:46:45.673805",
     "status": "completed"
    },
    "tags": []
   },
   "outputs": [
    {
     "name": "stdout",
     "output_type": "stream",
     "text": [
      "5\n"
     ]
    }
   ],
   "source": [
    "def f(x):\n",
    "    y = abs(x)\n",
    "    return y\n",
    "        \n",
    "print(f(5))"
   ]
  },
  {
   "cell_type": "markdown",
   "id": "5c8c270c",
   "metadata": {
    "papermill": {
     "duration": 0.017648,
     "end_time": "2021-08-04T04:46:45.736271",
     "exception": false,
     "start_time": "2021-08-04T04:46:45.718623",
     "status": "completed"
    },
    "tags": []
   },
   "source": [
    "# Keep Going\n",
    "\n",
    "Nice job with the code. Next up, you'll learn about *conditionals*, which you'll need to **[write interesting programs](https://www.kaggle.com/colinmorris/booleans-and-conditionals)**. "
   ]
  },
  {
   "cell_type": "markdown",
   "id": "6de6c786",
   "metadata": {
    "papermill": {
     "duration": 0.017607,
     "end_time": "2021-08-04T04:46:45.771940",
     "exception": false,
     "start_time": "2021-08-04T04:46:45.754333",
     "status": "completed"
    },
    "tags": []
   },
   "source": [
    "---\n",
    "\n",
    "\n",
    "\n",
    "\n",
    "*Have questions or comments? Visit the [Learn Discussion forum](https://www.kaggle.com/learn-forum/161283) to chat with other Learners.*"
   ]
  }
 ],
 "metadata": {
  "kernelspec": {
   "display_name": "Python 3",
   "language": "python",
   "name": "python3"
  },
  "language_info": {
   "codemirror_mode": {
    "name": "ipython",
    "version": 3
   },
   "file_extension": ".py",
   "mimetype": "text/x-python",
   "name": "python",
   "nbconvert_exporter": "python",
   "pygments_lexer": "ipython3",
   "version": "3.7.10"
  },
  "papermill": {
   "default_parameters": {},
   "duration": 9.732313,
   "end_time": "2021-08-04T04:46:47.394478",
   "environment_variables": {},
   "exception": null,
   "input_path": "__notebook__.ipynb",
   "output_path": "__notebook__.ipynb",
   "parameters": {},
   "start_time": "2021-08-04T04:46:37.662165",
   "version": "2.3.3"
  }
 },
 "nbformat": 4,
 "nbformat_minor": 5
}
