{
 "cells": [
  {
   "cell_type": "markdown",
   "id": "86f83484",
   "metadata": {
    "papermill": {
     "duration": 0.016275,
     "end_time": "2021-08-14T15:12:01.729304",
     "exception": false,
     "start_time": "2021-08-14T15:12:01.713029",
     "status": "completed"
    },
    "tags": []
   },
   "source": [
    "**This notebook is an exercise in the [Intermediate Machine Learning](https://www.kaggle.com/learn/intermediate-machine-learning) course.  You can reference the tutorial at [this link](https://www.kaggle.com/alexisbcook/xgboost).**\n",
    "\n",
    "---\n"
   ]
  },
  {
   "cell_type": "markdown",
   "id": "ce2180d6",
   "metadata": {
    "papermill": {
     "duration": 0.014564,
     "end_time": "2021-08-14T15:12:01.762469",
     "exception": false,
     "start_time": "2021-08-14T15:12:01.747905",
     "status": "completed"
    },
    "tags": []
   },
   "source": [
    "In this exercise, you will use your new knowledge to train a model with **gradient boosting**.\n",
    "\n",
    "# Setup\n",
    "\n",
    "The questions below will give you feedback on your work. Run the following cell to set up the feedback system."
   ]
  },
  {
   "cell_type": "code",
   "execution_count": 1,
   "id": "1e227c60",
   "metadata": {
    "execution": {
     "iopub.execute_input": "2021-08-14T15:12:01.808561Z",
     "iopub.status.busy": "2021-08-14T15:12:01.807605Z",
     "iopub.status.idle": "2021-08-14T15:12:03.883032Z",
     "shell.execute_reply": "2021-08-14T15:12:03.883679Z",
     "shell.execute_reply.started": "2021-08-14T15:02:42.121339Z"
    },
    "papermill": {
     "duration": 2.104877,
     "end_time": "2021-08-14T15:12:03.884014",
     "exception": false,
     "start_time": "2021-08-14T15:12:01.779137",
     "status": "completed"
    },
    "tags": []
   },
   "outputs": [
    {
     "name": "stdout",
     "output_type": "stream",
     "text": [
      "Setup Complete\n"
     ]
    }
   ],
   "source": [
    "# Set up code checking\n",
    "import os\n",
    "if not os.path.exists(\"../input/train.csv\"):\n",
    "    os.symlink(\"../input/home-data-for-ml-course/train.csv\", \"../input/train.csv\")  \n",
    "    os.symlink(\"../input/home-data-for-ml-course/test.csv\", \"../input/test.csv\") \n",
    "from learntools.core import binder\n",
    "binder.bind(globals())\n",
    "from learntools.ml_intermediate.ex6 import *\n",
    "print(\"Setup Complete\")"
   ]
  },
  {
   "cell_type": "markdown",
   "id": "593300fe",
   "metadata": {
    "papermill": {
     "duration": 0.015363,
     "end_time": "2021-08-14T15:12:03.917109",
     "exception": false,
     "start_time": "2021-08-14T15:12:03.901746",
     "status": "completed"
    },
    "tags": []
   },
   "source": [
    "You will work with the [Housing Prices Competition for Kaggle Learn Users](https://www.kaggle.com/c/home-data-for-ml-course) dataset from the previous exercise. \n",
    "\n",
    "![Ames Housing dataset image](https://i.imgur.com/lTJVG4e.png)\n",
    "\n",
    "Run the next code cell without changes to load the training and validation sets in `X_train`, `X_valid`, `y_train`, and `y_valid`.  The test set is loaded in `X_test`."
   ]
  },
  {
   "cell_type": "code",
   "execution_count": 2,
   "id": "54d4c12c",
   "metadata": {
    "execution": {
     "iopub.execute_input": "2021-08-14T15:12:03.959063Z",
     "iopub.status.busy": "2021-08-14T15:12:03.958435Z",
     "iopub.status.idle": "2021-08-14T15:12:04.180042Z",
     "shell.execute_reply": "2021-08-14T15:12:04.179489Z",
     "shell.execute_reply.started": "2021-08-14T15:03:26.788434Z"
    },
    "papermill": {
     "duration": 0.247613,
     "end_time": "2021-08-14T15:12:04.180185",
     "exception": false,
     "start_time": "2021-08-14T15:12:03.932572",
     "status": "completed"
    },
    "tags": []
   },
   "outputs": [],
   "source": [
    "import pandas as pd\n",
    "from sklearn.model_selection import train_test_split\n",
    "\n",
    "# Read the data\n",
    "X = pd.read_csv('../input/train.csv', index_col='Id')\n",
    "X_test_full = pd.read_csv('../input/test.csv', index_col='Id')\n",
    "\n",
    "# Remove rows with missing target, separate target from predictors\n",
    "X.dropna(axis=0, subset=['SalePrice'], inplace=True)\n",
    "y = X.SalePrice              \n",
    "X.drop(['SalePrice'], axis=1, inplace=True)\n",
    "\n",
    "# Break off validation set from training data\n",
    "X_train_full, X_valid_full, y_train, y_valid = train_test_split(X, y, train_size=0.8, test_size=0.2,\n",
    "                                                                random_state=0)\n",
    "\n",
    "# \"Cardinality\" means the number of unique values in a column\n",
    "# Select categorical columns with relatively low cardinality (convenient but arbitrary)\n",
    "low_cardinality_cols = [cname for cname in X_train_full.columns if X_train_full[cname].nunique() < 10 and \n",
    "                        X_train_full[cname].dtype == \"object\"]\n",
    "\n",
    "# Select numeric columns\n",
    "numeric_cols = [cname for cname in X_train_full.columns if X_train_full[cname].dtype in ['int64', 'float64']]\n",
    "\n",
    "# Keep selected columns only\n",
    "my_cols = low_cardinality_cols + numeric_cols\n",
    "X_train = X_train_full[my_cols].copy()\n",
    "X_valid = X_valid_full[my_cols].copy()\n",
    "X_test = X_test_full[my_cols].copy()\n",
    "\n",
    "# One-hot encode the data (to shorten the code, we use pandas)\n",
    "X_train = pd.get_dummies(X_train)\n",
    "X_valid = pd.get_dummies(X_valid)\n",
    "X_test = pd.get_dummies(X_test)\n",
    "X_train, X_valid = X_train.align(X_valid, join='left', axis=1)\n",
    "X_train, X_test = X_train.align(X_test, join='left', axis=1)"
   ]
  },
  {
   "cell_type": "markdown",
   "id": "29ed0e10",
   "metadata": {
    "papermill": {
     "duration": 0.015015,
     "end_time": "2021-08-14T15:12:04.210297",
     "exception": false,
     "start_time": "2021-08-14T15:12:04.195282",
     "status": "completed"
    },
    "tags": []
   },
   "source": [
    "# Step 1: Build model\n",
    "\n",
    "### Part A\n",
    "\n",
    "In this step, you'll build and train your first model with gradient boosting.\n",
    "\n",
    "- Begin by setting `my_model_1` to an XGBoost model.  Use the [XGBRegressor](https://xgboost.readthedocs.io/en/latest/python/python_api.html#xgboost.XGBRegressor) class, and set the random seed to 0 (`random_state=0`).  **Leave all other parameters as default.**\n",
    "- Then, fit the model to the training data in `X_train` and `y_train`."
   ]
  },
  {
   "cell_type": "code",
   "execution_count": 3,
   "id": "9f8db633",
   "metadata": {
    "execution": {
     "iopub.execute_input": "2021-08-14T15:12:04.252138Z",
     "iopub.status.busy": "2021-08-14T15:12:04.245662Z",
     "iopub.status.idle": "2021-08-14T15:12:04.938797Z",
     "shell.execute_reply": "2021-08-14T15:12:04.939386Z",
     "shell.execute_reply.started": "2021-08-14T15:04:36.816395Z"
    },
    "papermill": {
     "duration": 0.713782,
     "end_time": "2021-08-14T15:12:04.939552",
     "exception": false,
     "start_time": "2021-08-14T15:12:04.225770",
     "status": "completed"
    },
    "tags": []
   },
   "outputs": [
    {
     "data": {
      "application/javascript": [
       "parent.postMessage({\"jupyterEvent\": \"custom.exercise_interaction\", \"data\": {\"outcomeType\": 1, \"valueTowardsCompletion\": 0.5, \"interactionType\": 1, \"questionType\": 2, \"questionId\": \"1.1_Model1A\", \"learnToolsVersion\": \"0.3.4\", \"failureMessage\": \"\", \"exceptionClass\": \"\", \"trace\": \"\"}}, \"*\")"
      ],
      "text/plain": [
       "<IPython.core.display.Javascript object>"
      ]
     },
     "metadata": {},
     "output_type": "display_data"
    },
    {
     "data": {
      "text/markdown": [
       "<span style=\"color:#33cc33\">Correct</span>"
      ],
      "text/plain": [
       "Correct"
      ]
     },
     "metadata": {},
     "output_type": "display_data"
    }
   ],
   "source": [
    "from xgboost import XGBRegressor\n",
    "\n",
    "# Define the model\n",
    "my_model_1 = XGBRegressor() # Your code here\n",
    "\n",
    "# Fit the model\n",
    "my_model_1.fit(X_train,y_train) # Your code here\n",
    "\n",
    "# Check your answer\n",
    "step_1.a.check()"
   ]
  },
  {
   "cell_type": "code",
   "execution_count": 4,
   "id": "4057a169",
   "metadata": {
    "execution": {
     "iopub.execute_input": "2021-08-14T15:12:04.974680Z",
     "iopub.status.busy": "2021-08-14T15:12:04.974058Z",
     "iopub.status.idle": "2021-08-14T15:12:04.976933Z",
     "shell.execute_reply": "2021-08-14T15:12:04.977478Z"
    },
    "papermill": {
     "duration": 0.021954,
     "end_time": "2021-08-14T15:12:04.977625",
     "exception": false,
     "start_time": "2021-08-14T15:12:04.955671",
     "status": "completed"
    },
    "tags": []
   },
   "outputs": [],
   "source": [
    "# Lines below will give you a hint or solution code\n",
    "#step_1.a.hint()\n",
    "#step_1.a.solution()"
   ]
  },
  {
   "cell_type": "markdown",
   "id": "5f40faa7",
   "metadata": {
    "papermill": {
     "duration": 0.016407,
     "end_time": "2021-08-14T15:12:05.011054",
     "exception": false,
     "start_time": "2021-08-14T15:12:04.994647",
     "status": "completed"
    },
    "tags": []
   },
   "source": [
    "### Part B\n",
    "\n",
    "Set `predictions_1` to the model's predictions for the validation data.  Recall that the validation features are stored in `X_valid`."
   ]
  },
  {
   "cell_type": "code",
   "execution_count": 5,
   "id": "98520e40",
   "metadata": {
    "execution": {
     "iopub.execute_input": "2021-08-14T15:12:05.046707Z",
     "iopub.status.busy": "2021-08-14T15:12:05.046084Z",
     "iopub.status.idle": "2021-08-14T15:12:05.067230Z",
     "shell.execute_reply": "2021-08-14T15:12:05.067766Z",
     "shell.execute_reply.started": "2021-08-14T15:05:03.967927Z"
    },
    "papermill": {
     "duration": 0.04072,
     "end_time": "2021-08-14T15:12:05.067956",
     "exception": false,
     "start_time": "2021-08-14T15:12:05.027236",
     "status": "completed"
    },
    "tags": []
   },
   "outputs": [
    {
     "data": {
      "application/javascript": [
       "parent.postMessage({\"jupyterEvent\": \"custom.exercise_interaction\", \"data\": {\"outcomeType\": 1, \"valueTowardsCompletion\": 0.5, \"interactionType\": 1, \"questionType\": 2, \"questionId\": \"1.2_Model1B\", \"learnToolsVersion\": \"0.3.4\", \"failureMessage\": \"\", \"exceptionClass\": \"\", \"trace\": \"\"}}, \"*\")"
      ],
      "text/plain": [
       "<IPython.core.display.Javascript object>"
      ]
     },
     "metadata": {},
     "output_type": "display_data"
    },
    {
     "data": {
      "text/markdown": [
       "<span style=\"color:#33cc33\">Correct</span>"
      ],
      "text/plain": [
       "Correct"
      ]
     },
     "metadata": {},
     "output_type": "display_data"
    }
   ],
   "source": [
    "from sklearn.metrics import mean_absolute_error\n",
    "\n",
    "# Get predictions\n",
    "predictions_1 = my_model_1.predict(X_valid) # Your code here\n",
    "\n",
    "# Check your answer\n",
    "step_1.b.check()"
   ]
  },
  {
   "cell_type": "code",
   "execution_count": 6,
   "id": "53fc03a4",
   "metadata": {
    "execution": {
     "iopub.execute_input": "2021-08-14T15:12:05.108028Z",
     "iopub.status.busy": "2021-08-14T15:12:05.107315Z",
     "iopub.status.idle": "2021-08-14T15:12:05.109666Z",
     "shell.execute_reply": "2021-08-14T15:12:05.110131Z"
    },
    "papermill": {
     "duration": 0.024489,
     "end_time": "2021-08-14T15:12:05.110315",
     "exception": false,
     "start_time": "2021-08-14T15:12:05.085826",
     "status": "completed"
    },
    "tags": []
   },
   "outputs": [],
   "source": [
    "# Lines below will give you a hint or solution code\n",
    "#step_1.b.hint()\n",
    "#step_1.b.solution()"
   ]
  },
  {
   "cell_type": "markdown",
   "id": "07519c7b",
   "metadata": {
    "papermill": {
     "duration": 0.017495,
     "end_time": "2021-08-14T15:12:05.145899",
     "exception": false,
     "start_time": "2021-08-14T15:12:05.128404",
     "status": "completed"
    },
    "tags": []
   },
   "source": [
    "### Part C\n",
    "\n",
    "Finally, use the `mean_absolute_error()` function to calculate the mean absolute error (MAE) corresponding to the predictions for the validation set.  Recall that the labels for the validation data are stored in `y_valid`."
   ]
  },
  {
   "cell_type": "code",
   "execution_count": 7,
   "id": "5ac0b82c",
   "metadata": {
    "execution": {
     "iopub.execute_input": "2021-08-14T15:12:05.187769Z",
     "iopub.status.busy": "2021-08-14T15:12:05.187100Z",
     "iopub.status.idle": "2021-08-14T15:12:05.192229Z",
     "shell.execute_reply": "2021-08-14T15:12:05.191718Z",
     "shell.execute_reply.started": "2021-08-14T15:05:27.259615Z"
    },
    "papermill": {
     "duration": 0.028646,
     "end_time": "2021-08-14T15:12:05.192381",
     "exception": false,
     "start_time": "2021-08-14T15:12:05.163735",
     "status": "completed"
    },
    "tags": []
   },
   "outputs": [
    {
     "data": {
      "application/javascript": [
       "parent.postMessage({\"jupyterEvent\": \"custom.exercise_interaction\", \"data\": {\"outcomeType\": 1, \"valueTowardsCompletion\": 0.5, \"interactionType\": 1, \"questionType\": 2, \"questionId\": \"1.3_Model1C\", \"learnToolsVersion\": \"0.3.4\", \"failureMessage\": \"\", \"exceptionClass\": \"\", \"trace\": \"\"}}, \"*\")"
      ],
      "text/plain": [
       "<IPython.core.display.Javascript object>"
      ]
     },
     "metadata": {},
     "output_type": "display_data"
    },
    {
     "data": {
      "text/markdown": [
       "<span style=\"color:#33cc33\">Correct</span>"
      ],
      "text/plain": [
       "Correct"
      ]
     },
     "metadata": {},
     "output_type": "display_data"
    }
   ],
   "source": [
    "# Calculate MAE\n",
    "mae_1 = mean_absolute_error(predictions_1,y_valid) # Your code here\n",
    "\n",
    "# Uncomment to print MAE\n",
    "# print(\"Mean Absolute Error:\" , mae_1)\n",
    "\n",
    "# Check your answer\n",
    "step_1.c.check()"
   ]
  },
  {
   "cell_type": "code",
   "execution_count": 8,
   "id": "e0390dc3",
   "metadata": {
    "execution": {
     "iopub.execute_input": "2021-08-14T15:12:05.233711Z",
     "iopub.status.busy": "2021-08-14T15:12:05.233070Z",
     "iopub.status.idle": "2021-08-14T15:12:05.234931Z",
     "shell.execute_reply": "2021-08-14T15:12:05.235421Z"
    },
    "papermill": {
     "duration": 0.024789,
     "end_time": "2021-08-14T15:12:05.235577",
     "exception": false,
     "start_time": "2021-08-14T15:12:05.210788",
     "status": "completed"
    },
    "tags": []
   },
   "outputs": [],
   "source": [
    "# Lines below will give you a hint or solution code\n",
    "#step_1.c.hint()\n",
    "#step_1.c.solution()"
   ]
  },
  {
   "cell_type": "markdown",
   "id": "ffdbdb2a",
   "metadata": {
    "papermill": {
     "duration": 0.018381,
     "end_time": "2021-08-14T15:12:05.272545",
     "exception": false,
     "start_time": "2021-08-14T15:12:05.254164",
     "status": "completed"
    },
    "tags": []
   },
   "source": [
    "# Step 2: Improve the model\n",
    "\n",
    "Now that you've trained a default model as baseline, it's time to tinker with the parameters, to see if you can get better performance!\n",
    "- Begin by setting `my_model_2` to an XGBoost model, using the [XGBRegressor](https://xgboost.readthedocs.io/en/latest/python/python_api.html#xgboost.XGBRegressor) class.  Use what you learned in the previous tutorial to figure out how to change the default parameters (like `n_estimators` and `learning_rate`) to get better results.\n",
    "- Then, fit the model to the training data in `X_train` and `y_train`.\n",
    "- Set `predictions_2` to the model's predictions for the validation data.  Recall that the validation features are stored in `X_valid`.\n",
    "- Finally, use the `mean_absolute_error()` function to calculate the mean absolute error (MAE) corresponding to the predictions on the validation set.  Recall that the labels for the validation data are stored in `y_valid`.\n",
    "\n",
    "In order for this step to be marked correct, your model in `my_model_2` must attain lower MAE than the model in `my_model_1`. "
   ]
  },
  {
   "cell_type": "code",
   "execution_count": 9,
   "id": "254e0d02",
   "metadata": {
    "execution": {
     "iopub.execute_input": "2021-08-14T15:12:05.312412Z",
     "iopub.status.busy": "2021-08-14T15:12:05.311795Z",
     "iopub.status.idle": "2021-08-14T15:12:08.596684Z",
     "shell.execute_reply": "2021-08-14T15:12:08.597185Z",
     "shell.execute_reply.started": "2021-08-14T15:08:24.009914Z"
    },
    "papermill": {
     "duration": 3.30629,
     "end_time": "2021-08-14T15:12:08.597413",
     "exception": false,
     "start_time": "2021-08-14T15:12:05.291123",
     "status": "completed"
    },
    "tags": []
   },
   "outputs": [
    {
     "data": {
      "application/javascript": [
       "parent.postMessage({\"jupyterEvent\": \"custom.exercise_interaction\", \"data\": {\"outcomeType\": 1, \"valueTowardsCompletion\": 0.5, \"interactionType\": 1, \"questionType\": 2, \"questionId\": \"2_Model2\", \"learnToolsVersion\": \"0.3.4\", \"failureMessage\": \"\", \"exceptionClass\": \"\", \"trace\": \"\"}}, \"*\")"
      ],
      "text/plain": [
       "<IPython.core.display.Javascript object>"
      ]
     },
     "metadata": {},
     "output_type": "display_data"
    },
    {
     "data": {
      "text/markdown": [
       "<span style=\"color:#33cc33\">Correct</span>"
      ],
      "text/plain": [
       "Correct"
      ]
     },
     "metadata": {},
     "output_type": "display_data"
    }
   ],
   "source": [
    "# Define the model\n",
    "my_model_2 = XGBRegressor(n_estimators=500,learning_rate=0.05) # Your code here\n",
    "\n",
    "# Fit the model\n",
    "my_model_2.fit(X_train,y_train) # Your code here\n",
    "\n",
    "# Get predictions\n",
    "predictions_2 = my_model_2.predict(X_valid) # Your code here\n",
    "\n",
    "# Calculate MAE\n",
    "mae_2 = mean_absolute_error(predictions_2,y_valid) # Your code here\n",
    "\n",
    "# Uncomment to print MAE\n",
    "# print(\"Mean Absolute Error:\" , mae_2)\n",
    "\n",
    "# Check your answer\n",
    "step_2.check()"
   ]
  },
  {
   "cell_type": "code",
   "execution_count": 10,
   "id": "717d7bed",
   "metadata": {
    "execution": {
     "iopub.execute_input": "2021-08-14T15:12:08.642960Z",
     "iopub.status.busy": "2021-08-14T15:12:08.641900Z",
     "iopub.status.idle": "2021-08-14T15:12:08.644905Z",
     "shell.execute_reply": "2021-08-14T15:12:08.644283Z",
     "shell.execute_reply.started": "2021-08-14T15:08:33.696750Z"
    },
    "papermill": {
     "duration": 0.026444,
     "end_time": "2021-08-14T15:12:08.645040",
     "exception": false,
     "start_time": "2021-08-14T15:12:08.618596",
     "status": "completed"
    },
    "tags": []
   },
   "outputs": [],
   "source": [
    "# Lines below will give you a hint or solution code\n",
    "#step_2.hint()\n",
    "#step_2.solution()"
   ]
  },
  {
   "cell_type": "markdown",
   "id": "7a61d3e5",
   "metadata": {
    "papermill": {
     "duration": 0.019431,
     "end_time": "2021-08-14T15:12:08.684002",
     "exception": false,
     "start_time": "2021-08-14T15:12:08.664571",
     "status": "completed"
    },
    "tags": []
   },
   "source": [
    "# Step 3: Break the model\n",
    "\n",
    "In this step, you will create a model that performs worse than the original model in Step 1.  This will help you to develop your intuition for how to set parameters.  You might even find that you accidentally get better performance, which is ultimately a nice problem to have and a valuable learning experience!\n",
    "- Begin by setting `my_model_3` to an XGBoost model, using the [XGBRegressor](https://xgboost.readthedocs.io/en/latest/python/python_api.html#xgboost.XGBRegressor) class.  Use what you learned in the previous tutorial to figure out how to change the default parameters (like `n_estimators` and `learning_rate`) to design a model to get high MAE.\n",
    "- Then, fit the model to the training data in `X_train` and `y_train`.\n",
    "- Set `predictions_3` to the model's predictions for the validation data.  Recall that the validation features are stored in `X_valid`.\n",
    "- Finally, use the `mean_absolute_error()` function to calculate the mean absolute error (MAE) corresponding to the predictions on the validation set.  Recall that the labels for the validation data are stored in `y_valid`.\n",
    "\n",
    "In order for this step to be marked correct, your model in `my_model_3` must attain higher MAE than the model in `my_model_1`. "
   ]
  },
  {
   "cell_type": "code",
   "execution_count": 11,
   "id": "e895c711",
   "metadata": {
    "execution": {
     "iopub.execute_input": "2021-08-14T15:12:08.727220Z",
     "iopub.status.busy": "2021-08-14T15:12:08.726302Z",
     "iopub.status.idle": "2021-08-14T15:12:09.122439Z",
     "shell.execute_reply": "2021-08-14T15:12:09.123355Z",
     "shell.execute_reply.started": "2021-08-14T15:11:33.613610Z"
    },
    "papermill": {
     "duration": 0.419762,
     "end_time": "2021-08-14T15:12:09.123552",
     "exception": false,
     "start_time": "2021-08-14T15:12:08.703790",
     "status": "completed"
    },
    "tags": []
   },
   "outputs": [
    {
     "name": "stdout",
     "output_type": "stream",
     "text": [
      "Mean Absolute Error: 21842.282775042808\n"
     ]
    },
    {
     "data": {
      "application/javascript": [
       "parent.postMessage({\"jupyterEvent\": \"custom.exercise_interaction\", \"data\": {\"outcomeType\": 1, \"valueTowardsCompletion\": 0.5, \"interactionType\": 1, \"questionType\": 2, \"questionId\": \"3_Model3\", \"learnToolsVersion\": \"0.3.4\", \"failureMessage\": \"\", \"exceptionClass\": \"\", \"trace\": \"\"}}, \"*\")"
      ],
      "text/plain": [
       "<IPython.core.display.Javascript object>"
      ]
     },
     "metadata": {},
     "output_type": "display_data"
    },
    {
     "data": {
      "text/markdown": [
       "<span style=\"color:#33cc33\">Correct</span>"
      ],
      "text/plain": [
       "Correct"
      ]
     },
     "metadata": {},
     "output_type": "display_data"
    }
   ],
   "source": [
    "# Define the model\n",
    "my_model_3 = XGBRegressor(n_estimators=50,learning_rate=0.05)\n",
    "\n",
    "# Fit the model\n",
    "my_model_3.fit(X_train,y_train) # Your code here\n",
    "\n",
    "# Get predictions\n",
    "predictions_3 = my_model_3.predict(X_valid)\n",
    "\n",
    "# Calculate MAE\n",
    "mae_3 = mean_absolute_error(predictions_3,y_valid)\n",
    "\n",
    "# Uncomment to print MAE\n",
    "print(\"Mean Absolute Error:\" , mae_3)\n",
    "\n",
    "# Check your answer\n",
    "step_3.check()"
   ]
  },
  {
   "cell_type": "code",
   "execution_count": 12,
   "id": "c2008a6f",
   "metadata": {
    "execution": {
     "iopub.execute_input": "2021-08-14T15:12:09.178872Z",
     "iopub.status.busy": "2021-08-14T15:12:09.177858Z",
     "iopub.status.idle": "2021-08-14T15:12:09.180840Z",
     "shell.execute_reply": "2021-08-14T15:12:09.180203Z",
     "shell.execute_reply.started": "2021-08-14T15:11:39.618138Z"
    },
    "papermill": {
     "duration": 0.028832,
     "end_time": "2021-08-14T15:12:09.180971",
     "exception": false,
     "start_time": "2021-08-14T15:12:09.152139",
     "status": "completed"
    },
    "tags": []
   },
   "outputs": [],
   "source": [
    "# Lines below will give you a hint or solution code\n",
    "#step_3.hint()\n",
    "#step_3.solution()"
   ]
  },
  {
   "cell_type": "markdown",
   "id": "92ee141f",
   "metadata": {
    "papermill": {
     "duration": 0.022124,
     "end_time": "2021-08-14T15:12:09.229612",
     "exception": false,
     "start_time": "2021-08-14T15:12:09.207488",
     "status": "completed"
    },
    "tags": []
   },
   "source": [
    "# Keep going\n",
    "\n",
    "Continue to learn about **[data leakage](https://www.kaggle.com/alexisbcook/data-leakage)**.  This is an important issue for a data scientist to understand, and it has the potential to ruin your models in subtle and dangerous ways!"
   ]
  },
  {
   "cell_type": "markdown",
   "id": "b9b9b96a",
   "metadata": {
    "papermill": {
     "duration": 0.02075,
     "end_time": "2021-08-14T15:12:09.271830",
     "exception": false,
     "start_time": "2021-08-14T15:12:09.251080",
     "status": "completed"
    },
    "tags": []
   },
   "source": [
    "---\n",
    "\n",
    "\n",
    "\n",
    "\n",
    "*Have questions or comments? Visit the [Learn Discussion forum](https://www.kaggle.com/learn-forum/161289) to chat with other Learners.*"
   ]
  }
 ],
 "metadata": {
  "kernelspec": {
   "display_name": "Python 3",
   "language": "python",
   "name": "python3"
  },
  "language_info": {
   "codemirror_mode": {
    "name": "ipython",
    "version": 3
   },
   "file_extension": ".py",
   "mimetype": "text/x-python",
   "name": "python",
   "nbconvert_exporter": "python",
   "pygments_lexer": "ipython3",
   "version": "3.7.10"
  },
  "papermill": {
   "default_parameters": {},
   "duration": 16.762093,
   "end_time": "2021-08-14T15:12:10.743634",
   "environment_variables": {},
   "exception": null,
   "input_path": "__notebook__.ipynb",
   "output_path": "__notebook__.ipynb",
   "parameters": {},
   "start_time": "2021-08-14T15:11:53.981541",
   "version": "2.3.3"
  }
 },
 "nbformat": 4,
 "nbformat_minor": 5
}
