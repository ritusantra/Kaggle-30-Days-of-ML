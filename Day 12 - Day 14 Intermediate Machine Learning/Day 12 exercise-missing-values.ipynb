{
 "cells": [
  {
   "cell_type": "markdown",
   "id": "dd1d9d22",
   "metadata": {
    "papermill": {
     "duration": 0.029528,
     "end_time": "2021-08-13T13:33:43.153195",
     "exception": false,
     "start_time": "2021-08-13T13:33:43.123667",
     "status": "completed"
    },
    "tags": []
   },
   "source": [
    "**This notebook is an exercise in the [Intermediate Machine Learning](https://www.kaggle.com/learn/intermediate-machine-learning) course.  You can reference the tutorial at [this link](https://www.kaggle.com/alexisbcook/missing-values).**\n",
    "\n",
    "---\n"
   ]
  },
  {
   "cell_type": "markdown",
   "id": "b9c16112",
   "metadata": {
    "papermill": {
     "duration": 0.028318,
     "end_time": "2021-08-13T13:33:43.209581",
     "exception": false,
     "start_time": "2021-08-13T13:33:43.181263",
     "status": "completed"
    },
    "tags": []
   },
   "source": [
    "Now it's your turn to test your new knowledge of **missing values** handling. You'll probably find it makes a big difference.\n",
    "\n",
    "# Setup\n",
    "\n",
    "The questions will give you feedback on your work. Run the following cell to set up the feedback system."
   ]
  },
  {
   "cell_type": "code",
   "execution_count": 1,
   "id": "e3e6d367",
   "metadata": {
    "execution": {
     "iopub.execute_input": "2021-08-13T13:33:43.268559Z",
     "iopub.status.busy": "2021-08-13T13:33:43.267296Z",
     "iopub.status.idle": "2021-08-13T13:33:43.403794Z",
     "shell.execute_reply": "2021-08-13T13:33:43.403166Z",
     "shell.execute_reply.started": "2021-08-13T13:05:10.914883Z"
    },
    "papermill": {
     "duration": 0.167177,
     "end_time": "2021-08-13T13:33:43.403973",
     "exception": false,
     "start_time": "2021-08-13T13:33:43.236796",
     "status": "completed"
    },
    "tags": []
   },
   "outputs": [
    {
     "name": "stdout",
     "output_type": "stream",
     "text": [
      "Setup Complete\n"
     ]
    }
   ],
   "source": [
    "# Set up code checking\n",
    "import os\n",
    "if not os.path.exists(\"../input/train.csv\"):\n",
    "    os.symlink(\"../input/home-data-for-ml-course/train.csv\", \"../input/train.csv\")  \n",
    "    os.symlink(\"../input/home-data-for-ml-course/test.csv\", \"../input/test.csv\") \n",
    "from learntools.core import binder\n",
    "binder.bind(globals())\n",
    "from learntools.ml_intermediate.ex2 import *\n",
    "print(\"Setup Complete\")"
   ]
  },
  {
   "cell_type": "markdown",
   "id": "e000f5fe",
   "metadata": {
    "papermill": {
     "duration": 0.027306,
     "end_time": "2021-08-13T13:33:43.459026",
     "exception": false,
     "start_time": "2021-08-13T13:33:43.431720",
     "status": "completed"
    },
    "tags": []
   },
   "source": [
    "In this exercise, you will work with data from the [Housing Prices Competition for Kaggle Learn Users](https://www.kaggle.com/c/home-data-for-ml-course). \n",
    "\n",
    "![Ames Housing dataset image](https://i.imgur.com/lTJVG4e.png)\n",
    "\n",
    "Run the next code cell without changes to load the training and validation sets in `X_train`, `X_valid`, `y_train`, and `y_valid`.  The test set is loaded in `X_test`."
   ]
  },
  {
   "cell_type": "code",
   "execution_count": 2,
   "id": "8926468b",
   "metadata": {
    "execution": {
     "iopub.execute_input": "2021-08-13T13:33:43.521643Z",
     "iopub.status.busy": "2021-08-13T13:33:43.520800Z",
     "iopub.status.idle": "2021-08-13T13:33:44.576340Z",
     "shell.execute_reply": "2021-08-13T13:33:44.575636Z",
     "shell.execute_reply.started": "2021-08-13T13:05:31.404307Z"
    },
    "papermill": {
     "duration": 1.09001,
     "end_time": "2021-08-13T13:33:44.576478",
     "exception": false,
     "start_time": "2021-08-13T13:33:43.486468",
     "status": "completed"
    },
    "tags": []
   },
   "outputs": [],
   "source": [
    "import pandas as pd\n",
    "from sklearn.model_selection import train_test_split\n",
    "\n",
    "# Read the data\n",
    "X_full = pd.read_csv('../input/train.csv', index_col='Id')\n",
    "X_test_full = pd.read_csv('../input/test.csv', index_col='Id')\n",
    "\n",
    "# Remove rows with missing target, separate target from predictors\n",
    "X_full.dropna(axis=0, subset=['SalePrice'], inplace=True)\n",
    "y = X_full.SalePrice\n",
    "X_full.drop(['SalePrice'], axis=1, inplace=True)\n",
    "\n",
    "# To keep things simple, we'll use only numerical predictors\n",
    "X = X_full.select_dtypes(exclude=['object'])\n",
    "X_test = X_test_full.select_dtypes(exclude=['object'])\n",
    "\n",
    "# Break off validation set from training data\n",
    "X_train, X_valid, y_train, y_valid = train_test_split(X, y, train_size=0.8, test_size=0.2,\n",
    "                                                      random_state=0)"
   ]
  },
  {
   "cell_type": "markdown",
   "id": "ea367d82",
   "metadata": {
    "papermill": {
     "duration": 0.028267,
     "end_time": "2021-08-13T13:33:44.632329",
     "exception": false,
     "start_time": "2021-08-13T13:33:44.604062",
     "status": "completed"
    },
    "tags": []
   },
   "source": [
    "Use the next code cell to print the first five rows of the data."
   ]
  },
  {
   "cell_type": "code",
   "execution_count": 3,
   "id": "b5f14ad3",
   "metadata": {
    "execution": {
     "iopub.execute_input": "2021-08-13T13:33:44.690682Z",
     "iopub.status.busy": "2021-08-13T13:33:44.690077Z",
     "iopub.status.idle": "2021-08-13T13:33:44.721386Z",
     "shell.execute_reply": "2021-08-13T13:33:44.721986Z",
     "shell.execute_reply.started": "2021-08-13T13:05:36.277976Z"
    },
    "papermill": {
     "duration": 0.062034,
     "end_time": "2021-08-13T13:33:44.722156",
     "exception": false,
     "start_time": "2021-08-13T13:33:44.660122",
     "status": "completed"
    },
    "tags": []
   },
   "outputs": [
    {
     "data": {
      "text/html": [
       "<div>\n",
       "<style scoped>\n",
       "    .dataframe tbody tr th:only-of-type {\n",
       "        vertical-align: middle;\n",
       "    }\n",
       "\n",
       "    .dataframe tbody tr th {\n",
       "        vertical-align: top;\n",
       "    }\n",
       "\n",
       "    .dataframe thead th {\n",
       "        text-align: right;\n",
       "    }\n",
       "</style>\n",
       "<table border=\"1\" class=\"dataframe\">\n",
       "  <thead>\n",
       "    <tr style=\"text-align: right;\">\n",
       "      <th></th>\n",
       "      <th>MSSubClass</th>\n",
       "      <th>LotFrontage</th>\n",
       "      <th>LotArea</th>\n",
       "      <th>OverallQual</th>\n",
       "      <th>OverallCond</th>\n",
       "      <th>YearBuilt</th>\n",
       "      <th>YearRemodAdd</th>\n",
       "      <th>MasVnrArea</th>\n",
       "      <th>BsmtFinSF1</th>\n",
       "      <th>BsmtFinSF2</th>\n",
       "      <th>...</th>\n",
       "      <th>GarageArea</th>\n",
       "      <th>WoodDeckSF</th>\n",
       "      <th>OpenPorchSF</th>\n",
       "      <th>EnclosedPorch</th>\n",
       "      <th>3SsnPorch</th>\n",
       "      <th>ScreenPorch</th>\n",
       "      <th>PoolArea</th>\n",
       "      <th>MiscVal</th>\n",
       "      <th>MoSold</th>\n",
       "      <th>YrSold</th>\n",
       "    </tr>\n",
       "    <tr>\n",
       "      <th>Id</th>\n",
       "      <th></th>\n",
       "      <th></th>\n",
       "      <th></th>\n",
       "      <th></th>\n",
       "      <th></th>\n",
       "      <th></th>\n",
       "      <th></th>\n",
       "      <th></th>\n",
       "      <th></th>\n",
       "      <th></th>\n",
       "      <th></th>\n",
       "      <th></th>\n",
       "      <th></th>\n",
       "      <th></th>\n",
       "      <th></th>\n",
       "      <th></th>\n",
       "      <th></th>\n",
       "      <th></th>\n",
       "      <th></th>\n",
       "      <th></th>\n",
       "      <th></th>\n",
       "    </tr>\n",
       "  </thead>\n",
       "  <tbody>\n",
       "    <tr>\n",
       "      <th>619</th>\n",
       "      <td>20</td>\n",
       "      <td>90.0</td>\n",
       "      <td>11694</td>\n",
       "      <td>9</td>\n",
       "      <td>5</td>\n",
       "      <td>2007</td>\n",
       "      <td>2007</td>\n",
       "      <td>452.0</td>\n",
       "      <td>48</td>\n",
       "      <td>0</td>\n",
       "      <td>...</td>\n",
       "      <td>774</td>\n",
       "      <td>0</td>\n",
       "      <td>108</td>\n",
       "      <td>0</td>\n",
       "      <td>0</td>\n",
       "      <td>260</td>\n",
       "      <td>0</td>\n",
       "      <td>0</td>\n",
       "      <td>7</td>\n",
       "      <td>2007</td>\n",
       "    </tr>\n",
       "    <tr>\n",
       "      <th>871</th>\n",
       "      <td>20</td>\n",
       "      <td>60.0</td>\n",
       "      <td>6600</td>\n",
       "      <td>5</td>\n",
       "      <td>5</td>\n",
       "      <td>1962</td>\n",
       "      <td>1962</td>\n",
       "      <td>0.0</td>\n",
       "      <td>0</td>\n",
       "      <td>0</td>\n",
       "      <td>...</td>\n",
       "      <td>308</td>\n",
       "      <td>0</td>\n",
       "      <td>0</td>\n",
       "      <td>0</td>\n",
       "      <td>0</td>\n",
       "      <td>0</td>\n",
       "      <td>0</td>\n",
       "      <td>0</td>\n",
       "      <td>8</td>\n",
       "      <td>2009</td>\n",
       "    </tr>\n",
       "    <tr>\n",
       "      <th>93</th>\n",
       "      <td>30</td>\n",
       "      <td>80.0</td>\n",
       "      <td>13360</td>\n",
       "      <td>5</td>\n",
       "      <td>7</td>\n",
       "      <td>1921</td>\n",
       "      <td>2006</td>\n",
       "      <td>0.0</td>\n",
       "      <td>713</td>\n",
       "      <td>0</td>\n",
       "      <td>...</td>\n",
       "      <td>432</td>\n",
       "      <td>0</td>\n",
       "      <td>0</td>\n",
       "      <td>44</td>\n",
       "      <td>0</td>\n",
       "      <td>0</td>\n",
       "      <td>0</td>\n",
       "      <td>0</td>\n",
       "      <td>8</td>\n",
       "      <td>2009</td>\n",
       "    </tr>\n",
       "    <tr>\n",
       "      <th>818</th>\n",
       "      <td>20</td>\n",
       "      <td>NaN</td>\n",
       "      <td>13265</td>\n",
       "      <td>8</td>\n",
       "      <td>5</td>\n",
       "      <td>2002</td>\n",
       "      <td>2002</td>\n",
       "      <td>148.0</td>\n",
       "      <td>1218</td>\n",
       "      <td>0</td>\n",
       "      <td>...</td>\n",
       "      <td>857</td>\n",
       "      <td>150</td>\n",
       "      <td>59</td>\n",
       "      <td>0</td>\n",
       "      <td>0</td>\n",
       "      <td>0</td>\n",
       "      <td>0</td>\n",
       "      <td>0</td>\n",
       "      <td>7</td>\n",
       "      <td>2008</td>\n",
       "    </tr>\n",
       "    <tr>\n",
       "      <th>303</th>\n",
       "      <td>20</td>\n",
       "      <td>118.0</td>\n",
       "      <td>13704</td>\n",
       "      <td>7</td>\n",
       "      <td>5</td>\n",
       "      <td>2001</td>\n",
       "      <td>2002</td>\n",
       "      <td>150.0</td>\n",
       "      <td>0</td>\n",
       "      <td>0</td>\n",
       "      <td>...</td>\n",
       "      <td>843</td>\n",
       "      <td>468</td>\n",
       "      <td>81</td>\n",
       "      <td>0</td>\n",
       "      <td>0</td>\n",
       "      <td>0</td>\n",
       "      <td>0</td>\n",
       "      <td>0</td>\n",
       "      <td>1</td>\n",
       "      <td>2006</td>\n",
       "    </tr>\n",
       "  </tbody>\n",
       "</table>\n",
       "<p>5 rows × 36 columns</p>\n",
       "</div>"
      ],
      "text/plain": [
       "     MSSubClass  LotFrontage  LotArea  OverallQual  OverallCond  YearBuilt  \\\n",
       "Id                                                                           \n",
       "619          20         90.0    11694            9            5       2007   \n",
       "871          20         60.0     6600            5            5       1962   \n",
       "93           30         80.0    13360            5            7       1921   \n",
       "818          20          NaN    13265            8            5       2002   \n",
       "303          20        118.0    13704            7            5       2001   \n",
       "\n",
       "     YearRemodAdd  MasVnrArea  BsmtFinSF1  BsmtFinSF2  ...  GarageArea  \\\n",
       "Id                                                     ...               \n",
       "619          2007       452.0          48           0  ...         774   \n",
       "871          1962         0.0           0           0  ...         308   \n",
       "93           2006         0.0         713           0  ...         432   \n",
       "818          2002       148.0        1218           0  ...         857   \n",
       "303          2002       150.0           0           0  ...         843   \n",
       "\n",
       "     WoodDeckSF  OpenPorchSF  EnclosedPorch  3SsnPorch  ScreenPorch  PoolArea  \\\n",
       "Id                                                                              \n",
       "619           0          108              0          0          260         0   \n",
       "871           0            0              0          0            0         0   \n",
       "93            0            0             44          0            0         0   \n",
       "818         150           59              0          0            0         0   \n",
       "303         468           81              0          0            0         0   \n",
       "\n",
       "     MiscVal  MoSold  YrSold  \n",
       "Id                            \n",
       "619        0       7    2007  \n",
       "871        0       8    2009  \n",
       "93         0       8    2009  \n",
       "818        0       7    2008  \n",
       "303        0       1    2006  \n",
       "\n",
       "[5 rows x 36 columns]"
      ]
     },
     "execution_count": 3,
     "metadata": {},
     "output_type": "execute_result"
    }
   ],
   "source": [
    "X_train.head()"
   ]
  },
  {
   "cell_type": "markdown",
   "id": "77c23208",
   "metadata": {
    "papermill": {
     "duration": 0.028019,
     "end_time": "2021-08-13T13:33:44.778603",
     "exception": false,
     "start_time": "2021-08-13T13:33:44.750584",
     "status": "completed"
    },
    "tags": []
   },
   "source": [
    "You can already see a few missing values in the first several rows.  In the next step, you'll obtain a more comprehensive understanding of the missing values in the dataset.\n",
    "\n",
    "# Step 1: Preliminary investigation\n",
    "\n",
    "Run the code cell below without changes."
   ]
  },
  {
   "cell_type": "code",
   "execution_count": 4,
   "id": "2eb6b344",
   "metadata": {
    "execution": {
     "iopub.execute_input": "2021-08-13T13:33:44.838108Z",
     "iopub.status.busy": "2021-08-13T13:33:44.837488Z",
     "iopub.status.idle": "2021-08-13T13:33:44.846117Z",
     "shell.execute_reply": "2021-08-13T13:33:44.846577Z",
     "shell.execute_reply.started": "2021-08-13T13:06:30.868576Z"
    },
    "papermill": {
     "duration": 0.03967,
     "end_time": "2021-08-13T13:33:44.846754",
     "exception": false,
     "start_time": "2021-08-13T13:33:44.807084",
     "status": "completed"
    },
    "tags": []
   },
   "outputs": [
    {
     "name": "stdout",
     "output_type": "stream",
     "text": [
      "(1168, 36)\n",
      "LotFrontage    212\n",
      "MasVnrArea       6\n",
      "GarageYrBlt     58\n",
      "dtype: int64\n"
     ]
    }
   ],
   "source": [
    "# Shape of training data (num_rows, num_columns)\n",
    "print(X_train.shape)\n",
    "\n",
    "# Number of missing values in each column of training data\n",
    "missing_val_count_by_column = (X_train.isnull().sum())\n",
    "print(missing_val_count_by_column[missing_val_count_by_column > 0])"
   ]
  },
  {
   "cell_type": "markdown",
   "id": "63147fb1",
   "metadata": {
    "papermill": {
     "duration": 0.028012,
     "end_time": "2021-08-13T13:33:44.904177",
     "exception": false,
     "start_time": "2021-08-13T13:33:44.876165",
     "status": "completed"
    },
    "tags": []
   },
   "source": [
    "### Part A\n",
    "\n",
    "Use the above output to answer the questions below."
   ]
  },
  {
   "cell_type": "code",
   "execution_count": 5,
   "id": "3367ebca",
   "metadata": {
    "execution": {
     "iopub.execute_input": "2021-08-13T13:33:44.968455Z",
     "iopub.status.busy": "2021-08-13T13:33:44.967560Z",
     "iopub.status.idle": "2021-08-13T13:33:44.972978Z",
     "shell.execute_reply": "2021-08-13T13:33:44.973529Z",
     "shell.execute_reply.started": "2021-08-13T13:07:41.280630Z"
    },
    "papermill": {
     "duration": 0.040113,
     "end_time": "2021-08-13T13:33:44.973705",
     "exception": false,
     "start_time": "2021-08-13T13:33:44.933592",
     "status": "completed"
    },
    "tags": []
   },
   "outputs": [
    {
     "data": {
      "application/javascript": [
       "parent.postMessage({\"jupyterEvent\": \"custom.exercise_interaction\", \"data\": {\"outcomeType\": 1, \"valueTowardsCompletion\": 1.0, \"interactionType\": 1, \"questionType\": 1, \"questionId\": \"1.1_InvestigateEquality\", \"learnToolsVersion\": \"0.3.4\", \"failureMessage\": \"\", \"exceptionClass\": \"\", \"trace\": \"\"}}, \"*\")"
      ],
      "text/plain": [
       "<IPython.core.display.Javascript object>"
      ]
     },
     "metadata": {},
     "output_type": "display_data"
    },
    {
     "data": {
      "text/markdown": [
       "<span style=\"color:#33cc33\">Correct</span>"
      ],
      "text/plain": [
       "Correct"
      ]
     },
     "metadata": {},
     "output_type": "display_data"
    }
   ],
   "source": [
    "# Fill in the line below: How many rows are in the training data?\n",
    "num_rows = 1168\n",
    "\n",
    "# Fill in the line below: How many columns in the training data\n",
    "# have missing values?\n",
    "num_cols_with_missing = 3\n",
    "\n",
    "# Fill in the line below: How many missing entries are contained in \n",
    "# all of the training data?\n",
    "tot_missing = 276\n",
    "\n",
    "# Check your answers\n",
    "step_1.a.check()"
   ]
  },
  {
   "cell_type": "code",
   "execution_count": 6,
   "id": "aa7d4d40",
   "metadata": {
    "execution": {
     "iopub.execute_input": "2021-08-13T13:33:45.038431Z",
     "iopub.status.busy": "2021-08-13T13:33:45.037466Z",
     "iopub.status.idle": "2021-08-13T13:33:45.040714Z",
     "shell.execute_reply": "2021-08-13T13:33:45.040207Z"
    },
    "papermill": {
     "duration": 0.036616,
     "end_time": "2021-08-13T13:33:45.040853",
     "exception": false,
     "start_time": "2021-08-13T13:33:45.004237",
     "status": "completed"
    },
    "tags": []
   },
   "outputs": [],
   "source": [
    "# Lines below will give you a hint or solution code\n",
    "#step_1.a.hint()\n",
    "#step_1.a.solution()"
   ]
  },
  {
   "cell_type": "markdown",
   "id": "83222fa2",
   "metadata": {
    "papermill": {
     "duration": 0.03033,
     "end_time": "2021-08-13T13:33:45.100717",
     "exception": false,
     "start_time": "2021-08-13T13:33:45.070387",
     "status": "completed"
    },
    "tags": []
   },
   "source": [
    "### Part B\n",
    "Considering your answers above, what do you think is likely the best approach to dealing with the missing values?"
   ]
  },
  {
   "cell_type": "code",
   "execution_count": 7,
   "id": "b870531d",
   "metadata": {
    "execution": {
     "iopub.execute_input": "2021-08-13T13:33:45.166138Z",
     "iopub.status.busy": "2021-08-13T13:33:45.165191Z",
     "iopub.status.idle": "2021-08-13T13:33:45.171003Z",
     "shell.execute_reply": "2021-08-13T13:33:45.170360Z",
     "shell.execute_reply.started": "2021-08-13T13:08:07.427135Z"
    },
    "papermill": {
     "duration": 0.04016,
     "end_time": "2021-08-13T13:33:45.171145",
     "exception": false,
     "start_time": "2021-08-13T13:33:45.130985",
     "status": "completed"
    },
    "tags": []
   },
   "outputs": [
    {
     "data": {
      "application/javascript": [
       "parent.postMessage({\"jupyterEvent\": \"custom.exercise_interaction\", \"data\": {\"outcomeType\": 1, \"valueTowardsCompletion\": 1.0, \"interactionType\": 1, \"questionType\": 4, \"questionId\": \"1.2_InvestigateThought\", \"learnToolsVersion\": \"0.3.4\", \"failureMessage\": \"\", \"exceptionClass\": \"\", \"trace\": \"\"}}, \"*\")"
      ],
      "text/plain": [
       "<IPython.core.display.Javascript object>"
      ]
     },
     "metadata": {},
     "output_type": "display_data"
    },
    {
     "data": {
      "text/markdown": [
       "<span style=\"color:#33cc33\">Correct:</span> \n",
       "\n",
       "Since there are relatively few missing entries in the data (the column with the greatest percentage of missing values is missing less than 20% of its entries), we can expect that dropping columns is unlikely to yield good results.  This is because we'd be throwing away a lot of valuable data, and so imputation will likely perform better."
      ],
      "text/plain": [
       "Correct: \n",
       "\n",
       "Since there are relatively few missing entries in the data (the column with the greatest percentage of missing values is missing less than 20% of its entries), we can expect that dropping columns is unlikely to yield good results.  This is because we'd be throwing away a lot of valuable data, and so imputation will likely perform better."
      ]
     },
     "metadata": {},
     "output_type": "display_data"
    }
   ],
   "source": [
    "# Check your answer (Run this code cell to receive credit!)\n",
    "step_1.b.check()"
   ]
  },
  {
   "cell_type": "code",
   "execution_count": 8,
   "id": "6a38c361",
   "metadata": {
    "execution": {
     "iopub.execute_input": "2021-08-13T13:33:45.238241Z",
     "iopub.status.busy": "2021-08-13T13:33:45.237270Z",
     "iopub.status.idle": "2021-08-13T13:33:45.240485Z",
     "shell.execute_reply": "2021-08-13T13:33:45.239953Z"
    },
    "papermill": {
     "duration": 0.038437,
     "end_time": "2021-08-13T13:33:45.240633",
     "exception": false,
     "start_time": "2021-08-13T13:33:45.202196",
     "status": "completed"
    },
    "tags": []
   },
   "outputs": [],
   "source": [
    "#step_1.b.hint()"
   ]
  },
  {
   "cell_type": "markdown",
   "id": "2030200d",
   "metadata": {
    "papermill": {
     "duration": 0.030664,
     "end_time": "2021-08-13T13:33:45.303061",
     "exception": false,
     "start_time": "2021-08-13T13:33:45.272397",
     "status": "completed"
    },
    "tags": []
   },
   "source": [
    "To compare different approaches to dealing with missing values, you'll use the same `score_dataset()` function from the tutorial.  This function reports the [mean absolute error](https://en.wikipedia.org/wiki/Mean_absolute_error) (MAE) from a random forest model."
   ]
  },
  {
   "cell_type": "code",
   "execution_count": 9,
   "id": "0499a548",
   "metadata": {
    "execution": {
     "iopub.execute_input": "2021-08-13T13:33:45.372645Z",
     "iopub.status.busy": "2021-08-13T13:33:45.372008Z",
     "iopub.status.idle": "2021-08-13T13:33:45.591193Z",
     "shell.execute_reply": "2021-08-13T13:33:45.590581Z",
     "shell.execute_reply.started": "2021-08-13T13:09:08.747936Z"
    },
    "papermill": {
     "duration": 0.255681,
     "end_time": "2021-08-13T13:33:45.591336",
     "exception": false,
     "start_time": "2021-08-13T13:33:45.335655",
     "status": "completed"
    },
    "tags": []
   },
   "outputs": [],
   "source": [
    "from sklearn.ensemble import RandomForestRegressor\n",
    "from sklearn.metrics import mean_absolute_error\n",
    "\n",
    "# Function for comparing different approaches by returning MAE of each model\n",
    "def score_dataset(X_train, X_valid, y_train, y_valid):\n",
    "    model = RandomForestRegressor(n_estimators=100, random_state=0)\n",
    "    model.fit(X_train, y_train)\n",
    "    preds = model.predict(X_valid)\n",
    "    return mean_absolute_error(y_valid, preds)"
   ]
  },
  {
   "cell_type": "markdown",
   "id": "f0b2e266",
   "metadata": {
    "papermill": {
     "duration": 0.031012,
     "end_time": "2021-08-13T13:33:45.654382",
     "exception": false,
     "start_time": "2021-08-13T13:33:45.623370",
     "status": "completed"
    },
    "tags": []
   },
   "source": [
    "# Step 2: Drop columns with missing values\n",
    "\n",
    "In this step, you'll preprocess the data in `X_train` and `X_valid` to remove columns with missing values.  Set the preprocessed DataFrames to `reduced_X_train` and `reduced_X_valid`, respectively.  "
   ]
  },
  {
   "cell_type": "code",
   "execution_count": 10,
   "id": "f2370e99",
   "metadata": {
    "execution": {
     "iopub.execute_input": "2021-08-13T13:33:45.745105Z",
     "iopub.status.busy": "2021-08-13T13:33:45.744158Z",
     "iopub.status.idle": "2021-08-13T13:33:45.750619Z",
     "shell.execute_reply": "2021-08-13T13:33:45.750081Z",
     "shell.execute_reply.started": "2021-08-13T13:17:45.614163Z"
    },
    "papermill": {
     "duration": 0.065361,
     "end_time": "2021-08-13T13:33:45.750752",
     "exception": false,
     "start_time": "2021-08-13T13:33:45.685391",
     "status": "completed"
    },
    "tags": []
   },
   "outputs": [
    {
     "data": {
      "application/javascript": [
       "parent.postMessage({\"jupyterEvent\": \"custom.exercise_interaction\", \"data\": {\"outcomeType\": 1, \"valueTowardsCompletion\": 1.0, \"interactionType\": 1, \"questionType\": 2, \"questionId\": \"2_DropMissing\", \"learnToolsVersion\": \"0.3.4\", \"failureMessage\": \"\", \"exceptionClass\": \"\", \"trace\": \"\"}}, \"*\")"
      ],
      "text/plain": [
       "<IPython.core.display.Javascript object>"
      ]
     },
     "metadata": {},
     "output_type": "display_data"
    },
    {
     "data": {
      "text/markdown": [
       "<span style=\"color:#33cc33\">Correct</span>"
      ],
      "text/plain": [
       "Correct"
      ]
     },
     "metadata": {},
     "output_type": "display_data"
    }
   ],
   "source": [
    "# Fill in the line below: get names of columns with missing values\n",
    "# Your code here\n",
    "cols_with_missing = []\n",
    "for col in X_train.columns:\n",
    "        if X_train[col].isnull().any():\n",
    "            cols_with_missing.append(col)\n",
    "        \n",
    "\n",
    "# Fill in the lines below: drop columns in training and validation data\n",
    "reduced_X_train = X_train.drop(cols_with_missing, axis=1)\n",
    "reduced_X_valid = X_valid.drop(cols_with_missing, axis=1)\n",
    "\n",
    "# Check your answers\n",
    "step_2.check()"
   ]
  },
  {
   "cell_type": "code",
   "execution_count": 11,
   "id": "df0b2d8d",
   "metadata": {
    "execution": {
     "iopub.execute_input": "2021-08-13T13:33:45.818968Z",
     "iopub.status.busy": "2021-08-13T13:33:45.818280Z",
     "iopub.status.idle": "2021-08-13T13:33:45.821526Z",
     "shell.execute_reply": "2021-08-13T13:33:45.820888Z",
     "shell.execute_reply.started": "2021-08-13T13:18:15.814170Z"
    },
    "papermill": {
     "duration": 0.038972,
     "end_time": "2021-08-13T13:33:45.821673",
     "exception": false,
     "start_time": "2021-08-13T13:33:45.782701",
     "status": "completed"
    },
    "tags": []
   },
   "outputs": [],
   "source": [
    "# Lines below will give you a hint or solution code\n",
    "#step_2.hint()\n",
    "#step_2.solution()"
   ]
  },
  {
   "cell_type": "markdown",
   "id": "09ea4bde",
   "metadata": {
    "papermill": {
     "duration": 0.031936,
     "end_time": "2021-08-13T13:33:45.885546",
     "exception": false,
     "start_time": "2021-08-13T13:33:45.853610",
     "status": "completed"
    },
    "tags": []
   },
   "source": [
    "Run the next code cell without changes to obtain the MAE for this approach."
   ]
  },
  {
   "cell_type": "code",
   "execution_count": 12,
   "id": "aca0db22",
   "metadata": {
    "execution": {
     "iopub.execute_input": "2021-08-13T13:33:45.957245Z",
     "iopub.status.busy": "2021-08-13T13:33:45.956533Z",
     "iopub.status.idle": "2021-08-13T13:33:47.213315Z",
     "shell.execute_reply": "2021-08-13T13:33:47.213977Z",
     "shell.execute_reply.started": "2021-08-13T13:18:19.875850Z"
    },
    "papermill": {
     "duration": 1.296741,
     "end_time": "2021-08-13T13:33:47.214151",
     "exception": false,
     "start_time": "2021-08-13T13:33:45.917410",
     "status": "completed"
    },
    "tags": []
   },
   "outputs": [
    {
     "name": "stdout",
     "output_type": "stream",
     "text": [
      "MAE (Drop columns with missing values):\n",
      "17837.82570776256\n"
     ]
    }
   ],
   "source": [
    "print(\"MAE (Drop columns with missing values):\")\n",
    "print(score_dataset(reduced_X_train, reduced_X_valid, y_train, y_valid))"
   ]
  },
  {
   "cell_type": "markdown",
   "id": "fe60e515",
   "metadata": {
    "papermill": {
     "duration": 0.032131,
     "end_time": "2021-08-13T13:33:47.278834",
     "exception": false,
     "start_time": "2021-08-13T13:33:47.246703",
     "status": "completed"
    },
    "tags": []
   },
   "source": [
    "# Step 3: Imputation\n",
    "\n",
    "### Part A\n",
    "\n",
    "Use the next code cell to impute missing values with the mean value along each column.  Set the preprocessed DataFrames to `imputed_X_train` and `imputed_X_valid`.  Make sure that the column names match those in `X_train` and `X_valid`."
   ]
  },
  {
   "cell_type": "code",
   "execution_count": 13,
   "id": "13dee146",
   "metadata": {
    "execution": {
     "iopub.execute_input": "2021-08-13T13:33:47.352704Z",
     "iopub.status.busy": "2021-08-13T13:33:47.352012Z",
     "iopub.status.idle": "2021-08-13T13:33:47.384087Z",
     "shell.execute_reply": "2021-08-13T13:33:47.384602Z",
     "shell.execute_reply.started": "2021-08-13T13:21:43.885563Z"
    },
    "papermill": {
     "duration": 0.071611,
     "end_time": "2021-08-13T13:33:47.384771",
     "exception": false,
     "start_time": "2021-08-13T13:33:47.313160",
     "status": "completed"
    },
    "tags": []
   },
   "outputs": [
    {
     "data": {
      "application/javascript": [
       "parent.postMessage({\"jupyterEvent\": \"custom.exercise_interaction\", \"data\": {\"outcomeType\": 1, \"valueTowardsCompletion\": 1.0, \"interactionType\": 1, \"questionType\": 2, \"questionId\": \"3.1_ImputeCode\", \"learnToolsVersion\": \"0.3.4\", \"failureMessage\": \"\", \"exceptionClass\": \"\", \"trace\": \"\"}}, \"*\")"
      ],
      "text/plain": [
       "<IPython.core.display.Javascript object>"
      ]
     },
     "metadata": {},
     "output_type": "display_data"
    },
    {
     "data": {
      "text/markdown": [
       "<span style=\"color:#33cc33\">Correct</span>"
      ],
      "text/plain": [
       "Correct"
      ]
     },
     "metadata": {},
     "output_type": "display_data"
    }
   ],
   "source": [
    "from sklearn.impute import SimpleImputer\n",
    "\n",
    "# Fill in the lines below: imputation\n",
    "myimputer = SimpleImputer() # Your code here\n",
    "imputed_X_train = pd.DataFrame(myimputer.fit_transform(X_train))\n",
    "imputed_X_valid = pd.DataFrame(myimputer.transform(X_valid))\n",
    "\n",
    "# Fill in the lines below: imputation removed column names; put them back\n",
    "imputed_X_train.columns = X_train.columns\n",
    "imputed_X_valid.columns = X_valid.columns\n",
    "\n",
    "# Check your answers\n",
    "step_3.a.check()"
   ]
  },
  {
   "cell_type": "code",
   "execution_count": 14,
   "id": "b01ddf83",
   "metadata": {
    "execution": {
     "iopub.execute_input": "2021-08-13T13:33:47.454843Z",
     "iopub.status.busy": "2021-08-13T13:33:47.454209Z",
     "iopub.status.idle": "2021-08-13T13:33:47.457446Z",
     "shell.execute_reply": "2021-08-13T13:33:47.457969Z"
    },
    "papermill": {
     "duration": 0.039901,
     "end_time": "2021-08-13T13:33:47.458138",
     "exception": false,
     "start_time": "2021-08-13T13:33:47.418237",
     "status": "completed"
    },
    "tags": []
   },
   "outputs": [],
   "source": [
    "# Lines below will give you a hint or solution code\n",
    "#step_3.a.hint()\n",
    "#step_3.a.solution()"
   ]
  },
  {
   "cell_type": "markdown",
   "id": "0ef197a5",
   "metadata": {
    "papermill": {
     "duration": 0.033161,
     "end_time": "2021-08-13T13:33:47.524715",
     "exception": false,
     "start_time": "2021-08-13T13:33:47.491554",
     "status": "completed"
    },
    "tags": []
   },
   "source": [
    "Run the next code cell without changes to obtain the MAE for this approach."
   ]
  },
  {
   "cell_type": "code",
   "execution_count": 15,
   "id": "23199f76",
   "metadata": {
    "execution": {
     "iopub.execute_input": "2021-08-13T13:33:47.594498Z",
     "iopub.status.busy": "2021-08-13T13:33:47.593823Z",
     "iopub.status.idle": "2021-08-13T13:33:48.973797Z",
     "shell.execute_reply": "2021-08-13T13:33:48.974325Z",
     "shell.execute_reply.started": "2021-08-13T13:30:28.600416Z"
    },
    "papermill": {
     "duration": 1.416396,
     "end_time": "2021-08-13T13:33:48.974488",
     "exception": false,
     "start_time": "2021-08-13T13:33:47.558092",
     "status": "completed"
    },
    "tags": []
   },
   "outputs": [
    {
     "name": "stdout",
     "output_type": "stream",
     "text": [
      "MAE (Imputation):\n",
      "18062.894611872147\n"
     ]
    }
   ],
   "source": [
    "print(\"MAE (Imputation):\")\n",
    "print(score_dataset(imputed_X_train, imputed_X_valid, y_train, y_valid))"
   ]
  },
  {
   "cell_type": "markdown",
   "id": "e1914ad1",
   "metadata": {
    "papermill": {
     "duration": 0.034112,
     "end_time": "2021-08-13T13:33:49.043385",
     "exception": false,
     "start_time": "2021-08-13T13:33:49.009273",
     "status": "completed"
    },
    "tags": []
   },
   "source": [
    "### Part B\n",
    "\n",
    "Compare the MAE from each approach.  Does anything surprise you about the results?  Why do you think one approach performed better than the other?"
   ]
  },
  {
   "cell_type": "code",
   "execution_count": 16,
   "id": "895cd260",
   "metadata": {
    "execution": {
     "iopub.execute_input": "2021-08-13T13:33:49.115290Z",
     "iopub.status.busy": "2021-08-13T13:33:49.114641Z",
     "iopub.status.idle": "2021-08-13T13:33:49.123524Z",
     "shell.execute_reply": "2021-08-13T13:33:49.122892Z",
     "shell.execute_reply.started": "2021-08-13T13:30:39.863815Z"
    },
    "papermill": {
     "duration": 0.046022,
     "end_time": "2021-08-13T13:33:49.123662",
     "exception": false,
     "start_time": "2021-08-13T13:33:49.077640",
     "status": "completed"
    },
    "tags": []
   },
   "outputs": [
    {
     "data": {
      "application/javascript": [
       "parent.postMessage({\"jupyterEvent\": \"custom.exercise_interaction\", \"data\": {\"outcomeType\": 1, \"valueTowardsCompletion\": 1.0, \"interactionType\": 1, \"questionType\": 4, \"questionId\": \"3.2_ImputeThought\", \"learnToolsVersion\": \"0.3.4\", \"failureMessage\": \"\", \"exceptionClass\": \"\", \"trace\": \"\"}}, \"*\")"
      ],
      "text/plain": [
       "<IPython.core.display.Javascript object>"
      ]
     },
     "metadata": {},
     "output_type": "display_data"
    },
    {
     "data": {
      "text/markdown": [
       "<span style=\"color:#33cc33\">Correct:</span> \n",
       "\n",
       "Given that thre are so few missing values in the dataset, we'd expect imputation to perform better than dropping columns entirely.  However, we see that dropping columns performs slightly better!  While this can probably partially be attributed to noise in the dataset, another potential explanation is that the imputation method is not a great match to this dataset.  That is, maybe instead of filling in the mean value, it makes more sense to set every missing value to a value of 0, to fill in the most frequently encountered value, or to use some other method.  For instance, consider the `GarageYrBlt` column (which indicates the year that the garage was built).  It's likely that in some cases, a missing value could indicate a house that does not have a garage.  Does it make more sense to fill in the median value along each column in this case?  Or could we get better results by filling in the minimum value along each column?  It's not quite clear what's best in this case, but perhaps we can rule out some options immediately - for instance, setting missing values in this column to 0 is likely to yield horrible results!"
      ],
      "text/plain": [
       "Correct: \n",
       "\n",
       "Given that thre are so few missing values in the dataset, we'd expect imputation to perform better than dropping columns entirely.  However, we see that dropping columns performs slightly better!  While this can probably partially be attributed to noise in the dataset, another potential explanation is that the imputation method is not a great match to this dataset.  That is, maybe instead of filling in the mean value, it makes more sense to set every missing value to a value of 0, to fill in the most frequently encountered value, or to use some other method.  For instance, consider the `GarageYrBlt` column (which indicates the year that the garage was built).  It's likely that in some cases, a missing value could indicate a house that does not have a garage.  Does it make more sense to fill in the median value along each column in this case?  Or could we get better results by filling in the minimum value along each column?  It's not quite clear what's best in this case, but perhaps we can rule out some options immediately - for instance, setting missing values in this column to 0 is likely to yield horrible results!"
      ]
     },
     "metadata": {},
     "output_type": "display_data"
    }
   ],
   "source": [
    "# Check your answer (Run this code cell to receive credit!)\n",
    "step_3.b.check()"
   ]
  },
  {
   "cell_type": "code",
   "execution_count": 17,
   "id": "de8e11bd",
   "metadata": {
    "execution": {
     "iopub.execute_input": "2021-08-13T13:33:49.198809Z",
     "iopub.status.busy": "2021-08-13T13:33:49.197817Z",
     "iopub.status.idle": "2021-08-13T13:33:49.201218Z",
     "shell.execute_reply": "2021-08-13T13:33:49.200600Z"
    },
    "papermill": {
     "duration": 0.042596,
     "end_time": "2021-08-13T13:33:49.201355",
     "exception": false,
     "start_time": "2021-08-13T13:33:49.158759",
     "status": "completed"
    },
    "tags": []
   },
   "outputs": [],
   "source": [
    "#step_3.b.hint()"
   ]
  },
  {
   "cell_type": "markdown",
   "id": "46635b3d",
   "metadata": {
    "papermill": {
     "duration": 0.036296,
     "end_time": "2021-08-13T13:33:49.273106",
     "exception": false,
     "start_time": "2021-08-13T13:33:49.236810",
     "status": "completed"
    },
    "tags": []
   },
   "source": [
    "# Step 4: Generate test predictions\n",
    "\n",
    "In this final step, you'll use any approach of your choosing to deal with missing values.  Once you've preprocessed the training and validation features, you'll train and evaluate a random forest model.  Then, you'll preprocess the test data before generating predictions that can be submitted to the competition!\n",
    "\n",
    "### Part A\n",
    "\n",
    "Use the next code cell to preprocess the training and validation data.  Set the preprocessed DataFrames to `final_X_train` and `final_X_valid`.  **You can use any approach of your choosing here!**  in order for this step to be marked as correct, you need only ensure:\n",
    "- the preprocessed DataFrames have the same number of columns,\n",
    "- the preprocessed DataFrames have no missing values, \n",
    "- `final_X_train` and `y_train` have the same number of rows, and\n",
    "- `final_X_valid` and `y_valid` have the same number of rows."
   ]
  },
  {
   "cell_type": "code",
   "execution_count": 18,
   "id": "99a72e6f",
   "metadata": {
    "execution": {
     "iopub.execute_input": "2021-08-13T13:33:49.352478Z",
     "iopub.status.busy": "2021-08-13T13:33:49.351797Z",
     "iopub.status.idle": "2021-08-13T13:33:49.376390Z",
     "shell.execute_reply": "2021-08-13T13:33:49.375849Z",
     "shell.execute_reply.started": "2021-08-13T13:30:42.590769Z"
    },
    "papermill": {
     "duration": 0.06749,
     "end_time": "2021-08-13T13:33:49.376530",
     "exception": false,
     "start_time": "2021-08-13T13:33:49.309040",
     "status": "completed"
    },
    "tags": []
   },
   "outputs": [
    {
     "data": {
      "application/javascript": [
       "parent.postMessage({\"jupyterEvent\": \"custom.exercise_interaction\", \"data\": {\"outcomeType\": 1, \"valueTowardsCompletion\": 1.0, \"interactionType\": 1, \"questionType\": 2, \"questionId\": \"4.1_PredsCodeA\", \"learnToolsVersion\": \"0.3.4\", \"failureMessage\": \"\", \"exceptionClass\": \"\", \"trace\": \"\"}}, \"*\")"
      ],
      "text/plain": [
       "<IPython.core.display.Javascript object>"
      ]
     },
     "metadata": {},
     "output_type": "display_data"
    },
    {
     "data": {
      "text/markdown": [
       "<span style=\"color:#33cc33\">Correct</span>"
      ],
      "text/plain": [
       "Correct"
      ]
     },
     "metadata": {},
     "output_type": "display_data"
    }
   ],
   "source": [
    "# Preprocessed training and validation features\n",
    "imputer = SimpleImputer()\n",
    "final_X_train = pd.DataFrame(imputer.fit_transform(X_train))\n",
    "final_X_valid = pd.DataFrame(imputer.transform(X_valid))\n",
    "\n",
    "# Imputation removed column names; put them back\n",
    "final_X_train.columns = X_train.columns\n",
    "final_X_valid.columns = X_test.columns\n",
    "\n",
    "# Check your answers\n",
    "step_4.a.check()"
   ]
  },
  {
   "cell_type": "code",
   "execution_count": 19,
   "id": "c23de4f3",
   "metadata": {
    "execution": {
     "iopub.execute_input": "2021-08-13T13:33:49.453735Z",
     "iopub.status.busy": "2021-08-13T13:33:49.452872Z",
     "iopub.status.idle": "2021-08-13T13:33:49.455940Z",
     "shell.execute_reply": "2021-08-13T13:33:49.455453Z",
     "shell.execute_reply.started": "2021-08-13T13:30:43.689394Z"
    },
    "papermill": {
     "duration": 0.042985,
     "end_time": "2021-08-13T13:33:49.456076",
     "exception": false,
     "start_time": "2021-08-13T13:33:49.413091",
     "status": "completed"
    },
    "tags": []
   },
   "outputs": [],
   "source": [
    "# Lines below will give you a hint or solution code\n",
    "#step_4.a.hint()\n",
    "#step_4.a.solution()"
   ]
  },
  {
   "cell_type": "markdown",
   "id": "1ec9dd5d",
   "metadata": {
    "papermill": {
     "duration": 0.036559,
     "end_time": "2021-08-13T13:33:49.529127",
     "exception": false,
     "start_time": "2021-08-13T13:33:49.492568",
     "status": "completed"
    },
    "tags": []
   },
   "source": [
    "Run the next code cell to train and evaluate a random forest model.  (*Note that we don't use the `score_dataset()` function above, because we will soon use the trained model to generate test predictions!*)"
   ]
  },
  {
   "cell_type": "code",
   "execution_count": 20,
   "id": "904e4a18",
   "metadata": {
    "execution": {
     "iopub.execute_input": "2021-08-13T13:33:49.609461Z",
     "iopub.status.busy": "2021-08-13T13:33:49.608812Z",
     "iopub.status.idle": "2021-08-13T13:33:50.975636Z",
     "shell.execute_reply": "2021-08-13T13:33:50.976112Z",
     "shell.execute_reply.started": "2021-08-13T13:31:11.860747Z"
    },
    "papermill": {
     "duration": 1.41078,
     "end_time": "2021-08-13T13:33:50.976291",
     "exception": false,
     "start_time": "2021-08-13T13:33:49.565511",
     "status": "completed"
    },
    "tags": []
   },
   "outputs": [
    {
     "name": "stdout",
     "output_type": "stream",
     "text": [
      "MAE (Your approach):\n",
      "18062.894611872147\n"
     ]
    }
   ],
   "source": [
    "# Define and fit model\n",
    "model = RandomForestRegressor(n_estimators=100, random_state=0)\n",
    "model.fit(final_X_train, y_train)\n",
    "\n",
    "# Get validation predictions and MAE\n",
    "preds_valid = model.predict(final_X_valid)\n",
    "print(\"MAE (Your approach):\")\n",
    "print(mean_absolute_error(y_valid, preds_valid))"
   ]
  },
  {
   "cell_type": "markdown",
   "id": "d06b0cf0",
   "metadata": {
    "papermill": {
     "duration": 0.037357,
     "end_time": "2021-08-13T13:33:51.051665",
     "exception": false,
     "start_time": "2021-08-13T13:33:51.014308",
     "status": "completed"
    },
    "tags": []
   },
   "source": [
    "### Part B\n",
    "\n",
    "Use the next code cell to preprocess your test data.  Make sure that you use a method that agrees with how you preprocessed the training and validation data, and set the preprocessed test features to `final_X_test`.\n",
    "\n",
    "Then, use the preprocessed test features and the trained model to generate test predictions in `preds_test`.\n",
    "\n",
    "In order for this step to be marked correct, you need only ensure:\n",
    "- the preprocessed test DataFrame has no missing values, and\n",
    "- `final_X_test` has the same number of rows as `X_test`."
   ]
  },
  {
   "cell_type": "code",
   "execution_count": 21,
   "id": "a686f98d",
   "metadata": {
    "execution": {
     "iopub.execute_input": "2021-08-13T13:33:51.134242Z",
     "iopub.status.busy": "2021-08-13T13:33:51.133233Z",
     "iopub.status.idle": "2021-08-13T13:33:51.180291Z",
     "shell.execute_reply": "2021-08-13T13:33:51.179614Z",
     "shell.execute_reply.started": "2021-08-13T13:33:02.769805Z"
    },
    "papermill": {
     "duration": 0.091256,
     "end_time": "2021-08-13T13:33:51.180442",
     "exception": false,
     "start_time": "2021-08-13T13:33:51.089186",
     "status": "completed"
    },
    "tags": []
   },
   "outputs": [
    {
     "data": {
      "application/javascript": [
       "parent.postMessage({\"jupyterEvent\": \"custom.exercise_interaction\", \"data\": {\"outcomeType\": 1, \"valueTowardsCompletion\": 1.0, \"interactionType\": 1, \"questionType\": 2, \"questionId\": \"4.2_PredsCodeB\", \"learnToolsVersion\": \"0.3.4\", \"failureMessage\": \"\", \"exceptionClass\": \"\", \"trace\": \"\"}}, \"*\")"
      ],
      "text/plain": [
       "<IPython.core.display.Javascript object>"
      ]
     },
     "metadata": {},
     "output_type": "display_data"
    },
    {
     "data": {
      "text/markdown": [
       "<span style=\"color:#33cc33\">Correct</span>"
      ],
      "text/plain": [
       "Correct"
      ]
     },
     "metadata": {},
     "output_type": "display_data"
    }
   ],
   "source": [
    "# Fill in the line below: preprocess test data\n",
    "final_X_test = pd.DataFrame(imputer.transform(X_test))\n",
    "\n",
    "# Fill in the line below: get test predictions\n",
    "preds_test = model.predict(final_X_test)\n",
    "\n",
    "# Check your answers\n",
    "step_4.b.check()"
   ]
  },
  {
   "cell_type": "code",
   "execution_count": 22,
   "id": "ee189444",
   "metadata": {
    "execution": {
     "iopub.execute_input": "2021-08-13T13:33:51.260700Z",
     "iopub.status.busy": "2021-08-13T13:33:51.259633Z",
     "iopub.status.idle": "2021-08-13T13:33:51.262512Z",
     "shell.execute_reply": "2021-08-13T13:33:51.262962Z",
     "shell.execute_reply.started": "2021-08-13T13:33:06.005974Z"
    },
    "papermill": {
     "duration": 0.044703,
     "end_time": "2021-08-13T13:33:51.263138",
     "exception": false,
     "start_time": "2021-08-13T13:33:51.218435",
     "status": "completed"
    },
    "tags": []
   },
   "outputs": [],
   "source": [
    "# Lines below will give you a hint or solution code\n",
    "#step_4.b.hint()\n",
    "#step_4.b.solution()"
   ]
  },
  {
   "cell_type": "markdown",
   "id": "2ba3f631",
   "metadata": {
    "papermill": {
     "duration": 0.037221,
     "end_time": "2021-08-13T13:33:51.337973",
     "exception": false,
     "start_time": "2021-08-13T13:33:51.300752",
     "status": "completed"
    },
    "tags": []
   },
   "source": [
    "Run the next code cell without changes to save your results to a CSV file that can be submitted directly to the competition."
   ]
  },
  {
   "cell_type": "code",
   "execution_count": 23,
   "id": "400b6d36",
   "metadata": {
    "execution": {
     "iopub.execute_input": "2021-08-13T13:33:51.419620Z",
     "iopub.status.busy": "2021-08-13T13:33:51.418939Z",
     "iopub.status.idle": "2021-08-13T13:33:51.430132Z",
     "shell.execute_reply": "2021-08-13T13:33:51.429564Z",
     "shell.execute_reply.started": "2021-08-13T13:33:09.264748Z"
    },
    "papermill": {
     "duration": 0.054831,
     "end_time": "2021-08-13T13:33:51.430284",
     "exception": false,
     "start_time": "2021-08-13T13:33:51.375453",
     "status": "completed"
    },
    "tags": []
   },
   "outputs": [],
   "source": [
    "# Save test predictions to file\n",
    "output = pd.DataFrame({'Id': X_test.index,\n",
    "                       'SalePrice': preds_test})\n",
    "output.to_csv('submission.csv', index=False)"
   ]
  },
  {
   "cell_type": "markdown",
   "id": "528b8582",
   "metadata": {
    "papermill": {
     "duration": 0.039033,
     "end_time": "2021-08-13T13:33:51.508765",
     "exception": false,
     "start_time": "2021-08-13T13:33:51.469732",
     "status": "completed"
    },
    "tags": []
   },
   "source": [
    "# Submit your results\n",
    "\n",
    "Once you have successfully completed Step 4, you're ready to submit your results to the leaderboard!  (_You also learned how to do this in the previous exercise.  If you need a reminder of how to do this, please use the instructions below._)  \n",
    "\n",
    "First, you'll need to join the competition if you haven't already.  So open a new window by clicking on [this link](https://www.kaggle.com/c/home-data-for-ml-course).  Then click on the **Join Competition** button.\n",
    "\n",
    "![join competition image](https://i.imgur.com/wLmFtH3.png)\n",
    "\n",
    "Next, follow the instructions below:\n",
    "1. Begin by clicking on the blue **Save Version** button in the top right corner of the window.  This will generate a pop-up window.  \n",
    "2. Ensure that the **Save and Run All** option is selected, and then click on the blue **Save** button.\n",
    "3. This generates a window in the bottom left corner of the notebook.  After it has finished running, click on the number to the right of the **Save Version** button.  This pulls up a list of versions on the right of the screen.  Click on the ellipsis **(...)** to the right of the most recent version, and select **Open in Viewer**.  This brings you into view mode of the same page. You will need to scroll down to get back to these instructions.\n",
    "4. Click on the **Output** tab on the right of the screen.  Then, click on the file you would like to submit, and click on the blue **Submit** button to submit your results to the leaderboard.\n",
    "\n",
    "You have now successfully submitted to the competition!\n",
    "\n",
    "If you want to keep working to improve your performance, select the blue **Edit** button in the top right of the screen. Then you can change your code and repeat the process. There's a lot of room to improve, and you will climb up the leaderboard as you work.\n",
    "\n",
    "\n",
    "# Keep going\n",
    "\n",
    "Move on to learn what **[categorical variables](https://www.kaggle.com/alexisbcook/categorical-variables)** are, along with how to incorporate them into your machine learning models.  Categorical variables are very common in real-world data, but you'll get an error if you try to plug them into your models without processing them first!"
   ]
  },
  {
   "cell_type": "markdown",
   "id": "3aecd5d1",
   "metadata": {
    "papermill": {
     "duration": 0.037572,
     "end_time": "2021-08-13T13:33:51.585177",
     "exception": false,
     "start_time": "2021-08-13T13:33:51.547605",
     "status": "completed"
    },
    "tags": []
   },
   "source": [
    "---\n",
    "\n",
    "\n",
    "\n",
    "\n",
    "*Have questions or comments? Visit the [Learn Discussion forum](https://www.kaggle.com/learn-forum/161289) to chat with other Learners.*"
   ]
  }
 ],
 "metadata": {
  "kernelspec": {
   "display_name": "Python 3",
   "language": "python",
   "name": "python3"
  },
  "language_info": {
   "codemirror_mode": {
    "name": "ipython",
    "version": 3
   },
   "file_extension": ".py",
   "mimetype": "text/x-python",
   "name": "python",
   "nbconvert_exporter": "python",
   "pygments_lexer": "ipython3",
   "version": "3.7.10"
  },
  "papermill": {
   "default_parameters": {},
   "duration": 17.76292,
   "end_time": "2021-08-13T13:33:53.012309",
   "environment_variables": {},
   "exception": null,
   "input_path": "__notebook__.ipynb",
   "output_path": "__notebook__.ipynb",
   "parameters": {},
   "start_time": "2021-08-13T13:33:35.249389",
   "version": "2.3.3"
  }
 },
 "nbformat": 4,
 "nbformat_minor": 5
}
