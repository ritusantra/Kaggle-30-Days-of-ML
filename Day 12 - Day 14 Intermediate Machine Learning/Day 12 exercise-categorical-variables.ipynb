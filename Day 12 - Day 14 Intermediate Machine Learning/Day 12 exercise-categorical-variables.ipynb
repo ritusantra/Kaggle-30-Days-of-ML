{
 "cells": [
  {
   "cell_type": "markdown",
   "id": "67fac954",
   "metadata": {
    "papermill": {
     "duration": 0.023224,
     "end_time": "2021-08-14T13:51:10.994425",
     "exception": false,
     "start_time": "2021-08-14T13:51:10.971201",
     "status": "completed"
    },
    "tags": []
   },
   "source": [
    "**This notebook is an exercise in the [Intermediate Machine Learning](https://www.kaggle.com/learn/intermediate-machine-learning) course.  You can reference the tutorial at [this link](https://www.kaggle.com/alexisbcook/categorical-variables).**\n",
    "\n",
    "---\n"
   ]
  },
  {
   "cell_type": "markdown",
   "id": "add77bf0",
   "metadata": {
    "papermill": {
     "duration": 0.021877,
     "end_time": "2021-08-14T13:51:11.037874",
     "exception": false,
     "start_time": "2021-08-14T13:51:11.015997",
     "status": "completed"
    },
    "tags": []
   },
   "source": [
    "By encoding **categorical variables**, you'll obtain your best results thus far!\n",
    "\n",
    "# Setup\n",
    "\n",
    "The questions below will give you feedback on your work. Run the following cell to set up the feedback system."
   ]
  },
  {
   "cell_type": "code",
   "execution_count": 1,
   "id": "31e2c014",
   "metadata": {
    "execution": {
     "iopub.execute_input": "2021-08-14T13:51:11.085145Z",
     "iopub.status.busy": "2021-08-14T13:51:11.084110Z",
     "iopub.status.idle": "2021-08-14T13:51:11.215102Z",
     "shell.execute_reply": "2021-08-14T13:51:11.215912Z",
     "shell.execute_reply.started": "2021-08-14T13:16:49.364140Z"
    },
    "papermill": {
     "duration": 0.156942,
     "end_time": "2021-08-14T13:51:11.216285",
     "exception": false,
     "start_time": "2021-08-14T13:51:11.059343",
     "status": "completed"
    },
    "tags": []
   },
   "outputs": [
    {
     "name": "stdout",
     "output_type": "stream",
     "text": [
      "Setup Complete\n"
     ]
    }
   ],
   "source": [
    "# Set up code checking\n",
    "import os\n",
    "if not os.path.exists(\"../input/train.csv\"):\n",
    "    os.symlink(\"../input/home-data-for-ml-course/train.csv\", \"../input/train.csv\")  \n",
    "    os.symlink(\"../input/home-data-for-ml-course/test.csv\", \"../input/test.csv\") \n",
    "from learntools.core import binder\n",
    "binder.bind(globals())\n",
    "from learntools.ml_intermediate.ex3 import *\n",
    "print(\"Setup Complete\")"
   ]
  },
  {
   "cell_type": "markdown",
   "id": "22600610",
   "metadata": {
    "papermill": {
     "duration": 0.024027,
     "end_time": "2021-08-14T13:51:11.262844",
     "exception": false,
     "start_time": "2021-08-14T13:51:11.238817",
     "status": "completed"
    },
    "tags": []
   },
   "source": [
    "In this exercise, you will work with data from the [Housing Prices Competition for Kaggle Learn Users](https://www.kaggle.com/c/home-data-for-ml-course). \n",
    "\n",
    "![Ames Housing dataset image](https://i.imgur.com/lTJVG4e.png)\n",
    "\n",
    "Run the next code cell without changes to load the training and validation sets in `X_train`, `X_valid`, `y_train`, and `y_valid`.  The test set is loaded in `X_test`."
   ]
  },
  {
   "cell_type": "code",
   "execution_count": 2,
   "id": "8ba8c863",
   "metadata": {
    "execution": {
     "iopub.execute_input": "2021-08-14T13:51:11.313543Z",
     "iopub.status.busy": "2021-08-14T13:51:11.312771Z",
     "iopub.status.idle": "2021-08-14T13:51:12.260254Z",
     "shell.execute_reply": "2021-08-14T13:51:12.259708Z",
     "shell.execute_reply.started": "2021-08-14T13:17:43.460438Z"
    },
    "papermill": {
     "duration": 0.975828,
     "end_time": "2021-08-14T13:51:12.260394",
     "exception": false,
     "start_time": "2021-08-14T13:51:11.284566",
     "status": "completed"
    },
    "tags": []
   },
   "outputs": [],
   "source": [
    "import pandas as pd\n",
    "from sklearn.model_selection import train_test_split\n",
    "\n",
    "# Read the data\n",
    "X = pd.read_csv('../input/train.csv', index_col='Id') \n",
    "X_test = pd.read_csv('../input/test.csv', index_col='Id')\n",
    "\n",
    "# Remove rows with missing target, separate target from predictors\n",
    "X.dropna(axis=0, subset=['SalePrice'], inplace=True)\n",
    "y = X.SalePrice\n",
    "X.drop(['SalePrice'], axis=1, inplace=True)\n",
    "\n",
    "# To keep things simple, we'll drop columns with missing values\n",
    "cols_with_missing = [col for col in X.columns if X[col].isnull().any()] \n",
    "X.drop(cols_with_missing, axis=1, inplace=True)\n",
    "X_test.drop(cols_with_missing, axis=1, inplace=True)\n",
    "\n",
    "# Break off validation set from training data\n",
    "X_train, X_valid, y_train, y_valid = train_test_split(X, y,\n",
    "                                                      train_size=0.8, test_size=0.2,\n",
    "                                                      random_state=0)"
   ]
  },
  {
   "cell_type": "markdown",
   "id": "db7bfd41",
   "metadata": {
    "papermill": {
     "duration": 0.032615,
     "end_time": "2021-08-14T13:51:12.321878",
     "exception": false,
     "start_time": "2021-08-14T13:51:12.289263",
     "status": "completed"
    },
    "tags": []
   },
   "source": [
    "Use the next code cell to print the first five rows of the data."
   ]
  },
  {
   "cell_type": "code",
   "execution_count": 3,
   "id": "2820dbe2",
   "metadata": {
    "execution": {
     "iopub.execute_input": "2021-08-14T13:51:12.380878Z",
     "iopub.status.busy": "2021-08-14T13:51:12.380016Z",
     "iopub.status.idle": "2021-08-14T13:51:12.406347Z",
     "shell.execute_reply": "2021-08-14T13:51:12.405824Z",
     "shell.execute_reply.started": "2021-08-14T13:17:58.181802Z"
    },
    "papermill": {
     "duration": 0.057077,
     "end_time": "2021-08-14T13:51:12.406478",
     "exception": false,
     "start_time": "2021-08-14T13:51:12.349401",
     "status": "completed"
    },
    "tags": []
   },
   "outputs": [
    {
     "data": {
      "text/html": [
       "<div>\n",
       "<style scoped>\n",
       "    .dataframe tbody tr th:only-of-type {\n",
       "        vertical-align: middle;\n",
       "    }\n",
       "\n",
       "    .dataframe tbody tr th {\n",
       "        vertical-align: top;\n",
       "    }\n",
       "\n",
       "    .dataframe thead th {\n",
       "        text-align: right;\n",
       "    }\n",
       "</style>\n",
       "<table border=\"1\" class=\"dataframe\">\n",
       "  <thead>\n",
       "    <tr style=\"text-align: right;\">\n",
       "      <th></th>\n",
       "      <th>MSSubClass</th>\n",
       "      <th>MSZoning</th>\n",
       "      <th>LotArea</th>\n",
       "      <th>Street</th>\n",
       "      <th>LotShape</th>\n",
       "      <th>LandContour</th>\n",
       "      <th>Utilities</th>\n",
       "      <th>LotConfig</th>\n",
       "      <th>LandSlope</th>\n",
       "      <th>Neighborhood</th>\n",
       "      <th>...</th>\n",
       "      <th>OpenPorchSF</th>\n",
       "      <th>EnclosedPorch</th>\n",
       "      <th>3SsnPorch</th>\n",
       "      <th>ScreenPorch</th>\n",
       "      <th>PoolArea</th>\n",
       "      <th>MiscVal</th>\n",
       "      <th>MoSold</th>\n",
       "      <th>YrSold</th>\n",
       "      <th>SaleType</th>\n",
       "      <th>SaleCondition</th>\n",
       "    </tr>\n",
       "    <tr>\n",
       "      <th>Id</th>\n",
       "      <th></th>\n",
       "      <th></th>\n",
       "      <th></th>\n",
       "      <th></th>\n",
       "      <th></th>\n",
       "      <th></th>\n",
       "      <th></th>\n",
       "      <th></th>\n",
       "      <th></th>\n",
       "      <th></th>\n",
       "      <th></th>\n",
       "      <th></th>\n",
       "      <th></th>\n",
       "      <th></th>\n",
       "      <th></th>\n",
       "      <th></th>\n",
       "      <th></th>\n",
       "      <th></th>\n",
       "      <th></th>\n",
       "      <th></th>\n",
       "      <th></th>\n",
       "    </tr>\n",
       "  </thead>\n",
       "  <tbody>\n",
       "    <tr>\n",
       "      <th>619</th>\n",
       "      <td>20</td>\n",
       "      <td>RL</td>\n",
       "      <td>11694</td>\n",
       "      <td>Pave</td>\n",
       "      <td>Reg</td>\n",
       "      <td>Lvl</td>\n",
       "      <td>AllPub</td>\n",
       "      <td>Inside</td>\n",
       "      <td>Gtl</td>\n",
       "      <td>NridgHt</td>\n",
       "      <td>...</td>\n",
       "      <td>108</td>\n",
       "      <td>0</td>\n",
       "      <td>0</td>\n",
       "      <td>260</td>\n",
       "      <td>0</td>\n",
       "      <td>0</td>\n",
       "      <td>7</td>\n",
       "      <td>2007</td>\n",
       "      <td>New</td>\n",
       "      <td>Partial</td>\n",
       "    </tr>\n",
       "    <tr>\n",
       "      <th>871</th>\n",
       "      <td>20</td>\n",
       "      <td>RL</td>\n",
       "      <td>6600</td>\n",
       "      <td>Pave</td>\n",
       "      <td>Reg</td>\n",
       "      <td>Lvl</td>\n",
       "      <td>AllPub</td>\n",
       "      <td>Inside</td>\n",
       "      <td>Gtl</td>\n",
       "      <td>NAmes</td>\n",
       "      <td>...</td>\n",
       "      <td>0</td>\n",
       "      <td>0</td>\n",
       "      <td>0</td>\n",
       "      <td>0</td>\n",
       "      <td>0</td>\n",
       "      <td>0</td>\n",
       "      <td>8</td>\n",
       "      <td>2009</td>\n",
       "      <td>WD</td>\n",
       "      <td>Normal</td>\n",
       "    </tr>\n",
       "    <tr>\n",
       "      <th>93</th>\n",
       "      <td>30</td>\n",
       "      <td>RL</td>\n",
       "      <td>13360</td>\n",
       "      <td>Pave</td>\n",
       "      <td>IR1</td>\n",
       "      <td>HLS</td>\n",
       "      <td>AllPub</td>\n",
       "      <td>Inside</td>\n",
       "      <td>Gtl</td>\n",
       "      <td>Crawfor</td>\n",
       "      <td>...</td>\n",
       "      <td>0</td>\n",
       "      <td>44</td>\n",
       "      <td>0</td>\n",
       "      <td>0</td>\n",
       "      <td>0</td>\n",
       "      <td>0</td>\n",
       "      <td>8</td>\n",
       "      <td>2009</td>\n",
       "      <td>WD</td>\n",
       "      <td>Normal</td>\n",
       "    </tr>\n",
       "    <tr>\n",
       "      <th>818</th>\n",
       "      <td>20</td>\n",
       "      <td>RL</td>\n",
       "      <td>13265</td>\n",
       "      <td>Pave</td>\n",
       "      <td>IR1</td>\n",
       "      <td>Lvl</td>\n",
       "      <td>AllPub</td>\n",
       "      <td>CulDSac</td>\n",
       "      <td>Gtl</td>\n",
       "      <td>Mitchel</td>\n",
       "      <td>...</td>\n",
       "      <td>59</td>\n",
       "      <td>0</td>\n",
       "      <td>0</td>\n",
       "      <td>0</td>\n",
       "      <td>0</td>\n",
       "      <td>0</td>\n",
       "      <td>7</td>\n",
       "      <td>2008</td>\n",
       "      <td>WD</td>\n",
       "      <td>Normal</td>\n",
       "    </tr>\n",
       "    <tr>\n",
       "      <th>303</th>\n",
       "      <td>20</td>\n",
       "      <td>RL</td>\n",
       "      <td>13704</td>\n",
       "      <td>Pave</td>\n",
       "      <td>IR1</td>\n",
       "      <td>Lvl</td>\n",
       "      <td>AllPub</td>\n",
       "      <td>Corner</td>\n",
       "      <td>Gtl</td>\n",
       "      <td>CollgCr</td>\n",
       "      <td>...</td>\n",
       "      <td>81</td>\n",
       "      <td>0</td>\n",
       "      <td>0</td>\n",
       "      <td>0</td>\n",
       "      <td>0</td>\n",
       "      <td>0</td>\n",
       "      <td>1</td>\n",
       "      <td>2006</td>\n",
       "      <td>WD</td>\n",
       "      <td>Normal</td>\n",
       "    </tr>\n",
       "  </tbody>\n",
       "</table>\n",
       "<p>5 rows × 60 columns</p>\n",
       "</div>"
      ],
      "text/plain": [
       "     MSSubClass MSZoning  LotArea Street LotShape LandContour Utilities  \\\n",
       "Id                                                                        \n",
       "619          20       RL    11694   Pave      Reg         Lvl    AllPub   \n",
       "871          20       RL     6600   Pave      Reg         Lvl    AllPub   \n",
       "93           30       RL    13360   Pave      IR1         HLS    AllPub   \n",
       "818          20       RL    13265   Pave      IR1         Lvl    AllPub   \n",
       "303          20       RL    13704   Pave      IR1         Lvl    AllPub   \n",
       "\n",
       "    LotConfig LandSlope Neighborhood  ... OpenPorchSF EnclosedPorch 3SsnPorch  \\\n",
       "Id                                    ...                                       \n",
       "619    Inside       Gtl      NridgHt  ...         108             0         0   \n",
       "871    Inside       Gtl        NAmes  ...           0             0         0   \n",
       "93     Inside       Gtl      Crawfor  ...           0            44         0   \n",
       "818   CulDSac       Gtl      Mitchel  ...          59             0         0   \n",
       "303    Corner       Gtl      CollgCr  ...          81             0         0   \n",
       "\n",
       "    ScreenPorch  PoolArea  MiscVal  MoSold  YrSold SaleType SaleCondition  \n",
       "Id                                                                         \n",
       "619         260         0        0       7    2007      New       Partial  \n",
       "871           0         0        0       8    2009       WD        Normal  \n",
       "93            0         0        0       8    2009       WD        Normal  \n",
       "818           0         0        0       7    2008       WD        Normal  \n",
       "303           0         0        0       1    2006       WD        Normal  \n",
       "\n",
       "[5 rows x 60 columns]"
      ]
     },
     "execution_count": 3,
     "metadata": {},
     "output_type": "execute_result"
    }
   ],
   "source": [
    "X_train.head()"
   ]
  },
  {
   "cell_type": "markdown",
   "id": "84d9b910",
   "metadata": {
    "papermill": {
     "duration": 0.021721,
     "end_time": "2021-08-14T13:51:12.450461",
     "exception": false,
     "start_time": "2021-08-14T13:51:12.428740",
     "status": "completed"
    },
    "tags": []
   },
   "source": [
    "Notice that the dataset contains both numerical and categorical variables.  You'll need to encode the categorical data before training a model.\n",
    "\n",
    "To compare different models, you'll use the same `score_dataset()` function from the tutorial.  This function reports the [mean absolute error](https://en.wikipedia.org/wiki/Mean_absolute_error) (MAE) from a random forest model."
   ]
  },
  {
   "cell_type": "code",
   "execution_count": 4,
   "id": "f7d0d717",
   "metadata": {
    "execution": {
     "iopub.execute_input": "2021-08-14T13:51:12.500071Z",
     "iopub.status.busy": "2021-08-14T13:51:12.499405Z",
     "iopub.status.idle": "2021-08-14T13:51:12.676005Z",
     "shell.execute_reply": "2021-08-14T13:51:12.675261Z",
     "shell.execute_reply.started": "2021-08-14T13:18:07.499661Z"
    },
    "papermill": {
     "duration": 0.203593,
     "end_time": "2021-08-14T13:51:12.676214",
     "exception": false,
     "start_time": "2021-08-14T13:51:12.472621",
     "status": "completed"
    },
    "tags": []
   },
   "outputs": [],
   "source": [
    "from sklearn.ensemble import RandomForestRegressor\n",
    "from sklearn.metrics import mean_absolute_error\n",
    "\n",
    "# function for comparing different approaches\n",
    "def score_dataset(X_train, X_valid, y_train, y_valid):\n",
    "    model = RandomForestRegressor(n_estimators=100, random_state=0)\n",
    "    model.fit(X_train, y_train)\n",
    "    preds = model.predict(X_valid)\n",
    "    return mean_absolute_error(y_valid, preds)"
   ]
  },
  {
   "cell_type": "markdown",
   "id": "659306d6",
   "metadata": {
    "papermill": {
     "duration": 0.021856,
     "end_time": "2021-08-14T13:51:12.728145",
     "exception": false,
     "start_time": "2021-08-14T13:51:12.706289",
     "status": "completed"
    },
    "tags": []
   },
   "source": [
    "# Step 1: Drop columns with categorical data\n",
    "\n",
    "You'll get started with the most straightforward approach.  Use the code cell below to preprocess the data in `X_train` and `X_valid` to remove columns with categorical data.  Set the preprocessed DataFrames to `drop_X_train` and `drop_X_valid`, respectively.  "
   ]
  },
  {
   "cell_type": "code",
   "execution_count": 5,
   "id": "03d072b8",
   "metadata": {
    "execution": {
     "iopub.execute_input": "2021-08-14T13:51:12.785959Z",
     "iopub.status.busy": "2021-08-14T13:51:12.785051Z",
     "iopub.status.idle": "2021-08-14T13:51:12.790585Z",
     "shell.execute_reply": "2021-08-14T13:51:12.790122Z",
     "shell.execute_reply.started": "2021-08-14T13:19:50.234763Z"
    },
    "papermill": {
     "duration": 0.040373,
     "end_time": "2021-08-14T13:51:12.790711",
     "exception": false,
     "start_time": "2021-08-14T13:51:12.750338",
     "status": "completed"
    },
    "tags": []
   },
   "outputs": [
    {
     "data": {
      "application/javascript": [
       "parent.postMessage({\"jupyterEvent\": \"custom.exercise_interaction\", \"data\": {\"outcomeType\": 1, \"valueTowardsCompletion\": 0.5, \"interactionType\": 1, \"questionType\": 2, \"questionId\": \"1_Drop\", \"learnToolsVersion\": \"0.3.4\", \"failureMessage\": \"\", \"exceptionClass\": \"\", \"trace\": \"\"}}, \"*\")"
      ],
      "text/plain": [
       "<IPython.core.display.Javascript object>"
      ]
     },
     "metadata": {},
     "output_type": "display_data"
    },
    {
     "data": {
      "text/markdown": [
       "<span style=\"color:#33cc33\">Correct</span>"
      ],
      "text/plain": [
       "Correct"
      ]
     },
     "metadata": {},
     "output_type": "display_data"
    }
   ],
   "source": [
    "# Fill in the lines below: drop columns in training and validation data\n",
    "drop_X_train = X_train.select_dtypes(exclude=['object'])\n",
    "drop_X_valid = X_valid.select_dtypes(exclude=['object'])\n",
    "\n",
    "# Check your answers\n",
    "step_1.check()"
   ]
  },
  {
   "cell_type": "code",
   "execution_count": 6,
   "id": "e25abe04",
   "metadata": {
    "execution": {
     "iopub.execute_input": "2021-08-14T13:51:12.838987Z",
     "iopub.status.busy": "2021-08-14T13:51:12.838442Z",
     "iopub.status.idle": "2021-08-14T13:51:12.841263Z",
     "shell.execute_reply": "2021-08-14T13:51:12.841699Z"
    },
    "papermill": {
     "duration": 0.028192,
     "end_time": "2021-08-14T13:51:12.841847",
     "exception": false,
     "start_time": "2021-08-14T13:51:12.813655",
     "status": "completed"
    },
    "tags": []
   },
   "outputs": [],
   "source": [
    "# Lines below will give you a hint or solution code\n",
    "#step_1.hint()\n",
    "#step_1.solution()"
   ]
  },
  {
   "cell_type": "markdown",
   "id": "435bc5eb",
   "metadata": {
    "papermill": {
     "duration": 0.02359,
     "end_time": "2021-08-14T13:51:12.888649",
     "exception": false,
     "start_time": "2021-08-14T13:51:12.865059",
     "status": "completed"
    },
    "tags": []
   },
   "source": [
    "Run the next code cell to get the MAE for this approach."
   ]
  },
  {
   "cell_type": "code",
   "execution_count": 7,
   "id": "99178cf7",
   "metadata": {
    "execution": {
     "iopub.execute_input": "2021-08-14T13:51:12.936818Z",
     "iopub.status.busy": "2021-08-14T13:51:12.936300Z",
     "iopub.status.idle": "2021-08-14T13:51:14.133498Z",
     "shell.execute_reply": "2021-08-14T13:51:14.132810Z",
     "shell.execute_reply.started": "2021-08-14T13:19:56.187897Z"
    },
    "papermill": {
     "duration": 1.222233,
     "end_time": "2021-08-14T13:51:14.133685",
     "exception": false,
     "start_time": "2021-08-14T13:51:12.911452",
     "status": "completed"
    },
    "tags": []
   },
   "outputs": [
    {
     "name": "stdout",
     "output_type": "stream",
     "text": [
      "MAE from Approach 1 (Drop categorical variables):\n",
      "17837.82570776256\n"
     ]
    }
   ],
   "source": [
    "print(\"MAE from Approach 1 (Drop categorical variables):\")\n",
    "print(score_dataset(drop_X_train, drop_X_valid, y_train, y_valid))"
   ]
  },
  {
   "cell_type": "markdown",
   "id": "5645efc0",
   "metadata": {
    "papermill": {
     "duration": 0.024002,
     "end_time": "2021-08-14T13:51:14.183728",
     "exception": false,
     "start_time": "2021-08-14T13:51:14.159726",
     "status": "completed"
    },
    "tags": []
   },
   "source": [
    "Before jumping into ordinal encoding, we'll investigate the dataset.  Specifically, we'll look at the `'Condition2'` column.  The code cell below prints the unique entries in both the training and validation sets."
   ]
  },
  {
   "cell_type": "code",
   "execution_count": 8,
   "id": "6d9c6fdf",
   "metadata": {
    "execution": {
     "iopub.execute_input": "2021-08-14T13:51:14.238428Z",
     "iopub.status.busy": "2021-08-14T13:51:14.237802Z",
     "iopub.status.idle": "2021-08-14T13:51:14.242387Z",
     "shell.execute_reply": "2021-08-14T13:51:14.241597Z",
     "shell.execute_reply.started": "2021-08-14T13:20:13.552034Z"
    },
    "papermill": {
     "duration": 0.034733,
     "end_time": "2021-08-14T13:51:14.242559",
     "exception": false,
     "start_time": "2021-08-14T13:51:14.207826",
     "status": "completed"
    },
    "tags": []
   },
   "outputs": [
    {
     "name": "stdout",
     "output_type": "stream",
     "text": [
      "Unique values in 'Condition2' column in training data: ['Norm' 'PosA' 'Feedr' 'PosN' 'Artery' 'RRAe']\n",
      "\n",
      "Unique values in 'Condition2' column in validation data: ['Norm' 'RRAn' 'RRNn' 'Artery' 'Feedr' 'PosN']\n"
     ]
    }
   ],
   "source": [
    "print(\"Unique values in 'Condition2' column in training data:\", X_train['Condition2'].unique())\n",
    "print(\"\\nUnique values in 'Condition2' column in validation data:\", X_valid['Condition2'].unique())"
   ]
  },
  {
   "cell_type": "markdown",
   "id": "10725603",
   "metadata": {
    "papermill": {
     "duration": 0.031499,
     "end_time": "2021-08-14T13:51:14.299166",
     "exception": false,
     "start_time": "2021-08-14T13:51:14.267667",
     "status": "completed"
    },
    "tags": []
   },
   "source": [
    "# Step 2: Ordinal encoding\n",
    "\n",
    "### Part A\n",
    "\n",
    "If you now write code to: \n",
    "- fit an ordinal encoder to the training data, and then \n",
    "- use it to transform both the training and validation data, \n",
    "\n",
    "you'll get an error.  Can you see why this is the case?  (_You'll need  to use the above output to answer this question._)"
   ]
  },
  {
   "cell_type": "code",
   "execution_count": 9,
   "id": "7d9b55b9",
   "metadata": {
    "execution": {
     "iopub.execute_input": "2021-08-14T13:51:14.365945Z",
     "iopub.status.busy": "2021-08-14T13:51:14.365109Z",
     "iopub.status.idle": "2021-08-14T13:51:14.375601Z",
     "shell.execute_reply": "2021-08-14T13:51:14.374668Z",
     "shell.execute_reply.started": "2021-08-14T13:21:18.286456Z"
    },
    "papermill": {
     "duration": 0.047288,
     "end_time": "2021-08-14T13:51:14.375822",
     "exception": false,
     "start_time": "2021-08-14T13:51:14.328534",
     "status": "completed"
    },
    "tags": []
   },
   "outputs": [
    {
     "data": {
      "application/javascript": [
       "parent.postMessage({\"jupyterEvent\": \"custom.exercise_interaction\", \"data\": {\"outcomeType\": 1, \"valueTowardsCompletion\": 0.5, \"interactionType\": 1, \"questionType\": 4, \"questionId\": \"2.1_LabelA\", \"learnToolsVersion\": \"0.3.4\", \"failureMessage\": \"\", \"exceptionClass\": \"\", \"trace\": \"\"}}, \"*\")"
      ],
      "text/plain": [
       "<IPython.core.display.Javascript object>"
      ]
     },
     "metadata": {},
     "output_type": "display_data"
    },
    {
     "data": {
      "text/markdown": [
       "<span style=\"color:#33cc33\">Correct:</span> \n",
       "\n",
       "Fitting an ordinal encoder to a column in the training data creates a corresponding integer-valued label for each unique value **that appears in the training data**. In the case that the validation data contains values that don't also appear in the training data, the encoder will throw an error, because these values won't have an integer assigned to them.  Notice that the `'Condition2'` column in the validation data contains the values `'RRAn'` and `'RRNn'`, but these don't appear in the training data -- thus, if we try to use an ordinal encoder with scikit-learn, the code will throw an error."
      ],
      "text/plain": [
       "Correct: \n",
       "\n",
       "Fitting an ordinal encoder to a column in the training data creates a corresponding integer-valued label for each unique value **that appears in the training data**. In the case that the validation data contains values that don't also appear in the training data, the encoder will throw an error, because these values won't have an integer assigned to them.  Notice that the `'Condition2'` column in the validation data contains the values `'RRAn'` and `'RRNn'`, but these don't appear in the training data -- thus, if we try to use an ordinal encoder with scikit-learn, the code will throw an error."
      ]
     },
     "metadata": {},
     "output_type": "display_data"
    }
   ],
   "source": [
    "# Check your answer (Run this code cell to receive credit!)\n",
    "step_2.a.check()"
   ]
  },
  {
   "cell_type": "code",
   "execution_count": 10,
   "id": "8b71a083",
   "metadata": {
    "execution": {
     "iopub.execute_input": "2021-08-14T13:51:14.433248Z",
     "iopub.status.busy": "2021-08-14T13:51:14.432324Z",
     "iopub.status.idle": "2021-08-14T13:51:14.434800Z",
     "shell.execute_reply": "2021-08-14T13:51:14.434228Z"
    },
    "papermill": {
     "duration": 0.031431,
     "end_time": "2021-08-14T13:51:14.434950",
     "exception": false,
     "start_time": "2021-08-14T13:51:14.403519",
     "status": "completed"
    },
    "tags": []
   },
   "outputs": [],
   "source": [
    "#step_2.a.hint()"
   ]
  },
  {
   "cell_type": "markdown",
   "id": "c01be2c1",
   "metadata": {
    "papermill": {
     "duration": 0.024887,
     "end_time": "2021-08-14T13:51:14.485127",
     "exception": false,
     "start_time": "2021-08-14T13:51:14.460240",
     "status": "completed"
    },
    "tags": []
   },
   "source": [
    "This is a common problem that you'll encounter with real-world data, and there are many approaches to fixing this issue.  For instance, you can write a custom ordinal encoder to deal with new categories.  The simplest approach, however, is to drop the problematic categorical columns.  \n",
    "\n",
    "Run the code cell below to save the problematic columns to a Python list `bad_label_cols`.  Likewise, columns that can be safely ordinal encoded are stored in `good_label_cols`."
   ]
  },
  {
   "cell_type": "code",
   "execution_count": 11,
   "id": "295a9398",
   "metadata": {
    "execution": {
     "iopub.execute_input": "2021-08-14T13:51:14.547521Z",
     "iopub.status.busy": "2021-08-14T13:51:14.546890Z",
     "iopub.status.idle": "2021-08-14T13:51:14.551618Z",
     "shell.execute_reply": "2021-08-14T13:51:14.551084Z",
     "shell.execute_reply.started": "2021-08-14T13:23:33.157940Z"
    },
    "papermill": {
     "duration": 0.041888,
     "end_time": "2021-08-14T13:51:14.551744",
     "exception": false,
     "start_time": "2021-08-14T13:51:14.509856",
     "status": "completed"
    },
    "tags": []
   },
   "outputs": [
    {
     "name": "stdout",
     "output_type": "stream",
     "text": [
      "Categorical columns that will be ordinal encoded: ['MSZoning', 'Street', 'LotShape', 'LandContour', 'Utilities', 'LotConfig', 'LandSlope', 'Neighborhood', 'Condition1', 'BldgType', 'HouseStyle', 'RoofStyle', 'Exterior1st', 'Exterior2nd', 'ExterQual', 'ExterCond', 'Foundation', 'Heating', 'HeatingQC', 'CentralAir', 'KitchenQual', 'PavedDrive', 'SaleType', 'SaleCondition']\n",
      "\n",
      "Categorical columns that will be dropped from the dataset: ['Condition2', 'Functional', 'RoofMatl']\n"
     ]
    }
   ],
   "source": [
    "# All categorical columns\n",
    "object_cols = [col for col in X_train.columns if X_train[col].dtype == \"object\"]\n",
    "\n",
    "# Columns that can be safely ordinal encoded\n",
    "good_label_cols = [col for col in object_cols if \n",
    "                   set(X_valid[col]).issubset(set(X_train[col]))]\n",
    "        \n",
    "# Problematic columns that will be dropped from the dataset\n",
    "bad_label_cols = list(set(object_cols)-set(good_label_cols))\n",
    "        \n",
    "print('Categorical columns that will be ordinal encoded:', good_label_cols)\n",
    "print('\\nCategorical columns that will be dropped from the dataset:', bad_label_cols)"
   ]
  },
  {
   "cell_type": "markdown",
   "id": "9794d0f8",
   "metadata": {
    "papermill": {
     "duration": 0.024285,
     "end_time": "2021-08-14T13:51:14.600739",
     "exception": false,
     "start_time": "2021-08-14T13:51:14.576454",
     "status": "completed"
    },
    "tags": []
   },
   "source": [
    "### Part B\n",
    "\n",
    "Use the next code cell to ordinal encode the data in `X_train` and `X_valid`.  Set the preprocessed DataFrames to `label_X_train` and `label_X_valid`, respectively.  \n",
    "- We have provided code below to drop the categorical columns in `bad_label_cols` from the dataset. \n",
    "- You should ordinal encode the categorical columns in `good_label_cols`.  "
   ]
  },
  {
   "cell_type": "code",
   "execution_count": 12,
   "id": "888e4711",
   "metadata": {
    "execution": {
     "iopub.execute_input": "2021-08-14T13:51:14.672446Z",
     "iopub.status.busy": "2021-08-14T13:51:14.658335Z",
     "iopub.status.idle": "2021-08-14T13:51:14.710479Z",
     "shell.execute_reply": "2021-08-14T13:51:14.710008Z",
     "shell.execute_reply.started": "2021-08-14T13:26:06.777327Z"
    },
    "papermill": {
     "duration": 0.085185,
     "end_time": "2021-08-14T13:51:14.710610",
     "exception": false,
     "start_time": "2021-08-14T13:51:14.625425",
     "status": "completed"
    },
    "tags": []
   },
   "outputs": [
    {
     "data": {
      "application/javascript": [
       "parent.postMessage({\"jupyterEvent\": \"custom.exercise_interaction\", \"data\": {\"outcomeType\": 1, \"valueTowardsCompletion\": 0.5, \"interactionType\": 1, \"questionType\": 2, \"questionId\": \"2.2_LabelB\", \"learnToolsVersion\": \"0.3.4\", \"failureMessage\": \"\", \"exceptionClass\": \"\", \"trace\": \"\"}}, \"*\")"
      ],
      "text/plain": [
       "<IPython.core.display.Javascript object>"
      ]
     },
     "metadata": {},
     "output_type": "display_data"
    },
    {
     "data": {
      "text/markdown": [
       "<span style=\"color:#33cc33\">Correct</span>"
      ],
      "text/plain": [
       "Correct"
      ]
     },
     "metadata": {},
     "output_type": "display_data"
    }
   ],
   "source": [
    "from sklearn.preprocessing import OrdinalEncoder\n",
    "\n",
    "# Drop categorical columns that will not be encoded\n",
    "label_X_train = X_train.drop(bad_label_cols, axis=1)\n",
    "label_X_valid = X_valid.drop(bad_label_cols, axis=1)\n",
    "\n",
    "# Apply ordinal encoder\n",
    "ordinal_encoder = OrdinalEncoder()\n",
    "label_X_train[good_label_cols] = ordinal_encoder.fit_transform(X_train[good_label_cols])\n",
    "label_X_valid[good_label_cols] = ordinal_encoder.transform(X_valid[good_label_cols])   # Your code here\n",
    "    \n",
    "# Check your answer\n",
    "step_2.b.check()"
   ]
  },
  {
   "cell_type": "code",
   "execution_count": 13,
   "id": "7d5fd3df",
   "metadata": {
    "execution": {
     "iopub.execute_input": "2021-08-14T13:51:14.765821Z",
     "iopub.status.busy": "2021-08-14T13:51:14.765294Z",
     "iopub.status.idle": "2021-08-14T13:51:14.768531Z",
     "shell.execute_reply": "2021-08-14T13:51:14.768097Z"
    },
    "papermill": {
     "duration": 0.03216,
     "end_time": "2021-08-14T13:51:14.768661",
     "exception": false,
     "start_time": "2021-08-14T13:51:14.736501",
     "status": "completed"
    },
    "tags": []
   },
   "outputs": [],
   "source": [
    "# Lines below will give you a hint or solution code\n",
    "#step_2.b.hint()\n",
    "#step_2.b.solution()"
   ]
  },
  {
   "cell_type": "markdown",
   "id": "5ea2bda2",
   "metadata": {
    "papermill": {
     "duration": 0.025254,
     "end_time": "2021-08-14T13:51:14.819669",
     "exception": false,
     "start_time": "2021-08-14T13:51:14.794415",
     "status": "completed"
    },
    "tags": []
   },
   "source": [
    "Run the next code cell to get the MAE for this approach."
   ]
  },
  {
   "cell_type": "code",
   "execution_count": 14,
   "id": "73f95b6c",
   "metadata": {
    "execution": {
     "iopub.execute_input": "2021-08-14T13:51:14.878776Z",
     "iopub.status.busy": "2021-08-14T13:51:14.877855Z",
     "iopub.status.idle": "2021-08-14T13:51:16.414899Z",
     "shell.execute_reply": "2021-08-14T13:51:16.414243Z",
     "shell.execute_reply.started": "2021-08-14T13:26:11.694023Z"
    },
    "papermill": {
     "duration": 1.569676,
     "end_time": "2021-08-14T13:51:16.415066",
     "exception": false,
     "start_time": "2021-08-14T13:51:14.845390",
     "status": "completed"
    },
    "tags": []
   },
   "outputs": [
    {
     "name": "stdout",
     "output_type": "stream",
     "text": [
      "MAE from Approach 2 (Ordinal Encoding):\n",
      "17098.01649543379\n"
     ]
    }
   ],
   "source": [
    "print(\"MAE from Approach 2 (Ordinal Encoding):\") \n",
    "print(score_dataset(label_X_train, label_X_valid, y_train, y_valid))"
   ]
  },
  {
   "cell_type": "markdown",
   "id": "90c7f1e7",
   "metadata": {
    "papermill": {
     "duration": 0.025581,
     "end_time": "2021-08-14T13:51:16.468651",
     "exception": false,
     "start_time": "2021-08-14T13:51:16.443070",
     "status": "completed"
    },
    "tags": []
   },
   "source": [
    "So far, you've tried two different approaches to dealing with categorical variables.  And, you've seen that encoding categorical data yields better results than removing columns from the dataset.\n",
    "\n",
    "Soon, you'll try one-hot encoding.  Before then, there's one additional topic we need to cover.  Begin by running the next code cell without changes.  "
   ]
  },
  {
   "cell_type": "code",
   "execution_count": 15,
   "id": "99ccff18",
   "metadata": {
    "execution": {
     "iopub.execute_input": "2021-08-14T13:51:16.527319Z",
     "iopub.status.busy": "2021-08-14T13:51:16.526698Z",
     "iopub.status.idle": "2021-08-14T13:51:16.540390Z",
     "shell.execute_reply": "2021-08-14T13:51:16.539810Z",
     "shell.execute_reply.started": "2021-08-14T13:26:27.683266Z"
    },
    "papermill": {
     "duration": 0.046002,
     "end_time": "2021-08-14T13:51:16.540535",
     "exception": false,
     "start_time": "2021-08-14T13:51:16.494533",
     "status": "completed"
    },
    "tags": []
   },
   "outputs": [
    {
     "data": {
      "text/plain": [
       "[('Street', 2),\n",
       " ('Utilities', 2),\n",
       " ('CentralAir', 2),\n",
       " ('LandSlope', 3),\n",
       " ('PavedDrive', 3),\n",
       " ('LotShape', 4),\n",
       " ('LandContour', 4),\n",
       " ('ExterQual', 4),\n",
       " ('KitchenQual', 4),\n",
       " ('MSZoning', 5),\n",
       " ('LotConfig', 5),\n",
       " ('BldgType', 5),\n",
       " ('ExterCond', 5),\n",
       " ('HeatingQC', 5),\n",
       " ('Condition2', 6),\n",
       " ('RoofStyle', 6),\n",
       " ('Foundation', 6),\n",
       " ('Heating', 6),\n",
       " ('Functional', 6),\n",
       " ('SaleCondition', 6),\n",
       " ('RoofMatl', 7),\n",
       " ('HouseStyle', 8),\n",
       " ('Condition1', 9),\n",
       " ('SaleType', 9),\n",
       " ('Exterior1st', 15),\n",
       " ('Exterior2nd', 16),\n",
       " ('Neighborhood', 25)]"
      ]
     },
     "execution_count": 15,
     "metadata": {},
     "output_type": "execute_result"
    }
   ],
   "source": [
    "# Get number of unique entries in each column with categorical data\n",
    "object_nunique = list(map(lambda col: X_train[col].nunique(), object_cols))\n",
    "d = dict(zip(object_cols, object_nunique))\n",
    "\n",
    "# Print number of unique entries by column, in ascending order\n",
    "sorted(d.items(), key=lambda x: x[1])"
   ]
  },
  {
   "cell_type": "markdown",
   "id": "2a91f0c6",
   "metadata": {
    "papermill": {
     "duration": 0.02629,
     "end_time": "2021-08-14T13:51:16.593166",
     "exception": false,
     "start_time": "2021-08-14T13:51:16.566876",
     "status": "completed"
    },
    "tags": []
   },
   "source": [
    "# Step 3: Investigating cardinality\n",
    "\n",
    "### Part A\n",
    "\n",
    "The output above shows, for each column with categorical data, the number of unique values in the column.  For instance, the `'Street'` column in the training data has two unique values: `'Grvl'` and `'Pave'`, corresponding to a gravel road and a paved road, respectively.\n",
    "\n",
    "We refer to the number of unique entries of a categorical variable as the **cardinality** of that categorical variable.  For instance, the `'Street'` variable has cardinality 2.\n",
    "\n",
    "Use the output above to answer the questions below."
   ]
  },
  {
   "cell_type": "code",
   "execution_count": 16,
   "id": "3c5985d5",
   "metadata": {
    "execution": {
     "iopub.execute_input": "2021-08-14T13:51:16.651705Z",
     "iopub.status.busy": "2021-08-14T13:51:16.650960Z",
     "iopub.status.idle": "2021-08-14T13:51:16.655695Z",
     "shell.execute_reply": "2021-08-14T13:51:16.656160Z",
     "shell.execute_reply.started": "2021-08-14T13:34:24.589377Z"
    },
    "papermill": {
     "duration": 0.036597,
     "end_time": "2021-08-14T13:51:16.656321",
     "exception": false,
     "start_time": "2021-08-14T13:51:16.619724",
     "status": "completed"
    },
    "tags": []
   },
   "outputs": [
    {
     "data": {
      "application/javascript": [
       "parent.postMessage({\"jupyterEvent\": \"custom.exercise_interaction\", \"data\": {\"outcomeType\": 1, \"valueTowardsCompletion\": 0.5, \"interactionType\": 1, \"questionType\": 1, \"questionId\": \"3.1_CardinalityA\", \"learnToolsVersion\": \"0.3.4\", \"failureMessage\": \"\", \"exceptionClass\": \"\", \"trace\": \"\"}}, \"*\")"
      ],
      "text/plain": [
       "<IPython.core.display.Javascript object>"
      ]
     },
     "metadata": {},
     "output_type": "display_data"
    },
    {
     "data": {
      "text/markdown": [
       "<span style=\"color:#33cc33\">Correct</span>"
      ],
      "text/plain": [
       "Correct"
      ]
     },
     "metadata": {},
     "output_type": "display_data"
    }
   ],
   "source": [
    "# Fill in the line below: How many categorical variables in the training data\n",
    "# have cardinality greater than 10?\n",
    "high_cardinality_numcols = 3\n",
    "\n",
    "# Fill in the line below: How many columns are needed to one-hot encode the \n",
    "# 'Neighborhood' variable in the training data?\n",
    "num_cols_neighborhood = 25\n",
    "\n",
    "# Check your answers\n",
    "step_3.a.check()"
   ]
  },
  {
   "cell_type": "code",
   "execution_count": 17,
   "id": "7435faaf",
   "metadata": {
    "execution": {
     "iopub.execute_input": "2021-08-14T13:51:16.713693Z",
     "iopub.status.busy": "2021-08-14T13:51:16.712879Z",
     "iopub.status.idle": "2021-08-14T13:51:16.715779Z",
     "shell.execute_reply": "2021-08-14T13:51:16.716281Z",
     "shell.execute_reply.started": "2021-08-14T13:34:27.171593Z"
    },
    "papermill": {
     "duration": 0.033137,
     "end_time": "2021-08-14T13:51:16.716437",
     "exception": false,
     "start_time": "2021-08-14T13:51:16.683300",
     "status": "completed"
    },
    "tags": []
   },
   "outputs": [],
   "source": [
    "# Lines below will give you a hint or solution code\n",
    "#step_3.a.hint()\n",
    "#step_3.a.solution()"
   ]
  },
  {
   "cell_type": "markdown",
   "id": "5a3392f1",
   "metadata": {
    "papermill": {
     "duration": 0.02683,
     "end_time": "2021-08-14T13:51:16.770371",
     "exception": false,
     "start_time": "2021-08-14T13:51:16.743541",
     "status": "completed"
    },
    "tags": []
   },
   "source": [
    "### Part B\n",
    "\n",
    "For large datasets with many rows, one-hot encoding can greatly expand the size of the dataset.  For this reason, we typically will only one-hot encode columns with relatively low cardinality.  Then, high cardinality columns can either be dropped from the dataset, or we can use ordinal encoding.\n",
    "\n",
    "As an example, consider a dataset with 10,000 rows, and containing one categorical column with 100 unique entries.  \n",
    "- If this column is replaced with the corresponding one-hot encoding, how many entries are added to the dataset?  \n",
    "- If we instead replace the column with the ordinal encoding, how many entries are added?  \n",
    "\n",
    "Use your answers to fill in the lines below."
   ]
  },
  {
   "cell_type": "code",
   "execution_count": 18,
   "id": "acb35ffe",
   "metadata": {
    "execution": {
     "iopub.execute_input": "2021-08-14T13:51:16.826881Z",
     "iopub.status.busy": "2021-08-14T13:51:16.826333Z",
     "iopub.status.idle": "2021-08-14T13:51:16.832161Z",
     "shell.execute_reply": "2021-08-14T13:51:16.832641Z",
     "shell.execute_reply.started": "2021-08-14T13:37:39.181188Z"
    },
    "papermill": {
     "duration": 0.035431,
     "end_time": "2021-08-14T13:51:16.832785",
     "exception": false,
     "start_time": "2021-08-14T13:51:16.797354",
     "status": "completed"
    },
    "tags": []
   },
   "outputs": [
    {
     "data": {
      "application/javascript": [
       "parent.postMessage({\"jupyterEvent\": \"custom.exercise_interaction\", \"data\": {\"outcomeType\": 1, \"valueTowardsCompletion\": 0.5, \"interactionType\": 1, \"questionType\": 1, \"questionId\": \"3.2_CardinalityB\", \"learnToolsVersion\": \"0.3.4\", \"failureMessage\": \"\", \"exceptionClass\": \"\", \"trace\": \"\"}}, \"*\")"
      ],
      "text/plain": [
       "<IPython.core.display.Javascript object>"
      ]
     },
     "metadata": {},
     "output_type": "display_data"
    },
    {
     "data": {
      "text/markdown": [
       "<span style=\"color:#33cc33\">Correct</span>"
      ],
      "text/plain": [
       "Correct"
      ]
     },
     "metadata": {},
     "output_type": "display_data"
    }
   ],
   "source": [
    "# Fill in the line below: How many entries are added to the dataset by \n",
    "# replacing the column with a one-hot encoding?\n",
    "OH_entries_added = 10000*100-10000\n",
    "\n",
    "# Fill in the line below: How many entries are added to the dataset by\n",
    "# replacing the column with an ordinal encoding?\n",
    "label_entries_added = 0\n",
    "\n",
    "# Check your answers\n",
    "step_3.b.check()"
   ]
  },
  {
   "cell_type": "code",
   "execution_count": 19,
   "id": "c383b36d",
   "metadata": {
    "execution": {
     "iopub.execute_input": "2021-08-14T13:51:16.891298Z",
     "iopub.status.busy": "2021-08-14T13:51:16.890713Z",
     "iopub.status.idle": "2021-08-14T13:51:16.894547Z",
     "shell.execute_reply": "2021-08-14T13:51:16.894112Z",
     "shell.execute_reply.started": "2021-08-14T13:37:42.761235Z"
    },
    "papermill": {
     "duration": 0.034185,
     "end_time": "2021-08-14T13:51:16.894663",
     "exception": false,
     "start_time": "2021-08-14T13:51:16.860478",
     "status": "completed"
    },
    "tags": []
   },
   "outputs": [],
   "source": [
    "# Lines below will give you a hint or solution code\n",
    "#step_3.b.hint()\n",
    "#step_3.b.solution()"
   ]
  },
  {
   "cell_type": "markdown",
   "id": "5844d2e4",
   "metadata": {
    "papermill": {
     "duration": 0.027557,
     "end_time": "2021-08-14T13:51:16.949917",
     "exception": false,
     "start_time": "2021-08-14T13:51:16.922360",
     "status": "completed"
    },
    "tags": []
   },
   "source": [
    "Next, you'll experiment with one-hot encoding.  But, instead of encoding all of the categorical variables in the dataset, you'll only create a one-hot encoding for columns with cardinality less than 10.\n",
    "\n",
    "Run the code cell below without changes to set `low_cardinality_cols` to a Python list containing the columns that will be one-hot encoded.  Likewise, `high_cardinality_cols` contains a list of categorical columns that will be dropped from the dataset."
   ]
  },
  {
   "cell_type": "code",
   "execution_count": 20,
   "id": "472507dc",
   "metadata": {
    "execution": {
     "iopub.execute_input": "2021-08-14T13:51:17.010508Z",
     "iopub.status.busy": "2021-08-14T13:51:17.009894Z",
     "iopub.status.idle": "2021-08-14T13:51:17.021767Z",
     "shell.execute_reply": "2021-08-14T13:51:17.022447Z",
     "shell.execute_reply.started": "2021-08-14T13:37:55.807785Z"
    },
    "papermill": {
     "duration": 0.045221,
     "end_time": "2021-08-14T13:51:17.022663",
     "exception": false,
     "start_time": "2021-08-14T13:51:16.977442",
     "status": "completed"
    },
    "tags": []
   },
   "outputs": [
    {
     "name": "stdout",
     "output_type": "stream",
     "text": [
      "Categorical columns that will be one-hot encoded: ['MSZoning', 'Street', 'LotShape', 'LandContour', 'Utilities', 'LotConfig', 'LandSlope', 'Condition1', 'Condition2', 'BldgType', 'HouseStyle', 'RoofStyle', 'RoofMatl', 'ExterQual', 'ExterCond', 'Foundation', 'Heating', 'HeatingQC', 'CentralAir', 'KitchenQual', 'Functional', 'PavedDrive', 'SaleType', 'SaleCondition']\n",
      "\n",
      "Categorical columns that will be dropped from the dataset: ['Exterior1st', 'Exterior2nd', 'Neighborhood']\n"
     ]
    }
   ],
   "source": [
    "# Columns that will be one-hot encoded\n",
    "low_cardinality_cols = [col for col in object_cols if X_train[col].nunique() < 10]\n",
    "\n",
    "# Columns that will be dropped from the dataset\n",
    "high_cardinality_cols = list(set(object_cols)-set(low_cardinality_cols))\n",
    "\n",
    "print('Categorical columns that will be one-hot encoded:', low_cardinality_cols)\n",
    "print('\\nCategorical columns that will be dropped from the dataset:', high_cardinality_cols)"
   ]
  },
  {
   "cell_type": "markdown",
   "id": "911e5b2c",
   "metadata": {
    "papermill": {
     "duration": 0.027668,
     "end_time": "2021-08-14T13:51:17.079739",
     "exception": false,
     "start_time": "2021-08-14T13:51:17.052071",
     "status": "completed"
    },
    "tags": []
   },
   "source": [
    "# Step 4: One-hot encoding\n",
    "\n",
    "Use the next code cell to one-hot encode the data in `X_train` and `X_valid`.  Set the preprocessed DataFrames to `OH_X_train` and `OH_X_valid`, respectively.  \n",
    "- The full list of categorical columns in the dataset can be found in the Python list `object_cols`.\n",
    "- You should only one-hot encode the categorical columns in `low_cardinality_cols`.  All other categorical columns should be dropped from the dataset. "
   ]
  },
  {
   "cell_type": "code",
   "execution_count": 21,
   "id": "0f67e872",
   "metadata": {
    "execution": {
     "iopub.execute_input": "2021-08-14T13:51:17.154148Z",
     "iopub.status.busy": "2021-08-14T13:51:17.153242Z",
     "iopub.status.idle": "2021-08-14T13:51:17.175479Z",
     "shell.execute_reply": "2021-08-14T13:51:17.175923Z",
     "shell.execute_reply.started": "2021-08-14T13:50:41.264703Z"
    },
    "papermill": {
     "duration": 0.06785,
     "end_time": "2021-08-14T13:51:17.176106",
     "exception": false,
     "start_time": "2021-08-14T13:51:17.108256",
     "status": "completed"
    },
    "tags": []
   },
   "outputs": [
    {
     "data": {
      "application/javascript": [
       "parent.postMessage({\"jupyterEvent\": \"custom.exercise_interaction\", \"data\": {\"outcomeType\": 1, \"valueTowardsCompletion\": 0.5, \"interactionType\": 1, \"questionType\": 2, \"questionId\": \"4_OneHot\", \"learnToolsVersion\": \"0.3.4\", \"failureMessage\": \"\", \"exceptionClass\": \"\", \"trace\": \"\"}}, \"*\")"
      ],
      "text/plain": [
       "<IPython.core.display.Javascript object>"
      ]
     },
     "metadata": {},
     "output_type": "display_data"
    },
    {
     "data": {
      "text/markdown": [
       "<span style=\"color:#33cc33\">Correct</span>"
      ],
      "text/plain": [
       "Correct"
      ]
     },
     "metadata": {},
     "output_type": "display_data"
    }
   ],
   "source": [
    "from sklearn.preprocessing import OneHotEncoder\n",
    "\n",
    "# Use as many lines of code as you need!\n",
    "OH_encoder = OneHotEncoder(handle_unknown='ignore',sparse=False)\n",
    "OH_X_train =  pd.DataFrame(OH_encoder.fit_transform(X_train[low_cardinality_cols])) # Your code here\n",
    "OH_X_valid =  pd.DataFrame(OH_encoder.transform(X_valid[low_cardinality_cols]))\n",
    "\n",
    "# One-hot encoding removed index; put it back\n",
    "OH_X_train.index = X_train.index\n",
    "OH_X_valid.index = X_valid.index\n",
    "\n",
    "# Remove categorical columns (will replace with one-hot encoding)\n",
    "num_X_train = X_train.drop(object_cols, axis=1)\n",
    "num_X_valid = X_valid.drop(object_cols, axis=1)\n",
    "\n",
    "# Add one-hot encoded columns to numerical features\n",
    "OH_X_train = pd.concat([num_X_train, OH_X_train], axis=1)\n",
    "OH_X_valid = pd.concat([num_X_valid, OH_X_valid], axis=1)\n",
    "\n",
    "\n",
    "# Check your answer\n",
    "step_4.check()"
   ]
  },
  {
   "cell_type": "code",
   "execution_count": 22,
   "id": "093d39b2",
   "metadata": {
    "execution": {
     "iopub.execute_input": "2021-08-14T13:51:17.238127Z",
     "iopub.status.busy": "2021-08-14T13:51:17.237532Z",
     "iopub.status.idle": "2021-08-14T13:51:17.240326Z",
     "shell.execute_reply": "2021-08-14T13:51:17.239737Z",
     "shell.execute_reply.started": "2021-08-14T13:44:49.831860Z"
    },
    "papermill": {
     "duration": 0.035285,
     "end_time": "2021-08-14T13:51:17.240449",
     "exception": false,
     "start_time": "2021-08-14T13:51:17.205164",
     "status": "completed"
    },
    "tags": []
   },
   "outputs": [],
   "source": [
    "# Lines below will give you a hint or solution code\n",
    "#step_4.hint()\n",
    "#step_4.solution()"
   ]
  },
  {
   "cell_type": "markdown",
   "id": "ce2c822c",
   "metadata": {
    "papermill": {
     "duration": 0.02886,
     "end_time": "2021-08-14T13:51:17.298493",
     "exception": false,
     "start_time": "2021-08-14T13:51:17.269633",
     "status": "completed"
    },
    "tags": []
   },
   "source": [
    "Run the next code cell to get the MAE for this approach."
   ]
  },
  {
   "cell_type": "code",
   "execution_count": 23,
   "id": "110ec024",
   "metadata": {
    "execution": {
     "iopub.execute_input": "2021-08-14T13:51:17.363044Z",
     "iopub.status.busy": "2021-08-14T13:51:17.362423Z",
     "iopub.status.idle": "2021-08-14T13:51:19.278680Z",
     "shell.execute_reply": "2021-08-14T13:51:19.279176Z",
     "shell.execute_reply.started": "2021-08-14T13:50:45.765054Z"
    },
    "papermill": {
     "duration": 1.952002,
     "end_time": "2021-08-14T13:51:19.279340",
     "exception": false,
     "start_time": "2021-08-14T13:51:17.327338",
     "status": "completed"
    },
    "tags": []
   },
   "outputs": [
    {
     "name": "stdout",
     "output_type": "stream",
     "text": [
      "MAE from Approach 3 (One-Hot Encoding):\n",
      "17525.345719178084\n"
     ]
    }
   ],
   "source": [
    "print(\"MAE from Approach 3 (One-Hot Encoding):\") \n",
    "print(score_dataset(OH_X_train, OH_X_valid, y_train, y_valid))"
   ]
  },
  {
   "cell_type": "markdown",
   "id": "5b06bae0",
   "metadata": {
    "papermill": {
     "duration": 0.028735,
     "end_time": "2021-08-14T13:51:19.337221",
     "exception": false,
     "start_time": "2021-08-14T13:51:19.308486",
     "status": "completed"
    },
    "tags": []
   },
   "source": [
    "# Generate test predictions and submit your results\n",
    "\n",
    "After you complete Step 4, if you'd like to use what you've learned to submit your results to the leaderboard, you'll need to preprocess the test data before generating predictions.\n",
    "\n",
    "**This step is completely optional, and you do not need to submit results to the leaderboard to successfully complete the exercise.**\n",
    "\n",
    "Check out the previous exercise if you need help with remembering how to [join the competition](https://www.kaggle.com/c/home-data-for-ml-course) or save your results to CSV.  Once you have generated a file with your results, follow the instructions below:\n",
    "1. Begin by clicking on the **Save Version** button in the top right corner of the window.  This will generate a pop-up window.  \n",
    "2. Ensure that the **Save and Run All** option is selected, and then click on the **Save** button.\n",
    "3. This generates a window in the bottom left corner of the notebook.  After it has finished running, click on the number to the right of the **Save Version** button.  This pulls up a list of versions on the right of the screen.  Click on the ellipsis **(...)** to the right of the most recent version, and select **Open in Viewer**.  This brings you into view mode of the same page. You will need to scroll down to get back to these instructions.\n",
    "4. Click on the **Output** tab on the right of the screen.  Then, click on the file you would like to submit, and click on the blue **Submit** button to submit your results to the leaderboard.\n",
    "\n",
    "You have now successfully submitted to the competition!\n",
    "\n",
    "If you want to keep working to improve your performance, select the **Edit** button in the top right of the screen. Then you can change your code and repeat the process. There's a lot of room to improve, and you will climb up the leaderboard as you work.\n"
   ]
  },
  {
   "cell_type": "code",
   "execution_count": 24,
   "id": "4491de74",
   "metadata": {
    "execution": {
     "iopub.execute_input": "2021-08-14T13:51:19.398928Z",
     "iopub.status.busy": "2021-08-14T13:51:19.398414Z",
     "iopub.status.idle": "2021-08-14T13:51:19.401610Z",
     "shell.execute_reply": "2021-08-14T13:51:19.401106Z"
    },
    "papermill": {
     "duration": 0.035642,
     "end_time": "2021-08-14T13:51:19.401745",
     "exception": false,
     "start_time": "2021-08-14T13:51:19.366103",
     "status": "completed"
    },
    "tags": []
   },
   "outputs": [],
   "source": [
    "# (Optional) Your code here"
   ]
  },
  {
   "cell_type": "markdown",
   "id": "37e446fe",
   "metadata": {
    "papermill": {
     "duration": 0.028745,
     "end_time": "2021-08-14T13:51:19.459853",
     "exception": false,
     "start_time": "2021-08-14T13:51:19.431108",
     "status": "completed"
    },
    "tags": []
   },
   "source": [
    "# Keep going\n",
    "\n",
    "With missing value handling and categorical encoding, your modeling process is getting complex. This complexity gets worse when you want to save your model to use in the future. The key to managing this complexity is something called **pipelines**. \n",
    "\n",
    "**[Learn to use pipelines](https://www.kaggle.com/alexisbcook/pipelines)** to preprocess datasets with categorical variables, missing values and any other messiness your data throws at you."
   ]
  },
  {
   "cell_type": "markdown",
   "id": "63360adb",
   "metadata": {
    "papermill": {
     "duration": 0.028725,
     "end_time": "2021-08-14T13:51:19.517820",
     "exception": false,
     "start_time": "2021-08-14T13:51:19.489095",
     "status": "completed"
    },
    "tags": []
   },
   "source": [
    "---\n",
    "\n",
    "\n",
    "\n",
    "\n",
    "*Have questions or comments? Visit the [Learn Discussion forum](https://www.kaggle.com/learn-forum/161289) to chat with other Learners.*"
   ]
  }
 ],
 "metadata": {
  "kernelspec": {
   "display_name": "Python 3",
   "language": "python",
   "name": "python3"
  },
  "language_info": {
   "codemirror_mode": {
    "name": "ipython",
    "version": 3
   },
   "file_extension": ".py",
   "mimetype": "text/x-python",
   "name": "python",
   "nbconvert_exporter": "python",
   "pygments_lexer": "ipython3",
   "version": "3.7.10"
  },
  "papermill": {
   "default_parameters": {},
   "duration": 16.743394,
   "end_time": "2021-08-14T13:51:20.888756",
   "environment_variables": {},
   "exception": null,
   "input_path": "__notebook__.ipynb",
   "output_path": "__notebook__.ipynb",
   "parameters": {},
   "start_time": "2021-08-14T13:51:04.145362",
   "version": "2.3.3"
  }
 },
 "nbformat": 4,
 "nbformat_minor": 5
}
